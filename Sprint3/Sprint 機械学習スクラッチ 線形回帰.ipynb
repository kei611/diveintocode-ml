{
 "cells": [
  {
   "cell_type": "markdown",
   "metadata": {},
   "source": [
    "# 線形回帰スクラッチ\n",
    "\n",
    "線形回帰のクラスをスクラッチで作成していきます。NumPyなど最低限のライブラリのみを使いアルゴリズムを実装していきます。\n",
    "\n",
    "\n",
    "以下に雛形を用意してあります。このScratchLinearRegressionクラスにコードを書き加えていってください。\n",
    "\n",
    "\n",
    "雛形"
   ]
  },
  {
   "cell_type": "code",
   "execution_count": 1,
   "metadata": {},
   "outputs": [],
   "source": [
    "class ScratchLinearRegression():\n",
    "    \"\"\"\n",
    "    線形回帰のスクラッチ実装\n",
    "\n",
    "    Parameters\n",
    "    ----------\n",
    "    num_iter : int\n",
    "      イテレーション数\n",
    "    lr : float\n",
    "      学習率\n",
    "    no_bias : bool\n",
    "      バイアス項を入れない場合はTrue\n",
    "    verbose : bool\n",
    "      学習過程を出力する場合はTrue\n",
    "\n",
    "    Attributes\n",
    "    ----------\n",
    "    self.coef_ : 次の形のndarray, shape (n_features,)\n",
    "      パラメータ\n",
    "    self.loss : 次の形のndarray, shape (self.iter,)\n",
    "      訓練データに対する損失の記録\n",
    "    self.val_loss : 次の形のndarray, shape (self.iter,)\n",
    "      検証データに対する損失の記録\n",
    "\n",
    "    \"\"\"\n",
    "    def __init__(self, num_iter, lr, no_bias, verbose):\n",
    "        # ハイパーパラメータを属性として記録\n",
    "        self.iter = num_iter\n",
    "        self.lr = lr\n",
    "        self.no_bias = no_bias\n",
    "        self.verbose = verbose\n",
    "        # 損失を記録する配列を用意\n",
    "        self.loss = np.zeros(self.iter)\n",
    "        self.val_loss = np.zeros(self.iter)\n",
    "    def fit(self, X, y, X_val=None, y_val=None):\n",
    "        \"\"\"\n",
    "        線形回帰を学習する。検証データが入力された場合はそれに対する損失と精度もイテレーションごとに計算する。\n",
    "\n",
    "        Parameters\n",
    "        ----------\n",
    "        X : 次の形のndarray, shape (n_samples, n_features)\n",
    "            訓練データの特徴量\n",
    "        y : 次の形のndarray, shape (n_samples, )\n",
    "            訓練データの正解値\n",
    "        X_val : 次の形のndarray, shape (n_samples, n_features)\n",
    "            検証データの特徴量\n",
    "        y_val : 次の形のndarray, shape (n_samples, )\n",
    "            検証データの正解値\n",
    "        \"\"\"\n",
    "        if self.verbose:\n",
    "            #verboseをTrueにした際は学習過程を出力\n",
    "            print()\n",
    "        pass\n",
    "\n",
    "    def predict(self, X):\n",
    "        \"\"\"\n",
    "        線形回帰を使い推定する。\n",
    "\n",
    "        Parameters\n",
    "        ----------\n",
    "        X : 次の形のndarray, shape (n_samples, n_features)\n",
    "            サンプル\n",
    "\n",
    "        Returns\n",
    "        -------\n",
    "            次の形のndarray, shape (n_samples, 1)\n",
    "            線形回帰による推定結果\n",
    "        \"\"\"\n",
    "        pass\n",
    "        return"
   ]
  },
  {
   "cell_type": "markdown",
   "metadata": {},
   "source": [
    "## 【問題1】仮定関数\n",
    "以下の数式で表される線形回帰の仮定関数を実装してください。メソッドの雛形を用意してあります。\n",
    "\n",
    "$$\n",
    "h_θ(x) = θ_0x_0 + θ_1x_1 + ... + θ_jx_j +... + θ_nx_n (x_0 = 1)\n",
    "$$\n",
    "\n",
    "\n",
    "x: 特徴量ベクトル\n",
    "\n",
    "\n",
    "θ: パラメータベクトル\n",
    "\n",
    "\n",
    "n: 特徴量の数\n",
    "\n",
    "\n",
    "xj: j番目の特徴量\n",
    "\n",
    "\n",
    "θj: j番目のパラメータ（重み）\n",
    "\n",
    "\n",
    "n:特徴量の数は任意の値に対応できる実装にしてください。\n",
    "\n",
    "\n",
    "なお、ベクトル形式で表すと以下のようになります。\n",
    "\n",
    "$$\n",
    "h_θ(x) = θ^T・x\n",
    "$$\n",
    "\n",
    "雛形\n",
    "\n",
    "\n",
    "クラスの外から呼び出すことがないメソッドのため、Pythonの慣例としてアンダースコアを先頭にひとつつけています。"
   ]
  },
  {
   "cell_type": "code",
   "execution_count": 2,
   "metadata": {},
   "outputs": [],
   "source": [
    "import numpy as np\n",
    "import pandas as pd\n",
    "import matplotlib.pyplot as plt\n",
    "%matplotlib inline"
   ]
  },
  {
   "cell_type": "markdown",
   "metadata": {},
   "source": [
    "雛形"
   ]
  },
  {
   "cell_type": "code",
   "execution_count": 3,
   "metadata": {},
   "outputs": [],
   "source": [
    "def _linear_hypothesis(self, X):\n",
    "    \"\"\"\n",
    "    線形の仮定関数を計算する\n",
    "\n",
    "    Parameters\n",
    "    ----------\n",
    "    X : 次の形のndarray, shape (n_samples, n_features)\n",
    "      訓練データ\n",
    "\n",
    "    Returns\n",
    "    -------\n",
    "      次の形のndarray, shape (n_samples, 1)\n",
    "      線形の仮定関数による推定結果\n",
    "\n",
    "    \"\"\"\n",
    "    pass\n",
    "    return"
   ]
  },
  {
   "cell_type": "code",
   "execution_count": 4,
   "metadata": {},
   "outputs": [],
   "source": [
    "def _linear_hypothesis(self, X):\n",
    "    \"\"\"\n",
    "    線形の仮定関数を計算する\n",
    "\n",
    "    Parameters\n",
    "    ----------\n",
    "    X : 次の形のndarray, shape (n_samples, n_features)\n",
    "      訓練データ\n",
    "\n",
    "    Returns\n",
    "    -------\n",
    "      次の形のndarray, shape (n_samples, 1)\n",
    "      線形の仮定関数による推定結果\n",
    "\n",
    "    \"\"\"    \n",
    "    return np.dot(X, self.coef_[1:]) + self.coef_[0]"
   ]
  },
  {
   "cell_type": "markdown",
   "metadata": {},
   "source": [
    "## 【問題2】最急降下法\n",
    "最急降下法により学習させる実装を行なってください。以下の式で表されるパラメータの更新式のメソッド_gradient_descentを追加し、fit\n",
    "メソッドから呼び出すようにしてください。\n",
    "\n",
    "$$\n",
    "θ_j := θ_j - α\\frac{1}{m}\\sum_{i=1}^{m}[(h_θ(x^{(i)})-y^{(i)})x_j^{(i)}]\n",
    "$$\n",
    "\n",
    "α: 学習率\n",
    "\n",
    "\n",
    "i: サンプルのインデックス\n",
    "\n",
    "\n",
    "j: 特徴量のインデックス\n",
    "\n",
    "\n",
    "雛形\n",
    "\n",
    "\n",
    "ScratchLinearRegressionクラスへ以下のメソッドを追加してください。コメントアウト部分の説明も記述してください。\n"
   ]
  },
  {
   "cell_type": "code",
   "execution_count": 5,
   "metadata": {},
   "outputs": [],
   "source": [
    "def _gradient_descent(self, X, error):\n",
    "    \"\"\"\n",
    "    説明を記述\n",
    "    \"\"\"\n",
    "    pass"
   ]
  },
  {
   "cell_type": "markdown",
   "metadata": {},
   "source": [
    "雛形として用意されたメソッドや関数以外でも必要があれば各自作成して完成させてください。雛形を外れても問題ありません。"
   ]
  },
  {
   "cell_type": "code",
   "execution_count": 6,
   "metadata": {},
   "outputs": [],
   "source": [
    "def _gradient_descent(self, X, y):\n",
    "    \"\"\"\n",
    "    最急降下法より学習させる\n",
    "    Parameters\n",
    "    ----------\n",
    "    X : 次の形のndarray, shape (n_samples, n_features)\n",
    "      訓練データ\n",
    "\n",
    "    y: 次の形のndarray, shape (n_samples)\n",
    "     目的変数\n",
    "\n",
    "    Returns\n",
    "    -------\n",
    "      self: object\n",
    "      最急降下法による学習結果\n",
    "    \"\"\"\n",
    "    \n",
    "    #線形の仮定関数による推定結果の呼び出し\n",
    "    output = self._linear_hypothesis(X) \n",
    "    #誤差を計算 \n",
    "    error = (y - output)\n",
    "    #重みの計算 y.shape[0]はデータ数m\n",
    "    self.coef_[1:] += self.lr / y.shape[0] * np.dot(X.T, error) \n",
    "    self.coef_[0] += self.lr * error.sum()\n",
    "\n",
    "    return self"
   ]
  },
  {
   "cell_type": "markdown",
   "metadata": {},
   "source": [
    "## 【問題3】推定\n",
    "推定する仕組みを実装してください。ScratchLinearRegressionクラスの雛形に含まれるpredictメソッドに書き加えてください。\n",
    "\n",
    "\n",
    "仮定関数 hθ(x)の出力が推定結果です。\n",
    "\n",
    "雛形"
   ]
  },
  {
   "cell_type": "code",
   "execution_count": 7,
   "metadata": {},
   "outputs": [],
   "source": [
    "def predict(self, X):\n",
    "    \"\"\"\n",
    "    線形回帰を使い推定する。\n",
    "\n",
    "    Parameters\n",
    "    ----------\n",
    "    X : 次の形のndarray, shape (n_samples, n_features)\n",
    "        サンプル\n",
    "\n",
    "    Returns\n",
    "    -------\n",
    "        次の形のndarray, shape (n_samples, 1)\n",
    "        線形回帰による推定結果\n",
    "    \"\"\"\n",
    "    pass"
   ]
  },
  {
   "cell_type": "code",
   "execution_count": 8,
   "metadata": {},
   "outputs": [],
   "source": [
    "def predict(self, X):\n",
    "    \"\"\"\n",
    "    線形回帰を使い推定する。\n",
    "\n",
    "    Parameters\n",
    "    ----------\n",
    "    X : 次の形のndarray, shape (n_samples, n_features)\n",
    "        サンプル\n",
    "\n",
    "    Returns\n",
    "    -------\n",
    "        次の形のndarray, shape (n_samples, 1)\n",
    "        線形回帰による推定結果\n",
    "    \"\"\"\n",
    "    return self._linear_hypothesis(X)"
   ]
  },
  {
   "cell_type": "markdown",
   "metadata": {},
   "source": [
    "## 【問題4】平均二乗誤差\n",
    "線形回帰の指標値として用いられる平均二乗誤差（mean square error, MSE）の関数を作成してください。\n",
    "\n",
    "\n",
    "平均二乗誤差関数は回帰問題全般で使える関数のため、ScratchLinearRegressionクラスのメソッドではなく、別の関数として作成してください。雛形を用意してあります。\n",
    "\n",
    "\n",
    "平均二乗誤差は以下の数式で表されます。\n",
    "\n",
    "$$\n",
    "L(θ)=\\frac{1}{m}\\sum_{i=1}^{m}(h_θ(x^{(i)})-y^{(i)})^2\n",
    "$$\n",
    "\n",
    "m: 入力されるデータの数\n",
    "\n",
    "\n",
    "h(θ): 仮定関数\n",
    "\n",
    "\n",
    "x(i): i番目のサンプルの特徴量ベクトル\n",
    "\n",
    "\n",
    "y(i): i番目のサンプルの正解値\n",
    "\n",
    "\n",
    "なお、最急降下法のための目的関数（損失関数）としては、これを2で割ったものを使用します。（問題5, 9）\n",
    "\n",
    "\n",
    "雛形"
   ]
  },
  {
   "cell_type": "code",
   "execution_count": 9,
   "metadata": {},
   "outputs": [],
   "source": [
    "def MSE(y_pred, y):\n",
    "    \"\"\"\n",
    "    平均二乗誤差の計算\n",
    "\n",
    "    Parameters\n",
    "    ----------\n",
    "    y_pred : 次の形のndarray, shape (n_samples,)\n",
    "      推定した値\n",
    "    y : 次の形のndarray, shape (n_samples,)\n",
    "      正解値\n",
    "\n",
    "    Returns\n",
    "    ----------\n",
    "    mse : numpy.float\n",
    "      平均二乗誤差\n",
    "    \"\"\"\n",
    "    pass\n",
    "    return mse"
   ]
  },
  {
   "cell_type": "code",
   "execution_count": 10,
   "metadata": {},
   "outputs": [],
   "source": [
    "def MSE(y_pred, y):\n",
    "    error = (y - y_pred)\n",
    "    mse = (error**2).sum() / y.shape[0] \n",
    "    return mse"
   ]
  },
  {
   "cell_type": "markdown",
   "metadata": {},
   "source": [
    "## 【問題5】目的関数\n",
    "以下の数式で表される線形回帰の 目的関数（損失関数） を実装してください。そして、これをself.loss, self.val_lossに記録するようにしてください。\n",
    "\n",
    "\n",
    "目的関数（損失関数）J(θ)は次の式です。\n",
    "\n",
    "$$\n",
    "J(θ)=\\frac{1}{2m}\\sum_{i=1}^{m}(h_θ(x^{(i)})-y^{(i)})^2\n",
    "$$\n",
    "\n",
    "m: 入力されるデータの数\n",
    "\n",
    "\n",
    "hθ(): 仮定関数\n",
    "\n",
    "\n",
    "x(i): i番目のサンプルの特徴量ベクトル\n",
    "\n",
    "\n",
    "y(i) : i番目のサンプルの正解値"
   ]
  },
  {
   "cell_type": "code",
   "execution_count": 11,
   "metadata": {},
   "outputs": [],
   "source": [
    "def MSE2(y_pred, y):\n",
    "    error = (y - y_pred)\n",
    "    mse = (error**2).sum() / y.shape[0] / 2\n",
    "    self.loss.append(mse)\n",
    "        \n",
    "    return self"
   ]
  },
  {
   "cell_type": "markdown",
   "metadata": {},
   "source": [
    "# 検証\n",
    "\n",
    "## 【問題6】学習と推定\n",
    "\n",
    "機械学習スクラッチ入門のSprintで用意したHouse Pricesコンペティションのデータに対してスクラッチ実装の学習と推定を行なってください。\n",
    "\n",
    "\n",
    "scikit-learnによる実装と比べ、正しく動いているかを確認してください。"
   ]
  },
  {
   "cell_type": "markdown",
   "metadata": {},
   "source": [
    "- 訓練データに対する損失の記録と検証データに対する損失の記録に分ける必要性は?同じインスタンスを使って訓練データと検証データを学習した場合に記録を分けるため?\n",
    "\n",
    "- _gradient_descentに引数errorがなぜあるのか。errorは関数内で計算するものではないのか\n",
    "\n",
    "- 損失関数の関数を作るか他の関数に組み込むか\n",
    "\n"
   ]
  },
  {
   "cell_type": "code",
   "execution_count": 12,
   "metadata": {},
   "outputs": [],
   "source": [
    "class ScratchLinearRegression():\n",
    "    \"\"\"\n",
    "    線形回帰のスクラッチ実装\n",
    "\n",
    "    Parameters\n",
    "    ----------\n",
    "    num_iter : int\n",
    "      イテレーション数\n",
    "    lr : float\n",
    "      学習率\n",
    "    no_bias : bool\n",
    "      バイアス項を入れない場合はTrue\n",
    "    verbose : bool\n",
    "      学習過程を出力する場合はTrue\n",
    "\n",
    "    Attributes\n",
    "    ----------\n",
    "    self.coef_ : 次の形のndarray, shape (n_features,)\n",
    "      パラメータ\n",
    "    self.loss : 次の形のndarray, shape (self.iter,)\n",
    "      データに対する損失の記録\n",
    "    \"\"\"\n",
    "\n",
    "    def __init__(self, num_iter, lr, no_bias, verbose, random_state):\n",
    "        # ハイパーパラメータを属性として記録\n",
    "        self.iter = num_iter\n",
    "        self.lr = lr\n",
    "        self.no_bias = no_bias\n",
    "        self.verbose = verbose\n",
    "        # 損失を記録する配列を用意\n",
    "        self.loss = np.zeros(self.iter)\n",
    "        \n",
    "        #パラメータ初期化のための乱数シード\n",
    "        self.random_state = random_state\n",
    "        \n",
    "    def fit(self, X, y, X_val=None, y_val=None):\n",
    "        \"\"\"\n",
    "        線形回帰を学習する。検証データが入力された場合はそれに対する損失と精度もイテレーションごとに計算する。\n",
    "\n",
    "        Parameters\n",
    "        ----------\n",
    "        X : 次の形のndarray, shape (n_samples, n_features)\n",
    "            訓練データの特徴量\n",
    "        y : 次の形のndarray, shape (n_samples, )\n",
    "            訓練データの正解値\n",
    "        X_val : 次の形のndarray, shape (n_samples, n_features)\n",
    "            検証データの特徴量\n",
    "        y_val : 次の形のndarray, shape (n_samples, )\n",
    "            検証データの正解値\n",
    "        \"\"\"\n",
    "            \n",
    "        #パラメータの初期化\n",
    "        rgen = np.random.RandomState(self.random_state)\n",
    "        #パラメータにバイアス項を含むか\n",
    "        if self.no_bias:\n",
    "            self.coef_ = rgen.normal(loc=0.0, scale=0.01, size=X.shape[1])\n",
    "        else:\n",
    "            self.coef_ = rgen.normal(loc=0.0, scale=0.01, size=1+X.shape[1])\n",
    "            \n",
    "        #学習結果の呼び出し\n",
    "        _gradient_descent = self._gradient_descent(X, y) \n",
    "        \n",
    "        #verboseをTrueにした際は学習過程を出力\n",
    "        if self.verbose:\n",
    "            print(self.loss)              \n",
    "        \n",
    "        return _gradient_descent\n",
    "        \n",
    "    def _gradient_descent(self, X, y):\n",
    "        \"\"\"\n",
    "        最急降下法より学習させる\n",
    "        Parameters\n",
    "        ----------\n",
    "        X : 次の形のndarray, shape (n_samples, n_features)\n",
    "          訓練データ\n",
    "          \n",
    "        y: 次の形のndarray, shape (n_samples)\n",
    "         目的変数\n",
    "\n",
    "        Returns\n",
    "        -------\n",
    "          self: object\n",
    "          最急降下法による学習結果\n",
    "        \"\"\"\n",
    "        \n",
    "        for i in range(self.iter):\n",
    "            #線形の仮定関数による推定結果の呼び出し\n",
    "            output = self._linear_hypothesis(X) \n",
    "            #誤差を計算 \n",
    "            error = (y - output)\n",
    "            #重みの計算 y.shape[0]はデータ数m\n",
    "            if self.no_bias:\n",
    "                self.coef_ += self.lr / y.shape[0] * np.dot(X.T, error)\n",
    "            else:               \n",
    "                self.coef_[1:] += self.lr / y.shape[0] * np.dot(X.T, error) \n",
    "                self.coef_[0] += self.lr * error.sum()\n",
    "            #コスト関数の計算\n",
    "            mse = (error**2).sum() / y.shape[0] / 2\n",
    "            #コスト関数の値を格納\n",
    "            self.loss[i] = mse        \n",
    "        return self\n",
    " \n",
    "    def _linear_hypothesis(self, X):\n",
    "        \"\"\"\n",
    "        線形の仮定関数を計算する\n",
    "\n",
    "        Parameters\n",
    "        ----------\n",
    "        X : 次の形のndarray, shape (n_samples, n_features)\n",
    "          訓練データ\n",
    "\n",
    "        Returns\n",
    "        -------\n",
    "          次の形のndarray, shape (n_samples, 1)\n",
    "          線形の仮定関数による推定結果\n",
    "\n",
    "        \"\"\"    \n",
    "        if self.no_bias:\n",
    "            return np.dot(X, self.coef_)\n",
    "        else:\n",
    "            return np.dot(X, self.coef_[1:]) + self.coef_[0]\n",
    "    \n",
    "    def predict(self, X):\n",
    "        \"\"\"\n",
    "        線形回帰を使い推定する。\n",
    "\n",
    "        Parameters\n",
    "        ----------\n",
    "        X : 次の形のndarray, shape (n_samples, n_features)\n",
    "            サンプル\n",
    "\n",
    "        Returns\n",
    "        -------\n",
    "            次の形のndarray, shape (n_samples, 1)\n",
    "            線形回帰による推定結果\n",
    "        \"\"\"\n",
    "        return self._linear_hypothesis(X)"
   ]
  },
  {
   "cell_type": "code",
   "execution_count": 13,
   "metadata": {},
   "outputs": [],
   "source": [
    "#データ読み込み\n",
    "\n",
    "df = pd.read_csv('train.csv')"
   ]
  },
  {
   "cell_type": "code",
   "execution_count": 14,
   "metadata": {},
   "outputs": [],
   "source": [
    "X_org = df.loc[:, ['GrLivArea', 'YearBuilt']].values\n",
    "y_org = df.loc[:, 'SalePrice'].values"
   ]
  },
  {
   "cell_type": "code",
   "execution_count": 15,
   "metadata": {},
   "outputs": [],
   "source": [
    "#標準化\n",
    "\n",
    "from sklearn.preprocessing import StandardScaler\n",
    "sc_x = StandardScaler()\n",
    "sc_y = StandardScaler()\n",
    "X_std = sc_x.fit_transform(X_org)\n",
    "y_std = sc_y.fit_transform(y_org[:, np.newaxis]).flatten()"
   ]
  },
  {
   "cell_type": "code",
   "execution_count": 16,
   "metadata": {},
   "outputs": [],
   "source": [
    "from sklearn.model_selection import train_test_split\n",
    "\n",
    "X, X_val, y, y_val = train_test_split(X_std, y_std, train_size=0.7)"
   ]
  },
  {
   "cell_type": "markdown",
   "metadata": {},
   "source": [
    "#### 訓練データ"
   ]
  },
  {
   "cell_type": "code",
   "execution_count": 17,
   "metadata": {},
   "outputs": [
    {
     "data": {
      "text/plain": [
       "<__main__.ScratchLinearRegression at 0x1edae344308>"
      ]
     },
     "execution_count": 17,
     "metadata": {},
     "output_type": "execute_result"
    }
   ],
   "source": [
    "slr = ScratchLinearRegression(num_iter=5000, \n",
    "                              lr=0.001, \n",
    "                              no_bias=False, \n",
    "                              verbose=False, \n",
    "                             random_state=1)\n",
    "\n",
    "slr.fit(X, y)"
   ]
  },
  {
   "cell_type": "code",
   "execution_count": 18,
   "metadata": {},
   "outputs": [
    {
     "data": {
      "text/plain": [
       "array([217996.48936652, 160024.35296597, 217045.71799547, ...,\n",
       "       111145.83259308, 104930.29778893, 207095.22272295])"
      ]
     },
     "execution_count": 18,
     "metadata": {},
     "output_type": "execute_result"
    }
   ],
   "source": [
    "price_std = slr.predict(X)\n",
    "\n",
    "#元の尺度に戻す\n",
    "price = sc_y.inverse_transform(price_std)\n",
    "price"
   ]
  },
  {
   "cell_type": "markdown",
   "metadata": {},
   "source": [
    "#### scikit-learn"
   ]
  },
  {
   "cell_type": "code",
   "execution_count": 19,
   "metadata": {},
   "outputs": [
    {
     "data": {
      "text/plain": [
       "SGDRegressor(alpha=0.0001, average=False, early_stopping=False, epsilon=0.1,\n",
       "             eta0=0.01, fit_intercept=True, l1_ratio=0.15,\n",
       "             learning_rate='invscaling', loss='squared_loss', max_iter=1000,\n",
       "             n_iter_no_change=5, penalty='l2', power_t=0.25, random_state=None,\n",
       "             shuffle=True, tol=0.001, validation_fraction=0.1, verbose=0,\n",
       "             warm_start=False)"
      ]
     },
     "execution_count": 19,
     "metadata": {},
     "output_type": "execute_result"
    }
   ],
   "source": [
    "from sklearn.linear_model import SGDRegressor\n",
    "\n",
    "sgdr = SGDRegressor()\n",
    "sgdr.fit(X, y)"
   ]
  },
  {
   "cell_type": "code",
   "execution_count": 20,
   "metadata": {},
   "outputs": [],
   "source": [
    "price_sk_std = sgdr.predict(X)\n",
    "\n",
    "#元の尺度に戻す\n",
    "price_sk = sc_y.inverse_transform(price_sk_std)"
   ]
  },
  {
   "cell_type": "code",
   "execution_count": 21,
   "metadata": {},
   "outputs": [
    {
     "data": {
      "image/png": "[encoded data removed]",
      "text/plain": [
       "<Figure size 720x360 with 1 Axes>"
      ]
     },
     "metadata": {
      "needs_background": "light"
     },
     "output_type": "display_data"
    }
   ],
   "source": [
    "#scikit-learnによる推定の値の分布\n",
    "\n",
    "fig = plt.figure(figsize=(10, 5))\n",
    "plt.plot(price_sk, label='price_sk')\n",
    "plt.legend()\n",
    "\n",
    "plt.show()"
   ]
  },
  {
   "cell_type": "markdown",
   "metadata": {},
   "source": [
    "200000周辺に値が分布していることが分かる。"
   ]
  },
  {
   "cell_type": "code",
   "execution_count": 22,
   "metadata": {},
   "outputs": [
    {
     "data": {
      "image/png": "[encoded data removed]",
      "text/plain": [
       "<Figure size 720x360 with 1 Axes>"
      ]
     },
     "metadata": {
      "needs_background": "light"
     },
     "output_type": "display_data"
    }
   ],
   "source": [
    "#scikit-learnによる推定の値 - スクラッチ実装による推定の値\n",
    "\n",
    "fig = plt.figure(figsize=(10, 5))\n",
    "plt.plot((price_sk - price), label='price_sk - price')\n",
    "\n",
    "plt.legend()\n",
    "\n",
    "plt.show()"
   ]
  },
  {
   "cell_type": "markdown",
   "metadata": {},
   "source": [
    "scikit-learnによる推定の値 - スクラッチ実装による推定の値を示した表。振れ幅は-4000～12500程であることが分かる。これは、scikit-learnによる推定の値の分布のおおよその中心の値200000の7%以内に収まる振れ幅である。\n",
    "\n",
    "より良い誤差の評価方法やその可視化方法は他にもあると思うので要勉強"
   ]
  },
  {
   "cell_type": "markdown",
   "metadata": {},
   "source": [
    "## 【問題7】学習曲線のプロット\n",
    "学習曲線を表示する関数を作成し、実行してください。グラフを見て損失が適切に下がっているかどうか確認してください。\n",
    "\n",
    "\n",
    "線形回帰クラスの雛形ではself.loss, self.val_lossに損失を記録しておくようになっているため、入力にはこれを利用してください。"
   ]
  },
  {
   "cell_type": "markdown",
   "metadata": {},
   "source": [
    "#### 検証データ"
   ]
  },
  {
   "cell_type": "code",
   "execution_count": 23,
   "metadata": {},
   "outputs": [],
   "source": [
    "slr_val = ScratchLinearRegression(num_iter=5000, \n",
    "                              lr=0.001, \n",
    "                              no_bias=False, \n",
    "                              verbose=False, \n",
    "                             random_state=1)\n",
    "\n",
    "slr_val.fit(X_val, y_val)\n",
    "\n",
    "price_val_std = slr.predict(X_val)\n",
    "\n",
    "#元の尺度に戻す\n",
    "#sc_y.inverse_transform(price_val_std)"
   ]
  },
  {
   "cell_type": "code",
   "execution_count": 24,
   "metadata": {},
   "outputs": [
    {
     "data": {
      "image/png": "[encoded data removed]",
      "text/plain": [
       "<Figure size 432x288 with 1 Axes>"
      ]
     },
     "metadata": {
      "needs_background": "light"
     },
     "output_type": "display_data"
    }
   ],
   "source": [
    "plt.plot(range(1, slr.iter + 1), slr.loss, label='train_loss')\n",
    "plt.plot(range(1, slr_val.iter + 1), slr_val.loss, label='val_loss')\n",
    "plt.ylabel('loss')\n",
    "plt.xlabel('iter')\n",
    "plt.title('model loss')\n",
    "plt.legend()\n",
    "\n",
    "plt.show()"
   ]
  },
  {
   "cell_type": "markdown",
   "metadata": {},
   "source": [
    "## 【問題8】（アドバンス課題）バイアス項の除去\n",
    "バイアス項θ0を抜くと学習がどう変化するか検証してください。また、線形回帰モデルにおけるバイアス項の役割の考察・調査を行ってください。"
   ]
  },
  {
   "cell_type": "code",
   "execution_count": 25,
   "metadata": {},
   "outputs": [
    {
     "data": {
      "text/plain": [
       "<__main__.ScratchLinearRegression at 0x1edaecbf048>"
      ]
     },
     "execution_count": 25,
     "metadata": {},
     "output_type": "execute_result"
    }
   ],
   "source": [
    "slr2 = ScratchLinearRegression(num_iter=5000, \n",
    "                              lr=0.001, \n",
    "                              no_bias=True, \n",
    "                              verbose=False, \n",
    "                             random_state=1)\n",
    "\n",
    "slr2.fit(X, y)"
   ]
  },
  {
   "cell_type": "code",
   "execution_count": 26,
   "metadata": {},
   "outputs": [
    {
     "data": {
      "image/png": "[encoded data removed]",
      "text/plain": [
       "<Figure size 432x288 with 1 Axes>"
      ]
     },
     "metadata": {
      "needs_background": "light"
     },
     "output_type": "display_data"
    }
   ],
   "source": [
    "plt.plot(range(1, slr2.iter + 1), slr2.loss, label='train_loss(no_bias)')\n",
    "plt.plot(range(1, slr.iter + 1), slr.loss, label='train_loss')\n",
    "\n",
    "plt.ylabel('loss')\n",
    "plt.xlabel('iter')\n",
    "plt.title('model loss')\n",
    "plt.legend()\n",
    "\n",
    "plt.show()"
   ]
  },
  {
   "cell_type": "markdown",
   "metadata": {},
   "source": [
    "θ1, θ2...は特徴量x1,x2...の重要度をコントロールするパラメータ。\n",
    "\n",
    "バイアスパラメータθ0は目標値の平均と仮定関数の平均とのズレを吸収してくれる。(ゲタはき)"
   ]
  },
  {
   "cell_type": "markdown",
   "metadata": {},
   "source": [
    "## 【問題9】（アドバンス課題）特徴量の多次元化\n",
    "特徴量の二乗や三乗を入力に利用すると学習結果がどう変化するか検証してください。"
   ]
  },
  {
   "cell_type": "code",
   "execution_count": 27,
   "metadata": {},
   "outputs": [],
   "source": [
    "X_2d = X_org**2\n",
    "X_3d = X_org**3\n",
    "\n",
    "X_2d_std = sc_x.fit_transform(X_2d)\n",
    "X_3d_std = sc_x.fit_transform(X_3d)\n",
    "\n",
    "X_2d, X_2d_val, y_2d, y_2d_val = train_test_split(X_2d_std, y_std, train_size=0.7)\n",
    "X_3d, X_3d_val, y_3d, y_3d_val = train_test_split(X_3d_std, y_std, train_size=0.7)"
   ]
  },
  {
   "cell_type": "code",
   "execution_count": 28,
   "metadata": {},
   "outputs": [],
   "source": [
    "slr_2d = ScratchLinearRegression(num_iter=5000, \n",
    "                              lr=0.001, \n",
    "                              no_bias=False, \n",
    "                              verbose=False, \n",
    "                             random_state=1)\n",
    "\n",
    "slr_3d = ScratchLinearRegression(num_iter=5000, \n",
    "                              lr=0.001, \n",
    "                              no_bias=False, \n",
    "                              verbose=False, \n",
    "                             random_state=1)"
   ]
  },
  {
   "cell_type": "code",
   "execution_count": 29,
   "metadata": {},
   "outputs": [
    {
     "data": {
      "text/plain": [
       "<__main__.ScratchLinearRegression at 0x1edaed23608>"
      ]
     },
     "execution_count": 29,
     "metadata": {},
     "output_type": "execute_result"
    }
   ],
   "source": [
    "slr_2d.fit(X_2d, y_2d)\n",
    "slr_3d.fit(X_3d, y_3d)"
   ]
  },
  {
   "cell_type": "code",
   "execution_count": 30,
   "metadata": {},
   "outputs": [
    {
     "data": {
      "image/png": "[encoded data removed]",
      "text/plain": [
       "<Figure size 432x288 with 1 Axes>"
      ]
     },
     "metadata": {
      "needs_background": "light"
     },
     "output_type": "display_data"
    }
   ],
   "source": [
    "plt.plot(range(1, slr.iter + 1), slr.loss, label='loss(original)')\n",
    "plt.plot(range(1, slr_2d.iter + 1), slr_2d.loss, label='loss(2d)')\n",
    "plt.plot(range(1, slr_3d.iter + 1), slr_3d.loss, label='loss(3d)')\n",
    "plt.ylabel('loss')\n",
    "plt.xlabel('iter')\n",
    "plt.title('model loss')\n",
    "plt.legend()\n",
    "\n",
    "plt.show()"
   ]
  },
  {
   "cell_type": "markdown",
   "metadata": {},
   "source": [
    "セルの実行ごとに、収束の速度や収束した損失の値がそれぞれ異なるので、どの特徴量が適しているかは言えない。"
   ]
  },
  {
   "cell_type": "markdown",
   "metadata": {},
   "source": [
    "## 【問題10】（アドバンス課題）更新式の導出\n",
    "最急降下法の更新式は以下でした。この式が導出される過程を説明してください。\n",
    "\n",
    "$$\n",
    "θ_j := θ_j - α\\frac{1}{m}\\sum_{i=1}^{m}[(h_θ(x^{(i)})-y^{(i)})x_j^{(i)}]\n",
    "$$\n",
    "\n",
    "以下の式から説明をはじめることができます。\n",
    "\n",
    "$$\n",
    "θ_j := θ_j - \\frac{∂}{∂θ_j}J(θ)\n",
    "$$\n",
    "\n",
    "目的関数（損失関数）J(θ)は次の式です。\n",
    "\n",
    "$$\n",
    "J(θ) = \\frac{1}{2m}\\sum_{i=1}^{m}(h_θ(x^{(i)})-y^{(i)})^{2}\n",
    "$$"
   ]
  },
  {
   "cell_type": "markdown",
   "metadata": {},
   "source": [
    "降下法を使って重みを更新するには、損失関数$J(θ)$の勾配$\\frac{∂J}{∂θ_j}$に沿って逆方向に1ステップ進む。重みの変化は負の勾配に学習率$α$をかけたものである。\n",
    "$$\n",
    "-α\\frac{∂J}{∂θ_j}\n",
    "$$\n",
    "損失関数の勾配を計算するには、重みごとにコスト関数の偏微分係数を計算する必要がある。\n",
    "$$\n",
    "\\frac{∂J}{∂θ_j} = -\\frac{1}{m}\\sum_{i=1}^{m}(h_θ(x^{(i)})-y^{(i)})x_j^{(i)}\n",
    "$$\n",
    "それにより、重みの更新を次のように記述できる。\n",
    "$$\n",
    "θ_j := θ_j - α\\frac{1}{m}\\sum_{i=1}^{m}[(h_θ(x^{(i)})-y^{(i)})x_j^{(i)}]\n",
    "$$"
   ]
  },
  {
   "cell_type": "markdown",
   "metadata": {},
   "source": [
    "## 【問題11】（アドバンス課題）局所最適解の問題\n",
    "最急降下法には一般的に局所最適解の問題があります。しかし、線形回帰では学習を続ければ必ず最適解を求めることができます。それはなぜか数式やグラフを用いて説明してください。"
   ]
  },
  {
   "cell_type": "markdown",
   "metadata": {},
   "source": [
    "最急降下法は、極小値が複数ある場合は収束結果が初期値に依存する。\n",
    "\n",
    "様々な最適化手法があり、確率的勾配降下法は乱数の挙動のおかげで局所解から脱出することができる。"
   ]
  },
  {
   "cell_type": "code",
   "execution_count": null,
   "metadata": {},
   "outputs": [],
   "source": []
  }
 ],
 "metadata": {
  "kernelspec": {
   "display_name": "Python 3",
   "language": "python",
   "name": "python3"
  },
  "language_info": {
   "codemirror_mode": {
    "name": "ipython",
    "version": 3
   },
   "file_extension": ".py",
   "mimetype": "text/x-python",
   "name": "python",
   "nbconvert_exporter": "python",
   "pygments_lexer": "ipython3",
   "version": "3.7.6"
  }
 },
 "nbformat": 4,
 "nbformat_minor": 4
}
