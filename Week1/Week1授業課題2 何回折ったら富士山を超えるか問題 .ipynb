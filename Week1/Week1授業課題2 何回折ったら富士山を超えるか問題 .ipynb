{
 "cells": [
  {
   "cell_type": "markdown",
   "metadata": {},
   "source": [
    "# 何回折ったら富士山を超えるか問題\n",
    "\n",
    "「Pythonを使ってみよう」の問題では「1枚の紙を43回折り曲げた時の厚さを計算するプログラム」を作成し、43回折ることで月に届くことが確認できました。\n",
    "\n",
    "\n",
    "ここで「何回折ったらある厚さになるのか」という疑問が生まれます。こういったことを計算するプログラムを作成していきましょう。\n",
    "\n",
    "\n",
    "### 紙を折った時の厚さの数式\n",
    "授業前課題と同様ですが確認しておきます。\n",
    "\n",
    "\n",
    "n回折った紙の厚さtnは以下のように表せます。\n",
    "\n",
    "$$\n",
    "    t_n = t_0 × 2^n\n",
    "$$\n",
    "\n",
    "折る前の紙の厚さt0は0.00008mとします。一般的なコピー用紙の厚さです。"
   ]
  },
  {
   "cell_type": "markdown",
   "metadata": {},
   "source": [
    "## 【問題1】富士山を超える最小の折る回数\n",
    "厚さが「富士山(3776m)」を超えるのは何回紙を折った時か計算するプログラムを作成してください"
   ]
  },
  {
   "cell_type": "code",
   "execution_count": 39,
   "metadata": {},
   "outputs": [
    {
     "name": "stdout",
     "output_type": "stream",
     "text": [
      "富士山を超えるのは26回紙を折った時\n"
     ]
    }
   ],
   "source": [
    "t0 = 0.00008\n",
    "height = 3776\n",
    "count = 0\n",
    "\n",
    "while t0 <= height:\n",
    "    t0 *= 2\n",
    "    count += 1\n",
    "    \n",
    "print('富士山を超えるのは{}回紙を折った時'.format(count))"
   ]
  },
  {
   "cell_type": "markdown",
   "metadata": {},
   "source": [
    "## 【問題2】任意の厚さに対応した関数を作成\n",
    "距離を入力すると、何回折った時に超えるかを出力する関数を作成してください。引数として、折る前の厚さ \n",
    "t\n",
    "0\n",
    " も設定できるようにしましょう。\n",
    "\n",
    "\n",
    "この関数を利用して、「最も近い太陽以外の恒星」に到達するには紙を何回折る必要があるか計算してください。「最も近い太陽以外の恒星」の距離は調査してください。"
   ]
  },
  {
   "cell_type": "code",
   "execution_count": 47,
   "metadata": {},
   "outputs": [],
   "source": [
    "def calculate_fold_num(t0, distance):\n",
    "    count = 0\n",
    "    while t0 <= distance:\n",
    "        t0 *= 2\n",
    "        count += 1\n",
    "    return count"
   ]
  },
  {
   "cell_type": "code",
   "execution_count": 48,
   "metadata": {},
   "outputs": [
    {
     "name": "stdout",
     "output_type": "stream",
     "text": [
      "富士山を超えるのは26回紙を折った時\n"
     ]
    }
   ],
   "source": [
    "count = calculate_fold_num(0.00008, 3776)\n",
    "print('富士山を超えるのは{}回紙を折った時'.format(count))"
   ]
  },
  {
   "cell_type": "code",
   "execution_count": 49,
   "metadata": {},
   "outputs": [
    {
     "name": "stdout",
     "output_type": "stream",
     "text": [
      "最も近い太陽以外の恒星を超えるのは49回紙を折った時\n"
     ]
    }
   ],
   "source": [
    "#金星 3962万キロ\n",
    "t0 = 0.00008\n",
    "distance = 3962*10000*1000\n",
    "count = calculate_fold_num(t0, distance)\n",
    "print('最も近い太陽以外の恒星を超えるのは{}回紙を折った時'.format(count))"
   ]
  },
  {
   "cell_type": "markdown",
   "metadata": {},
   "source": [
    "## 【問題3】必要な紙の長さ\n",
    "実際のところ身近にある紙は43回はおろか10回も折れません。しかし、大きな紙ほどたくさん折ることができ、トイレットペーパーのような長い紙を一方向に折ることを考えた時の折れる回数を求める公式が存在します。\n",
    "\n",
    "厚さt0の紙をn回折るために必要な紙の長さLは以下の公式で求まります。\n",
    "\n",
    "$$\n",
    "    L=\\frac{πt_0}{6}(2^n+4)(2^n−1)\n",
    "$$\n",
    "\n",
    "この公式を利用して、実際に紙を折り任意の厚さに到達するために必要な紙の長さを求める関数を作成してください。\n",
    "\n",
    "\n",
    "そしてこれを使って「月」「富士山」「最も近い太陽以外の恒星」に届くために必要な紙の長さを求めてください。"
   ]
  },
  {
   "cell_type": "code",
   "execution_count": 74,
   "metadata": {},
   "outputs": [],
   "source": [
    "#間違えた解答\n",
    "\n",
    "import  math\n",
    "\n",
    "def cal_distance(t0, distance):\n",
    "    count = 0\n",
    "    while t0 <= distance:\n",
    "        t0 *= 2\n",
    "        count += 1\n",
    "        \n",
    "    L = (math.pi * t0) / 6 * (2**count + 4) * (2**count - 1) \n",
    "\n",
    "    return L"
   ]
  },
  {
   "cell_type": "code",
   "execution_count": 75,
   "metadata": {},
   "outputs": [
    {
     "name": "stdout",
     "output_type": "stream",
     "text": [
      "351.85837720205683\n"
     ]
    }
   ],
   "source": [
    "print(cal_distance(1, 5))"
   ]
  },
  {
   "cell_type": "markdown",
   "metadata": {},
   "source": [
    "Lの式に代入されたt0は紙の厚さではなく、折りたたんだ厚さになっている。\n",
    "授業課題時間内にこのミスに気づけなかった。"
   ]
  },
  {
   "cell_type": "code",
   "execution_count": 78,
   "metadata": {},
   "outputs": [],
   "source": [
    "#正しい解答\n",
    "\n",
    "import math\n",
    "\n",
    "def cal_paper(t0, distance):\n",
    "    n = calculate_fold_num(t0, distance)\n",
    "    L = (math.pi * t0) / 6 * (2**n + 4) * (2**n - 1)\n",
    "    return L"
   ]
  },
  {
   "cell_type": "code",
   "execution_count": 79,
   "metadata": {},
   "outputs": [
    {
     "name": "stdout",
     "output_type": "stream",
     "text": [
      "43.982297150257104\n"
     ]
    }
   ],
   "source": [
    "print(cal_paper(1, 5))"
   ]
  },
  {
   "cell_type": "code",
   "execution_count": 80,
   "metadata": {},
   "outputs": [
    {
     "name": "stdout",
     "output_type": "stream",
     "text": [
      "富士山に届くために必要な紙の長さは188646348487.24017m\n"
     ]
    }
   ],
   "source": [
    "#富士山\n",
    "t0 = 0.00008\n",
    "distance = 3776\n",
    "print('富士山に届くために必要な紙の長さは{}m'.format(cal_paper(t0, distance)))"
   ]
  },
  {
   "cell_type": "code",
   "execution_count": 81,
   "metadata": {},
   "outputs": [
    {
     "name": "stdout",
     "output_type": "stream",
     "text": [
      "月に届くために必要な紙の長さは3.240919444170781e+21m\n"
     ]
    }
   ],
   "source": [
    "#月\n",
    "t0 = 0.00008\n",
    "distance = 384400 * 1000\n",
    "print('月に届くために必要な紙の長さは{}m'.format(cal_paper(t0, distance)))"
   ]
  },
  {
   "cell_type": "code",
   "execution_count": 82,
   "metadata": {},
   "outputs": [
    {
     "name": "stdout",
     "output_type": "stream",
     "text": [
      "金星に届くために必要な紙の長さは1.3274806043319064e+25m\n"
     ]
    }
   ],
   "source": [
    "#金星 3962万キロ\n",
    "t0 = 0.00008\n",
    "distance = 3962*10000*1000\n",
    "print('金星に届くために必要な紙の長さは{}m'.format(cal_paper(t0, distance)))"
   ]
  },
  {
   "cell_type": "code",
   "execution_count": null,
   "metadata": {},
   "outputs": [],
   "source": []
  }
 ],
 "metadata": {
  "kernelspec": {
   "display_name": "Python 3",
   "language": "python",
   "name": "python3"
  },
  "language_info": {
   "codemirror_mode": {
    "name": "ipython",
    "version": 3
   },
   "file_extension": ".py",
   "mimetype": "text/x-python",
   "name": "python",
   "nbconvert_exporter": "python",
   "pygments_lexer": "ipython3",
   "version": "3.7.6"
  }
 },
 "nbformat": 4,
 "nbformat_minor": 4
}
