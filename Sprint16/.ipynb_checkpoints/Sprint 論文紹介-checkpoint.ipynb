{
 "cells": [
  {
   "cell_type": "markdown",
   "metadata": {},
   "source": [
    "# 論文紹介\n",
    "\n",
    "機械学習分野のある分野に関して短期間で研究動向を把握することを目指します。\n",
    "\n",
    "\n",
    "自分自身が興味のある分野に対し、論文5本の要旨をまとめたスライドを用意し、5分程度で紹介してください。\n",
    "\n",
    "\n",
    "## 要件\n",
    "- 聞いた人がその分野について何らかの傾向をつかめる発表にする。\n",
    "- 論文の選定理由を答えられるようにする。\n",
    "\n",
    "## 課題提出方法\n",
    "スライドをSpeaker DeckやSlideshareなどに投稿し、そのURLを提出してください。スライドは外部に公開することを意識して作成してください。"
   ]
  },
  {
   "cell_type": "code",
   "execution_count": null,
   "metadata": {},
   "outputs": [],
   "source": []
  }
 ],
 "metadata": {
  "kernelspec": {
   "display_name": "Python 3",
   "language": "python",
   "name": "python3"
  },
  "language_info": {
   "codemirror_mode": {
    "name": "ipython",
    "version": 3
   },
   "file_extension": ".py",
   "mimetype": "text/x-python",
   "name": "python",
   "nbconvert_exporter": "python",
   "pygments_lexer": "ipython3",
   "version": "3.7.6"
  }
 },
 "nbformat": 4,
 "nbformat_minor": 4
}
