{
 "cells": [
  {
   "cell_type": "markdown",
   "metadata": {},
   "source": [
    "# 決定木学習とは\n",
    "\n",
    "決定木学習は 決定木 と呼ばれる 木構造のグラフ を作る機械学習手法です。機械学習の分野では学習手法も単に「決定木」と呼ばれます。\n",
    "\n",
    "\n",
    "分類にも回帰にも使え、分類の場合3クラス以上の多値分類が可能です。ここでは基本となる分類のみを扱います。\n",
    "\n",
    "\n",
    "決定木とは\n",
    "決定木は、属性 と 値 の組｛属性1：値1，属性2：値2, 属性3：値3,…，属性n：値n｝によって表現されたデータを、条件分岐を繰り返すことであるクラスに割り当てることができる木構造のグラフです。\n",
    "\n",
    "\n",
    "以下の例は会場の気温という属性の値によって、開催と中止のクラスに割り当てるグラフです。「会場の気温という属性の値は35以上かどうか」という条件分岐1回による決定木による分類が行えます。例えば36度がこの決定木にインプットされれば、中止というアウトプット（判断）ができます。\n"
   ]
  },
  {
   "cell_type": "markdown",
   "metadata": {},
   "source": [
    "なお、「属性と値」は機械学習の分野では「特徴量の名前と特徴量の値」のことです。これ以降は単に特徴量という呼びます。\n",
    "\n",
    "### 各種用語\n",
    "もう少し複雑な例で決定木で重要な用語を確認します。特徴量が「雨量」「屋内かどうか」「風の強さ」の3種類で、イベントの開催か中止かを分類する場合で考えてみます。訓練データを学習することで、以下のような決定木が作れます。"
   ]
  },
  {
   "cell_type": "markdown",
   "metadata": {},
   "source": [
    "丸で囲われたひとつひとつを ノード と呼びます。ノードには親子関係を考えることができ、例えば(0)のノードは(1)(2)(3)のノードの 親ノード と呼びます。逆に、(1)(2)(3)のノードは(0)のノードの 子ノード と呼びます。\n",
    "\n",
    "\n",
    "一番上の(0)は 根ノード 、 末端の(1)(4)(5)(7)(8)(9)のような分類結果を表すノードは 葉ノード と呼びます。\n",
    "\n",
    "\n",
    "条件分岐の矢印は エッジ と呼びます。あるノードから根ノードまでのエッジの数が 深さ です。(3)の深さは1、(6)の深さは2、(9)の深さは3という風になります。この決定木の最大の深さは3です。\n",
    "\n",
    "\n",
    "これは(0)に対して(1)(2)(3)の3つのノードが分かれている多岐分岐の決定木ですが、機械学習では2つにしか分かれないものが一般的です。学習時の複雑さを減らすためです。\n",
    "\n",
    "\n",
    "### どう決定木を作るか\n",
    "決定木の学習には様々なやり方が存在しますが、その中のある方法についてスクラッチを行いながら見ていきます。\n",
    "\n",
    "\n",
    "学習方法やハイパーパラメータ、訓練データ次第で作られる決定木は異なってきます。\n",
    "\n",
    "\n",
    "### 推定を考える\n",
    "以下の場合、イベントは開催されるでしょうか。決定木を使って判断してください。\n"
   ]
  },
  {
   "cell_type": "markdown",
   "metadata": {},
   "source": [
    "答えは「開催」です。以下の赤線の順でたどっていきます。"
   ]
  },
  {
   "cell_type": "markdown",
   "metadata": {},
   "source": [
    "これが決定木による推定の操作になります。\n",
    "\n",
    "\n",
    "### 扱える特徴量\n",
    "決定木は理論上は量的変数だけでなく、カテゴリ変数も扱えます。しかし、scikit-learnの実装では量的変数のみに対応していますので、スクラッチ実装もそのように作成します。上記の例ですと「会場の種類」で「屋内と屋外」ですとカテゴリ変数ですが、「屋内かどうか」で「0と1」と量的変数にすることで扱えるようにしています。"
   ]
  },
  {
   "cell_type": "markdown",
   "metadata": {},
   "source": [
    "# 決定木スクラッチ\n",
    "\n",
    "分類のための決定木のクラスをスクラッチで作成していきます。NumPyなど最低限のライブラリのみを使いアルゴリズムを実装していきます。\n",
    "\n",
    "\n",
    "決定木の学習には何回まで条件分岐を繰り返すかを表す （最大の）深さ というハイパーパラメータが登場しますが、深さ1の実装を必須課題とします。深さが2以上のものはアドバンス課題とします。\n",
    "\n",
    "\n",
    "学習の仕方には様々な方法がありますが、ここではscikit-learnでも使用されている CART法 をベースとした実装を行います。この方法では学習の複雑さを減らすために、 分岐は2つに分かれるのみ になります。\n",
    "\n",
    "\n",
    "以下に雛形を用意してあります。このScratchDecesionTreeClassifierDepth1クラスにコードを書き加えていってください。"
   ]
  },
  {
   "cell_type": "code",
   "execution_count": 1,
   "metadata": {},
   "outputs": [],
   "source": [
    "class ScratchDecesionTreeClassifierDepth1():\n",
    "    \"\"\"\n",
    "    深さ1の決定木分類器のスクラッチ実装\n",
    "\n",
    "    Parameters\n",
    "    ----------\n",
    "    verbose : bool\n",
    "      学習過程を出力する場合はTrue\n",
    "    \"\"\"\n",
    "    def __init__(self, verbose=False):\n",
    "        # ハイパーパラメータを属性として記録\n",
    "        self.verbose = verbose\n",
    "    def fit(self, X, y):\n",
    "        \"\"\"\n",
    "        決定木分類器を学習する\n",
    "        Parameters\n",
    "        ----------\n",
    "        X : 次の形のndarray, shape (n_samples, n_features)\n",
    "            訓練データの特徴量\n",
    "        y : 次の形のndarray, shape (n_samples, )\n",
    "            訓練データの正解値\n",
    "        \"\"\"\n",
    "        if self.verbose:\n",
    "            #verboseをTrueにした際は学習過程を出力\n",
    "            print()\n",
    "        pass\n",
    "    def predict(self, X):\n",
    "        \"\"\"\n",
    "        決定木分類器を使いラベルを推定する\n",
    "        \"\"\"\n",
    "        pass\n",
    "        return"
   ]
  },
  {
   "cell_type": "markdown",
   "metadata": {},
   "source": [
    "### 分割の条件を学習で求める\n",
    "学習によって、ノードをどういった条件で分割すると、うまく分けられるかということを求めます。\n",
    "\n",
    "\n",
    "うまく分けられていることを判定するためにノードに対してジニ不純度と情報利得という値を計算します。"
   ]
  },
  {
   "cell_type": "markdown",
   "metadata": {},
   "source": [
    "## 【問題1】不純度を求める関数\n",
    "ノード の ジニ不純度 を計算する関数を作成してください。ノード tに対するジニ不純度I(t)は以下の数式で求まります。クラスが混じり合っているほどジニ不純度は高くなります。\n",
    "\n",
    "$$\n",
    "I(t) = 1-\\sum_{i=1}^{K}P^2(C_i|t) = 1-\\sum_{i=1}^{K}(\\frac{N_{t,i}}{N_{t,all}})^{2}\n",
    "$$\n",
    "\n",
    "t: ノードのインデックス\n",
    "\n",
    "\n",
    "i: クラスのインデックス\n",
    "\n",
    "\n",
    "K: クラスの数\n",
    "\n",
    "\n",
    "Ci: i番目のクラス\n",
    "\n",
    "\n",
    "P(Ci|t):　t番目のノードにおけるCiの割合\n",
    "\n",
    "\n",
    "Nt,i: t番目のノードのi番目のクラスに属するサンプル数\n",
    "\n",
    "\n",
    "Nt,all: t番目のノードのサンプルの総数\n",
    "\n",
    "\n",
    "まずは簡単な例を作り、手計算と関数の結果を比較してください。\n",
    "\n",
    "《例》\n",
    "\n",
    "\n",
    "- クラス1:サンプル数15, クラス2:サンプル数15 → ジニ不純度0.500\n",
    "- クラス1:サンプル数15, クラス2:サンプル数15, クラス3:サンプル数15 → ジニ不純度0.667\n",
    "- クラス1:サンプル数18, クラス2:サンプル数12 → ジニ不純度0.480\n",
    "- クラス1:サンプル数30, クラス2:サンプル数0 → ジニ不純度0.000"
   ]
  },
  {
   "cell_type": "code",
   "execution_count": 2,
   "metadata": {},
   "outputs": [],
   "source": [
    "import numpy as np"
   ]
  },
  {
   "cell_type": "code",
   "execution_count": 3,
   "metadata": {},
   "outputs": [],
   "source": [
    "def gini(samples):\n",
    "    gini = 1 - sum((s / sum(samples))**2 for s in samples)\n",
    "    return gini"
   ]
  },
  {
   "cell_type": "code",
   "execution_count": 4,
   "metadata": {},
   "outputs": [
    {
     "name": "stdout",
     "output_type": "stream",
     "text": [
      "0.5\n",
      "0.6666666666666667\n",
      "0.48\n",
      "0.0\n"
     ]
    }
   ],
   "source": [
    "print(gini(np.array([15, 15])))\n",
    "print(gini(np.array([15, 15, 15])))\n",
    "print(gini(np.array([18, 12])))\n",
    "print(gini(np.array([30, 0])))"
   ]
  },
  {
   "cell_type": "markdown",
   "metadata": {},
   "source": [
    "## 【問題2】情報利得を求める関数\n",
    "次に、ノード間の 情報利得 を計算する関数を作成してください。問題1で作成したジニ不純度 I(t)を計算する関数を呼び出して使います。情報利得IGは以下の数式で求まります。うまく分けられている時ほど情報利得は大きくなります。\n",
    "\n",
    "\n",
    "ここで分岐は2つのみであるため、分岐先を「左側のノード・右側のノード」と呼びます。\n",
    "\n",
    "$$\n",
    "IG(p) = I(p)-\\frac{N_{left,all}}{N_{p,all}}I(left)-\\frac{N_{right,all}}{N_{p,all}}I(right)\n",
    "$$\n",
    "\n",
    "p: 親ノードを示すインデックス\n",
    "\n",
    "\n",
    "left: 左側のノードを示すインデックス\n",
    "\n",
    "\n",
    "right: 右側のノードを示すインデックス\n",
    "\n",
    "\n",
    "まずは簡単な例を作り、手計算と関数の結果を比較してください。\n",
    "\n",
    "\n",
    "《例》\n",
    "\n",
    "\n",
    "左ノードクラス1:サンプル数10, 左ノードクラス2:サンプル数30, 右ノードクラス1:サンプル数20, 右ノードクラス2:サンプル数5 → 情報利得0.143"
   ]
  },
  {
   "cell_type": "code",
   "execution_count": 5,
   "metadata": {},
   "outputs": [],
   "source": [
    "def igg(samples_l, samples_r):\n",
    "    gini_p = gini(samples_l + samples_r)\n",
    "    gini_l = gini(samples_l)\n",
    "    gini_r = gini(samples_r)\n",
    "    l_ratio = sum(samples_l) / sum(samples_l + samples_r)\n",
    "    igg = gini_p - l_ratio*gini_l - (1 - l_ratio)*gini_r\n",
    "    return igg"
   ]
  },
  {
   "cell_type": "code",
   "execution_count": 6,
   "metadata": {},
   "outputs": [
    {
     "data": {
      "text/plain": [
       "0.1431952662721894"
      ]
     },
     "execution_count": 6,
     "metadata": {},
     "output_type": "execute_result"
    }
   ],
   "source": [
    "igg(np.array([10, 30]), np.array([20, 5]))"
   ]
  },
  {
   "cell_type": "markdown",
   "metadata": {},
   "source": [
    "## 【問題3】学習\n",
    "空間の分割を行い、決定木のグラフを生成するコードを作成してください。今は深さ1の決定木なので、分割を1回だけ行います。ここでグラフを生成するとは、1回の分割の際の条件としてどの特徴量がいくつ以上の時とするかを求めるということです。\n",
    "\n",
    "\n",
    "訓練データに対して全ての組み合わせの分割を行い、その中でノード間の情報利得が最大となる分割をそのノードの分割基準として記録します。\n",
    "\n",
    "\n",
    "クラスが混ざらない不純度が0のノード、または指定された深さのノードが 葉ノード となります。葉ノードにはクラスを記録しておき、これを推定時に分類するクラスとします。クラスが混ざらない場合はそのままのクラスを記録し、混ざっている場合は多数決により決めます。\n",
    "\n",
    "\n",
    "《組み合わせの取り方》\n",
    "\n",
    "\n",
    "全ての組み合わせの取り方は、最も単純には各特徴量の値自体をしきい値にして分割を行う方法があります。片側の端は今回のスクラッチはこの方法で行なってください。\n",
    "\n",
    "\n",
    "他には中間の値をしきい値にする方法もあり、scikit-learnではこの方法が用いられています。\n",
    "\n",
    "\n",
    "《補足》\n",
    "\n",
    "\n",
    "問題2の情報利得を計算する関数はこの問題3で利用する上では、親ノードの不純度 \n",
    "I\n",
    "(\n",
    "p\n",
    ")\n",
    " は固定されるため、左右のノードの不純度の合計を計算するだけでも同じ結果が得られることになります。しかし、ここでは親ノードを考慮した情報利得を計算する実装を行なってください。"
   ]
  },
  {
   "cell_type": "code",
   "execution_count": 7,
   "metadata": {},
   "outputs": [],
   "source": [
    "# y = np.array([1, 5, 4, 6, 3, 3, 1, 1, 1, 4])\n",
    "# y"
   ]
  },
  {
   "cell_type": "code",
   "execution_count": 8,
   "metadata": {},
   "outputs": [],
   "source": [
    "# u, num_parent = np.unique(y, return_counts=True)\n",
    "# u, num_parent"
   ]
  },
  {
   "cell_type": "code",
   "execution_count": 9,
   "metadata": {},
   "outputs": [],
   "source": [
    "def best_split(self, X, y):\n",
    "    #初期化\n",
    "    best_igg = 0\n",
    "\n",
    "    #クラスの種類,親ノードのクラス別サンプル数\n",
    "    u, num_parent = np.unique(y, return_counts=True)\n",
    "    #クラスの種類数\n",
    "    n_classes = len(u)\n",
    "\n",
    "    #各特徴量の値自体をしきい値にして分割していく(特徴量数の分割)\n",
    "    for idx in range(X.shape[1]):\n",
    "        #idx個目の特徴量をソートし、yを同じ順にソート\n",
    "        thresholds, classes = zip(*sorted(zip(X[:, idx], y))) \n",
    "        #左子ノードにクラス数だけ0を格納\n",
    "        num_left = np.zeros(n_classes)\n",
    "        #右子ノードに親ノードのクラス別サンプル数をコピー\n",
    "        num_right = num_parent.copy() \n",
    "        for i in range(X.shape[0]):\n",
    "            #ソートしたyのi番目を指定\n",
    "            c = classes[i] \n",
    "            #子ノードのクラス別サンプル数リストを更新(右から左へ移す)\n",
    "            num_left[c] += 1 \n",
    "            num_right[c] -= 1\n",
    "            #情報利得を計算\n",
    "            igg = self.igg(num_left, num_right)\n",
    "\n",
    "            if igg > best_igg:\n",
    "                best_igg = igg\n",
    "                best_idx = idx\n",
    "                best_thr = thresholds[i]\n",
    "\n",
    "    return best_idx, best_thr"
   ]
  },
  {
   "cell_type": "code",
   "execution_count": 10,
   "metadata": {},
   "outputs": [],
   "source": [
    "def best_split2(self, X, y):\n",
    "    best_igg = 0\n",
    "    for idx in range(X.shape[1]):\n",
    "        thresholds = X[:, idx]\n",
    "        for i in range(X.shape[0]):\n",
    "            indices_left = X[:, idx] < thresholds[i]\n",
    "\n",
    "            X_left, y_left = X[indices_left], y[indices_left]\n",
    "            X_right, y_right = X[~indices_left], y[~indices_left]\n",
    "            #クラスの種類、クラス別サンプル数\n",
    "            u, num_left = np.unique(y_left, return_counts=True)\n",
    "            u, num_right = np.unique(y_right, return_counts=True) \n",
    "            \n",
    "            igg = self.igg(num_left, num_right)\n",
    "\n",
    "            if igg > best_igg:\n",
    "                best_igg = igg\n",
    "                best_idx = idx\n",
    "                best_thr = thresholds[i]\n",
    "\n",
    "    return best_idx, best_thr"
   ]
  },
  {
   "cell_type": "code",
   "execution_count": 11,
   "metadata": {},
   "outputs": [],
   "source": [
    "def fit(self, X, y):\n",
    "    \"\"\"\n",
    "    決定木分類器を学習する\n",
    "    Parameters\n",
    "    ----------\n",
    "    X : 次の形のndarray, shape (n_samples, n_features)\n",
    "        訓練データの特徴量\n",
    "    y : 次の形のndarray, shape (n_samples, )\n",
    "        訓練データの正解値\n",
    "    \"\"\"\n",
    "    if self.verbose:\n",
    "        #verboseをTrueにした際は学習過程を出力\n",
    "        print()      \n",
    "\n",
    "    self.idx, self.thr = self.best_split(X, y)\n",
    "    #閾値より小さいかの判定を格納\n",
    "    indices_left = X[:, self.idx] < self.thr \n",
    "\n",
    "    X_left, y_left = X[indices_left], y[indices_left]\n",
    "    X_right, y_right = X[~indices_left], y[~indices_left]\n",
    "\n",
    "    ##クラスの種類、クラス別サンプル数\n",
    "    u_left, left_num_samples_per_class = np.unique(y_left, return_counts=True)\n",
    "    u_right, right_num_samples_per_class = np.unique(y_right, return_counts=True)    \n",
    "\n",
    "    #一番サンプル数が多いクラス\n",
    "    self.left_predicted_class = np.argmax(left_num_samples_per_class)\n",
    "    self.right_predicted_class = np.argmax(right_num_samples_per_class)\n",
    "\n",
    "    return self"
   ]
  },
  {
   "cell_type": "markdown",
   "metadata": {},
   "source": [
    "## 【問題4】推定\n",
    "推定する仕組みを実装してください。ScratchDecesionTreeClassifierDepth1クラスの雛形に含まれるpredictメソッドに書き加えてください。\n",
    "\n",
    "\n",
    "入力されたデータの値を学習した条件で判定していき、どの葉ノードに到達するかを見ます。葉ノードにはクラスが記録されているので、これが推定値となります。"
   ]
  },
  {
   "cell_type": "code",
   "execution_count": 12,
   "metadata": {},
   "outputs": [],
   "source": [
    "def predict(self, X):\n",
    "    \"\"\"\n",
    "    決定木分類器を使いラベルを推定する\n",
    "    \"\"\"\n",
    "    indices_left = X[:, self.idx] < self.thr \n",
    "\n",
    "    pred = np.where(indices_left, \n",
    "                    self.left_predicted_class, \n",
    "                    self.right_predicted_class)\n",
    "\n",
    "    return pred"
   ]
  },
  {
   "cell_type": "markdown",
   "metadata": {},
   "source": [
    "## 【問題5】学習と推定\n",
    "機械学習スクラッチ入門のSprintで用意したシンプルデータセット2の2値分類に対してスクラッチ実装の学習と推定を行なってください。\n",
    "\n",
    "\n",
    "scikit-learnによる実装と比べ、正しく動いているかを確認してください。\n",
    "\n",
    "\n",
    "AccuracyやPrecision、Recallなどの指標値はscikit-learnを使用してください。"
   ]
  },
  {
   "cell_type": "code",
   "execution_count": 13,
   "metadata": {},
   "outputs": [],
   "source": [
    "class ScratchDecesionTreeClassifierDepth1():\n",
    "    \"\"\"\n",
    "    深さ1の決定木分類器のスクラッチ実装\n",
    "\n",
    "    Parameters\n",
    "    ----------\n",
    "    verbose : bool\n",
    "      学習過程を出力する場合はTrue\n",
    "    \"\"\"\n",
    "    def __init__(self, verbose=False):\n",
    "        # ハイパーパラメータを属性として記録\n",
    "        self.verbose = verbose\n",
    "        \n",
    "    def fit(self, X, y):\n",
    "        \"\"\"\n",
    "        決定木分類器を学習する\n",
    "        Parameters\n",
    "        ----------\n",
    "        X : 次の形のndarray, shape (n_samples, n_features)\n",
    "            訓練データの特徴量\n",
    "        y : 次の形のndarray, shape (n_samples, )\n",
    "            訓練データの正解値\n",
    "        \"\"\"\n",
    "        if self.verbose:\n",
    "            #verboseをTrueにした際は学習過程を出力\n",
    "            print()      \n",
    "\n",
    "        self.idx, self.thr = self.best_split(X, y)\n",
    "        #閾値より小さいかの判定を格納\n",
    "        indices_left = X[:, self.idx] < self.thr \n",
    "\n",
    "        X_left, y_left = X[indices_left], y[indices_left]\n",
    "        X_right, y_right = X[~indices_left], y[~indices_left]\n",
    "\n",
    "        #クラスの種類、クラス別サンプル数\n",
    "        u_left, left_num_samples_per_class = np.unique(y_left, return_counts=True)\n",
    "        u_right, right_num_samples_per_class = np.unique(y_right, return_counts=True)    \n",
    "\n",
    "        #一番サンプル数が多いクラス\n",
    "        self.left_predicted_class = np.argmax(left_num_samples_per_class)\n",
    "        self.right_predicted_class = np.argmax(right_num_samples_per_class)\n",
    "\n",
    "        return self\n",
    "                    \n",
    "    def best_split(self, X, y):\n",
    "        #初期化\n",
    "        best_igg = 0\n",
    "        \n",
    "        #クラスの種類数 \n",
    "        u, num_parent = np.unique(y, return_counts=True)\n",
    "        #親ノードのクラス別サンプル数\n",
    "        n_classes = len(u)\n",
    "\n",
    "        #各特徴量の値自体をしきい値にして分割していく(特徴量数の分割)\n",
    "        for idx in range(X.shape[1]):\n",
    "            #idx個目の特徴量をソートし、yを同じ順にソート\n",
    "            thresholds, classes = zip(*sorted(zip(X[:, idx], y))) \n",
    "            #左子ノードにクラス数だけ0を格納\n",
    "            num_left = np.zeros(n_classes)\n",
    "            #右子ノードに親ノードのクラス別サンプル数をコピー\n",
    "            num_right = num_parent.copy() \n",
    "            for i in range(1, X.shape[0]):\n",
    "                #ソートしたyのi番目を指定\n",
    "                c = classes[i - 1] \n",
    "                #子ノードのクラス別サンプル数リストを更新(右から左へ移す)\n",
    "                num_left[c] += 1 \n",
    "                num_right[c] -= 1\n",
    "                #情報利得を計算\n",
    "                igg = self.igg(num_left, num_right)\n",
    "\n",
    "                if igg > best_igg:\n",
    "                    best_igg = igg\n",
    "                    best_idx = idx\n",
    "                    best_thr = thresholds[i]\n",
    "                    \n",
    "        return best_idx, best_thr\n",
    "    \n",
    "    def gini(self, samples):\n",
    "        gini = 1 - sum((s / sum(samples))**2 for s in samples)\n",
    "        return gini\n",
    "    \n",
    "    def igg(self, samples_l, samples_r):\n",
    "        gini_p = gini(samples_l + samples_r)\n",
    "        gini_l = gini(samples_l)\n",
    "        gini_r = gini(samples_r)\n",
    "        l_ratio = sum(samples_l)/sum(samples_l + samples_r)\n",
    "        igg = gini_p - l_ratio*gini_l - (1 - l_ratio)*gini_r\n",
    "        \n",
    "        return igg\n",
    "    \n",
    "    def predict(self, X):\n",
    "        \"\"\"\n",
    "        決定木分類器を使いラベルを推定する\n",
    "        \"\"\"\n",
    "        indices_left = X[:, self.idx] < self.thr \n",
    "        \n",
    "        pred = np.where(indices_left, \n",
    "                        self.left_predicted_class, \n",
    "                        self.right_predicted_class)\n",
    "\n",
    "        return pred"
   ]
  },
  {
   "cell_type": "markdown",
   "metadata": {},
   "source": [
    "シンプルデータセット2作成コード"
   ]
  },
  {
   "cell_type": "code",
   "execution_count": 14,
   "metadata": {},
   "outputs": [],
   "source": [
    "X2 = np.array([[-0.44699 , -2.8073  ],[-1.4621  , -2.4586  ],\n",
    "       [ 0.10645 ,  1.9242  ],[-3.5944  , -4.0112  ],\n",
    "       [-0.9888  ,  4.5718  ],[-3.1625  , -3.9606  ],\n",
    "       [ 0.56421 ,  0.72888 ],[-0.60216 ,  8.4636  ],\n",
    "       [-0.61251 , -0.75345 ],[-0.73535 , -2.2718  ],\n",
    "       [-0.80647 , -2.2135  ],[ 0.86291 ,  2.3946  ],\n",
    "       [-3.1108  ,  0.15394 ],[-2.9362  ,  2.5462  ],\n",
    "       [-0.57242 , -2.9915  ],[ 1.4771  ,  3.4896  ],\n",
    "       [ 0.58619 ,  0.37158 ],[ 0.6017  ,  4.3439  ],\n",
    "       [-2.1086  ,  8.3428  ],[-4.1013  , -4.353   ],\n",
    "       [-1.9948  , -1.3927  ],[ 0.35084 , -0.031994],\n",
    "       [ 0.96765 ,  7.8929  ],[-1.281   , 15.6824  ],\n",
    "       [ 0.96765 , 10.083   ],[ 1.3763  ,  1.3347  ],\n",
    "       [-2.234   , -2.5323  ],[-2.9452  , -1.8219  ],\n",
    "       [ 0.14654 , -0.28733 ],[ 0.5461  ,  5.8245  ],\n",
    "       [-0.65259 ,  9.3444  ],[ 0.59912 ,  5.3524  ],\n",
    "       [ 0.50214 , -0.31818 ],[-3.0603  , -3.6461  ],\n",
    "       [-6.6797  ,  0.67661 ],[-2.353   , -0.72261 ],\n",
    "       [ 1.1319  ,  2.4023  ],[-0.12243 ,  9.0162  ],\n",
    "       [-2.5677  , 13.1779  ],[ 0.057313,  5.4681  ]])\n",
    "y2 = np.array([0, 0, 0, 0, 0, 0, 0, 0, 0, 0, 0, 0, 0, 0, 0, 0, 0, 0, 0, 0, 1, 1,\n",
    "       1, 1, 1, 1, 1, 1, 1, 1, 1, 1, 1, 1, 1, 1, 1, 1, 1, 1])"
   ]
  },
  {
   "cell_type": "code",
   "execution_count": 15,
   "metadata": {},
   "outputs": [],
   "source": [
    "from sklearn.model_selection import train_test_split\n",
    "\n",
    "X_train, X_test, y_train, y_test = train_test_split(X2, y2, train_size=0.7)"
   ]
  },
  {
   "cell_type": "code",
   "execution_count": 16,
   "metadata": {},
   "outputs": [
    {
     "data": {
      "text/plain": [
       "<__main__.ScratchDecesionTreeClassifierDepth1 at 0x27979b13e08>"
      ]
     },
     "execution_count": 16,
     "metadata": {},
     "output_type": "execute_result"
    }
   ],
   "source": [
    "sdtc = ScratchDecesionTreeClassifierDepth1()\n",
    "sdtc.fit(X_train, y_train)"
   ]
  },
  {
   "cell_type": "code",
   "execution_count": 17,
   "metadata": {},
   "outputs": [
    {
     "data": {
      "text/plain": [
       "array([0, 0, 0, 0, 1, 0, 0, 0, 0, 1, 1, 0], dtype=int64)"
      ]
     },
     "execution_count": 17,
     "metadata": {},
     "output_type": "execute_result"
    }
   ],
   "source": [
    "y_pred = sdtc.predict(X_test)\n",
    "y_pred"
   ]
  },
  {
   "cell_type": "code",
   "execution_count": 18,
   "metadata": {},
   "outputs": [
    {
     "data": {
      "text/plain": [
       "array([0, 0, 0, 0, 1, 0, 0, 0, 0, 1, 1, 0])"
      ]
     },
     "execution_count": 18,
     "metadata": {},
     "output_type": "execute_result"
    }
   ],
   "source": [
    "#scikit-learnによる実装\n",
    "\n",
    "from sklearn.tree import DecisionTreeClassifier\n",
    "tree = DecisionTreeClassifier(max_depth=1)\n",
    "tree.fit(X_train, y_train)\n",
    "tree.predict(X_test)"
   ]
  },
  {
   "cell_type": "code",
   "execution_count": 19,
   "metadata": {},
   "outputs": [
    {
     "data": {
      "text/plain": [
       "array([1, 1, 1, 0, 1, 1, 1, 0, 0, 1, 1, 0])"
      ]
     },
     "execution_count": 19,
     "metadata": {},
     "output_type": "execute_result"
    }
   ],
   "source": [
    "y_test"
   ]
  },
  {
   "cell_type": "code",
   "execution_count": 20,
   "metadata": {},
   "outputs": [
    {
     "name": "stdout",
     "output_type": "stream",
     "text": [
      "Accuracy:  0.5833333333333334\n",
      "Precision:  1.0\n",
      "Recall:  0.375\n"
     ]
    }
   ],
   "source": [
    "#識別精度の評価\n",
    "from sklearn.metrics import accuracy_score\n",
    "from sklearn.metrics import precision_score\n",
    "from sklearn.metrics import recall_score\n",
    "\n",
    "print('Accuracy: ', accuracy_score(y_test, y_pred))\n",
    "print('Precision: ', precision_score(y_test, y_pred))\n",
    "print('Recall: ', recall_score(y_test, y_pred))"
   ]
  },
  {
   "cell_type": "markdown",
   "metadata": {},
   "source": [
    "## 【問題6】決定領域の可視化\n",
    "決定領域を可視化してください。"
   ]
  },
  {
   "cell_type": "code",
   "execution_count": 21,
   "metadata": {},
   "outputs": [],
   "source": [
    "import matplotlib.pyplot as plt\n",
    "from matplotlib.colors import ListedColormap\n",
    "import matplotlib.patches as mpatches\n",
    "def decision_region(X, y, model, step=0.01, title='decision region', xlabel='xlabel', ylabel='ylabel', target_names=['0', '1']):\n",
    "    \"\"\"\n",
    "    2値分類を2次元の特徴量で学習したモデルの決定領域を描く。\n",
    "    背景の色が学習したモデルによる推定値から描画される。\n",
    "    散布図の点は訓練データまたは検証データである。\n",
    "\n",
    "    Parameters\n",
    "    ----------------\n",
    "    X : ndarray, shape(n_samples, 2)\n",
    "        特徴量\n",
    "    y : ndarray, shape(n_samples,)\n",
    "        ラベル\n",
    "    model : object\n",
    "        学習したモデルのインスンタスを入れる\n",
    "    step : float, (default : 0.1)\n",
    "        推定値を計算する間隔を設定する\n",
    "    title : str\n",
    "        グラフのタイトルの文章を与える\n",
    "    xlabel, ylabel : str\n",
    "        軸ラベルの文章を与える\n",
    "    target_names= : list of str\n",
    "        凡例の一覧を与える\n",
    "    \"\"\"\n",
    "    # setting\n",
    "    scatter_color = ['red', 'blue']\n",
    "    contourf_color = ['pink', 'skyblue']\n",
    "    n_class = 2\n",
    "    # pred\n",
    "    mesh_f0, mesh_f1  = np.meshgrid(np.arange(np.min(X[:,0])-0.5, np.max(X[:,0])+0.5, step), np.arange(np.min(X[:,1])-0.5, np.max(X[:,1])+0.5, step))\n",
    "    mesh = np.c_[np.ravel(mesh_f0),np.ravel(mesh_f1)]\n",
    "    y_pred = model.predict(mesh).reshape(mesh_f0.shape)\n",
    "    # plot\n",
    "    plt.title(title)\n",
    "    plt.xlabel(xlabel)\n",
    "    plt.ylabel(ylabel)\n",
    "    plt.contourf(mesh_f0, mesh_f1, y_pred, n_class-1, cmap=ListedColormap(contourf_color))\n",
    "    plt.contour(mesh_f0, mesh_f1, y_pred, n_class-1, colors='y', linewidths=3, alpha=0.5)\n",
    "    for i, target in enumerate(set(y)):\n",
    "        plt.scatter(X[y==target][:, 0], X[y==target][:, 1], s=80, color=scatter_color[i], label=target_names[i], marker='o')\n",
    "    patches = [mpatches.Patch(color=scatter_color[i], label=target_names[i]) for i in range(n_class)]\n",
    "    plt.legend(handles=patches)\n",
    "    plt.legend()\n",
    "    plt.show()"
   ]
  },
  {
   "cell_type": "code",
   "execution_count": 22,
   "metadata": {
    "scrolled": true
   },
   "outputs": [
    {
     "data": {
      "image/png": "[encoded data removed]",
      "text/plain": [
       "<Figure size 432x288 with 1 Axes>"
      ]
     },
     "metadata": {
      "needs_background": "light"
     },
     "output_type": "display_data"
    }
   ],
   "source": [
    "decision_region(X=X_train, y=y_train, model=sdtc, title='decision region by  ScratchDecesionTreeClassifierDepth1', xlabel='f0', ylabel='f1')"
   ]
  },
  {
   "cell_type": "markdown",
   "metadata": {},
   "source": [
    "# より深い決定木\n",
    "\n",
    "## 【問題7】（アドバンス課題）深さ2の決定木分類器クラスの作成\n",
    "深さが2の決定木分類器のクラスScratchDecesionTreeClassifierDepth2を作成してください。\n",
    "\n",
    "\n",
    "深さ2とは空間の分割を2回行うことを指します。\n",
    "\n",
    "\n",
    "《ヒント》\n",
    "\n",
    "各ノードをインスタンスとして扱うと、任意の深さへの拡張が行いやすくなります。"
   ]
  },
  {
   "cell_type": "markdown",
   "metadata": {},
   "source": [
    "### ノードクラスを用いた深さ1の決定木"
   ]
  },
  {
   "cell_type": "code",
   "execution_count": 23,
   "metadata": {},
   "outputs": [],
   "source": [
    "class Node():\n",
    "    def __init__(self, num_samples_per_class, predicted_class):\n",
    "        self.num_samples_per_class = num_samples_per_class\n",
    "        self.predicted_class = predicted_class\n",
    "        self.feature_index = 0\n",
    "        self.threshold = 0\n",
    "        self.left = None\n",
    "        self.right = None"
   ]
  },
  {
   "cell_type": "code",
   "execution_count": 24,
   "metadata": {},
   "outputs": [],
   "source": [
    "class ScratchDecesionTreeClassifierDepth1_node():\n",
    "    \"\"\"\n",
    "    深さ1の決定木分類器のスクラッチ実装\n",
    "\n",
    "    Parameters\n",
    "    ----------\n",
    "    verbose : bool\n",
    "      学習過程を出力する場合はTrue\n",
    "    \"\"\"\n",
    "    def __init__(self, verbose=False):\n",
    "        # ハイパーパラメータを属性として記録\n",
    "        self.verbose = verbose\n",
    "                        \n",
    "    def best_split(self, X, y):\n",
    "        #初期化\n",
    "        best_igg = 0\n",
    "        \n",
    "        u, num_parent = np.unique(y, return_counts=True)\n",
    "      \n",
    "        #各特徴量の値自体をしきい値にして分割していく(特徴量数の分割)\n",
    "        for idx in range(X.shape[1]):\n",
    "            #idx個目の特徴量をソートし、yを同じ順にソート\n",
    "            thresholds, classes = zip(*sorted(zip(X[:, idx], y))) \n",
    "            #左子ノードにクラス数だけ0を格納\n",
    "            num_left = np.zeros(self.n_classes)\n",
    "            #右子ノードに親ノードのクラス別サンプル数をコピー\n",
    "            num_right = num_parent.copy() \n",
    "            for i in range(1, X.shape[0]):\n",
    "                #ソートしたyのi番目を指定\n",
    "                c = classes[i - 1] \n",
    "                #子ノードのクラス別サンプル数リストを更新(右から左へ移す)\n",
    "                num_left[c] += 1 \n",
    "                num_right[c] -= 1\n",
    "                #情報利得を計算\n",
    "                igg = self.igg(num_left, num_right)\n",
    "\n",
    "                if igg > best_igg:\n",
    "                    best_igg = igg\n",
    "                    best_idx = idx\n",
    "                    best_thr = thresholds[i]\n",
    "\n",
    "        return best_idx, best_thr\n",
    "    \n",
    "    def make_node(self, X, y):\n",
    "        #クラス別のサンプル数\n",
    "        u1, num_samples_per_class = np.unique(y, return_counts=True)\n",
    "        #一番サンプル数が多いクラス\n",
    "        predicted_class = np.argmax(num_samples_per_class) \n",
    "\n",
    "        #ノードの生成\n",
    "        node = Node(num_samples_per_class=num_samples_per_class,\n",
    "                    predicted_class=predicted_class)\n",
    "\n",
    "        return node\n",
    "    \n",
    "    def grow_tree(self, X, y, node):\n",
    "        \n",
    "        idx, thr = self.best_split(X, y)\n",
    "        #閾値より小さいかの判定を格納\n",
    "        indices_left = X[:, idx] < thr \n",
    "        X_left, y_left = X[indices_left], y[indices_left]\n",
    "        X_right, y_right = X[~indices_left], y[~indices_left]\n",
    "\n",
    "        node.feature_index = idx\n",
    "        node.threshold = thr\n",
    "        \n",
    "        node.left = self.make_node(X_left, y_left)\n",
    "        node.right = self.make_node(X_right, y_right)\n",
    "\n",
    "        return node\n",
    "    \n",
    "    def fit(self, X, y):\n",
    "#         #クラスの種類、クラス別サンプル数\n",
    "#         u, num_parent = np.unique(y, return_counts=True)\n",
    "#         #クラスの種類数\n",
    "#         self.n_classes = len(u)\n",
    "        \n",
    "        node = self.make_node(X, y)\n",
    "          \n",
    "        node = self.grow_tree(X, y, node)       \n",
    "\n",
    "        self.tree = node\n",
    "    \n",
    "    def gini(self, samples):\n",
    "        gini = 1 - sum((s / sum(samples))**2 for s in samples)\n",
    "        return gini\n",
    "    \n",
    "    def igg(self, samples_l, samples_r):\n",
    "        \n",
    "        gini_p = gini(samples_l + samples_r)\n",
    "        gini_l = gini(samples_l)\n",
    "        gini_r = gini(samples_r)\n",
    "        l_ratio = sum(samples_l)/sum(samples_l + samples_r)\n",
    "        igg = gini_p - l_ratio*gini_l - (1 - l_ratio)*gini_r\n",
    "        return igg\n",
    "    \n",
    "    def predict(self, X):\n",
    "        return np.array([self._predict(inputs) for inputs in X])\n",
    "\n",
    "    def _predict(self, inputs):\n",
    "        node = self.tree\n",
    "        while node.left:\n",
    "            if inputs[node.feature_index] < node.threshold:\n",
    "                node = node.left\n",
    "            else:\n",
    "                node = node.right\n",
    "        return node.predicted_class\n"
   ]
  },
  {
   "cell_type": "code",
   "execution_count": 25,
   "metadata": {},
   "outputs": [],
   "source": [
    "sdtc1_node = ScratchDecesionTreeClassifierDepth1_node()\n",
    "sdtc1_node.fit(X_train, y_train)"
   ]
  },
  {
   "cell_type": "code",
   "execution_count": 26,
   "metadata": {},
   "outputs": [
    {
     "data": {
      "text/plain": [
       "array([0, 0, 0, 0, 1, 0, 0, 0, 0, 1, 1, 0], dtype=int64)"
      ]
     },
     "execution_count": 26,
     "metadata": {},
     "output_type": "execute_result"
    }
   ],
   "source": [
    "y_pred1_node = sdtc1_node.predict(X_test)\n",
    "y_pred1_node"
   ]
  },
  {
   "cell_type": "code",
   "execution_count": 27,
   "metadata": {},
   "outputs": [
    {
     "data": {
      "text/plain": [
       "array([0, 0, 0, 0, 1, 0, 0, 0, 0, 1, 1, 0])"
      ]
     },
     "execution_count": 27,
     "metadata": {},
     "output_type": "execute_result"
    }
   ],
   "source": [
    "#scikit-learnによる実装\n",
    "\n",
    "from sklearn.tree import DecisionTreeClassifier\n",
    "tree2 = DecisionTreeClassifier(max_depth=1)\n",
    "tree2.fit(X_train, y_train)\n",
    "tree2.predict(X_test)"
   ]
  },
  {
   "cell_type": "code",
   "execution_count": 28,
   "metadata": {},
   "outputs": [
    {
     "name": "stdout",
     "output_type": "stream",
     "text": [
      "Accuracy:  0.5833333333333334\n",
      "Precision:  1.0\n",
      "Recall:  0.375\n"
     ]
    }
   ],
   "source": [
    "#識別精度の評価\n",
    "print('Accuracy: ', accuracy_score(y_test, y_pred1_node))\n",
    "print('Precision: ', precision_score(y_test, y_pred1_node))\n",
    "print('Recall: ', recall_score(y_test, y_pred1_node))"
   ]
  },
  {
   "cell_type": "code",
   "execution_count": 29,
   "metadata": {},
   "outputs": [
    {
     "data": {
      "image/png": "[encoded data removed]",
      "text/plain": [
       "<Figure size 432x288 with 1 Axes>"
      ]
     },
     "metadata": {
      "needs_background": "light"
     },
     "output_type": "display_data"
    }
   ],
   "source": [
    "decision_region(X=X_train, y=y_train, model=sdtc1_node, title='decision region by  ScratchDecesionTreeClassifierDepth1_node', xlabel='f0', ylabel='f1')"
   ]
  },
  {
   "cell_type": "markdown",
   "metadata": {},
   "source": [
    "### ノードクラスを用いた深さ2の決定木"
   ]
  },
  {
   "cell_type": "code",
   "execution_count": 30,
   "metadata": {},
   "outputs": [],
   "source": [
    "class ScratchDecesionTreeClassifierDepth2():\n",
    "    \"\"\"\n",
    "    深さ1の決定木分類器のスクラッチ実装\n",
    "\n",
    "    Parameters\n",
    "    ----------\n",
    "    verbose : bool\n",
    "      学習過程を出力する場合はTrue\n",
    "    \"\"\"\n",
    "    def __init__(self, verbose=False, max_depth=2):\n",
    "        # ハイパーパラメータを属性として記録\n",
    "        self.verbose = verbose\n",
    "        self.max_depth = max_depth\n",
    "                        \n",
    "    def best_split(self, X, y):\n",
    "        #初期化\n",
    "        best_igg = 0\n",
    "        \n",
    "        u, num_parent = np.unique(y, return_counts=True)\n",
    "      \n",
    "        #各特徴量の値自体をしきい値にして分割していく(特徴量数の分割)\n",
    "        for idx in range(X.shape[1]):\n",
    "            #idx個目の特徴量をソートし、yを同じ順にソート\n",
    "            thresholds, classes = zip(*sorted(zip(X[:, idx], y))) \n",
    "            #左子ノードにクラス数だけ0を格納\n",
    "            num_left = np.zeros(self.n_classes)\n",
    "            #右子ノードに親ノードのクラス別サンプル数をコピー\n",
    "            num_right = num_parent.copy() \n",
    "            for i in range(1, X.shape[0]):\n",
    "                #ソートしたyのi番目を指定\n",
    "                c = classes[i - 1] \n",
    "                #子ノードのクラス別サンプル数リストを更新(右から左へ移す)\n",
    "                num_left[c] += 1 \n",
    "                num_right[c] -= 1\n",
    "                #情報利得を計算\n",
    "                igg = self.igg(num_left, num_right)\n",
    "\n",
    "                if igg > best_igg:\n",
    "                    best_igg = igg\n",
    "                    best_idx = idx\n",
    "                    best_thr = thresholds[i]\n",
    "\n",
    "        return best_idx, best_thr\n",
    "    \n",
    "    def grow_tree(self, X, y, depth=0):\n",
    "\n",
    "        #クラス別のサンプル数\n",
    "        u1, num_samples_per_class = np.unique(y, return_counts=True)\n",
    "        #一番サンプル数が多いクラス\n",
    "        predicted_class = np.argmax(num_samples_per_class) \n",
    "\n",
    "        #ノードの生成\n",
    "        node = Node(num_samples_per_class=num_samples_per_class,\n",
    "                    predicted_class=predicted_class)\n",
    "    \n",
    "        if depth < self.max_depth:\n",
    "            idx, thr = self.best_split(X, y)\n",
    "            \n",
    "            indices_left = X[:, idx] < thr #閾値より小さいかの判定を格納\n",
    "            X_left, y_left = X[indices_left], y[indices_left]\n",
    "            X_right, y_right = X[~indices_left], y[~indices_left]\n",
    "            \n",
    "            node.feature_index = idx\n",
    "            node.threshold = thr\n",
    "            \n",
    "            node.left = self.grow_tree(X_left, y_left, depth + 1)\n",
    "            node.right = self.grow_tree(X_right, y_right, depth + 1)\n",
    "        return node\n",
    "    \n",
    "    def fit(self, X, y):\n",
    "        #クラスの種類、クラス別サンプル数\n",
    "        u, num_parent = np.unique(y, return_counts=True)\n",
    "        #クラスの種類数\n",
    "        self.n_classes = len(u)   \n",
    "\n",
    "        self.tree = self.grow_tree(X, y)\n",
    "    \n",
    "    def gini(self, samples):\n",
    "        gini = 1 - sum((s / sum(samples))**2 for s in samples)\n",
    "        return gini\n",
    "    \n",
    "    def igg(self, samples_l, samples_r):\n",
    "        \n",
    "        gini_p = gini(samples_l + samples_r)\n",
    "        gini_l = gini(samples_l)\n",
    "        gini_r = gini(samples_r)\n",
    "        l_ratio = sum(samples_l)/sum(samples_l + samples_r)\n",
    "        igg = gini_p - l_ratio*gini_l - (1 - l_ratio)*gini_r\n",
    "        return igg\n",
    "    \n",
    "    def predict(self, X):\n",
    "        return np.array([self._predict(inputs) for inputs in X])\n",
    "\n",
    "    def _predict(self, inputs):\n",
    "        \"\"\"Predict class for a single sample.\"\"\"\n",
    "        node = self.tree\n",
    "        while node.left:\n",
    "            if inputs[node.feature_index] < node.threshold:\n",
    "                node = node.left\n",
    "            else:\n",
    "                node = node.right\n",
    "        return node.predicted_class"
   ]
  },
  {
   "cell_type": "code",
   "execution_count": 31,
   "metadata": {},
   "outputs": [],
   "source": [
    "sdtc2 = ScratchDecesionTreeClassifierDepth2(max_depth=1)\n",
    "sdtc2.fit(X_train, y_train)"
   ]
  },
  {
   "cell_type": "code",
   "execution_count": 32,
   "metadata": {},
   "outputs": [
    {
     "data": {
      "text/plain": [
       "array([0, 0, 0, 0, 1, 0, 0, 0, 0, 1, 1, 0], dtype=int64)"
      ]
     },
     "execution_count": 32,
     "metadata": {},
     "output_type": "execute_result"
    }
   ],
   "source": [
    "y_pred2 = sdtc2.predict(X_test)\n",
    "y_pred2"
   ]
  },
  {
   "cell_type": "code",
   "execution_count": 33,
   "metadata": {},
   "outputs": [
    {
     "data": {
      "text/plain": [
       "array([0, 0, 0, 0, 1, 0, 0, 0, 0, 1, 1, 0])"
      ]
     },
     "execution_count": 33,
     "metadata": {},
     "output_type": "execute_result"
    }
   ],
   "source": [
    "#scikit-learnによる実装\n",
    "\n",
    "from sklearn.tree import DecisionTreeClassifier\n",
    "tree2 = DecisionTreeClassifier(max_depth=1)\n",
    "tree2.fit(X_train, y_train)\n",
    "tree2.predict(X_test)"
   ]
  },
  {
   "cell_type": "code",
   "execution_count": 34,
   "metadata": {},
   "outputs": [
    {
     "name": "stdout",
     "output_type": "stream",
     "text": [
      "Accuracy:  0.5833333333333334\n",
      "Precision:  1.0\n",
      "Recall:  0.375\n"
     ]
    }
   ],
   "source": [
    "#識別精度の評価\n",
    "print('Accuracy: ', accuracy_score(y_test, y_pred2))\n",
    "print('Precision: ', precision_score(y_test, y_pred2))\n",
    "print('Recall: ', recall_score(y_test, y_pred2))"
   ]
  },
  {
   "cell_type": "code",
   "execution_count": 35,
   "metadata": {},
   "outputs": [],
   "source": [
    "sdtc3 = ScratchDecesionTreeClassifierDepth2(max_depth=2)\n",
    "sdtc3.fit(X_train, y_train)"
   ]
  },
  {
   "cell_type": "code",
   "execution_count": 36,
   "metadata": {},
   "outputs": [
    {
     "data": {
      "text/plain": [
       "array([0, 0, 0, 0, 0, 0, 0, 0, 0, 1, 1, 0], dtype=int64)"
      ]
     },
     "execution_count": 36,
     "metadata": {},
     "output_type": "execute_result"
    }
   ],
   "source": [
    "y_pred3 = sdtc3.predict(X_test)\n",
    "y_pred3"
   ]
  },
  {
   "cell_type": "code",
   "execution_count": 37,
   "metadata": {},
   "outputs": [
    {
     "data": {
      "text/plain": [
       "array([0, 0, 0, 0, 0, 0, 0, 0, 0, 1, 1, 0])"
      ]
     },
     "execution_count": 37,
     "metadata": {},
     "output_type": "execute_result"
    }
   ],
   "source": [
    "#scikit-learnによる実装\n",
    "\n",
    "from sklearn.tree import DecisionTreeClassifier\n",
    "tree3 = DecisionTreeClassifier(max_depth=2)\n",
    "tree3.fit(X_train, y_train)\n",
    "tree3.predict(X_test)"
   ]
  },
  {
   "cell_type": "code",
   "execution_count": 38,
   "metadata": {},
   "outputs": [
    {
     "name": "stdout",
     "output_type": "stream",
     "text": [
      "Accuracy:  0.5\n",
      "Precision:  1.0\n",
      "Recall:  0.25\n"
     ]
    }
   ],
   "source": [
    "#識別精度の評価\n",
    "print('Accuracy: ', accuracy_score(y_test, y_pred3))\n",
    "print('Precision: ', precision_score(y_test, y_pred3))\n",
    "print('Recall: ', recall_score(y_test, y_pred3))"
   ]
  },
  {
   "cell_type": "code",
   "execution_count": 39,
   "metadata": {},
   "outputs": [
    {
     "data": {
      "image/png": "[encoded data removed]",
      "text/plain": [
       "<Figure size 432x288 with 1 Axes>"
      ]
     },
     "metadata": {
      "needs_background": "light"
     },
     "output_type": "display_data"
    }
   ],
   "source": [
    "decision_region(X=X_train, y=y_train, model=sdtc3, title='decision region by  ScratchDecesionTreeClassifierDepth1_node', xlabel='f0', ylabel='f1')"
   ]
  },
  {
   "cell_type": "code",
   "execution_count": 40,
   "metadata": {},
   "outputs": [
    {
     "data": {
      "image/png": "[encoded data removed]",
      "text/plain": [
       "<Figure size 432x288 with 1 Axes>"
      ]
     },
     "metadata": {
      "needs_background": "light"
     },
     "output_type": "display_data"
    }
   ],
   "source": [
    "decision_region(X=X_train, y=y_train, model=tree3, title='decision region by  ScratchDecesionTreeClassifierDepth1_node', xlabel='f0', ylabel='f1')"
   ]
  },
  {
   "cell_type": "code",
   "execution_count": 41,
   "metadata": {},
   "outputs": [],
   "source": [
    "#irisデータ読み込み\n",
    "\n",
    "from sklearn import datasets\n",
    "iris = datasets.load_iris()\n",
    "X = iris.data\n",
    "y =iris.target"
   ]
  },
  {
   "cell_type": "code",
   "execution_count": 42,
   "metadata": {},
   "outputs": [],
   "source": [
    "y =iris.target.reshape(len(y), 1)\n",
    "data = np.concatenate([X, y], axis=1)\n",
    "data = data[data[:, 4]!=0]\n",
    "X_org = data[:, 0:2]\n",
    "y_org = data[:, 4]\n",
    "y_org = np.where(y_org==1, 0, 1)"
   ]
  },
  {
   "cell_type": "code",
   "execution_count": 43,
   "metadata": {},
   "outputs": [],
   "source": [
    "from sklearn.model_selection import train_test_split\n",
    "\n",
    "X1_train, X1_test, y1_train, y1_test = train_test_split(X_org, y_org, train_size=0.7)"
   ]
  },
  {
   "cell_type": "code",
   "execution_count": 44,
   "metadata": {},
   "outputs": [],
   "source": [
    "sdtc_ir = ScratchDecesionTreeClassifierDepth2()\n",
    "sdtc_ir.fit(X1_train, y1_train)"
   ]
  },
  {
   "cell_type": "markdown",
   "metadata": {},
   "source": [
    "## 【問題8】（アドバンス課題）深さに制限のない決定木分類器クラスの作成\n",
    "深さに制限のない決定木分類器のクラスScratchDecesionTreeClassifierDepthInfを作成してください。\n",
    "\n",
    "\n",
    "任意の深さを指定できるようにするとともに、指定しない場合は全ての葉ノードがジニ不純度0となるまで続けられるようにもしてください。"
   ]
  },
  {
   "cell_type": "code",
   "execution_count": null,
   "metadata": {},
   "outputs": [],
   "source": []
  }
 ],
 "metadata": {
  "kernelspec": {
   "display_name": "Python 3",
   "language": "python",
   "name": "python3"
  },
  "language_info": {
   "codemirror_mode": {
    "name": "ipython",
    "version": 3
   },
   "file_extension": ".py",
   "mimetype": "text/x-python",
   "name": "python",
   "nbconvert_exporter": "python",
   "pygments_lexer": "ipython3",
   "version": "3.7.6"
  }
 },
 "nbformat": 4,
 "nbformat_minor": 4
}
