{
 "cells": [
  {
   "cell_type": "markdown",
   "metadata": {},
   "source": [
    "# [Don't Overfit! II](https://www.kaggle.com/c/dont-overfit-ii)\n",
    "A Fistful of Samples"
   ]
  },
  {
   "cell_type": "markdown",
   "metadata": {},
   "source": [
    "#### はるか昔、遠くの香りのよい霧の中、競争があった…\n",
    "それは単なる競争ではありませんでした。\n",
    "\n",
    "それはたった250個のトレーニングサンプルを使用して、過学習させないように連続変数の20,000x200行列をモデル化する競争でした。\n",
    "\n",
    "KaggleのWill Cukierskiを含むデータサイエンティストは、何百人もの人々と競争しました。そこで伝説が作られました。 （Willは5位になり、最終的にKaggleで働くことになりました！）人々は狂ったように過学習しました。それはKaggle-y、data science-yのマッドハウスでした。\n",
    "\n",
    "それで…もう一度開催することにしました。\n",
    "\n",
    "#### 過学習しないでくださいII：過学習\n",
    "これは奇妙な競争の進化における次の論理的なステップです。ここでも、20,000行の連続変数と、ほんの一握りのトレーニングサンプルがあります。もう一度、私たちはあなたに過学習しないように挑戦します。過学習なしに最善を尽くしてモデルを作成すると、伝説となることでしょう。\n",
    "\n",
    "自慢する権利に加えて、勝者は戦利品も取得します。楽しんで！\n",
    "\n",
    "#### 謝辞\n",
    "Phil Brierlyがオリジナルのコンペをハードワークして作成してくれたことに敬意を表します。ありがとうございました！"
   ]
  },
  {
   "cell_type": "markdown",
   "metadata": {},
   "source": [
    "## 賞金\n",
    "コンテストの終了時に、プライベートLBスコアによって決定されたトップの参加者はKaggleグッズ（Tシャツ、コーヒーマグなど）を受け取ります。\n",
    "\n",
    "ハッピーモデリングとKaggleコミュニティの素晴らしいメンバーであることに感謝します！"
   ]
  },
  {
   "cell_type": "markdown",
   "metadata": {},
   "source": [
    "## データについて\n",
    "- 何を予測するの？\n",
    "\n",
    "各行に関連付けられたバイナリ(0,1で表される)ターゲットを予測します。提供されている最小限のトレーニング例のセットを過学習しないようにしてください。\n",
    "\n",
    "\n",
    "- ファイル\n",
    "\n",
    "train.csv-トレーニングセット。 250行×302列(特徴量300 + IDとTARGET)\n",
    "\n",
    "test.csv-テストセット。 19,750行×301列(特徴量300 + ID)\n",
    "\n",
    "sample_submission.csv-正しい形式のサンプル提出ファイル\n",
    "\n",
    "\n",
    "- カラム\n",
    "\n",
    "id-サンプルID\n",
    "\n",
    "target-素性が分からないバイナリターゲット。\n",
    "\n",
    "0-299-連続変数。"
   ]
  },
  {
   "cell_type": "markdown",
   "metadata": {},
   "source": [
    "## 評価について\n",
    "提出物は、予測された目標と実際の目標値の間でAUCROCを使用して評価されます。\n",
    "\n",
    "提出ファイル\n",
    "テストセットの各IDについて、ターゲット変数の確率を予測する必要があります。 ファイルにはヘッダーが含まれ、次の形式である必要があります。\n",
    "\n",
    "id,target\n",
    " \n",
    " 300,0  \n",
    " 301,0  \n",
    " 302,0  \n",
    " 303,0  \n",
    " 304,0  \n",
    " 305,0  \n",
    " 306,0  \n",
    " 307,0  \n",
    " 308,0  "
   ]
  },
  {
   "cell_type": "markdown",
   "metadata": {},
   "source": [
    "# [How to not overfit?](https://www.kaggle.com/artgor/how-to-not-overfit)"
   ]
  },
  {
   "cell_type": "markdown",
   "metadata": {},
   "source": [
    "## Notebookの概要\n",
    "Don't Overfit! IIコンペには、バイナリ分類タスクがあります。 データは300列、250行のトレーニングサンプル、そしてその79倍の行数を持つテストデータです！ 過剰適合なしにモデルを構築できる必要があります。\n",
    "\n",
    "このカーネルでは、次のように記述します。\n",
    "\n",
    "- EDAといくつかの洞察を得ようとしています。\n",
    "- [Permutation Importance](https://qiita.com/kenmatsu4/items/c49059f78c2b6fed0929)を使用して、最も影響力のある特徴量を選択します。\n",
    "- さまざまなモデルの比較：ベイヤー分類、線形モデル、ツリーベースのモデル。\n",
    "- eli5とshapからトップ機能を取得するなど、特徴量選択にさまざまなアプローチを試す。\n",
    "- モデルのハイパーパラメータ最適化。\n",
    "- 特徴の生成;\n",
    "- その他;"
   ]
  },
  {
   "cell_type": "code",
   "execution_count": 1,
   "metadata": {},
   "outputs": [
    {
     "data": {
      "text/html": [
       "<img src=\"https://cdn-images-1.medium.com/max/1600/1*vuZxFMi5fODz2OEcpG-S1g.png\"/>"
      ],
      "text/plain": [
       "<IPython.core.display.Image object>"
      ]
     },
     "execution_count": 1,
     "metadata": {},
     "output_type": "execute_result"
    }
   ],
   "source": [
    "from IPython.display import Image\n",
    "from IPython.core.display import HTML \n",
    "Image(url= \"https://cdn-images-1.medium.com/max/1600/1*vuZxFMi5fODz2OEcpG-S1g.png\")"
   ]
  },
  {
   "cell_type": "markdown",
   "metadata": {},
   "source": [
    "データに対してモデルが複雑すぎるとバリアンスが高くなる。（過学習）"
   ]
  },
  {
   "cell_type": "code",
   "execution_count": 1,
   "metadata": {},
   "outputs": [
    {
     "data": {
      "text/html": [
       "        <script type=\"text/javascript\">\n",
       "        window.PlotlyConfig = {MathJaxConfig: 'local'};\n",
       "        if (window.MathJax) {MathJax.Hub.Config({SVG: {font: \"STIX-Web\"}});}\n",
       "        if (typeof require !== 'undefined') {\n",
       "        require.undef(\"plotly\");\n",
       "        requirejs.config({\n",
       "            paths: {\n",
       "                'plotly': ['https://cdn.plot.ly/plotly-latest.min']\n",
       "            }\n",
       "        });\n",
       "        require(['plotly'], function(Plotly) {\n",
       "            window._Plotly = Plotly;\n",
       "        });\n",
       "        }\n",
       "        </script>\n",
       "        "
      ]
     },
     "metadata": {},
     "output_type": "display_data"
    },
    {
     "name": "stderr",
     "output_type": "stream",
     "text": [
      "C:\\Users\\Kei\\anaconda3\\envs\\py_env\\lib\\site-packages\\sklearn\\utils\\deprecation.py:144: FutureWarning:\n",
      "\n",
      "The sklearn.metrics.scorer module is  deprecated in version 0.22 and will be removed in version 0.24. The corresponding classes / functions should instead be imported from sklearn.metrics. Anything that cannot be imported from sklearn.metrics is now part of the private API.\n",
      "\n",
      "C:\\Users\\Kei\\anaconda3\\envs\\py_env\\lib\\site-packages\\sklearn\\utils\\deprecation.py:144: FutureWarning:\n",
      "\n",
      "The sklearn.feature_selection.base module is  deprecated in version 0.22 and will be removed in version 0.24. The corresponding classes / functions should instead be imported from sklearn.feature_selection. Anything that cannot be imported from sklearn.feature_selection is now part of the private API.\n",
      "\n"
     ]
    }
   ],
   "source": [
    "# Libraries\n",
    "import numpy as np\n",
    "import pandas as pd\n",
    "pd.set_option('max_columns', None)\n",
    "import matplotlib.pyplot as plt\n",
    "import seaborn as sns\n",
    "%matplotlib inline\n",
    "\n",
    "import datetime\n",
    "import lightgbm as lgb\n",
    "from scipy import stats\n",
    "from sklearn.model_selection import train_test_split, StratifiedKFold, KFold, cross_val_score, GridSearchCV, RepeatedStratifiedKFold\n",
    "from sklearn.preprocessing import StandardScaler\n",
    "import os\n",
    "import plotly.offline as py\n",
    "py.init_notebook_mode(connected=True)\n",
    "import plotly.graph_objs as go\n",
    "import plotly.tools as tls\n",
    "import xgboost as xgb\n",
    "import lightgbm as lgb\n",
    "from sklearn import model_selection\n",
    "from sklearn.metrics import accuracy_score, roc_auc_score\n",
    "import json\n",
    "import ast\n",
    "import time\n",
    "from sklearn import linear_model\n",
    "import eli5\n",
    "from eli5.sklearn import PermutationImportance\n",
    "import shap\n",
    "\n",
    "from mlxtend.feature_selection import SequentialFeatureSelector as SFS\n",
    "from mlxtend.plotting import plot_sequential_feature_selection as plot_sfs\n",
    "from sklearn.neighbors import NearestNeighbors\n",
    "from sklearn.feature_selection import GenericUnivariateSelect, SelectPercentile, SelectKBest, f_classif, mutual_info_classif, RFE\n",
    "import statsmodels.api as sm\n",
    "import warnings\n",
    "warnings.filterwarnings('ignore')\n",
    "from catboost import CatBoostClassifier"
   ]
  },
  {
   "cell_type": "code",
   "execution_count": 2,
   "metadata": {},
   "outputs": [
    {
     "name": "stdout",
     "output_type": "stream",
     "text": [
      "(250, 302)\n",
      "(19750, 301)\n"
     ]
    }
   ],
   "source": [
    "train = pd.read_csv('train.csv')\n",
    "test = pd.read_csv('test.csv')\n",
    "print(train.shape)\n",
    "print(test.shape)"
   ]
  },
  {
   "cell_type": "markdown",
   "metadata": {},
   "source": [
    "## Data exploration"
   ]
  },
  {
   "cell_type": "code",
   "execution_count": 3,
   "metadata": {},
   "outputs": [
    {
     "data": {
      "text/html": [
       "<div>\n",
       "<style scoped>\n",
       "    .dataframe tbody tr th:only-of-type {\n",
       "        vertical-align: middle;\n",
       "    }\n",
       "\n",
       "    .dataframe tbody tr th {\n",
       "        vertical-align: top;\n",
       "    }\n",
       "\n",
       "    .dataframe thead th {\n",
       "        text-align: right;\n",
       "    }\n",
       "</style>\n",
       "<table border=\"1\" class=\"dataframe\">\n",
       "  <thead>\n",
       "    <tr style=\"text-align: right;\">\n",
       "      <th></th>\n",
       "      <th>id</th>\n",
       "      <th>target</th>\n",
       "      <th>0</th>\n",
       "      <th>1</th>\n",
       "      <th>2</th>\n",
       "      <th>3</th>\n",
       "      <th>4</th>\n",
       "      <th>5</th>\n",
       "      <th>6</th>\n",
       "      <th>7</th>\n",
       "      <th>8</th>\n",
       "      <th>9</th>\n",
       "      <th>10</th>\n",
       "      <th>11</th>\n",
       "      <th>12</th>\n",
       "      <th>13</th>\n",
       "      <th>14</th>\n",
       "      <th>15</th>\n",
       "      <th>16</th>\n",
       "      <th>17</th>\n",
       "      <th>18</th>\n",
       "      <th>19</th>\n",
       "      <th>20</th>\n",
       "      <th>21</th>\n",
       "      <th>22</th>\n",
       "      <th>23</th>\n",
       "      <th>24</th>\n",
       "      <th>25</th>\n",
       "      <th>26</th>\n",
       "      <th>27</th>\n",
       "      <th>28</th>\n",
       "      <th>29</th>\n",
       "      <th>30</th>\n",
       "      <th>31</th>\n",
       "      <th>32</th>\n",
       "      <th>33</th>\n",
       "      <th>34</th>\n",
       "      <th>35</th>\n",
       "      <th>36</th>\n",
       "      <th>37</th>\n",
       "      <th>38</th>\n",
       "      <th>39</th>\n",
       "      <th>40</th>\n",
       "      <th>41</th>\n",
       "      <th>42</th>\n",
       "      <th>43</th>\n",
       "      <th>44</th>\n",
       "      <th>45</th>\n",
       "      <th>46</th>\n",
       "      <th>47</th>\n",
       "      <th>48</th>\n",
       "      <th>49</th>\n",
       "      <th>50</th>\n",
       "      <th>51</th>\n",
       "      <th>52</th>\n",
       "      <th>53</th>\n",
       "      <th>54</th>\n",
       "      <th>55</th>\n",
       "      <th>56</th>\n",
       "      <th>57</th>\n",
       "      <th>58</th>\n",
       "      <th>59</th>\n",
       "      <th>60</th>\n",
       "      <th>61</th>\n",
       "      <th>62</th>\n",
       "      <th>63</th>\n",
       "      <th>64</th>\n",
       "      <th>65</th>\n",
       "      <th>66</th>\n",
       "      <th>67</th>\n",
       "      <th>68</th>\n",
       "      <th>69</th>\n",
       "      <th>70</th>\n",
       "      <th>71</th>\n",
       "      <th>72</th>\n",
       "      <th>73</th>\n",
       "      <th>74</th>\n",
       "      <th>75</th>\n",
       "      <th>76</th>\n",
       "      <th>77</th>\n",
       "      <th>78</th>\n",
       "      <th>79</th>\n",
       "      <th>80</th>\n",
       "      <th>81</th>\n",
       "      <th>82</th>\n",
       "      <th>83</th>\n",
       "      <th>84</th>\n",
       "      <th>85</th>\n",
       "      <th>86</th>\n",
       "      <th>87</th>\n",
       "      <th>88</th>\n",
       "      <th>89</th>\n",
       "      <th>90</th>\n",
       "      <th>91</th>\n",
       "      <th>92</th>\n",
       "      <th>93</th>\n",
       "      <th>94</th>\n",
       "      <th>95</th>\n",
       "      <th>96</th>\n",
       "      <th>97</th>\n",
       "      <th>98</th>\n",
       "      <th>99</th>\n",
       "      <th>100</th>\n",
       "      <th>101</th>\n",
       "      <th>102</th>\n",
       "      <th>103</th>\n",
       "      <th>104</th>\n",
       "      <th>105</th>\n",
       "      <th>106</th>\n",
       "      <th>107</th>\n",
       "      <th>108</th>\n",
       "      <th>109</th>\n",
       "      <th>110</th>\n",
       "      <th>111</th>\n",
       "      <th>112</th>\n",
       "      <th>113</th>\n",
       "      <th>114</th>\n",
       "      <th>115</th>\n",
       "      <th>116</th>\n",
       "      <th>117</th>\n",
       "      <th>118</th>\n",
       "      <th>119</th>\n",
       "      <th>120</th>\n",
       "      <th>121</th>\n",
       "      <th>122</th>\n",
       "      <th>123</th>\n",
       "      <th>124</th>\n",
       "      <th>125</th>\n",
       "      <th>126</th>\n",
       "      <th>127</th>\n",
       "      <th>128</th>\n",
       "      <th>129</th>\n",
       "      <th>130</th>\n",
       "      <th>131</th>\n",
       "      <th>132</th>\n",
       "      <th>133</th>\n",
       "      <th>134</th>\n",
       "      <th>135</th>\n",
       "      <th>136</th>\n",
       "      <th>137</th>\n",
       "      <th>138</th>\n",
       "      <th>139</th>\n",
       "      <th>140</th>\n",
       "      <th>141</th>\n",
       "      <th>142</th>\n",
       "      <th>143</th>\n",
       "      <th>144</th>\n",
       "      <th>145</th>\n",
       "      <th>146</th>\n",
       "      <th>147</th>\n",
       "      <th>148</th>\n",
       "      <th>149</th>\n",
       "      <th>150</th>\n",
       "      <th>151</th>\n",
       "      <th>152</th>\n",
       "      <th>153</th>\n",
       "      <th>154</th>\n",
       "      <th>155</th>\n",
       "      <th>156</th>\n",
       "      <th>157</th>\n",
       "      <th>158</th>\n",
       "      <th>159</th>\n",
       "      <th>160</th>\n",
       "      <th>161</th>\n",
       "      <th>162</th>\n",
       "      <th>163</th>\n",
       "      <th>164</th>\n",
       "      <th>165</th>\n",
       "      <th>166</th>\n",
       "      <th>167</th>\n",
       "      <th>168</th>\n",
       "      <th>169</th>\n",
       "      <th>170</th>\n",
       "      <th>171</th>\n",
       "      <th>172</th>\n",
       "      <th>173</th>\n",
       "      <th>174</th>\n",
       "      <th>175</th>\n",
       "      <th>176</th>\n",
       "      <th>177</th>\n",
       "      <th>178</th>\n",
       "      <th>179</th>\n",
       "      <th>180</th>\n",
       "      <th>181</th>\n",
       "      <th>182</th>\n",
       "      <th>183</th>\n",
       "      <th>184</th>\n",
       "      <th>185</th>\n",
       "      <th>186</th>\n",
       "      <th>187</th>\n",
       "      <th>188</th>\n",
       "      <th>189</th>\n",
       "      <th>190</th>\n",
       "      <th>191</th>\n",
       "      <th>192</th>\n",
       "      <th>193</th>\n",
       "      <th>194</th>\n",
       "      <th>195</th>\n",
       "      <th>196</th>\n",
       "      <th>197</th>\n",
       "      <th>198</th>\n",
       "      <th>199</th>\n",
       "      <th>200</th>\n",
       "      <th>201</th>\n",
       "      <th>202</th>\n",
       "      <th>203</th>\n",
       "      <th>204</th>\n",
       "      <th>205</th>\n",
       "      <th>206</th>\n",
       "      <th>207</th>\n",
       "      <th>208</th>\n",
       "      <th>209</th>\n",
       "      <th>210</th>\n",
       "      <th>211</th>\n",
       "      <th>212</th>\n",
       "      <th>213</th>\n",
       "      <th>214</th>\n",
       "      <th>215</th>\n",
       "      <th>216</th>\n",
       "      <th>217</th>\n",
       "      <th>218</th>\n",
       "      <th>219</th>\n",
       "      <th>220</th>\n",
       "      <th>221</th>\n",
       "      <th>222</th>\n",
       "      <th>223</th>\n",
       "      <th>224</th>\n",
       "      <th>225</th>\n",
       "      <th>226</th>\n",
       "      <th>227</th>\n",
       "      <th>228</th>\n",
       "      <th>229</th>\n",
       "      <th>230</th>\n",
       "      <th>231</th>\n",
       "      <th>232</th>\n",
       "      <th>233</th>\n",
       "      <th>234</th>\n",
       "      <th>235</th>\n",
       "      <th>236</th>\n",
       "      <th>237</th>\n",
       "      <th>238</th>\n",
       "      <th>239</th>\n",
       "      <th>240</th>\n",
       "      <th>241</th>\n",
       "      <th>242</th>\n",
       "      <th>243</th>\n",
       "      <th>244</th>\n",
       "      <th>245</th>\n",
       "      <th>246</th>\n",
       "      <th>247</th>\n",
       "      <th>248</th>\n",
       "      <th>249</th>\n",
       "      <th>250</th>\n",
       "      <th>251</th>\n",
       "      <th>252</th>\n",
       "      <th>253</th>\n",
       "      <th>254</th>\n",
       "      <th>255</th>\n",
       "      <th>256</th>\n",
       "      <th>257</th>\n",
       "      <th>258</th>\n",
       "      <th>259</th>\n",
       "      <th>260</th>\n",
       "      <th>261</th>\n",
       "      <th>262</th>\n",
       "      <th>263</th>\n",
       "      <th>264</th>\n",
       "      <th>265</th>\n",
       "      <th>266</th>\n",
       "      <th>267</th>\n",
       "      <th>268</th>\n",
       "      <th>269</th>\n",
       "      <th>270</th>\n",
       "      <th>271</th>\n",
       "      <th>272</th>\n",
       "      <th>273</th>\n",
       "      <th>274</th>\n",
       "      <th>275</th>\n",
       "      <th>276</th>\n",
       "      <th>277</th>\n",
       "      <th>278</th>\n",
       "      <th>279</th>\n",
       "      <th>280</th>\n",
       "      <th>281</th>\n",
       "      <th>282</th>\n",
       "      <th>283</th>\n",
       "      <th>284</th>\n",
       "      <th>285</th>\n",
       "      <th>286</th>\n",
       "      <th>287</th>\n",
       "      <th>288</th>\n",
       "      <th>289</th>\n",
       "      <th>290</th>\n",
       "      <th>291</th>\n",
       "      <th>292</th>\n",
       "      <th>293</th>\n",
       "      <th>294</th>\n",
       "      <th>295</th>\n",
       "      <th>296</th>\n",
       "      <th>297</th>\n",
       "      <th>298</th>\n",
       "      <th>299</th>\n",
       "    </tr>\n",
       "  </thead>\n",
       "  <tbody>\n",
       "    <tr>\n",
       "      <th>0</th>\n",
       "      <td>0</td>\n",
       "      <td>1.0</td>\n",
       "      <td>-1.067</td>\n",
       "      <td>-1.114</td>\n",
       "      <td>-0.616</td>\n",
       "      <td>0.376</td>\n",
       "      <td>1.090</td>\n",
       "      <td>0.467</td>\n",
       "      <td>-0.422</td>\n",
       "      <td>0.460</td>\n",
       "      <td>-0.443</td>\n",
       "      <td>-0.338</td>\n",
       "      <td>0.416</td>\n",
       "      <td>-2.177</td>\n",
       "      <td>-0.326</td>\n",
       "      <td>0.340</td>\n",
       "      <td>1.174</td>\n",
       "      <td>-0.245</td>\n",
       "      <td>-1.070</td>\n",
       "      <td>-0.336</td>\n",
       "      <td>-0.502</td>\n",
       "      <td>0.403</td>\n",
       "      <td>-0.605</td>\n",
       "      <td>-0.280</td>\n",
       "      <td>-1.618</td>\n",
       "      <td>0.878</td>\n",
       "      <td>-0.272</td>\n",
       "      <td>0.870</td>\n",
       "      <td>2.171</td>\n",
       "      <td>-0.214</td>\n",
       "      <td>0.477</td>\n",
       "      <td>-2.092</td>\n",
       "      <td>0.835</td>\n",
       "      <td>0.621</td>\n",
       "      <td>-2.810</td>\n",
       "      <td>1.029</td>\n",
       "      <td>-0.736</td>\n",
       "      <td>0.582</td>\n",
       "      <td>-0.079</td>\n",
       "      <td>0.493</td>\n",
       "      <td>1.359</td>\n",
       "      <td>-0.177</td>\n",
       "      <td>0.406</td>\n",
       "      <td>-0.163</td>\n",
       "      <td>1.341</td>\n",
       "      <td>0.754</td>\n",
       "      <td>0.491</td>\n",
       "      <td>-1.560</td>\n",
       "      <td>-0.520</td>\n",
       "      <td>0.766</td>\n",
       "      <td>0.216</td>\n",
       "      <td>-0.510</td>\n",
       "      <td>0.101</td>\n",
       "      <td>-0.602</td>\n",
       "      <td>-0.721</td>\n",
       "      <td>-0.545</td>\n",
       "      <td>1.564</td>\n",
       "      <td>2.003</td>\n",
       "      <td>-1.940</td>\n",
       "      <td>1.285</td>\n",
       "      <td>-0.987</td>\n",
       "      <td>-1.370</td>\n",
       "      <td>1.373</td>\n",
       "      <td>-0.495</td>\n",
       "      <td>0.113</td>\n",
       "      <td>-0.523</td>\n",
       "      <td>0.053</td>\n",
       "      <td>-0.888</td>\n",
       "      <td>0.249</td>\n",
       "      <td>0.687</td>\n",
       "      <td>1.363</td>\n",
       "      <td>0.169</td>\n",
       "      <td>-1.122</td>\n",
       "      <td>1.209</td>\n",
       "      <td>0.891</td>\n",
       "      <td>0.866</td>\n",
       "      <td>0.847</td>\n",
       "      <td>-1.110</td>\n",
       "      <td>1.224</td>\n",
       "      <td>-1.302</td>\n",
       "      <td>-1.647</td>\n",
       "      <td>-0.091</td>\n",
       "      <td>0.255</td>\n",
       "      <td>0.730</td>\n",
       "      <td>-0.380</td>\n",
       "      <td>0.294</td>\n",
       "      <td>-0.725</td>\n",
       "      <td>0.844</td>\n",
       "      <td>1.002</td>\n",
       "      <td>-1.267</td>\n",
       "      <td>-0.043</td>\n",
       "      <td>1.158</td>\n",
       "      <td>0.779</td>\n",
       "      <td>-0.733</td>\n",
       "      <td>-0.501</td>\n",
       "      <td>1.841</td>\n",
       "      <td>1.459</td>\n",
       "      <td>0.847</td>\n",
       "      <td>1.926</td>\n",
       "      <td>-0.316</td>\n",
       "      <td>0.044</td>\n",
       "      <td>-0.294</td>\n",
       "      <td>0.120</td>\n",
       "      <td>-1.050</td>\n",
       "      <td>0.730</td>\n",
       "      <td>-1.001</td>\n",
       "      <td>-0.321</td>\n",
       "      <td>0.407</td>\n",
       "      <td>0.469</td>\n",
       "      <td>0.445</td>\n",
       "      <td>1.632</td>\n",
       "      <td>0.273</td>\n",
       "      <td>1.557</td>\n",
       "      <td>1.196</td>\n",
       "      <td>-0.548</td>\n",
       "      <td>-0.275</td>\n",
       "      <td>0.179</td>\n",
       "      <td>0.584</td>\n",
       "      <td>-1.873</td>\n",
       "      <td>0.928</td>\n",
       "      <td>0.720</td>\n",
       "      <td>0.885</td>\n",
       "      <td>0.044</td>\n",
       "      <td>-1.131</td>\n",
       "      <td>-1.576</td>\n",
       "      <td>0.616</td>\n",
       "      <td>1.957</td>\n",
       "      <td>-0.518</td>\n",
       "      <td>1.494</td>\n",
       "      <td>1.573</td>\n",
       "      <td>-0.484</td>\n",
       "      <td>0.590</td>\n",
       "      <td>-0.387</td>\n",
       "      <td>0.388</td>\n",
       "      <td>-1.032</td>\n",
       "      <td>-0.841</td>\n",
       "      <td>0.288</td>\n",
       "      <td>-0.230</td>\n",
       "      <td>-2.714</td>\n",
       "      <td>-0.473</td>\n",
       "      <td>0.476</td>\n",
       "      <td>-1.352</td>\n",
       "      <td>-0.922</td>\n",
       "      <td>0.329</td>\n",
       "      <td>-0.558</td>\n",
       "      <td>0.787</td>\n",
       "      <td>-1.043</td>\n",
       "      <td>-0.130</td>\n",
       "      <td>0.517</td>\n",
       "      <td>2.445</td>\n",
       "      <td>0.847</td>\n",
       "      <td>-0.636</td>\n",
       "      <td>-0.324</td>\n",
       "      <td>0.753</td>\n",
       "      <td>0.058</td>\n",
       "      <td>-1.461</td>\n",
       "      <td>-0.820</td>\n",
       "      <td>-0.076</td>\n",
       "      <td>1.127</td>\n",
       "      <td>-0.496</td>\n",
       "      <td>1.020</td>\n",
       "      <td>0.279</td>\n",
       "      <td>0.262</td>\n",
       "      <td>-0.277</td>\n",
       "      <td>-0.166</td>\n",
       "      <td>-0.089</td>\n",
       "      <td>-1.696</td>\n",
       "      <td>-0.598</td>\n",
       "      <td>-0.710</td>\n",
       "      <td>-0.431</td>\n",
       "      <td>0.355</td>\n",
       "      <td>0.966</td>\n",
       "      <td>-1.150</td>\n",
       "      <td>-0.156</td>\n",
       "      <td>0.393</td>\n",
       "      <td>-0.117</td>\n",
       "      <td>0.444</td>\n",
       "      <td>0.948</td>\n",
       "      <td>-0.608</td>\n",
       "      <td>-0.106</td>\n",
       "      <td>-0.491</td>\n",
       "      <td>-0.608</td>\n",
       "      <td>1.565</td>\n",
       "      <td>1.013</td>\n",
       "      <td>-1.391</td>\n",
       "      <td>0.807</td>\n",
       "      <td>-0.607</td>\n",
       "      <td>-0.856</td>\n",
       "      <td>1.230</td>\n",
       "      <td>0.124</td>\n",
       "      <td>-0.336</td>\n",
       "      <td>1.758</td>\n",
       "      <td>-1.649</td>\n",
       "      <td>-1.429</td>\n",
       "      <td>-1.322</td>\n",
       "      <td>-1.501</td>\n",
       "      <td>2.125</td>\n",
       "      <td>-0.572</td>\n",
       "      <td>1.178</td>\n",
       "      <td>-1.451</td>\n",
       "      <td>-0.374</td>\n",
       "      <td>2.386</td>\n",
       "      <td>1.883</td>\n",
       "      <td>0.758</td>\n",
       "      <td>0.295</td>\n",
       "      <td>1.261</td>\n",
       "      <td>-0.837</td>\n",
       "      <td>0.140</td>\n",
       "      <td>-0.183</td>\n",
       "      <td>0.756</td>\n",
       "      <td>0.616</td>\n",
       "      <td>1.371</td>\n",
       "      <td>0.820</td>\n",
       "      <td>-0.702</td>\n",
       "      <td>-1.266</td>\n",
       "      <td>0.496</td>\n",
       "      <td>-0.669</td>\n",
       "      <td>-0.325</td>\n",
       "      <td>-0.170</td>\n",
       "      <td>0.147</td>\n",
       "      <td>-1.134</td>\n",
       "      <td>0.077</td>\n",
       "      <td>1.271</td>\n",
       "      <td>-0.087</td>\n",
       "      <td>-1.431</td>\n",
       "      <td>1.640</td>\n",
       "      <td>0.694</td>\n",
       "      <td>0.949</td>\n",
       "      <td>-2.400</td>\n",
       "      <td>0.657</td>\n",
       "      <td>-0.431</td>\n",
       "      <td>0.124</td>\n",
       "      <td>-0.335</td>\n",
       "      <td>-2.820</td>\n",
       "      <td>0.573</td>\n",
       "      <td>-0.755</td>\n",
       "      <td>3.798</td>\n",
       "      <td>-0.001</td>\n",
       "      <td>0.998</td>\n",
       "      <td>-0.543</td>\n",
       "      <td>1.018</td>\n",
       "      <td>0.883</td>\n",
       "      <td>-1.037</td>\n",
       "      <td>0.513</td>\n",
       "      <td>0.694</td>\n",
       "      <td>0.856</td>\n",
       "      <td>-0.523</td>\n",
       "      <td>0.596</td>\n",
       "      <td>0.971</td>\n",
       "      <td>0.279</td>\n",
       "      <td>2.684</td>\n",
       "      <td>-0.057</td>\n",
       "      <td>-1.754</td>\n",
       "      <td>0.297</td>\n",
       "      <td>-2.196</td>\n",
       "      <td>0.798</td>\n",
       "      <td>-0.533</td>\n",
       "      <td>-0.661</td>\n",
       "      <td>0.564</td>\n",
       "      <td>-2.400</td>\n",
       "      <td>0.945</td>\n",
       "      <td>-0.971</td>\n",
       "      <td>0.055</td>\n",
       "      <td>1.107</td>\n",
       "      <td>-0.848</td>\n",
       "      <td>-1.781</td>\n",
       "      <td>0.254</td>\n",
       "      <td>-0.515</td>\n",
       "      <td>0.234</td>\n",
       "      <td>0.296</td>\n",
       "      <td>-1.774</td>\n",
       "      <td>2.032</td>\n",
       "      <td>-0.442</td>\n",
       "      <td>-0.116</td>\n",
       "      <td>1.393</td>\n",
       "      <td>-0.494</td>\n",
       "      <td>-0.179</td>\n",
       "      <td>1.874</td>\n",
       "      <td>1.463</td>\n",
       "      <td>-1.397</td>\n",
       "      <td>0.284</td>\n",
       "      <td>0.336</td>\n",
       "      <td>0.551</td>\n",
       "      <td>0.557</td>\n",
       "      <td>-0.522</td>\n",
       "      <td>-0.503</td>\n",
       "      <td>-0.541</td>\n",
       "      <td>1.393</td>\n",
       "      <td>0.506</td>\n",
       "      <td>-1.420</td>\n",
       "      <td>-0.123</td>\n",
       "      <td>-1.833</td>\n",
       "      <td>0.220</td>\n",
       "      <td>-0.339</td>\n",
       "      <td>0.254</td>\n",
       "      <td>-0.179</td>\n",
       "      <td>0.352</td>\n",
       "      <td>0.125</td>\n",
       "      <td>0.347</td>\n",
       "      <td>0.436</td>\n",
       "      <td>0.958</td>\n",
       "      <td>-0.824</td>\n",
       "    </tr>\n",
       "    <tr>\n",
       "      <th>1</th>\n",
       "      <td>1</td>\n",
       "      <td>0.0</td>\n",
       "      <td>-0.831</td>\n",
       "      <td>0.271</td>\n",
       "      <td>1.716</td>\n",
       "      <td>1.096</td>\n",
       "      <td>1.731</td>\n",
       "      <td>-0.197</td>\n",
       "      <td>1.904</td>\n",
       "      <td>-0.265</td>\n",
       "      <td>0.557</td>\n",
       "      <td>1.202</td>\n",
       "      <td>0.542</td>\n",
       "      <td>0.424</td>\n",
       "      <td>-1.572</td>\n",
       "      <td>-0.968</td>\n",
       "      <td>-1.483</td>\n",
       "      <td>0.564</td>\n",
       "      <td>0.047</td>\n",
       "      <td>-0.324</td>\n",
       "      <td>-1.490</td>\n",
       "      <td>0.179</td>\n",
       "      <td>-0.524</td>\n",
       "      <td>0.250</td>\n",
       "      <td>2.462</td>\n",
       "      <td>0.029</td>\n",
       "      <td>-1.399</td>\n",
       "      <td>-2.370</td>\n",
       "      <td>-1.505</td>\n",
       "      <td>-1.294</td>\n",
       "      <td>0.106</td>\n",
       "      <td>-0.145</td>\n",
       "      <td>0.235</td>\n",
       "      <td>-1.045</td>\n",
       "      <td>1.335</td>\n",
       "      <td>1.254</td>\n",
       "      <td>-0.811</td>\n",
       "      <td>1.812</td>\n",
       "      <td>0.181</td>\n",
       "      <td>-0.020</td>\n",
       "      <td>1.125</td>\n",
       "      <td>0.279</td>\n",
       "      <td>-0.682</td>\n",
       "      <td>1.161</td>\n",
       "      <td>1.194</td>\n",
       "      <td>0.243</td>\n",
       "      <td>1.179</td>\n",
       "      <td>1.338</td>\n",
       "      <td>-1.000</td>\n",
       "      <td>-0.362</td>\n",
       "      <td>-0.605</td>\n",
       "      <td>1.917</td>\n",
       "      <td>-1.157</td>\n",
       "      <td>0.394</td>\n",
       "      <td>-0.482</td>\n",
       "      <td>1.591</td>\n",
       "      <td>0.106</td>\n",
       "      <td>-0.959</td>\n",
       "      <td>0.600</td>\n",
       "      <td>-1.147</td>\n",
       "      <td>-1.064</td>\n",
       "      <td>3.080</td>\n",
       "      <td>1.057</td>\n",
       "      <td>0.947</td>\n",
       "      <td>-1.125</td>\n",
       "      <td>1.288</td>\n",
       "      <td>-0.171</td>\n",
       "      <td>1.124</td>\n",
       "      <td>-0.454</td>\n",
       "      <td>0.698</td>\n",
       "      <td>-0.028</td>\n",
       "      <td>2.208</td>\n",
       "      <td>0.014</td>\n",
       "      <td>0.872</td>\n",
       "      <td>2.286</td>\n",
       "      <td>-0.822</td>\n",
       "      <td>0.416</td>\n",
       "      <td>1.486</td>\n",
       "      <td>-0.331</td>\n",
       "      <td>-0.993</td>\n",
       "      <td>-0.071</td>\n",
       "      <td>0.543</td>\n",
       "      <td>-0.096</td>\n",
       "      <td>0.041</td>\n",
       "      <td>0.138</td>\n",
       "      <td>1.110</td>\n",
       "      <td>0.692</td>\n",
       "      <td>1.407</td>\n",
       "      <td>-0.234</td>\n",
       "      <td>-1.899</td>\n",
       "      <td>-0.131</td>\n",
       "      <td>0.934</td>\n",
       "      <td>0.802</td>\n",
       "      <td>-1.041</td>\n",
       "      <td>2.004</td>\n",
       "      <td>1.424</td>\n",
       "      <td>0.423</td>\n",
       "      <td>-0.352</td>\n",
       "      <td>-0.656</td>\n",
       "      <td>-0.053</td>\n",
       "      <td>1.036</td>\n",
       "      <td>-1.228</td>\n",
       "      <td>-0.854</td>\n",
       "      <td>-0.748</td>\n",
       "      <td>1.180</td>\n",
       "      <td>0.575</td>\n",
       "      <td>-1.472</td>\n",
       "      <td>-1.215</td>\n",
       "      <td>-0.889</td>\n",
       "      <td>0.004</td>\n",
       "      <td>-0.145</td>\n",
       "      <td>-0.933</td>\n",
       "      <td>-0.713</td>\n",
       "      <td>0.869</td>\n",
       "      <td>0.539</td>\n",
       "      <td>-0.911</td>\n",
       "      <td>-0.638</td>\n",
       "      <td>0.895</td>\n",
       "      <td>-1.896</td>\n",
       "      <td>-0.604</td>\n",
       "      <td>0.312</td>\n",
       "      <td>1.883</td>\n",
       "      <td>-0.292</td>\n",
       "      <td>-0.849</td>\n",
       "      <td>-0.453</td>\n",
       "      <td>0.894</td>\n",
       "      <td>0.339</td>\n",
       "      <td>2.095</td>\n",
       "      <td>0.336</td>\n",
       "      <td>1.290</td>\n",
       "      <td>0.057</td>\n",
       "      <td>-0.159</td>\n",
       "      <td>0.539</td>\n",
       "      <td>0.675</td>\n",
       "      <td>-1.015</td>\n",
       "      <td>-0.304</td>\n",
       "      <td>-1.301</td>\n",
       "      <td>-0.614</td>\n",
       "      <td>-1.176</td>\n",
       "      <td>0.117</td>\n",
       "      <td>0.075</td>\n",
       "      <td>-0.088</td>\n",
       "      <td>1.888</td>\n",
       "      <td>-0.119</td>\n",
       "      <td>0.434</td>\n",
       "      <td>0.135</td>\n",
       "      <td>1.779</td>\n",
       "      <td>0.554</td>\n",
       "      <td>-0.622</td>\n",
       "      <td>-1.214</td>\n",
       "      <td>0.389</td>\n",
       "      <td>0.136</td>\n",
       "      <td>1.035</td>\n",
       "      <td>0.101</td>\n",
       "      <td>-1.592</td>\n",
       "      <td>-0.552</td>\n",
       "      <td>1.145</td>\n",
       "      <td>0.587</td>\n",
       "      <td>1.117</td>\n",
       "      <td>-0.645</td>\n",
       "      <td>1.022</td>\n",
       "      <td>0.639</td>\n",
       "      <td>0.968</td>\n",
       "      <td>0.176</td>\n",
       "      <td>-1.132</td>\n",
       "      <td>0.119</td>\n",
       "      <td>0.428</td>\n",
       "      <td>-1.739</td>\n",
       "      <td>0.758</td>\n",
       "      <td>-1.445</td>\n",
       "      <td>0.916</td>\n",
       "      <td>-0.366</td>\n",
       "      <td>0.632</td>\n",
       "      <td>-0.357</td>\n",
       "      <td>-0.460</td>\n",
       "      <td>-1.990</td>\n",
       "      <td>0.381</td>\n",
       "      <td>-1.490</td>\n",
       "      <td>1.068</td>\n",
       "      <td>-0.618</td>\n",
       "      <td>-0.905</td>\n",
       "      <td>-0.274</td>\n",
       "      <td>0.503</td>\n",
       "      <td>0.031</td>\n",
       "      <td>-0.255</td>\n",
       "      <td>1.721</td>\n",
       "      <td>2.848</td>\n",
       "      <td>0.372</td>\n",
       "      <td>-1.688</td>\n",
       "      <td>0.382</td>\n",
       "      <td>-1.252</td>\n",
       "      <td>0.757</td>\n",
       "      <td>2.364</td>\n",
       "      <td>0.526</td>\n",
       "      <td>-0.385</td>\n",
       "      <td>-0.446</td>\n",
       "      <td>0.120</td>\n",
       "      <td>0.165</td>\n",
       "      <td>-0.726</td>\n",
       "      <td>-1.985</td>\n",
       "      <td>1.572</td>\n",
       "      <td>0.798</td>\n",
       "      <td>-0.268</td>\n",
       "      <td>-0.567</td>\n",
       "      <td>0.550</td>\n",
       "      <td>0.020</td>\n",
       "      <td>-0.550</td>\n",
       "      <td>-2.273</td>\n",
       "      <td>0.898</td>\n",
       "      <td>-1.677</td>\n",
       "      <td>-0.374</td>\n",
       "      <td>-0.188</td>\n",
       "      <td>0.833</td>\n",
       "      <td>-1.540</td>\n",
       "      <td>-0.270</td>\n",
       "      <td>-0.822</td>\n",
       "      <td>0.520</td>\n",
       "      <td>-1.663</td>\n",
       "      <td>0.311</td>\n",
       "      <td>0.638</td>\n",
       "      <td>-1.132</td>\n",
       "      <td>0.475</td>\n",
       "      <td>-1.414</td>\n",
       "      <td>1.331</td>\n",
       "      <td>-0.566</td>\n",
       "      <td>1.086</td>\n",
       "      <td>0.177</td>\n",
       "      <td>-0.350</td>\n",
       "      <td>-0.765</td>\n",
       "      <td>2.033</td>\n",
       "      <td>0.122</td>\n",
       "      <td>1.283</td>\n",
       "      <td>1.790</td>\n",
       "      <td>-1.005</td>\n",
       "      <td>0.228</td>\n",
       "      <td>0.119</td>\n",
       "      <td>-1.088</td>\n",
       "      <td>-0.249</td>\n",
       "      <td>-1.386</td>\n",
       "      <td>-0.178</td>\n",
       "      <td>-0.784</td>\n",
       "      <td>0.810</td>\n",
       "      <td>0.717</td>\n",
       "      <td>0.962</td>\n",
       "      <td>0.945</td>\n",
       "      <td>1.275</td>\n",
       "      <td>-0.879</td>\n",
       "      <td>0.372</td>\n",
       "      <td>0.965</td>\n",
       "      <td>0.610</td>\n",
       "      <td>-0.647</td>\n",
       "      <td>0.116</td>\n",
       "      <td>-1.935</td>\n",
       "      <td>-1.365</td>\n",
       "      <td>-1.609</td>\n",
       "      <td>-0.119</td>\n",
       "      <td>-0.690</td>\n",
       "      <td>-0.239</td>\n",
       "      <td>0.919</td>\n",
       "      <td>0.182</td>\n",
       "      <td>-0.203</td>\n",
       "      <td>-1.034</td>\n",
       "      <td>0.627</td>\n",
       "      <td>-1.472</td>\n",
       "      <td>0.496</td>\n",
       "      <td>-0.052</td>\n",
       "      <td>0.322</td>\n",
       "      <td>-0.222</td>\n",
       "      <td>1.168</td>\n",
       "      <td>0.931</td>\n",
       "      <td>-0.203</td>\n",
       "      <td>0.321</td>\n",
       "      <td>0.761</td>\n",
       "      <td>1.752</td>\n",
       "      <td>0.181</td>\n",
       "      <td>-3.029</td>\n",
       "      <td>-0.578</td>\n",
       "      <td>-0.260</td>\n",
       "      <td>-0.425</td>\n",
       "      <td>-0.160</td>\n",
       "      <td>-0.497</td>\n",
       "      <td>-0.049</td>\n",
       "      <td>1.097</td>\n",
       "      <td>0.398</td>\n",
       "      <td>0.554</td>\n",
       "      <td>0.578</td>\n",
       "      <td>-0.544</td>\n",
       "      <td>0.441</td>\n",
       "      <td>-0.524</td>\n",
       "      <td>-1.474</td>\n",
       "      <td>-0.090</td>\n",
       "      <td>-0.607</td>\n",
       "      <td>-0.765</td>\n",
       "      <td>-0.735</td>\n",
       "      <td>-1.158</td>\n",
       "      <td>2.554</td>\n",
       "      <td>0.856</td>\n",
       "      <td>-1.506</td>\n",
       "      <td>0.462</td>\n",
       "      <td>-0.029</td>\n",
       "      <td>-1.932</td>\n",
       "      <td>-0.343</td>\n",
       "    </tr>\n",
       "    <tr>\n",
       "      <th>2</th>\n",
       "      <td>2</td>\n",
       "      <td>0.0</td>\n",
       "      <td>0.099</td>\n",
       "      <td>1.390</td>\n",
       "      <td>-0.732</td>\n",
       "      <td>-1.065</td>\n",
       "      <td>0.005</td>\n",
       "      <td>-0.081</td>\n",
       "      <td>-1.450</td>\n",
       "      <td>0.317</td>\n",
       "      <td>-0.624</td>\n",
       "      <td>-0.017</td>\n",
       "      <td>-0.665</td>\n",
       "      <td>1.905</td>\n",
       "      <td>0.376</td>\n",
       "      <td>-1.373</td>\n",
       "      <td>1.587</td>\n",
       "      <td>1.464</td>\n",
       "      <td>-1.550</td>\n",
       "      <td>-0.512</td>\n",
       "      <td>0.508</td>\n",
       "      <td>-0.094</td>\n",
       "      <td>-0.114</td>\n",
       "      <td>-0.425</td>\n",
       "      <td>0.104</td>\n",
       "      <td>0.643</td>\n",
       "      <td>-1.371</td>\n",
       "      <td>1.553</td>\n",
       "      <td>-0.062</td>\n",
       "      <td>-0.173</td>\n",
       "      <td>-0.465</td>\n",
       "      <td>-1.252</td>\n",
       "      <td>0.443</td>\n",
       "      <td>2.205</td>\n",
       "      <td>-1.266</td>\n",
       "      <td>-0.739</td>\n",
       "      <td>0.827</td>\n",
       "      <td>-1.306</td>\n",
       "      <td>0.274</td>\n",
       "      <td>-1.573</td>\n",
       "      <td>-2.011</td>\n",
       "      <td>-1.228</td>\n",
       "      <td>-1.588</td>\n",
       "      <td>-0.825</td>\n",
       "      <td>-0.259</td>\n",
       "      <td>1.461</td>\n",
       "      <td>-1.751</td>\n",
       "      <td>-0.054</td>\n",
       "      <td>-0.026</td>\n",
       "      <td>-0.511</td>\n",
       "      <td>0.412</td>\n",
       "      <td>-0.150</td>\n",
       "      <td>2.040</td>\n",
       "      <td>-0.567</td>\n",
       "      <td>-0.177</td>\n",
       "      <td>-0.882</td>\n",
       "      <td>-0.337</td>\n",
       "      <td>0.785</td>\n",
       "      <td>-0.705</td>\n",
       "      <td>0.600</td>\n",
       "      <td>-0.101</td>\n",
       "      <td>0.693</td>\n",
       "      <td>0.954</td>\n",
       "      <td>0.921</td>\n",
       "      <td>-0.130</td>\n",
       "      <td>-0.967</td>\n",
       "      <td>0.678</td>\n",
       "      <td>0.927</td>\n",
       "      <td>-1.526</td>\n",
       "      <td>1.413</td>\n",
       "      <td>-1.146</td>\n",
       "      <td>-1.758</td>\n",
       "      <td>-0.324</td>\n",
       "      <td>0.173</td>\n",
       "      <td>-1.817</td>\n",
       "      <td>-1.566</td>\n",
       "      <td>-0.978</td>\n",
       "      <td>1.014</td>\n",
       "      <td>0.393</td>\n",
       "      <td>-0.186</td>\n",
       "      <td>-1.427</td>\n",
       "      <td>0.232</td>\n",
       "      <td>-0.517</td>\n",
       "      <td>0.095</td>\n",
       "      <td>1.132</td>\n",
       "      <td>-0.304</td>\n",
       "      <td>1.014</td>\n",
       "      <td>0.496</td>\n",
       "      <td>0.331</td>\n",
       "      <td>-0.161</td>\n",
       "      <td>-1.025</td>\n",
       "      <td>1.310</td>\n",
       "      <td>-0.457</td>\n",
       "      <td>1.712</td>\n",
       "      <td>-0.651</td>\n",
       "      <td>-0.178</td>\n",
       "      <td>0.186</td>\n",
       "      <td>3.168</td>\n",
       "      <td>2.736</td>\n",
       "      <td>0.910</td>\n",
       "      <td>-1.875</td>\n",
       "      <td>0.068</td>\n",
       "      <td>0.877</td>\n",
       "      <td>-0.282</td>\n",
       "      <td>0.225</td>\n",
       "      <td>0.270</td>\n",
       "      <td>1.027</td>\n",
       "      <td>0.133</td>\n",
       "      <td>-0.491</td>\n",
       "      <td>-0.120</td>\n",
       "      <td>-0.565</td>\n",
       "      <td>0.094</td>\n",
       "      <td>0.063</td>\n",
       "      <td>-0.597</td>\n",
       "      <td>0.871</td>\n",
       "      <td>-0.298</td>\n",
       "      <td>0.123</td>\n",
       "      <td>-0.317</td>\n",
       "      <td>-1.409</td>\n",
       "      <td>1.590</td>\n",
       "      <td>-0.719</td>\n",
       "      <td>-0.645</td>\n",
       "      <td>0.331</td>\n",
       "      <td>0.052</td>\n",
       "      <td>-0.323</td>\n",
       "      <td>-1.327</td>\n",
       "      <td>-0.546</td>\n",
       "      <td>0.799</td>\n",
       "      <td>0.649</td>\n",
       "      <td>0.016</td>\n",
       "      <td>-0.723</td>\n",
       "      <td>0.245</td>\n",
       "      <td>0.034</td>\n",
       "      <td>-0.019</td>\n",
       "      <td>0.568</td>\n",
       "      <td>0.083</td>\n",
       "      <td>-1.295</td>\n",
       "      <td>-0.312</td>\n",
       "      <td>0.252</td>\n",
       "      <td>0.325</td>\n",
       "      <td>-0.075</td>\n",
       "      <td>0.168</td>\n",
       "      <td>-0.520</td>\n",
       "      <td>0.124</td>\n",
       "      <td>0.677</td>\n",
       "      <td>1.865</td>\n",
       "      <td>-0.405</td>\n",
       "      <td>1.918</td>\n",
       "      <td>-0.847</td>\n",
       "      <td>0.819</td>\n",
       "      <td>-0.405</td>\n",
       "      <td>-0.102</td>\n",
       "      <td>1.879</td>\n",
       "      <td>-2.472</td>\n",
       "      <td>0.559</td>\n",
       "      <td>-0.307</td>\n",
       "      <td>0.186</td>\n",
       "      <td>-1.425</td>\n",
       "      <td>-0.379</td>\n",
       "      <td>0.443</td>\n",
       "      <td>-0.887</td>\n",
       "      <td>0.868</td>\n",
       "      <td>-0.914</td>\n",
       "      <td>0.178</td>\n",
       "      <td>2.272</td>\n",
       "      <td>-0.220</td>\n",
       "      <td>0.355</td>\n",
       "      <td>1.122</td>\n",
       "      <td>1.518</td>\n",
       "      <td>-0.824</td>\n",
       "      <td>1.461</td>\n",
       "      <td>-1.124</td>\n",
       "      <td>0.062</td>\n",
       "      <td>-0.143</td>\n",
       "      <td>-0.813</td>\n",
       "      <td>-0.484</td>\n",
       "      <td>1.302</td>\n",
       "      <td>1.070</td>\n",
       "      <td>1.999</td>\n",
       "      <td>-0.323</td>\n",
       "      <td>0.923</td>\n",
       "      <td>0.120</td>\n",
       "      <td>1.156</td>\n",
       "      <td>0.234</td>\n",
       "      <td>-0.861</td>\n",
       "      <td>-0.990</td>\n",
       "      <td>-0.997</td>\n",
       "      <td>0.309</td>\n",
       "      <td>0.195</td>\n",
       "      <td>-0.472</td>\n",
       "      <td>0.105</td>\n",
       "      <td>1.051</td>\n",
       "      <td>1.308</td>\n",
       "      <td>-0.253</td>\n",
       "      <td>2.036</td>\n",
       "      <td>0.549</td>\n",
       "      <td>0.050</td>\n",
       "      <td>1.075</td>\n",
       "      <td>0.192</td>\n",
       "      <td>-1.056</td>\n",
       "      <td>0.961</td>\n",
       "      <td>-0.092</td>\n",
       "      <td>-0.084</td>\n",
       "      <td>0.323</td>\n",
       "      <td>1.248</td>\n",
       "      <td>0.766</td>\n",
       "      <td>1.742</td>\n",
       "      <td>-1.368</td>\n",
       "      <td>-0.420</td>\n",
       "      <td>-1.639</td>\n",
       "      <td>0.737</td>\n",
       "      <td>-1.618</td>\n",
       "      <td>-0.057</td>\n",
       "      <td>-1.601</td>\n",
       "      <td>-0.675</td>\n",
       "      <td>-1.735</td>\n",
       "      <td>-1.448</td>\n",
       "      <td>-0.759</td>\n",
       "      <td>-0.679</td>\n",
       "      <td>2.789</td>\n",
       "      <td>-1.189</td>\n",
       "      <td>-0.019</td>\n",
       "      <td>-0.294</td>\n",
       "      <td>0.828</td>\n",
       "      <td>1.888</td>\n",
       "      <td>-0.856</td>\n",
       "      <td>-1.526</td>\n",
       "      <td>-1.376</td>\n",
       "      <td>0.333</td>\n",
       "      <td>-0.930</td>\n",
       "      <td>0.648</td>\n",
       "      <td>-1.324</td>\n",
       "      <td>0.470</td>\n",
       "      <td>-0.569</td>\n",
       "      <td>-0.079</td>\n",
       "      <td>1.050</td>\n",
       "      <td>0.358</td>\n",
       "      <td>-1.130</td>\n",
       "      <td>-0.437</td>\n",
       "      <td>0.328</td>\n",
       "      <td>0.332</td>\n",
       "      <td>0.324</td>\n",
       "      <td>0.026</td>\n",
       "      <td>1.004</td>\n",
       "      <td>1.277</td>\n",
       "      <td>1.131</td>\n",
       "      <td>0.144</td>\n",
       "      <td>0.817</td>\n",
       "      <td>0.600</td>\n",
       "      <td>0.910</td>\n",
       "      <td>-0.757</td>\n",
       "      <td>-0.108</td>\n",
       "      <td>0.218</td>\n",
       "      <td>1.675</td>\n",
       "      <td>-1.223</td>\n",
       "      <td>0.206</td>\n",
       "      <td>2.153</td>\n",
       "      <td>0.257</td>\n",
       "      <td>1.761</td>\n",
       "      <td>0.848</td>\n",
       "      <td>-0.960</td>\n",
       "      <td>1.468</td>\n",
       "      <td>-1.610</td>\n",
       "      <td>-0.801</td>\n",
       "      <td>1.557</td>\n",
       "      <td>0.628</td>\n",
       "      <td>-0.072</td>\n",
       "      <td>-0.573</td>\n",
       "      <td>0.507</td>\n",
       "      <td>-1.229</td>\n",
       "      <td>0.313</td>\n",
       "      <td>1.446</td>\n",
       "      <td>-0.345</td>\n",
       "      <td>1.147</td>\n",
       "      <td>-0.623</td>\n",
       "      <td>-0.048</td>\n",
       "      <td>1.456</td>\n",
       "      <td>-0.932</td>\n",
       "      <td>0.666</td>\n",
       "      <td>0.451</td>\n",
       "      <td>0.671</td>\n",
       "      <td>-0.596</td>\n",
       "      <td>-0.135</td>\n",
       "      <td>0.966</td>\n",
       "      <td>-0.167</td>\n",
       "      <td>0.530</td>\n",
       "      <td>-1.493</td>\n",
       "      <td>-0.917</td>\n",
       "      <td>0.120</td>\n",
       "      <td>0.258</td>\n",
       "      <td>-0.405</td>\n",
       "      <td>-0.859</td>\n",
       "      <td>-1.311</td>\n",
       "      <td>0.799</td>\n",
       "      <td>-1.001</td>\n",
       "      <td>1.544</td>\n",
       "      <td>0.575</td>\n",
       "      <td>-0.309</td>\n",
       "      <td>-0.339</td>\n",
       "      <td>-0.148</td>\n",
       "      <td>-0.646</td>\n",
       "      <td>0.725</td>\n",
       "    </tr>\n",
       "    <tr>\n",
       "      <th>3</th>\n",
       "      <td>3</td>\n",
       "      <td>1.0</td>\n",
       "      <td>-0.989</td>\n",
       "      <td>-0.916</td>\n",
       "      <td>-1.343</td>\n",
       "      <td>0.145</td>\n",
       "      <td>0.543</td>\n",
       "      <td>0.636</td>\n",
       "      <td>1.127</td>\n",
       "      <td>0.189</td>\n",
       "      <td>-0.118</td>\n",
       "      <td>-0.638</td>\n",
       "      <td>0.760</td>\n",
       "      <td>-0.360</td>\n",
       "      <td>-2.048</td>\n",
       "      <td>-0.996</td>\n",
       "      <td>-0.361</td>\n",
       "      <td>0.962</td>\n",
       "      <td>0.021</td>\n",
       "      <td>0.595</td>\n",
       "      <td>-0.943</td>\n",
       "      <td>0.069</td>\n",
       "      <td>0.483</td>\n",
       "      <td>-0.063</td>\n",
       "      <td>-0.540</td>\n",
       "      <td>-0.551</td>\n",
       "      <td>-1.736</td>\n",
       "      <td>-2.014</td>\n",
       "      <td>0.636</td>\n",
       "      <td>-1.147</td>\n",
       "      <td>-0.767</td>\n",
       "      <td>-0.678</td>\n",
       "      <td>0.815</td>\n",
       "      <td>1.696</td>\n",
       "      <td>-0.436</td>\n",
       "      <td>-1.777</td>\n",
       "      <td>0.548</td>\n",
       "      <td>0.318</td>\n",
       "      <td>0.978</td>\n",
       "      <td>1.299</td>\n",
       "      <td>-0.540</td>\n",
       "      <td>0.248</td>\n",
       "      <td>1.791</td>\n",
       "      <td>-1.150</td>\n",
       "      <td>0.875</td>\n",
       "      <td>0.957</td>\n",
       "      <td>-1.859</td>\n",
       "      <td>0.000</td>\n",
       "      <td>-2.028</td>\n",
       "      <td>-0.315</td>\n",
       "      <td>-0.339</td>\n",
       "      <td>1.073</td>\n",
       "      <td>-1.278</td>\n",
       "      <td>0.084</td>\n",
       "      <td>0.020</td>\n",
       "      <td>-1.802</td>\n",
       "      <td>-2.193</td>\n",
       "      <td>-0.450</td>\n",
       "      <td>0.426</td>\n",
       "      <td>1.576</td>\n",
       "      <td>-0.474</td>\n",
       "      <td>-1.248</td>\n",
       "      <td>0.931</td>\n",
       "      <td>0.649</td>\n",
       "      <td>0.806</td>\n",
       "      <td>-0.980</td>\n",
       "      <td>0.322</td>\n",
       "      <td>-0.113</td>\n",
       "      <td>-0.444</td>\n",
       "      <td>1.556</td>\n",
       "      <td>0.578</td>\n",
       "      <td>1.359</td>\n",
       "      <td>2.186</td>\n",
       "      <td>0.380</td>\n",
       "      <td>1.580</td>\n",
       "      <td>0.306</td>\n",
       "      <td>-1.822</td>\n",
       "      <td>-1.156</td>\n",
       "      <td>-0.211</td>\n",
       "      <td>-0.595</td>\n",
       "      <td>-0.891</td>\n",
       "      <td>1.211</td>\n",
       "      <td>-1.827</td>\n",
       "      <td>0.990</td>\n",
       "      <td>-0.687</td>\n",
       "      <td>-0.830</td>\n",
       "      <td>-1.122</td>\n",
       "      <td>0.446</td>\n",
       "      <td>0.654</td>\n",
       "      <td>-0.291</td>\n",
       "      <td>0.283</td>\n",
       "      <td>-1.423</td>\n",
       "      <td>-0.108</td>\n",
       "      <td>-0.933</td>\n",
       "      <td>-0.070</td>\n",
       "      <td>1.221</td>\n",
       "      <td>-0.949</td>\n",
       "      <td>-1.773</td>\n",
       "      <td>0.180</td>\n",
       "      <td>-0.183</td>\n",
       "      <td>-0.663</td>\n",
       "      <td>1.508</td>\n",
       "      <td>0.461</td>\n",
       "      <td>-1.024</td>\n",
       "      <td>-0.799</td>\n",
       "      <td>-0.287</td>\n",
       "      <td>0.918</td>\n",
       "      <td>0.257</td>\n",
       "      <td>-0.249</td>\n",
       "      <td>0.326</td>\n",
       "      <td>-0.246</td>\n",
       "      <td>-2.120</td>\n",
       "      <td>-0.436</td>\n",
       "      <td>-0.286</td>\n",
       "      <td>-0.282</td>\n",
       "      <td>-0.991</td>\n",
       "      <td>-0.931</td>\n",
       "      <td>1.702</td>\n",
       "      <td>0.870</td>\n",
       "      <td>0.509</td>\n",
       "      <td>0.455</td>\n",
       "      <td>1.241</td>\n",
       "      <td>0.168</td>\n",
       "      <td>0.717</td>\n",
       "      <td>1.854</td>\n",
       "      <td>0.793</td>\n",
       "      <td>0.067</td>\n",
       "      <td>-1.493</td>\n",
       "      <td>-0.723</td>\n",
       "      <td>0.816</td>\n",
       "      <td>1.035</td>\n",
       "      <td>0.783</td>\n",
       "      <td>-0.849</td>\n",
       "      <td>0.401</td>\n",
       "      <td>-0.287</td>\n",
       "      <td>0.552</td>\n",
       "      <td>-0.112</td>\n",
       "      <td>1.261</td>\n",
       "      <td>0.323</td>\n",
       "      <td>0.511</td>\n",
       "      <td>-0.221</td>\n",
       "      <td>-0.593</td>\n",
       "      <td>1.117</td>\n",
       "      <td>-2.027</td>\n",
       "      <td>-0.108</td>\n",
       "      <td>-1.131</td>\n",
       "      <td>-0.871</td>\n",
       "      <td>1.177</td>\n",
       "      <td>-0.065</td>\n",
       "      <td>1.142</td>\n",
       "      <td>0.280</td>\n",
       "      <td>-0.806</td>\n",
       "      <td>-1.176</td>\n",
       "      <td>0.908</td>\n",
       "      <td>1.831</td>\n",
       "      <td>0.151</td>\n",
       "      <td>-1.386</td>\n",
       "      <td>-0.752</td>\n",
       "      <td>1.923</td>\n",
       "      <td>-1.216</td>\n",
       "      <td>0.995</td>\n",
       "      <td>-0.162</td>\n",
       "      <td>1.560</td>\n",
       "      <td>-0.787</td>\n",
       "      <td>-1.460</td>\n",
       "      <td>1.170</td>\n",
       "      <td>-1.188</td>\n",
       "      <td>2.634</td>\n",
       "      <td>1.044</td>\n",
       "      <td>-0.699</td>\n",
       "      <td>1.283</td>\n",
       "      <td>0.366</td>\n",
       "      <td>0.241</td>\n",
       "      <td>0.078</td>\n",
       "      <td>-0.131</td>\n",
       "      <td>0.093</td>\n",
       "      <td>0.414</td>\n",
       "      <td>-1.943</td>\n",
       "      <td>-2.854</td>\n",
       "      <td>-0.468</td>\n",
       "      <td>-0.250</td>\n",
       "      <td>-0.467</td>\n",
       "      <td>0.193</td>\n",
       "      <td>-1.170</td>\n",
       "      <td>-2.139</td>\n",
       "      <td>-0.465</td>\n",
       "      <td>-0.534</td>\n",
       "      <td>-0.624</td>\n",
       "      <td>0.421</td>\n",
       "      <td>0.000</td>\n",
       "      <td>1.369</td>\n",
       "      <td>0.796</td>\n",
       "      <td>0.358</td>\n",
       "      <td>-1.849</td>\n",
       "      <td>0.239</td>\n",
       "      <td>-0.143</td>\n",
       "      <td>1.576</td>\n",
       "      <td>-1.377</td>\n",
       "      <td>0.097</td>\n",
       "      <td>0.606</td>\n",
       "      <td>0.169</td>\n",
       "      <td>-0.209</td>\n",
       "      <td>1.158</td>\n",
       "      <td>-0.008</td>\n",
       "      <td>-1.433</td>\n",
       "      <td>0.041</td>\n",
       "      <td>-0.168</td>\n",
       "      <td>0.790</td>\n",
       "      <td>-1.685</td>\n",
       "      <td>-0.098</td>\n",
       "      <td>1.145</td>\n",
       "      <td>0.883</td>\n",
       "      <td>1.311</td>\n",
       "      <td>-0.251</td>\n",
       "      <td>-0.910</td>\n",
       "      <td>-1.412</td>\n",
       "      <td>0.676</td>\n",
       "      <td>-0.066</td>\n",
       "      <td>-0.739</td>\n",
       "      <td>1.209</td>\n",
       "      <td>1.188</td>\n",
       "      <td>0.893</td>\n",
       "      <td>-0.642</td>\n",
       "      <td>-0.075</td>\n",
       "      <td>0.255</td>\n",
       "      <td>-0.288</td>\n",
       "      <td>-1.125</td>\n",
       "      <td>-0.484</td>\n",
       "      <td>-0.286</td>\n",
       "      <td>-1.457</td>\n",
       "      <td>1.869</td>\n",
       "      <td>-0.906</td>\n",
       "      <td>-1.527</td>\n",
       "      <td>-0.348</td>\n",
       "      <td>-0.409</td>\n",
       "      <td>0.832</td>\n",
       "      <td>0.281</td>\n",
       "      <td>-0.170</td>\n",
       "      <td>1.656</td>\n",
       "      <td>-0.861</td>\n",
       "      <td>-0.590</td>\n",
       "      <td>-0.466</td>\n",
       "      <td>0.730</td>\n",
       "      <td>-1.140</td>\n",
       "      <td>0.546</td>\n",
       "      <td>0.629</td>\n",
       "      <td>-0.689</td>\n",
       "      <td>-1.421</td>\n",
       "      <td>-0.895</td>\n",
       "      <td>-0.734</td>\n",
       "      <td>-0.069</td>\n",
       "      <td>-1.502</td>\n",
       "      <td>1.384</td>\n",
       "      <td>-0.260</td>\n",
       "      <td>1.857</td>\n",
       "      <td>-0.319</td>\n",
       "      <td>-0.457</td>\n",
       "      <td>2.215</td>\n",
       "      <td>0.321</td>\n",
       "      <td>0.601</td>\n",
       "      <td>0.131</td>\n",
       "      <td>-1.137</td>\n",
       "      <td>0.011</td>\n",
       "      <td>1.137</td>\n",
       "      <td>0.499</td>\n",
       "      <td>-0.262</td>\n",
       "      <td>-1.484</td>\n",
       "      <td>0.216</td>\n",
       "      <td>-2.536</td>\n",
       "      <td>0.191</td>\n",
       "      <td>-0.142</td>\n",
       "      <td>1.387</td>\n",
       "      <td>-1.617</td>\n",
       "      <td>-0.662</td>\n",
       "      <td>-2.288</td>\n",
       "      <td>-1.130</td>\n",
       "      <td>0.651</td>\n",
       "      <td>-0.363</td>\n",
       "      <td>0.686</td>\n",
       "      <td>-0.504</td>\n",
       "      <td>1.734</td>\n",
       "      <td>-0.606</td>\n",
       "      <td>0.514</td>\n",
       "      <td>-0.506</td>\n",
       "      <td>-1.294</td>\n",
       "      <td>0.382</td>\n",
       "      <td>-1.119</td>\n",
       "      <td>1.695</td>\n",
       "      <td>-0.775</td>\n",
       "      <td>-1.428</td>\n",
       "      <td>0.231</td>\n",
       "      <td>-0.780</td>\n",
       "      <td>-1.370</td>\n",
       "      <td>1.093</td>\n",
       "      <td>0.596</td>\n",
       "      <td>-0.589</td>\n",
       "      <td>-0.649</td>\n",
       "      <td>-0.163</td>\n",
       "      <td>-0.958</td>\n",
       "      <td>-1.081</td>\n",
       "      <td>0.805</td>\n",
       "      <td>3.401</td>\n",
       "    </tr>\n",
       "    <tr>\n",
       "      <th>4</th>\n",
       "      <td>4</td>\n",
       "      <td>0.0</td>\n",
       "      <td>0.811</td>\n",
       "      <td>-1.509</td>\n",
       "      <td>0.522</td>\n",
       "      <td>-0.360</td>\n",
       "      <td>-0.220</td>\n",
       "      <td>-0.959</td>\n",
       "      <td>0.334</td>\n",
       "      <td>-0.566</td>\n",
       "      <td>-0.656</td>\n",
       "      <td>-0.499</td>\n",
       "      <td>-0.653</td>\n",
       "      <td>-0.058</td>\n",
       "      <td>-0.046</td>\n",
       "      <td>0.654</td>\n",
       "      <td>-0.697</td>\n",
       "      <td>-1.175</td>\n",
       "      <td>0.720</td>\n",
       "      <td>0.484</td>\n",
       "      <td>0.402</td>\n",
       "      <td>-1.037</td>\n",
       "      <td>1.081</td>\n",
       "      <td>0.716</td>\n",
       "      <td>-0.144</td>\n",
       "      <td>1.720</td>\n",
       "      <td>-1.980</td>\n",
       "      <td>-0.741</td>\n",
       "      <td>-1.493</td>\n",
       "      <td>-0.860</td>\n",
       "      <td>-0.082</td>\n",
       "      <td>0.133</td>\n",
       "      <td>1.084</td>\n",
       "      <td>-0.719</td>\n",
       "      <td>0.198</td>\n",
       "      <td>1.144</td>\n",
       "      <td>1.123</td>\n",
       "      <td>0.435</td>\n",
       "      <td>-0.296</td>\n",
       "      <td>-2.933</td>\n",
       "      <td>0.831</td>\n",
       "      <td>1.905</td>\n",
       "      <td>0.485</td>\n",
       "      <td>0.490</td>\n",
       "      <td>-0.199</td>\n",
       "      <td>-0.269</td>\n",
       "      <td>1.141</td>\n",
       "      <td>0.007</td>\n",
       "      <td>2.126</td>\n",
       "      <td>-0.049</td>\n",
       "      <td>0.699</td>\n",
       "      <td>1.877</td>\n",
       "      <td>-0.658</td>\n",
       "      <td>0.410</td>\n",
       "      <td>-0.426</td>\n",
       "      <td>-0.854</td>\n",
       "      <td>1.443</td>\n",
       "      <td>-0.560</td>\n",
       "      <td>0.993</td>\n",
       "      <td>-0.256</td>\n",
       "      <td>-0.408</td>\n",
       "      <td>-0.414</td>\n",
       "      <td>-0.435</td>\n",
       "      <td>1.597</td>\n",
       "      <td>-1.123</td>\n",
       "      <td>0.155</td>\n",
       "      <td>-1.211</td>\n",
       "      <td>-0.690</td>\n",
       "      <td>0.405</td>\n",
       "      <td>0.200</td>\n",
       "      <td>-1.332</td>\n",
       "      <td>0.479</td>\n",
       "      <td>-1.205</td>\n",
       "      <td>-0.786</td>\n",
       "      <td>0.567</td>\n",
       "      <td>-0.816</td>\n",
       "      <td>1.730</td>\n",
       "      <td>-0.550</td>\n",
       "      <td>-0.351</td>\n",
       "      <td>0.039</td>\n",
       "      <td>1.443</td>\n",
       "      <td>1.162</td>\n",
       "      <td>-0.265</td>\n",
       "      <td>0.599</td>\n",
       "      <td>1.033</td>\n",
       "      <td>-0.684</td>\n",
       "      <td>1.120</td>\n",
       "      <td>-2.142</td>\n",
       "      <td>0.587</td>\n",
       "      <td>0.559</td>\n",
       "      <td>-0.656</td>\n",
       "      <td>-1.717</td>\n",
       "      <td>0.437</td>\n",
       "      <td>0.401</td>\n",
       "      <td>0.889</td>\n",
       "      <td>0.075</td>\n",
       "      <td>-0.833</td>\n",
       "      <td>1.015</td>\n",
       "      <td>-0.728</td>\n",
       "      <td>0.478</td>\n",
       "      <td>-0.963</td>\n",
       "      <td>0.522</td>\n",
       "      <td>0.152</td>\n",
       "      <td>0.356</td>\n",
       "      <td>-1.178</td>\n",
       "      <td>-0.100</td>\n",
       "      <td>-0.838</td>\n",
       "      <td>-0.298</td>\n",
       "      <td>1.117</td>\n",
       "      <td>0.007</td>\n",
       "      <td>-0.505</td>\n",
       "      <td>-1.331</td>\n",
       "      <td>-1.733</td>\n",
       "      <td>0.360</td>\n",
       "      <td>-0.982</td>\n",
       "      <td>1.576</td>\n",
       "      <td>-2.524</td>\n",
       "      <td>-0.868</td>\n",
       "      <td>-0.013</td>\n",
       "      <td>-0.379</td>\n",
       "      <td>-0.070</td>\n",
       "      <td>-0.897</td>\n",
       "      <td>0.657</td>\n",
       "      <td>-1.072</td>\n",
       "      <td>1.149</td>\n",
       "      <td>0.045</td>\n",
       "      <td>1.159</td>\n",
       "      <td>-0.439</td>\n",
       "      <td>-0.763</td>\n",
       "      <td>-0.815</td>\n",
       "      <td>-1.277</td>\n",
       "      <td>-1.090</td>\n",
       "      <td>-0.667</td>\n",
       "      <td>2.564</td>\n",
       "      <td>-0.646</td>\n",
       "      <td>0.209</td>\n",
       "      <td>-1.968</td>\n",
       "      <td>0.462</td>\n",
       "      <td>2.042</td>\n",
       "      <td>-1.328</td>\n",
       "      <td>0.991</td>\n",
       "      <td>-0.167</td>\n",
       "      <td>-0.066</td>\n",
       "      <td>-0.866</td>\n",
       "      <td>-0.582</td>\n",
       "      <td>-1.644</td>\n",
       "      <td>-0.380</td>\n",
       "      <td>0.703</td>\n",
       "      <td>-0.869</td>\n",
       "      <td>-0.617</td>\n",
       "      <td>0.987</td>\n",
       "      <td>0.990</td>\n",
       "      <td>-0.980</td>\n",
       "      <td>0.110</td>\n",
       "      <td>-1.486</td>\n",
       "      <td>-1.458</td>\n",
       "      <td>-1.369</td>\n",
       "      <td>-0.349</td>\n",
       "      <td>1.564</td>\n",
       "      <td>-0.385</td>\n",
       "      <td>-1.240</td>\n",
       "      <td>-1.144</td>\n",
       "      <td>-1.880</td>\n",
       "      <td>-0.408</td>\n",
       "      <td>-0.422</td>\n",
       "      <td>-1.588</td>\n",
       "      <td>0.517</td>\n",
       "      <td>-0.381</td>\n",
       "      <td>-1.308</td>\n",
       "      <td>-1.014</td>\n",
       "      <td>-0.999</td>\n",
       "      <td>0.519</td>\n",
       "      <td>0.035</td>\n",
       "      <td>-0.215</td>\n",
       "      <td>2.196</td>\n",
       "      <td>-0.141</td>\n",
       "      <td>2.366</td>\n",
       "      <td>-0.480</td>\n",
       "      <td>1.524</td>\n",
       "      <td>-1.205</td>\n",
       "      <td>1.278</td>\n",
       "      <td>0.263</td>\n",
       "      <td>0.670</td>\n",
       "      <td>0.212</td>\n",
       "      <td>2.233</td>\n",
       "      <td>-0.793</td>\n",
       "      <td>-0.920</td>\n",
       "      <td>-1.094</td>\n",
       "      <td>-0.484</td>\n",
       "      <td>0.361</td>\n",
       "      <td>1.173</td>\n",
       "      <td>0.501</td>\n",
       "      <td>-0.080</td>\n",
       "      <td>1.341</td>\n",
       "      <td>-0.872</td>\n",
       "      <td>-0.555</td>\n",
       "      <td>-2.281</td>\n",
       "      <td>0.404</td>\n",
       "      <td>-0.361</td>\n",
       "      <td>0.382</td>\n",
       "      <td>-0.237</td>\n",
       "      <td>1.935</td>\n",
       "      <td>-1.906</td>\n",
       "      <td>-0.133</td>\n",
       "      <td>-0.261</td>\n",
       "      <td>-1.074</td>\n",
       "      <td>0.885</td>\n",
       "      <td>-0.107</td>\n",
       "      <td>0.045</td>\n",
       "      <td>-0.051</td>\n",
       "      <td>-0.402</td>\n",
       "      <td>-0.105</td>\n",
       "      <td>-0.510</td>\n",
       "      <td>1.460</td>\n",
       "      <td>-1.562</td>\n",
       "      <td>-0.535</td>\n",
       "      <td>1.349</td>\n",
       "      <td>-1.062</td>\n",
       "      <td>-0.479</td>\n",
       "      <td>-1.271</td>\n",
       "      <td>1.545</td>\n",
       "      <td>1.541</td>\n",
       "      <td>1.139</td>\n",
       "      <td>-1.550</td>\n",
       "      <td>0.183</td>\n",
       "      <td>-0.838</td>\n",
       "      <td>0.400</td>\n",
       "      <td>0.186</td>\n",
       "      <td>-0.143</td>\n",
       "      <td>-0.640</td>\n",
       "      <td>-0.700</td>\n",
       "      <td>-0.622</td>\n",
       "      <td>-1.093</td>\n",
       "      <td>1.045</td>\n",
       "      <td>0.729</td>\n",
       "      <td>-0.896</td>\n",
       "      <td>0.503</td>\n",
       "      <td>-1.940</td>\n",
       "      <td>-0.068</td>\n",
       "      <td>-0.722</td>\n",
       "      <td>0.700</td>\n",
       "      <td>0.772</td>\n",
       "      <td>-0.077</td>\n",
       "      <td>-1.009</td>\n",
       "      <td>-0.138</td>\n",
       "      <td>-0.260</td>\n",
       "      <td>-0.903</td>\n",
       "      <td>0.347</td>\n",
       "      <td>-1.098</td>\n",
       "      <td>-1.027</td>\n",
       "      <td>-0.882</td>\n",
       "      <td>-0.110</td>\n",
       "      <td>0.477</td>\n",
       "      <td>-0.292</td>\n",
       "      <td>-0.635</td>\n",
       "      <td>0.341</td>\n",
       "      <td>1.332</td>\n",
       "      <td>1.940</td>\n",
       "      <td>0.403</td>\n",
       "      <td>0.377</td>\n",
       "      <td>-0.464</td>\n",
       "      <td>0.786</td>\n",
       "      <td>0.285</td>\n",
       "      <td>-0.464</td>\n",
       "      <td>1.427</td>\n",
       "      <td>0.554</td>\n",
       "      <td>-0.131</td>\n",
       "      <td>-1.425</td>\n",
       "      <td>0.487</td>\n",
       "      <td>0.413</td>\n",
       "      <td>-0.231</td>\n",
       "      <td>1.570</td>\n",
       "      <td>-0.714</td>\n",
       "      <td>0.385</td>\n",
       "      <td>-0.072</td>\n",
       "      <td>0.150</td>\n",
       "      <td>-0.228</td>\n",
       "      <td>0.144</td>\n",
       "      <td>-1.537</td>\n",
       "      <td>0.664</td>\n",
       "      <td>-0.133</td>\n",
       "      <td>0.424</td>\n",
       "      <td>0.926</td>\n",
       "      <td>-0.089</td>\n",
       "      <td>-0.415</td>\n",
       "      <td>0.299</td>\n",
       "      <td>-1.227</td>\n",
       "      <td>-2.578</td>\n",
       "      <td>0.600</td>\n",
       "      <td>2.167</td>\n",
       "      <td>-0.755</td>\n",
       "      <td>-1.265</td>\n",
       "      <td>-0.178</td>\n",
       "      <td>0.718</td>\n",
       "      <td>-1.017</td>\n",
       "      <td>1.249</td>\n",
       "      <td>-0.596</td>\n",
       "      <td>-0.445</td>\n",
       "      <td>1.751</td>\n",
       "      <td>1.442</td>\n",
       "      <td>-0.393</td>\n",
       "      <td>-0.643</td>\n",
       "    </tr>\n",
       "  </tbody>\n",
       "</table>\n",
       "</div>"
      ],
      "text/plain": [
       "   id  target      0      1      2      3      4      5      6      7      8  \\\n",
       "0   0     1.0 -1.067 -1.114 -0.616  0.376  1.090  0.467 -0.422  0.460 -0.443   \n",
       "1   1     0.0 -0.831  0.271  1.716  1.096  1.731 -0.197  1.904 -0.265  0.557   \n",
       "2   2     0.0  0.099  1.390 -0.732 -1.065  0.005 -0.081 -1.450  0.317 -0.624   \n",
       "3   3     1.0 -0.989 -0.916 -1.343  0.145  0.543  0.636  1.127  0.189 -0.118   \n",
       "4   4     0.0  0.811 -1.509  0.522 -0.360 -0.220 -0.959  0.334 -0.566 -0.656   \n",
       "\n",
       "       9     10     11     12     13     14     15     16     17     18  \\\n",
       "0 -0.338  0.416 -2.177 -0.326  0.340  1.174 -0.245 -1.070 -0.336 -0.502   \n",
       "1  1.202  0.542  0.424 -1.572 -0.968 -1.483  0.564  0.047 -0.324 -1.490   \n",
       "2 -0.017 -0.665  1.905  0.376 -1.373  1.587  1.464 -1.550 -0.512  0.508   \n",
       "3 -0.638  0.760 -0.360 -2.048 -0.996 -0.361  0.962  0.021  0.595 -0.943   \n",
       "4 -0.499 -0.653 -0.058 -0.046  0.654 -0.697 -1.175  0.720  0.484  0.402   \n",
       "\n",
       "      19     20     21     22     23     24     25     26     27     28  \\\n",
       "0  0.403 -0.605 -0.280 -1.618  0.878 -0.272  0.870  2.171 -0.214  0.477   \n",
       "1  0.179 -0.524  0.250  2.462  0.029 -1.399 -2.370 -1.505 -1.294  0.106   \n",
       "2 -0.094 -0.114 -0.425  0.104  0.643 -1.371  1.553 -0.062 -0.173 -0.465   \n",
       "3  0.069  0.483 -0.063 -0.540 -0.551 -1.736 -2.014  0.636 -1.147 -0.767   \n",
       "4 -1.037  1.081  0.716 -0.144  1.720 -1.980 -0.741 -1.493 -0.860 -0.082   \n",
       "\n",
       "      29     30     31     32     33     34     35     36     37     38  \\\n",
       "0 -2.092  0.835  0.621 -2.810  1.029 -0.736  0.582 -0.079  0.493  1.359   \n",
       "1 -0.145  0.235 -1.045  1.335  1.254 -0.811  1.812  0.181 -0.020  1.125   \n",
       "2 -1.252  0.443  2.205 -1.266 -0.739  0.827 -1.306  0.274 -1.573 -2.011   \n",
       "3 -0.678  0.815  1.696 -0.436 -1.777  0.548  0.318  0.978  1.299 -0.540   \n",
       "4  0.133  1.084 -0.719  0.198  1.144  1.123  0.435 -0.296 -2.933  0.831   \n",
       "\n",
       "      39     40     41     42     43     44     45     46     47     48  \\\n",
       "0 -0.177  0.406 -0.163  1.341  0.754  0.491 -1.560 -0.520  0.766  0.216   \n",
       "1  0.279 -0.682  1.161  1.194  0.243  1.179  1.338 -1.000 -0.362 -0.605   \n",
       "2 -1.228 -1.588 -0.825 -0.259  1.461 -1.751 -0.054 -0.026 -0.511  0.412   \n",
       "3  0.248  1.791 -1.150  0.875  0.957 -1.859  0.000 -2.028 -0.315 -0.339   \n",
       "4  1.905  0.485  0.490 -0.199 -0.269  1.141  0.007  2.126 -0.049  0.699   \n",
       "\n",
       "      49     50     51     52     53     54     55     56     57     58  \\\n",
       "0 -0.510  0.101 -0.602 -0.721 -0.545  1.564  2.003 -1.940  1.285 -0.987   \n",
       "1  1.917 -1.157  0.394 -0.482  1.591  0.106 -0.959  0.600 -1.147 -1.064   \n",
       "2 -0.150  2.040 -0.567 -0.177 -0.882 -0.337  0.785 -0.705  0.600 -0.101   \n",
       "3  1.073 -1.278  0.084  0.020 -1.802 -2.193 -0.450  0.426  1.576 -0.474   \n",
       "4  1.877 -0.658  0.410 -0.426 -0.854  1.443 -0.560  0.993 -0.256 -0.408   \n",
       "\n",
       "      59     60     61     62     63     64     65     66     67     68  \\\n",
       "0 -1.370  1.373 -0.495  0.113 -0.523  0.053 -0.888  0.249  0.687  1.363   \n",
       "1  3.080  1.057  0.947 -1.125  1.288 -0.171  1.124 -0.454  0.698 -0.028   \n",
       "2  0.693  0.954  0.921 -0.130 -0.967  0.678  0.927 -1.526  1.413 -1.146   \n",
       "3 -1.248  0.931  0.649  0.806 -0.980  0.322 -0.113 -0.444  1.556  0.578   \n",
       "4 -0.414 -0.435  1.597 -1.123  0.155 -1.211 -0.690  0.405  0.200 -1.332   \n",
       "\n",
       "      69     70     71     72     73     74     75     76     77     78  \\\n",
       "0  0.169 -1.122  1.209  0.891  0.866  0.847 -1.110  1.224 -1.302 -1.647   \n",
       "1  2.208  0.014  0.872  2.286 -0.822  0.416  1.486 -0.331 -0.993 -0.071   \n",
       "2 -1.758 -0.324  0.173 -1.817 -1.566 -0.978  1.014  0.393 -0.186 -1.427   \n",
       "3  1.359  2.186  0.380  1.580  0.306 -1.822 -1.156 -0.211 -0.595 -0.891   \n",
       "4  0.479 -1.205 -0.786  0.567 -0.816  1.730 -0.550 -0.351  0.039  1.443   \n",
       "\n",
       "      79     80     81     82     83     84     85     86     87     88  \\\n",
       "0 -0.091  0.255  0.730 -0.380  0.294 -0.725  0.844  1.002 -1.267 -0.043   \n",
       "1  0.543 -0.096  0.041  0.138  1.110  0.692  1.407 -0.234 -1.899 -0.131   \n",
       "2  0.232 -0.517  0.095  1.132 -0.304  1.014  0.496  0.331 -0.161 -1.025   \n",
       "3  1.211 -1.827  0.990 -0.687 -0.830 -1.122  0.446  0.654 -0.291  0.283   \n",
       "4  1.162 -0.265  0.599  1.033 -0.684  1.120 -2.142  0.587  0.559 -0.656   \n",
       "\n",
       "      89     90     91     92     93     94     95     96     97     98  \\\n",
       "0  1.158  0.779 -0.733 -0.501  1.841  1.459  0.847  1.926 -0.316  0.044   \n",
       "1  0.934  0.802 -1.041  2.004  1.424  0.423 -0.352 -0.656 -0.053  1.036   \n",
       "2  1.310 -0.457  1.712 -0.651 -0.178  0.186  3.168  2.736  0.910 -1.875   \n",
       "3 -1.423 -0.108 -0.933 -0.070  1.221 -0.949 -1.773  0.180 -0.183 -0.663   \n",
       "4 -1.717  0.437  0.401  0.889  0.075 -0.833  1.015 -0.728  0.478 -0.963   \n",
       "\n",
       "      99    100    101    102    103    104    105    106    107    108  \\\n",
       "0 -0.294  0.120 -1.050  0.730 -1.001 -0.321  0.407  0.469  0.445  1.632   \n",
       "1 -1.228 -0.854 -0.748  1.180  0.575 -1.472 -1.215 -0.889  0.004 -0.145   \n",
       "2  0.068  0.877 -0.282  0.225  0.270  1.027  0.133 -0.491 -0.120 -0.565   \n",
       "3  1.508  0.461 -1.024 -0.799 -0.287  0.918  0.257 -0.249  0.326 -0.246   \n",
       "4  0.522  0.152  0.356 -1.178 -0.100 -0.838 -0.298  1.117  0.007 -0.505   \n",
       "\n",
       "     109    110    111    112    113    114    115    116    117    118  \\\n",
       "0  0.273  1.557  1.196 -0.548 -0.275  0.179  0.584 -1.873  0.928  0.720   \n",
       "1 -0.933 -0.713  0.869  0.539 -0.911 -0.638  0.895 -1.896 -0.604  0.312   \n",
       "2  0.094  0.063 -0.597  0.871 -0.298  0.123 -0.317 -1.409  1.590 -0.719   \n",
       "3 -2.120 -0.436 -0.286 -0.282 -0.991 -0.931  1.702  0.870  0.509  0.455   \n",
       "4 -1.331 -1.733  0.360 -0.982  1.576 -2.524 -0.868 -0.013 -0.379 -0.070   \n",
       "\n",
       "     119    120    121    122    123    124    125    126    127    128  \\\n",
       "0  0.885  0.044 -1.131 -1.576  0.616  1.957 -0.518  1.494  1.573 -0.484   \n",
       "1  1.883 -0.292 -0.849 -0.453  0.894  0.339  2.095  0.336  1.290  0.057   \n",
       "2 -0.645  0.331  0.052 -0.323 -1.327 -0.546  0.799  0.649  0.016 -0.723   \n",
       "3  1.241  0.168  0.717  1.854  0.793  0.067 -1.493 -0.723  0.816  1.035   \n",
       "4 -0.897  0.657 -1.072  1.149  0.045  1.159 -0.439 -0.763 -0.815 -1.277   \n",
       "\n",
       "     129    130    131    132    133    134    135    136    137    138  \\\n",
       "0  0.590 -0.387  0.388 -1.032 -0.841  0.288 -0.230 -2.714 -0.473  0.476   \n",
       "1 -0.159  0.539  0.675 -1.015 -0.304 -1.301 -0.614 -1.176  0.117  0.075   \n",
       "2  0.245  0.034 -0.019  0.568  0.083 -1.295 -0.312  0.252  0.325 -0.075   \n",
       "3  0.783 -0.849  0.401 -0.287  0.552 -0.112  1.261  0.323  0.511 -0.221   \n",
       "4 -1.090 -0.667  2.564 -0.646  0.209 -1.968  0.462  2.042 -1.328  0.991   \n",
       "\n",
       "     139    140    141    142    143    144    145    146    147    148  \\\n",
       "0 -1.352 -0.922  0.329 -0.558  0.787 -1.043 -0.130  0.517  2.445  0.847   \n",
       "1 -0.088  1.888 -0.119  0.434  0.135  1.779  0.554 -0.622 -1.214  0.389   \n",
       "2  0.168 -0.520  0.124  0.677  1.865 -0.405  1.918 -0.847  0.819 -0.405   \n",
       "3 -0.593  1.117 -2.027 -0.108 -1.131 -0.871  1.177 -0.065  1.142  0.280   \n",
       "4 -0.167 -0.066 -0.866 -0.582 -1.644 -0.380  0.703 -0.869 -0.617  0.987   \n",
       "\n",
       "     149    150    151    152    153    154    155    156    157    158  \\\n",
       "0 -0.636 -0.324  0.753  0.058 -1.461 -0.820 -0.076  1.127 -0.496  1.020   \n",
       "1  0.136  1.035  0.101 -1.592 -0.552  1.145  0.587  1.117 -0.645  1.022   \n",
       "2 -0.102  1.879 -2.472  0.559 -0.307  0.186 -1.425 -0.379  0.443 -0.887   \n",
       "3 -0.806 -1.176  0.908  1.831  0.151 -1.386 -0.752  1.923 -1.216  0.995   \n",
       "4  0.990 -0.980  0.110 -1.486 -1.458 -1.369 -0.349  1.564 -0.385 -1.240   \n",
       "\n",
       "     159    160    161    162    163    164    165    166    167    168  \\\n",
       "0  0.279  0.262 -0.277 -0.166 -0.089 -1.696 -0.598 -0.710 -0.431  0.355   \n",
       "1  0.639  0.968  0.176 -1.132  0.119  0.428 -1.739  0.758 -1.445  0.916   \n",
       "2  0.868 -0.914  0.178  2.272 -0.220  0.355  1.122  1.518 -0.824  1.461   \n",
       "3 -0.162  1.560 -0.787 -1.460  1.170 -1.188  2.634  1.044 -0.699  1.283   \n",
       "4 -1.144 -1.880 -0.408 -0.422 -1.588  0.517 -0.381 -1.308 -1.014 -0.999   \n",
       "\n",
       "     169    170    171    172    173    174    175    176    177    178  \\\n",
       "0  0.966 -1.150 -0.156  0.393 -0.117  0.444  0.948 -0.608 -0.106 -0.491   \n",
       "1 -0.366  0.632 -0.357 -0.460 -1.990  0.381 -1.490  1.068 -0.618 -0.905   \n",
       "2 -1.124  0.062 -0.143 -0.813 -0.484  1.302  1.070  1.999 -0.323  0.923   \n",
       "3  0.366  0.241  0.078 -0.131  0.093  0.414 -1.943 -2.854 -0.468 -0.250   \n",
       "4  0.519  0.035 -0.215  2.196 -0.141  2.366 -0.480  1.524 -1.205  1.278   \n",
       "\n",
       "     179    180    181    182    183    184    185    186    187    188  \\\n",
       "0 -0.608  1.565  1.013 -1.391  0.807 -0.607 -0.856  1.230  0.124 -0.336   \n",
       "1 -0.274  0.503  0.031 -0.255  1.721  2.848  0.372 -1.688  0.382 -1.252   \n",
       "2  0.120  1.156  0.234 -0.861 -0.990 -0.997  0.309  0.195 -0.472  0.105   \n",
       "3 -0.467  0.193 -1.170 -2.139 -0.465 -0.534 -0.624  0.421  0.000  1.369   \n",
       "4  0.263  0.670  0.212  2.233 -0.793 -0.920 -1.094 -0.484  0.361  1.173   \n",
       "\n",
       "     189    190    191    192    193    194    195    196    197    198  \\\n",
       "0  1.758 -1.649 -1.429 -1.322 -1.501  2.125 -0.572  1.178 -1.451 -0.374   \n",
       "1  0.757  2.364  0.526 -0.385 -0.446  0.120  0.165 -0.726 -1.985  1.572   \n",
       "2  1.051  1.308 -0.253  2.036  0.549  0.050  1.075  0.192 -1.056  0.961   \n",
       "3  0.796  0.358 -1.849  0.239 -0.143  1.576 -1.377  0.097  0.606  0.169   \n",
       "4  0.501 -0.080  1.341 -0.872 -0.555 -2.281  0.404 -0.361  0.382 -0.237   \n",
       "\n",
       "     199    200    201    202    203    204    205    206    207    208  \\\n",
       "0  2.386  1.883  0.758  0.295  1.261 -0.837  0.140 -0.183  0.756  0.616   \n",
       "1  0.798 -0.268 -0.567  0.550  0.020 -0.550 -2.273  0.898 -1.677 -0.374   \n",
       "2 -0.092 -0.084  0.323  1.248  0.766  1.742 -1.368 -0.420 -1.639  0.737   \n",
       "3 -0.209  1.158 -0.008 -1.433  0.041 -0.168  0.790 -1.685 -0.098  1.145   \n",
       "4  1.935 -1.906 -0.133 -0.261 -1.074  0.885 -0.107  0.045 -0.051 -0.402   \n",
       "\n",
       "     209    210    211    212    213    214    215    216    217    218  \\\n",
       "0  1.371  0.820 -0.702 -1.266  0.496 -0.669 -0.325 -0.170  0.147 -1.134   \n",
       "1 -0.188  0.833 -1.540 -0.270 -0.822  0.520 -1.663  0.311  0.638 -1.132   \n",
       "2 -1.618 -0.057 -1.601 -0.675 -1.735 -1.448 -0.759 -0.679  2.789 -1.189   \n",
       "3  0.883  1.311 -0.251 -0.910 -1.412  0.676 -0.066 -0.739  1.209  1.188   \n",
       "4 -0.105 -0.510  1.460 -1.562 -0.535  1.349 -1.062 -0.479 -1.271  1.545   \n",
       "\n",
       "     219    220    221    222    223    224    225    226    227    228  \\\n",
       "0  0.077  1.271 -0.087 -1.431  1.640  0.694  0.949 -2.400  0.657 -0.431   \n",
       "1  0.475 -1.414  1.331 -0.566  1.086  0.177 -0.350 -0.765  2.033  0.122   \n",
       "2 -0.019 -0.294  0.828  1.888 -0.856 -1.526 -1.376  0.333 -0.930  0.648   \n",
       "3  0.893 -0.642 -0.075  0.255 -0.288 -1.125 -0.484 -0.286 -1.457  1.869   \n",
       "4  1.541  1.139 -1.550  0.183 -0.838  0.400  0.186 -0.143 -0.640 -0.700   \n",
       "\n",
       "     229    230    231    232    233    234    235    236    237    238  \\\n",
       "0  0.124 -0.335 -2.820  0.573 -0.755  3.798 -0.001  0.998 -0.543  1.018   \n",
       "1  1.283  1.790 -1.005  0.228  0.119 -1.088 -0.249 -1.386 -0.178 -0.784   \n",
       "2 -1.324  0.470 -0.569 -0.079  1.050  0.358 -1.130 -0.437  0.328  0.332   \n",
       "3 -0.906 -1.527 -0.348 -0.409  0.832  0.281 -0.170  1.656 -0.861 -0.590   \n",
       "4 -0.622 -1.093  1.045  0.729 -0.896  0.503 -1.940 -0.068 -0.722  0.700   \n",
       "\n",
       "     239    240    241    242    243    244    245    246    247    248  \\\n",
       "0  0.883 -1.037  0.513  0.694  0.856 -0.523  0.596  0.971  0.279  2.684   \n",
       "1  0.810  0.717  0.962  0.945  1.275 -0.879  0.372  0.965  0.610 -0.647   \n",
       "2  0.324  0.026  1.004  1.277  1.131  0.144  0.817  0.600  0.910 -0.757   \n",
       "3 -0.466  0.730 -1.140  0.546  0.629 -0.689 -1.421 -0.895 -0.734 -0.069   \n",
       "4  0.772 -0.077 -1.009 -0.138 -0.260 -0.903  0.347 -1.098 -1.027 -0.882   \n",
       "\n",
       "     249    250    251    252    253    254    255    256    257    258  \\\n",
       "0 -0.057 -1.754  0.297 -2.196  0.798 -0.533 -0.661  0.564 -2.400  0.945   \n",
       "1  0.116 -1.935 -1.365 -1.609 -0.119 -0.690 -0.239  0.919  0.182 -0.203   \n",
       "2 -0.108  0.218  1.675 -1.223  0.206  2.153  0.257  1.761  0.848 -0.960   \n",
       "3 -1.502  1.384 -0.260  1.857 -0.319 -0.457  2.215  0.321  0.601  0.131   \n",
       "4 -0.110  0.477 -0.292 -0.635  0.341  1.332  1.940  0.403  0.377 -0.464   \n",
       "\n",
       "     259    260    261    262    263    264    265    266    267    268  \\\n",
       "0 -0.971  0.055  1.107 -0.848 -1.781  0.254 -0.515  0.234  0.296 -1.774   \n",
       "1 -1.034  0.627 -1.472  0.496 -0.052  0.322 -0.222  1.168  0.931 -0.203   \n",
       "2  1.468 -1.610 -0.801  1.557  0.628 -0.072 -0.573  0.507 -1.229  0.313   \n",
       "3 -1.137  0.011  1.137  0.499 -0.262 -1.484  0.216 -2.536  0.191 -0.142   \n",
       "4  0.786  0.285 -0.464  1.427  0.554 -0.131 -1.425  0.487  0.413 -0.231   \n",
       "\n",
       "     269    270    271    272    273    274    275    276    277    278  \\\n",
       "0  2.032 -0.442 -0.116  1.393 -0.494 -0.179  1.874  1.463 -1.397  0.284   \n",
       "1  0.321  0.761  1.752  0.181 -3.029 -0.578 -0.260 -0.425 -0.160 -0.497   \n",
       "2  1.446 -0.345  1.147 -0.623 -0.048  1.456 -0.932  0.666  0.451  0.671   \n",
       "3  1.387 -1.617 -0.662 -2.288 -1.130  0.651 -0.363  0.686 -0.504  1.734   \n",
       "4  1.570 -0.714  0.385 -0.072  0.150 -0.228  0.144 -1.537  0.664 -0.133   \n",
       "\n",
       "     279    280    281    282    283    284    285    286    287    288  \\\n",
       "0  0.336  0.551  0.557 -0.522 -0.503 -0.541  1.393  0.506 -1.420 -0.123   \n",
       "1 -0.049  1.097  0.398  0.554  0.578 -0.544  0.441 -0.524 -1.474 -0.090   \n",
       "2 -0.596 -0.135  0.966 -0.167  0.530 -1.493 -0.917  0.120  0.258 -0.405   \n",
       "3 -0.606  0.514 -0.506 -1.294  0.382 -1.119  1.695 -0.775 -1.428  0.231   \n",
       "4  0.424  0.926 -0.089 -0.415  0.299 -1.227 -2.578  0.600  2.167 -0.755   \n",
       "\n",
       "     289    290    291    292    293    294    295    296    297    298    299  \n",
       "0 -1.833  0.220 -0.339  0.254 -0.179  0.352  0.125  0.347  0.436  0.958 -0.824  \n",
       "1 -0.607 -0.765 -0.735 -1.158  2.554  0.856 -1.506  0.462 -0.029 -1.932 -0.343  \n",
       "2 -0.859 -1.311  0.799 -1.001  1.544  0.575 -0.309 -0.339 -0.148 -0.646  0.725  \n",
       "3 -0.780 -1.370  1.093  0.596 -0.589 -0.649 -0.163 -0.958 -1.081  0.805  3.401  \n",
       "4 -1.265 -0.178  0.718 -1.017  1.249 -0.596 -0.445  1.751  1.442 -0.393 -0.643  "
      ]
     },
     "execution_count": 3,
     "metadata": {},
     "output_type": "execute_result"
    }
   ],
   "source": [
    "train.head()"
   ]
  },
  {
   "cell_type": "code",
   "execution_count": 7,
   "metadata": {},
   "outputs": [
    {
     "data": {
      "image/png": "[encoded data removed]",
      "text/plain": [
       "<Figure size 432x288 with 1 Axes>"
      ]
     },
     "metadata": {
      "needs_background": "light"
     },
     "output_type": "display_data"
    }
   ],
   "source": [
    "train[train.columns[2:]].std().plot(kind='hist');\n",
    "plt.title('Distribution of stds of all columns');"
   ]
  },
  {
   "cell_type": "markdown",
   "metadata": {},
   "source": [
    "特徴量列ごとの標準偏差のヒストグラム"
   ]
  },
  {
   "cell_type": "code",
   "execution_count": 8,
   "metadata": {},
   "outputs": [
    {
     "data": {
      "image/png": "[encoded data removed]",
      "text/plain": [
       "<Figure size 432x288 with 1 Axes>"
      ]
     },
     "metadata": {
      "needs_background": "light"
     },
     "output_type": "display_data"
    }
   ],
   "source": [
    "train[train.columns[2:]].mean().plot(kind='hist');\n",
    "plt.title('Distribution of means of all columns');"
   ]
  },
  {
   "cell_type": "markdown",
   "metadata": {},
   "source": [
    "特徴量列ごとの平均値のヒストグラム"
   ]
  },
  {
   "cell_type": "code",
   "execution_count": 9,
   "metadata": {},
   "outputs": [
    {
     "data": {
      "text/plain": [
       "False"
      ]
     },
     "execution_count": 9,
     "metadata": {},
     "output_type": "execute_result"
    }
   ],
   "source": [
    "# we have no missing values\n",
    "train.isnull().any().any()"
   ]
  },
  {
   "cell_type": "code",
   "execution_count": 10,
   "metadata": {},
   "outputs": [
    {
     "name": "stdout",
     "output_type": "stream",
     "text": [
      "Distributions of first 28 columns\n"
     ]
    },
    {
     "data": {
      "image/png": "[encoded data removed]",
      "text/plain": [
       "<Figure size 1872x1728 with 28 Axes>"
      ]
     },
     "metadata": {
      "needs_background": "light"
     },
     "output_type": "display_data"
    }
   ],
   "source": [
    "print('Distributions of first 28 columns')\n",
    "plt.figure(figsize=(26, 24))\n",
    "for i, col in enumerate(list(train.columns)[2:30]):\n",
    "    plt.subplot(7, 4, i + 1)\n",
    "    plt.hist(train[col])\n",
    "    plt.title(col)"
   ]
  },
  {
   "cell_type": "code",
   "execution_count": 11,
   "metadata": {},
   "outputs": [
    {
     "data": {
      "text/plain": [
       "0.0    183\n",
       "1.0     67\n",
       "Name: target, dtype: int64"
      ]
     },
     "execution_count": 11,
     "metadata": {},
     "output_type": "execute_result"
    }
   ],
   "source": [
    "train['target'].value_counts()"
   ]
  },
  {
   "cell_type": "markdown",
   "metadata": {},
   "source": [
    "この概要から、次のことがわかります。\n",
    "\n",
    "- ターゲットはバイナリであり、多少の不均衡があります。サンプルの36％は0クラスに属しています。\n",
    "- 列の値は多かれ少なかれ類似しています。\n",
    "- 列のstdは1 +/- 0.1です（最小値と最大値はそれぞれ0.889、1.117）。\n",
    "- 列の平均は0 +/- 0.15です（最小値と最大値はそれぞれ-0.2、0.1896です）。\n",
    "\n",
    "では相関関係を見てみましょう！"
   ]
  },
  {
   "cell_type": "code",
   "execution_count": 12,
   "metadata": {},
   "outputs": [
    {
     "data": {
      "text/html": [
       "<div>\n",
       "<style scoped>\n",
       "    .dataframe tbody tr th:only-of-type {\n",
       "        vertical-align: middle;\n",
       "    }\n",
       "\n",
       "    .dataframe tbody tr th {\n",
       "        vertical-align: top;\n",
       "    }\n",
       "\n",
       "    .dataframe thead th {\n",
       "        text-align: right;\n",
       "    }\n",
       "</style>\n",
       "<table border=\"1\" class=\"dataframe\">\n",
       "  <thead>\n",
       "    <tr style=\"text-align: right;\">\n",
       "      <th></th>\n",
       "      <th>level_0</th>\n",
       "      <th>level_1</th>\n",
       "      <th>0</th>\n",
       "    </tr>\n",
       "  </thead>\n",
       "  <tbody>\n",
       "    <tr>\n",
       "      <th>90892</th>\n",
       "      <td>219</td>\n",
       "      <td>279</td>\n",
       "      <td>0.238512</td>\n",
       "    </tr>\n",
       "    <tr>\n",
       "      <th>90893</th>\n",
       "      <td>279</td>\n",
       "      <td>219</td>\n",
       "      <td>0.238512</td>\n",
       "    </tr>\n",
       "    <tr>\n",
       "      <th>90894</th>\n",
       "      <td>23</td>\n",
       "      <td>20</td>\n",
       "      <td>0.246984</td>\n",
       "    </tr>\n",
       "    <tr>\n",
       "      <th>90895</th>\n",
       "      <td>20</td>\n",
       "      <td>23</td>\n",
       "      <td>0.246984</td>\n",
       "    </tr>\n",
       "    <tr>\n",
       "      <th>90896</th>\n",
       "      <td>146</td>\n",
       "      <td>228</td>\n",
       "      <td>0.258447</td>\n",
       "    </tr>\n",
       "    <tr>\n",
       "      <th>90897</th>\n",
       "      <td>228</td>\n",
       "      <td>146</td>\n",
       "      <td>0.258447</td>\n",
       "    </tr>\n",
       "    <tr>\n",
       "      <th>90898</th>\n",
       "      <td>6</td>\n",
       "      <td>39</td>\n",
       "      <td>0.267727</td>\n",
       "    </tr>\n",
       "    <tr>\n",
       "      <th>90899</th>\n",
       "      <td>39</td>\n",
       "      <td>6</td>\n",
       "      <td>0.267727</td>\n",
       "    </tr>\n",
       "    <tr>\n",
       "      <th>90900</th>\n",
       "      <td>127</td>\n",
       "      <td>target</td>\n",
       "      <td>0.337540</td>\n",
       "    </tr>\n",
       "    <tr>\n",
       "      <th>90901</th>\n",
       "      <td>target</td>\n",
       "      <td>127</td>\n",
       "      <td>0.337540</td>\n",
       "    </tr>\n",
       "  </tbody>\n",
       "</table>\n",
       "</div>"
      ],
      "text/plain": [
       "      level_0 level_1         0\n",
       "90892     219     279  0.238512\n",
       "90893     279     219  0.238512\n",
       "90894      23      20  0.246984\n",
       "90895      20      23  0.246984\n",
       "90896     146     228  0.258447\n",
       "90897     228     146  0.258447\n",
       "90898       6      39  0.267727\n",
       "90899      39       6  0.267727\n",
       "90900     127  target  0.337540\n",
       "90901  target     127  0.337540"
      ]
     },
     "execution_count": 12,
     "metadata": {},
     "output_type": "execute_result"
    }
   ],
   "source": [
    "#unstackで行から列にピボット\n",
    "corrs = train.corr().abs().unstack().sort_values(kind=\"quicksort\").reset_index()\n",
    "#特徴量が同じものは削除\n",
    "corrs = corrs[corrs['level_0'] != corrs['level_1']]\n",
    "corrs.tail(10)"
   ]
  },
  {
   "cell_type": "markdown",
   "metadata": {},
   "source": [
    "特徴量間の相関は0.3よりも低く、ターゲットと最も相関のある特徴量の相関は0.37であることがわかります。 そのため、削除できる相関の高い特徴量はありませんが、ターゲットとの相関がほとんどない列をいくつか削除することもできます。"
   ]
  },
  {
   "cell_type": "markdown",
   "metadata": {},
   "source": [
    "## Basic modelling"
   ]
  },
  {
   "cell_type": "code",
   "execution_count": 5,
   "metadata": {},
   "outputs": [],
   "source": [
    "X_train = train.drop(['id', 'target'], axis=1)\n",
    "y_train = train['target']\n",
    "X_test = test.drop(['id'], axis=1)\n",
    "n_fold = 20\n",
    "\n",
    "#k分割交差検証(不均衡データのため)\n",
    "folds = StratifiedKFold(n_splits=n_fold, shuffle=True, random_state=42)\n",
    "\n",
    "#KFoldを指定回数分リピートする分割法(サンプル分割法は毎リピートで変わる)\n",
    "repeated_folds = RepeatedStratifiedKFold(n_splits=20, \n",
    "                                         n_repeats=20, \n",
    "                                         random_state=42)\n",
    "\n",
    "scaler = StandardScaler()\n",
    "X_train = scaler.fit_transform(X_train)\n",
    "X_test = scaler.transform(X_test)"
   ]
  },
  {
   "cell_type": "code",
   "execution_count": 6,
   "metadata": {},
   "outputs": [],
   "source": [
    "def train_model(X, X_test, y, params, folds=folds, model_type='lgb', plot_feature_importance=False, averaging='usual', model=None):\n",
    "    oof = np.zeros(len(X))\n",
    "    prediction = np.zeros(len(X_test))\n",
    "    scores = []\n",
    "    feature_importance = pd.DataFrame()\n",
    "    for fold_n, (train_index, valid_index) in enumerate(folds.split(X, y)):\n",
    "        # print('Fold', fold_n, 'started at', time.ctime())\n",
    "        X_train, X_valid = X[train_index], X[valid_index]\n",
    "        y_train, y_valid = y[train_index], y[valid_index]\n",
    "        \n",
    "        if model_type == 'lgb':\n",
    "            train_data = lgb.Dataset(X_train, label=y_train)\n",
    "            valid_data = lgb.Dataset(X_valid, label=y_valid)\n",
    "            \n",
    "            model = lgb.train(params,\n",
    "                    train_data,\n",
    "                    num_boost_round=2000,\n",
    "                    valid_sets = [train_data, valid_data],\n",
    "                    verbose_eval=500,\n",
    "                    early_stopping_rounds = 200)\n",
    "            \n",
    "            y_pred_valid = model.predict(X_valid)\n",
    "            y_pred = model.predict(X_test, num_iteration=model.best_iteration_)\n",
    "\n",
    "        if model_type == 'xgb':\n",
    "            train_data = xgb.DMatrix(data=X_train, label=y_train, feature_names=X_tr.columns)\n",
    "            valid_data = xgb.DMatrix(data=X_valid, label=y_valid, feature_names=X_tr.columns)\n",
    "\n",
    "            watchlist = [(train_data, 'train'), (valid_data, 'valid_data')]\n",
    "            model = xgb.train(dtrain=train_data, num_boost_round=20000, evals=watchlist, early_stopping_rounds=200, verbose_eval=500, params=params)\n",
    "            y_pred_valid = model.predict(xgb.DMatrix(X_valid, feature_names=X_tr.columns), ntree_limit=model.best_ntree_limit)\n",
    "            y_pred = model.predict(xgb.DMatrix(X_test, feature_names=X_tr.columns), ntree_limit=model.best_ntree_limit)\n",
    "            \n",
    "        if model_type == 'cat':\n",
    "            model = CatBoostClassifier(iterations=20000,  eval_metric='AUC', **params)\n",
    "            model.fit(X_train, y_train, eval_set=(X_valid, y_valid), cat_features=[], use_best_model=True, verbose=False)\n",
    "\n",
    "            y_pred_valid = model.predict(X_valid)\n",
    "            y_pred = model.predict(X_test)\n",
    "            \n",
    "            \n",
    "        if model_type == 'sklearn':\n",
    "            model = model\n",
    "            model.fit(X_train, y_train)\n",
    "            y_pred_valid = model.predict(X_valid).reshape(-1,)\n",
    "            score = roc_auc_score(y_valid, y_pred_valid)\n",
    "            # print(f'Fold {fold_n}. AUC: {score:.4f}.')\n",
    "            # print('')\n",
    "            \n",
    "            y_pred = model.predict_proba(X_test)[:, 1]\n",
    "            \n",
    "        if model_type == 'glm':\n",
    "            model = sm.GLM(y_train, X_train, family=sm.families.Binomial())\n",
    "            model_results = model.fit()\n",
    "            model_results.predict(X_test)\n",
    "            y_pred_valid = model_results.predict(X_valid).reshape(-1,)\n",
    "            score = roc_auc_score(y_valid, y_pred_valid)\n",
    "            \n",
    "            y_pred = model_results.predict(X_test)\n",
    "        \n",
    "        oof[valid_index] = y_pred_valid.reshape(-1,)\n",
    "        scores.append(roc_auc_score(y_valid, y_pred_valid))\n",
    "\n",
    "        if averaging == 'usual':\n",
    "            prediction += y_pred\n",
    "        elif averaging == 'rank':\n",
    "            prediction += pd.Series(y_pred).rank().values  \n",
    "        \n",
    "        if model_type == 'lgb':\n",
    "            # feature importance\n",
    "            fold_importance = pd.DataFrame()\n",
    "            fold_importance[\"feature\"] = X.columns\n",
    "            fold_importance[\"importance\"] = model.feature_importances_\n",
    "            fold_importance[\"fold\"] = fold_n + 1\n",
    "            feature_importance = pd.concat([feature_importance, fold_importance], axis=0)\n",
    "            \n",
    "    prediction /= n_fold\n",
    "    \n",
    "    print('CV mean score: {0:.4f}, std: {1:.4f}.'.format(np.mean(scores), np.std(scores)))\n",
    "    \n",
    "    if model_type == 'lgb':\n",
    "        feature_importance[\"importance\"] /= n_fold\n",
    "        if plot_feature_importance:\n",
    "            cols = feature_importance[[\"feature\", \"importance\"]].groupby(\"feature\").mean().sort_values(\n",
    "                by=\"importance\", ascending=False)[:50].index\n",
    "\n",
    "            best_features = feature_importance.loc[feature_importance.feature.isin(cols)]\n",
    "\n",
    "            plt.figure(figsize=(16, 12));\n",
    "            sns.barplot(x=\"importance\", y=\"feature\", data=best_features.sort_values(by=\"importance\", ascending=False));\n",
    "            plt.title('LGB Features (avg over folds)');\n",
    "        \n",
    "            return oof, prediction, feature_importance\n",
    "        return oof, prediction, scores\n",
    "    \n",
    "    else:\n",
    "        return oof, prediction, scores"
   ]
  },
  {
   "cell_type": "code",
   "execution_count": 16,
   "metadata": {},
   "outputs": [
    {
     "name": "stdout",
     "output_type": "stream",
     "text": [
      "CV mean score: 0.7431, std: 0.1357.\n"
     ]
    }
   ],
   "source": [
    "# A lot of people are using logreg currently, let's try\n",
    "model = linear_model.LogisticRegression(class_weight='balanced', penalty='l1', C=0.1, solver='liblinear')\n",
    "oof_lr, prediction_lr, scores = train_model(X_train, X_test, y_train, params=None, model_type='sklearn', model=model)"
   ]
  },
  {
   "cell_type": "code",
   "execution_count": 18,
   "metadata": {},
   "outputs": [
    {
     "name": "stdout",
     "output_type": "stream",
     "text": [
      "CV mean score: 0.5083, std: 0.0363.\n"
     ]
    }
   ],
   "source": [
    "# A lot of people are using logreg currently, let's try\n",
    "cat_params = {'learning_rate': 0.02,\n",
    "              'depth': 5,\n",
    "              'l2_leaf_reg': 10,\n",
    "              'bootstrap_type': 'Bernoulli',\n",
    "              #'metric_period': 500,\n",
    "              'od_type': 'Iter',\n",
    "              'od_wait': 50,\n",
    "              'random_seed': 11,\n",
    "              'allow_writing_files': False}\n",
    "oof_lr, prediction_lr, scores = train_model(X_train, X_test, y_train, \n",
    "                                            params=cat_params, model_type='cat')"
   ]
  },
  {
   "cell_type": "code",
   "execution_count": 19,
   "metadata": {},
   "outputs": [
    {
     "name": "stdout",
     "output_type": "stream",
     "text": [
      "0:\ttotal: 68.3ms\tremaining: 27.2s\n"
     ]
    },
    {
     "name": "stderr",
     "output_type": "stream",
     "text": [
      "You should provide test set for use best model. use_best_model parameter has been switched to false value.\n"
     ]
    },
    {
     "name": "stdout",
     "output_type": "stream",
     "text": [
      "200:\ttotal: 13.4s\tremaining: 13.3s\n",
      "399:\ttotal: 26.5s\tremaining: 0us\n"
     ]
    },
    {
     "data": {
      "text/plain": [
       "<catboost.core.CatBoostClassifier at 0x22cf131e708>"
      ]
     },
     "execution_count": 19,
     "metadata": {},
     "output_type": "execute_result"
    }
   ],
   "source": [
    "model = CatBoostClassifier(iterations=400,  eval_metric='AUC', **cat_params)\n",
    "model.fit(X_train, y_train, cat_features=[], use_best_model=True, verbose=200)"
   ]
  },
  {
   "cell_type": "markdown",
   "metadata": {},
   "source": [
    "イテレーションを400回にして実行速度を確認してるだけ？"
   ]
  },
  {
   "cell_type": "code",
   "execution_count": 7,
   "metadata": {},
   "outputs": [
    {
     "name": "stdout",
     "output_type": "stream",
     "text": [
      "CV mean score: 0.7071, std: 0.1428.\n"
     ]
    }
   ],
   "source": [
    "model = linear_model.LogisticRegression(class_weight='balanced', penalty='l1', \n",
    "                                        C=0.1, solver='liblinear')\n",
    "oof_lr, prediction_lr_repeated, scores = train_model(X_train, X_test, \n",
    "                                                     y_train, params=None, \n",
    "                                                     model_type='sklearn', \n",
    "                                                     model=model, \n",
    "                                                     folds=repeated_folds)"
   ]
  },
  {
   "cell_type": "markdown",
   "metadata": {},
   "source": [
    "検証法をRepeatedStratifiedKFoldにした場合"
   ]
  },
  {
   "cell_type": "markdown",
   "metadata": {},
   "source": [
    "predict_lrを提出すると、リーダーボードに0.847が表示されます。"
   ]
  },
  {
   "cell_type": "markdown",
   "metadata": {},
   "source": [
    "## ELI5\n",
    "ELI5は、機械学習モデルの説明を提供するパッケージです。 これは、線形モデルだけでなく、ランダムフォレストやlightgbmなどのツリーベースでも実行できます。"
   ]
  },
  {
   "cell_type": "code",
   "execution_count": 10,
   "metadata": {},
   "outputs": [
    {
     "data": {
      "text/html": [
       "\n",
       "    <style>\n",
       "    table.eli5-weights tr:hover {\n",
       "        filter: brightness(85%);\n",
       "    }\n",
       "</style>\n",
       "\n",
       "\n",
       "\n",
       "    \n",
       "\n",
       "    \n",
       "\n",
       "    \n",
       "\n",
       "    \n",
       "\n",
       "    \n",
       "\n",
       "    \n",
       "\n",
       "\n",
       "    \n",
       "\n",
       "    \n",
       "\n",
       "    \n",
       "\n",
       "    \n",
       "        \n",
       "\n",
       "    \n",
       "\n",
       "        \n",
       "            \n",
       "                \n",
       "                \n",
       "    \n",
       "        <p style=\"margin-bottom: 0.5em; margin-top: 0em\">\n",
       "            <b>\n",
       "    \n",
       "        y=1.0\n",
       "    \n",
       "</b>\n",
       "\n",
       "top features\n",
       "        </p>\n",
       "    \n",
       "    <table class=\"eli5-weights\"\n",
       "           style=\"border-collapse: collapse; border: none; margin-top: 0em; table-layout: auto; margin-bottom: 2em;\">\n",
       "        <thead>\n",
       "        <tr style=\"border: none;\">\n",
       "            \n",
       "                <th style=\"padding: 0 1em 0 0.5em; text-align: right; border: none;\" title=\"Feature weights. Note that weights do not account for feature value scales, so if feature values have different scales, features with highest weights might not be the most important.\">\n",
       "                    Weight<sup>?</sup>\n",
       "                </th>\n",
       "            \n",
       "            <th style=\"padding: 0 0.5em 0 0.5em; text-align: left; border: none;\">Feature</th>\n",
       "            \n",
       "        </tr>\n",
       "        </thead>\n",
       "        <tbody>\n",
       "        \n",
       "            <tr style=\"background-color: hsl(120, 100.00%, 80.00%); border: none;\">\n",
       "    <td style=\"padding: 0 1em 0 0.5em; text-align: right; border: none;\">\n",
       "        +0.568\n",
       "    </td>\n",
       "    <td style=\"padding: 0 0.5em 0 0.5em; text-align: left; border: none;\">\n",
       "        x127\n",
       "    </td>\n",
       "    \n",
       "</tr>\n",
       "        \n",
       "            <tr style=\"background-color: hsl(120, 100.00%, 85.87%); border: none;\">\n",
       "    <td style=\"padding: 0 1em 0 0.5em; text-align: right; border: none;\">\n",
       "        +0.346\n",
       "    </td>\n",
       "    <td style=\"padding: 0 0.5em 0 0.5em; text-align: left; border: none;\">\n",
       "        x18\n",
       "    </td>\n",
       "    \n",
       "</tr>\n",
       "        \n",
       "            <tr style=\"background-color: hsl(120, 100.00%, 91.70%); border: none;\">\n",
       "    <td style=\"padding: 0 1em 0 0.5em; text-align: right; border: none;\">\n",
       "        +0.162\n",
       "    </td>\n",
       "    <td style=\"padding: 0 0.5em 0 0.5em; text-align: left; border: none;\">\n",
       "        x66\n",
       "    </td>\n",
       "    \n",
       "</tr>\n",
       "        \n",
       "            <tr style=\"background-color: hsl(120, 100.00%, 93.15%); border: none;\">\n",
       "    <td style=\"padding: 0 1em 0 0.5em; text-align: right; border: none;\">\n",
       "        +0.123\n",
       "    </td>\n",
       "    <td style=\"padding: 0 0.5em 0 0.5em; text-align: left; border: none;\">\n",
       "        x241\n",
       "    </td>\n",
       "    \n",
       "</tr>\n",
       "        \n",
       "            <tr style=\"background-color: hsl(120, 100.00%, 94.48%); border: none;\">\n",
       "    <td style=\"padding: 0 1em 0 0.5em; text-align: right; border: none;\">\n",
       "        +0.090\n",
       "    </td>\n",
       "    <td style=\"padding: 0 0.5em 0 0.5em; text-align: left; border: none;\">\n",
       "        x32\n",
       "    </td>\n",
       "    \n",
       "</tr>\n",
       "        \n",
       "            <tr style=\"background-color: hsl(120, 100.00%, 94.51%); border: none;\">\n",
       "    <td style=\"padding: 0 1em 0 0.5em; text-align: right; border: none;\">\n",
       "        +0.090\n",
       "    </td>\n",
       "    <td style=\"padding: 0 0.5em 0 0.5em; text-align: left; border: none;\">\n",
       "        x260\n",
       "    </td>\n",
       "    \n",
       "</tr>\n",
       "        \n",
       "            <tr style=\"background-color: hsl(120, 100.00%, 95.06%); border: none;\">\n",
       "    <td style=\"padding: 0 1em 0 0.5em; text-align: right; border: none;\">\n",
       "        +0.077\n",
       "    </td>\n",
       "    <td style=\"padding: 0 0.5em 0 0.5em; text-align: left; border: none;\">\n",
       "        x93\n",
       "    </td>\n",
       "    \n",
       "</tr>\n",
       "        \n",
       "            <tr style=\"background-color: hsl(120, 100.00%, 96.07%); border: none;\">\n",
       "    <td style=\"padding: 0 1em 0 0.5em; text-align: right; border: none;\">\n",
       "        +0.055\n",
       "    </td>\n",
       "    <td style=\"padding: 0 0.5em 0 0.5em; text-align: left; border: none;\">\n",
       "        x178\n",
       "    </td>\n",
       "    \n",
       "</tr>\n",
       "        \n",
       "            <tr style=\"background-color: hsl(120, 100.00%, 96.99%); border: none;\">\n",
       "    <td style=\"padding: 0 1em 0 0.5em; text-align: right; border: none;\">\n",
       "        +0.038\n",
       "    </td>\n",
       "    <td style=\"padding: 0 0.5em 0 0.5em; text-align: left; border: none;\">\n",
       "        x213\n",
       "    </td>\n",
       "    \n",
       "</tr>\n",
       "        \n",
       "            <tr style=\"background-color: hsl(120, 100.00%, 97.28%); border: none;\">\n",
       "    <td style=\"padding: 0 1em 0 0.5em; text-align: right; border: none;\">\n",
       "        +0.033\n",
       "    </td>\n",
       "    <td style=\"padding: 0 0.5em 0 0.5em; text-align: left; border: none;\">\n",
       "        x208\n",
       "    </td>\n",
       "    \n",
       "</tr>\n",
       "        \n",
       "            <tr style=\"background-color: hsl(120, 100.00%, 97.36%); border: none;\">\n",
       "    <td style=\"padding: 0 1em 0 0.5em; text-align: right; border: none;\">\n",
       "        +0.032\n",
       "    </td>\n",
       "    <td style=\"padding: 0 0.5em 0 0.5em; text-align: left; border: none;\">\n",
       "        x25\n",
       "    </td>\n",
       "    \n",
       "</tr>\n",
       "        \n",
       "            <tr style=\"background-color: hsl(120, 100.00%, 99.08%); border: none;\">\n",
       "    <td style=\"padding: 0 1em 0 0.5em; text-align: right; border: none;\">\n",
       "        +0.007\n",
       "    </td>\n",
       "    <td style=\"padding: 0 0.5em 0 0.5em; text-align: left; border: none;\">\n",
       "        x163\n",
       "    </td>\n",
       "    \n",
       "</tr>\n",
       "        \n",
       "            <tr style=\"background-color: hsl(120, 100.00%, 99.55%); border: none;\">\n",
       "    <td style=\"padding: 0 1em 0 0.5em; text-align: right; border: none;\">\n",
       "        +0.003\n",
       "    </td>\n",
       "    <td style=\"padding: 0 0.5em 0 0.5em; text-align: left; border: none;\">\n",
       "        x28\n",
       "    </td>\n",
       "    \n",
       "</tr>\n",
       "        \n",
       "        \n",
       "\n",
       "        \n",
       "        \n",
       "            <tr style=\"background-color: hsl(0, 100.00%, 98.65%); border: none;\">\n",
       "    <td style=\"padding: 0 1em 0 0.5em; text-align: right; border: none;\">\n",
       "        -0.012\n",
       "    </td>\n",
       "    <td style=\"padding: 0 0.5em 0 0.5em; text-align: left; border: none;\">\n",
       "        x134\n",
       "    </td>\n",
       "    \n",
       "</tr>\n",
       "        \n",
       "            <tr style=\"background-color: hsl(0, 100.00%, 98.51%); border: none;\">\n",
       "    <td style=\"padding: 0 1em 0 0.5em; text-align: right; border: none;\">\n",
       "        -0.014\n",
       "    </td>\n",
       "    <td style=\"padding: 0 0.5em 0 0.5em; text-align: left; border: none;\">\n",
       "        x76\n",
       "    </td>\n",
       "    \n",
       "</tr>\n",
       "        \n",
       "            <tr style=\"background-color: hsl(0, 100.00%, 98.17%); border: none;\">\n",
       "    <td style=\"padding: 0 1em 0 0.5em; text-align: right; border: none;\">\n",
       "        -0.019\n",
       "    </td>\n",
       "    <td style=\"padding: 0 0.5em 0 0.5em; text-align: left; border: none;\">\n",
       "        x220\n",
       "    </td>\n",
       "    \n",
       "</tr>\n",
       "        \n",
       "            <tr style=\"background-color: hsl(0, 100.00%, 97.67%); border: none;\">\n",
       "    <td style=\"padding: 0 1em 0 0.5em; text-align: right; border: none;\">\n",
       "        -0.026\n",
       "    </td>\n",
       "    <td style=\"padding: 0 0.5em 0 0.5em; text-align: left; border: none;\">\n",
       "        x63\n",
       "    </td>\n",
       "    \n",
       "</tr>\n",
       "        \n",
       "            <tr style=\"background-color: hsl(0, 100.00%, 96.58%); border: none;\">\n",
       "    <td style=\"padding: 0 1em 0 0.5em; text-align: right; border: none;\">\n",
       "        -0.046\n",
       "    </td>\n",
       "    <td style=\"padding: 0 0.5em 0 0.5em; text-align: left; border: none;\">\n",
       "        x144\n",
       "    </td>\n",
       "    \n",
       "</tr>\n",
       "        \n",
       "            <tr style=\"background-color: hsl(0, 100.00%, 96.47%); border: none;\">\n",
       "    <td style=\"padding: 0 1em 0 0.5em; text-align: right; border: none;\">\n",
       "        -0.048\n",
       "    </td>\n",
       "    <td style=\"padding: 0 0.5em 0 0.5em; text-align: left; border: none;\">\n",
       "        x80\n",
       "    </td>\n",
       "    \n",
       "</tr>\n",
       "        \n",
       "            <tr style=\"background-color: hsl(0, 100.00%, 95.33%); border: none;\">\n",
       "    <td style=\"padding: 0 1em 0 0.5em; text-align: right; border: none;\">\n",
       "        -0.071\n",
       "    </td>\n",
       "    <td style=\"padding: 0 0.5em 0 0.5em; text-align: left; border: none;\">\n",
       "        x271\n",
       "    </td>\n",
       "    \n",
       "</tr>\n",
       "        \n",
       "            <tr style=\"background-color: hsl(0, 100.00%, 95.06%); border: none;\">\n",
       "    <td style=\"padding: 0 1em 0 0.5em; text-align: right; border: none;\">\n",
       "        -0.077\n",
       "    </td>\n",
       "    <td style=\"padding: 0 0.5em 0 0.5em; text-align: left; border: none;\">\n",
       "        x200\n",
       "    </td>\n",
       "    \n",
       "</tr>\n",
       "        \n",
       "            <tr style=\"background-color: hsl(0, 100.00%, 94.97%); border: none;\">\n",
       "    <td style=\"padding: 0 1em 0 0.5em; text-align: right; border: none;\">\n",
       "        -0.079\n",
       "    </td>\n",
       "    <td style=\"padding: 0 0.5em 0 0.5em; text-align: left; border: none;\">\n",
       "        x159\n",
       "    </td>\n",
       "    \n",
       "</tr>\n",
       "        \n",
       "            <tr style=\"background-color: hsl(0, 100.00%, 94.70%); border: none;\">\n",
       "    <td style=\"padding: 0 1em 0 0.5em; text-align: right; border: none;\">\n",
       "        -0.085\n",
       "    </td>\n",
       "    <td style=\"padding: 0 0.5em 0 0.5em; text-align: left; border: none;\">\n",
       "        x136\n",
       "    </td>\n",
       "    \n",
       "</tr>\n",
       "        \n",
       "            <tr style=\"background-color: hsl(0, 100.00%, 94.08%); border: none;\">\n",
       "    <td style=\"padding: 0 1em 0 0.5em; text-align: right; border: none;\">\n",
       "        -0.100\n",
       "    </td>\n",
       "    <td style=\"padding: 0 0.5em 0 0.5em; text-align: left; border: none;\">\n",
       "        x126\n",
       "    </td>\n",
       "    \n",
       "</tr>\n",
       "        \n",
       "            <tr style=\"background-color: hsl(0, 100.00%, 93.96%); border: none;\">\n",
       "    <td style=\"padding: 0 1em 0 0.5em; text-align: right; border: none;\">\n",
       "        -0.103\n",
       "    </td>\n",
       "    <td style=\"padding: 0 0.5em 0 0.5em; text-align: left; border: none;\">\n",
       "        x95\n",
       "    </td>\n",
       "    \n",
       "</tr>\n",
       "        \n",
       "            <tr style=\"background-color: hsl(0, 100.00%, 93.64%); border: none;\">\n",
       "    <td style=\"padding: 0 1em 0 0.5em; text-align: right; border: none;\">\n",
       "        -0.111\n",
       "    </td>\n",
       "    <td style=\"padding: 0 0.5em 0 0.5em; text-align: left; border: none;\">\n",
       "        x133\n",
       "    </td>\n",
       "    \n",
       "</tr>\n",
       "        \n",
       "            <tr style=\"background-color: hsl(0, 100.00%, 93.34%); border: none;\">\n",
       "    <td style=\"padding: 0 1em 0 0.5em; text-align: right; border: none;\">\n",
       "        -0.118\n",
       "    </td>\n",
       "    <td style=\"padding: 0 0.5em 0 0.5em; text-align: left; border: none;\">\n",
       "        x59\n",
       "    </td>\n",
       "    \n",
       "</tr>\n",
       "        \n",
       "            <tr style=\"background-color: hsl(0, 100.00%, 93.31%); border: none;\">\n",
       "    <td style=\"padding: 0 1em 0 0.5em; text-align: right; border: none;\">\n",
       "        -0.119\n",
       "    </td>\n",
       "    <td style=\"padding: 0 0.5em 0 0.5em; text-align: left; border: none;\">\n",
       "        x177\n",
       "    </td>\n",
       "    \n",
       "</tr>\n",
       "        \n",
       "            <tr style=\"background-color: hsl(0, 100.00%, 93.12%); border: none;\">\n",
       "    <td style=\"padding: 0 1em 0 0.5em; text-align: right; border: none;\">\n",
       "        -0.124\n",
       "    </td>\n",
       "    <td style=\"padding: 0 0.5em 0 0.5em; text-align: left; border: none;\">\n",
       "        x199\n",
       "    </td>\n",
       "    \n",
       "</tr>\n",
       "        \n",
       "            <tr style=\"background-color: hsl(0, 100.00%, 93.04%); border: none;\">\n",
       "    <td style=\"padding: 0 1em 0 0.5em; text-align: right; border: none;\">\n",
       "        -0.126\n",
       "    </td>\n",
       "    <td style=\"padding: 0 0.5em 0 0.5em; text-align: left; border: none;\">\n",
       "        x69\n",
       "    </td>\n",
       "    \n",
       "</tr>\n",
       "        \n",
       "            <tr style=\"background-color: hsl(0, 100.00%, 92.47%); border: none;\">\n",
       "    <td style=\"padding: 0 1em 0 0.5em; text-align: right; border: none;\">\n",
       "        -0.141\n",
       "    </td>\n",
       "    <td style=\"padding: 0 0.5em 0 0.5em; text-align: left; border: none;\">\n",
       "        x113\n",
       "    </td>\n",
       "    \n",
       "</tr>\n",
       "        \n",
       "            <tr style=\"background-color: hsl(0, 100.00%, 91.74%); border: none;\">\n",
       "    <td style=\"padding: 0 1em 0 0.5em; text-align: right; border: none;\">\n",
       "        -0.161\n",
       "    </td>\n",
       "    <td style=\"padding: 0 0.5em 0 0.5em; text-align: left; border: none;\">\n",
       "        x74\n",
       "    </td>\n",
       "    \n",
       "</tr>\n",
       "        \n",
       "            <tr style=\"background-color: hsl(0, 100.00%, 91.56%); border: none;\">\n",
       "    <td style=\"padding: 0 1em 0 0.5em; text-align: right; border: none;\">\n",
       "        -0.165\n",
       "    </td>\n",
       "    <td style=\"padding: 0 0.5em 0 0.5em; text-align: left; border: none;\">\n",
       "        x135\n",
       "    </td>\n",
       "    \n",
       "</tr>\n",
       "        \n",
       "            <tr style=\"background-color: hsl(0, 100.00%, 90.49%); border: none;\">\n",
       "    <td style=\"padding: 0 1em 0 0.5em; text-align: right; border: none;\">\n",
       "        -0.196\n",
       "    </td>\n",
       "    <td style=\"padding: 0 0.5em 0 0.5em; text-align: left; border: none;\">\n",
       "        &lt;BIAS&gt;\n",
       "    </td>\n",
       "    \n",
       "</tr>\n",
       "        \n",
       "            <tr style=\"background-color: hsl(0, 100.00%, 90.47%); border: none;\">\n",
       "    <td style=\"padding: 0 1em 0 0.5em; text-align: right; border: none;\">\n",
       "        -0.197\n",
       "    </td>\n",
       "    <td style=\"padding: 0 0.5em 0 0.5em; text-align: left; border: none;\">\n",
       "        x176\n",
       "    </td>\n",
       "    \n",
       "</tr>\n",
       "        \n",
       "            <tr style=\"background-color: hsl(0, 100.00%, 89.47%); border: none;\">\n",
       "    <td style=\"padding: 0 1em 0 0.5em; text-align: right; border: none;\">\n",
       "        -0.227\n",
       "    </td>\n",
       "    <td style=\"padding: 0 0.5em 0 0.5em; text-align: left; border: none;\">\n",
       "        x16\n",
       "    </td>\n",
       "    \n",
       "</tr>\n",
       "        \n",
       "\n",
       "        </tbody>\n",
       "    </table>\n",
       "\n",
       "            \n",
       "        \n",
       "\n",
       "        \n",
       "\n",
       "\n",
       "\n",
       "    \n",
       "\n",
       "    \n",
       "\n",
       "    \n",
       "\n",
       "    \n",
       "\n",
       "\n",
       "    \n",
       "\n",
       "    \n",
       "\n",
       "    \n",
       "\n",
       "    \n",
       "\n",
       "    \n",
       "\n",
       "    \n",
       "\n",
       "\n",
       "    \n",
       "\n",
       "    \n",
       "\n",
       "    \n",
       "\n",
       "    \n",
       "\n",
       "    \n",
       "\n",
       "    \n",
       "\n",
       "\n",
       "\n"
      ],
      "text/plain": [
       "<IPython.core.display.HTML object>"
      ]
     },
     "execution_count": 10,
     "metadata": {},
     "output_type": "execute_result"
    }
   ],
   "source": [
    "eli5.show_weights(model, top=100)"
   ]
  },
  {
   "cell_type": "markdown",
   "metadata": {},
   "source": [
    "BIASを除いて35個の特徴量"
   ]
  },
  {
   "cell_type": "code",
   "execution_count": 42,
   "metadata": {},
   "outputs": [
    {
     "data": {
      "text/plain": [
       "35"
      ]
     },
     "execution_count": 42,
     "metadata": {},
     "output_type": "execute_result"
    }
   ],
   "source": [
    "(model.coef_ != 0).sum()"
   ]
  },
  {
   "cell_type": "markdown",
   "metadata": {},
   "source": [
    "非常に正の重みを持ついくつかの特徴量と負の重みを持つより多くの特徴量があることがわかります。 実際にはELI5によると重要な特徴量は32個しかありません。 ただし、モデル自体にゼロ以外の特徴量が34個あったため、ELI5は2つの特徴量しか削除しなかったことに注意してください。提出にそれらのみを使用してみましょう！"
   ]
  },
  {
   "cell_type": "code",
   "execution_count": 43,
   "metadata": {},
   "outputs": [],
   "source": [
    "top_features = [i[1:] for i in eli5.formatters.as_dataframe.explain_weights_df(model).feature if 'BIAS' not in i]\n",
    "X_train = train[top_features]\n",
    "X_test = test[top_features]\n",
    "scaler = StandardScaler()\n",
    "X_train = scaler.fit_transform(X_train)\n",
    "X_test = scaler.transform(X_test)"
   ]
  },
  {
   "cell_type": "code",
   "execution_count": 44,
   "metadata": {},
   "outputs": [
    {
     "name": "stdout",
     "output_type": "stream",
     "text": [
      "CV mean score: 0.7456, std: 0.1317.\n"
     ]
    }
   ],
   "source": [
    "model = linear_model.LogisticRegression(class_weight='balanced', penalty='l1', \n",
    "                                        C=0.1, solver='liblinear')\n",
    "oof_lr, prediction_lr, _ = train_model(X_train, X_test, y_train, params=None, \n",
    "                                       model_type='sklearn', model=model)"
   ]
  },
  {
   "cell_type": "markdown",
   "metadata": {},
   "source": [
    "うわー、CVが0.7226から0.7486に改善されました！ しかし、これはリーダーボードでは0.845を示します。 そのため、スコアがわずかに減少します。 他を試してみましょう！"
   ]
  },
  {
   "cell_type": "markdown",
   "metadata": {},
   "source": [
    "### Permutation importance\n",
    "eli5を使用する別の方法もあります。Permutation importanceを確認できます。 次のように機能します。\n",
    "\n",
    "- モデルに適合します。\n",
    "- 検証データの1列をランダムにシャッフルしてスコアを計算します。\n",
    "- スコアが大幅に低下した場合、その機能が重要であることを意味します。\n",
    "\n",
    "このアプローチの詳細については、こちらをご覧ください。https://www.kaggle.com/dansbecker/permutation-importance"
   ]
  },
  {
   "cell_type": "code",
   "execution_count": 45,
   "metadata": {},
   "outputs": [],
   "source": [
    "from eli5.sklearn import PermutationImportance"
   ]
  },
  {
   "cell_type": "code",
   "execution_count": 46,
   "metadata": {},
   "outputs": [
    {
     "data": {
      "text/html": [
       "\n",
       "    <style>\n",
       "    table.eli5-weights tr:hover {\n",
       "        filter: brightness(85%);\n",
       "    }\n",
       "</style>\n",
       "\n",
       "\n",
       "\n",
       "    \n",
       "\n",
       "    \n",
       "\n",
       "    \n",
       "\n",
       "    \n",
       "\n",
       "    \n",
       "\n",
       "    \n",
       "\n",
       "\n",
       "    \n",
       "\n",
       "    \n",
       "\n",
       "    \n",
       "\n",
       "    \n",
       "\n",
       "    \n",
       "\n",
       "    \n",
       "\n",
       "\n",
       "    \n",
       "\n",
       "    \n",
       "\n",
       "    \n",
       "\n",
       "    \n",
       "\n",
       "    \n",
       "        <table class=\"eli5-weights eli5-feature-importances\" style=\"border-collapse: collapse; border: none; margin-top: 0em; table-layout: auto;\">\n",
       "    <thead>\n",
       "    <tr style=\"border: none;\">\n",
       "        <th style=\"padding: 0 1em 0 0.5em; text-align: right; border: none;\">Weight</th>\n",
       "        <th style=\"padding: 0 0.5em 0 0.5em; text-align: left; border: none;\">Feature</th>\n",
       "    </tr>\n",
       "    </thead>\n",
       "    <tbody>\n",
       "    \n",
       "        <tr style=\"background-color: hsl(120, 100.00%, 80.00%); border: none;\">\n",
       "            <td style=\"padding: 0 1em 0 0.5em; text-align: right; border: none;\">\n",
       "                0.0912\n",
       "                \n",
       "                    &plusmn; 0.0415\n",
       "                \n",
       "            </td>\n",
       "            <td style=\"padding: 0 0.5em 0 0.5em; text-align: left; border: none;\">\n",
       "                x0\n",
       "            </td>\n",
       "        </tr>\n",
       "    \n",
       "        <tr style=\"background-color: hsl(120, 100.00%, 89.40%); border: none;\">\n",
       "            <td style=\"padding: 0 1em 0 0.5em; text-align: right; border: none;\">\n",
       "                0.0368\n",
       "                \n",
       "                    &plusmn; 0.0352\n",
       "                \n",
       "            </td>\n",
       "            <td style=\"padding: 0 0.5em 0 0.5em; text-align: left; border: none;\">\n",
       "                x1\n",
       "            </td>\n",
       "        </tr>\n",
       "    \n",
       "        <tr style=\"background-color: hsl(120, 100.00%, 90.22%); border: none;\">\n",
       "            <td style=\"padding: 0 1em 0 0.5em; text-align: right; border: none;\">\n",
       "                0.0328\n",
       "                \n",
       "                    &plusmn; 0.0185\n",
       "                \n",
       "            </td>\n",
       "            <td style=\"padding: 0 0.5em 0 0.5em; text-align: left; border: none;\">\n",
       "                x25\n",
       "            </td>\n",
       "        </tr>\n",
       "    \n",
       "        <tr style=\"background-color: hsl(120, 100.00%, 91.43%); border: none;\">\n",
       "            <td style=\"padding: 0 1em 0 0.5em; text-align: right; border: none;\">\n",
       "                0.0272\n",
       "                \n",
       "                    &plusmn; 0.0199\n",
       "                \n",
       "            </td>\n",
       "            <td style=\"padding: 0 0.5em 0 0.5em; text-align: left; border: none;\">\n",
       "                x33\n",
       "            </td>\n",
       "        </tr>\n",
       "    \n",
       "        <tr style=\"background-color: hsl(120, 100.00%, 93.09%); border: none;\">\n",
       "            <td style=\"padding: 0 1em 0 0.5em; text-align: right; border: none;\">\n",
       "                0.0200\n",
       "                \n",
       "                    &plusmn; 0.0168\n",
       "                \n",
       "            </td>\n",
       "            <td style=\"padding: 0 0.5em 0 0.5em; text-align: left; border: none;\">\n",
       "                x30\n",
       "            </td>\n",
       "        </tr>\n",
       "    \n",
       "        <tr style=\"background-color: hsl(120, 100.00%, 93.09%); border: none;\">\n",
       "            <td style=\"padding: 0 1em 0 0.5em; text-align: right; border: none;\">\n",
       "                0.0200\n",
       "                \n",
       "                    &plusmn; 0.0182\n",
       "                \n",
       "            </td>\n",
       "            <td style=\"padding: 0 0.5em 0 0.5em; text-align: left; border: none;\">\n",
       "                x3\n",
       "            </td>\n",
       "        </tr>\n",
       "    \n",
       "        <tr style=\"background-color: hsl(120, 100.00%, 93.68%); border: none;\">\n",
       "            <td style=\"padding: 0 1em 0 0.5em; text-align: right; border: none;\">\n",
       "                0.0176\n",
       "                \n",
       "                    &plusmn; 0.0082\n",
       "                \n",
       "            </td>\n",
       "            <td style=\"padding: 0 0.5em 0 0.5em; text-align: left; border: none;\">\n",
       "                x28\n",
       "            </td>\n",
       "        </tr>\n",
       "    \n",
       "        <tr style=\"background-color: hsl(120, 100.00%, 93.88%); border: none;\">\n",
       "            <td style=\"padding: 0 1em 0 0.5em; text-align: right; border: none;\">\n",
       "                0.0168\n",
       "                \n",
       "                    &plusmn; 0.0093\n",
       "                \n",
       "            </td>\n",
       "            <td style=\"padding: 0 0.5em 0 0.5em; text-align: left; border: none;\">\n",
       "                x20\n",
       "            </td>\n",
       "        </tr>\n",
       "    \n",
       "        <tr style=\"background-color: hsl(120, 100.00%, 95.16%); border: none;\">\n",
       "            <td style=\"padding: 0 1em 0 0.5em; text-align: right; border: none;\">\n",
       "                0.0120\n",
       "                \n",
       "                    &plusmn; 0.0299\n",
       "                \n",
       "            </td>\n",
       "            <td style=\"padding: 0 0.5em 0 0.5em; text-align: left; border: none;\">\n",
       "                x26\n",
       "            </td>\n",
       "        </tr>\n",
       "    \n",
       "        <tr style=\"background-color: hsl(120, 100.00%, 96.89%); border: none;\">\n",
       "            <td style=\"padding: 0 1em 0 0.5em; text-align: right; border: none;\">\n",
       "                0.0064\n",
       "                \n",
       "                    &plusmn; 0.0120\n",
       "                \n",
       "            </td>\n",
       "            <td style=\"padding: 0 0.5em 0 0.5em; text-align: left; border: none;\">\n",
       "                x31\n",
       "            </td>\n",
       "        </tr>\n",
       "    \n",
       "        <tr style=\"background-color: hsl(120, 100.00%, 96.89%); border: none;\">\n",
       "            <td style=\"padding: 0 1em 0 0.5em; text-align: right; border: none;\">\n",
       "                0.0064\n",
       "                \n",
       "                    &plusmn; 0.0039\n",
       "                \n",
       "            </td>\n",
       "            <td style=\"padding: 0 0.5em 0 0.5em; text-align: left; border: none;\">\n",
       "                x7\n",
       "            </td>\n",
       "        </tr>\n",
       "    \n",
       "        <tr style=\"background-color: hsl(120, 100.00%, 97.45%); border: none;\">\n",
       "            <td style=\"padding: 0 1em 0 0.5em; text-align: right; border: none;\">\n",
       "                0.0048\n",
       "                \n",
       "                    &plusmn; 0.0093\n",
       "                \n",
       "            </td>\n",
       "            <td style=\"padding: 0 0.5em 0 0.5em; text-align: left; border: none;\">\n",
       "                x8\n",
       "            </td>\n",
       "        </tr>\n",
       "    \n",
       "        <tr style=\"background-color: hsl(120, 100.00%, 97.76%); border: none;\">\n",
       "            <td style=\"padding: 0 1em 0 0.5em; text-align: right; border: none;\">\n",
       "                0.0040\n",
       "                \n",
       "                    &plusmn; 0.0101\n",
       "                \n",
       "            </td>\n",
       "            <td style=\"padding: 0 0.5em 0 0.5em; text-align: left; border: none;\">\n",
       "                x34\n",
       "            </td>\n",
       "        </tr>\n",
       "    \n",
       "        <tr style=\"background-color: hsl(120, 100.00%, 98.43%); border: none;\">\n",
       "            <td style=\"padding: 0 1em 0 0.5em; text-align: right; border: none;\">\n",
       "                0.0024\n",
       "                \n",
       "                    &plusmn; 0.0039\n",
       "                \n",
       "            </td>\n",
       "            <td style=\"padding: 0 0.5em 0 0.5em; text-align: left; border: none;\">\n",
       "                x17\n",
       "            </td>\n",
       "        </tr>\n",
       "    \n",
       "        <tr style=\"background-color: hsl(120, 100.00%, 99.27%); border: none;\">\n",
       "            <td style=\"padding: 0 1em 0 0.5em; text-align: right; border: none;\">\n",
       "                0.0008\n",
       "                \n",
       "                    &plusmn; 0.0118\n",
       "                \n",
       "            </td>\n",
       "            <td style=\"padding: 0 0.5em 0 0.5em; text-align: left; border: none;\">\n",
       "                x19\n",
       "            </td>\n",
       "        </tr>\n",
       "    \n",
       "        <tr style=\"background-color: hsl(120, 100.00%, 99.27%); border: none;\">\n",
       "            <td style=\"padding: 0 1em 0 0.5em; text-align: right; border: none;\">\n",
       "                0.0008\n",
       "                \n",
       "                    &plusmn; 0.0118\n",
       "                \n",
       "            </td>\n",
       "            <td style=\"padding: 0 0.5em 0 0.5em; text-align: left; border: none;\">\n",
       "                x5\n",
       "            </td>\n",
       "        </tr>\n",
       "    \n",
       "        <tr style=\"background-color: hsl(120, 100.00%, 99.27%); border: none;\">\n",
       "            <td style=\"padding: 0 1em 0 0.5em; text-align: right; border: none;\">\n",
       "                0.0008\n",
       "                \n",
       "                    &plusmn; 0.0155\n",
       "                \n",
       "            </td>\n",
       "            <td style=\"padding: 0 0.5em 0 0.5em; text-align: left; border: none;\">\n",
       "                x32\n",
       "            </td>\n",
       "        </tr>\n",
       "    \n",
       "        <tr style=\"background-color: hsl(0, 100.00%, 100.00%); border: none;\">\n",
       "            <td style=\"padding: 0 1em 0 0.5em; text-align: right; border: none;\">\n",
       "                0\n",
       "                \n",
       "                    &plusmn; 0.0000\n",
       "                \n",
       "            </td>\n",
       "            <td style=\"padding: 0 0.5em 0 0.5em; text-align: left; border: none;\">\n",
       "                x11\n",
       "            </td>\n",
       "        </tr>\n",
       "    \n",
       "        <tr style=\"background-color: hsl(0, 100.00%, 100.00%); border: none;\">\n",
       "            <td style=\"padding: 0 1em 0 0.5em; text-align: right; border: none;\">\n",
       "                0\n",
       "                \n",
       "                    &plusmn; 0.0000\n",
       "                \n",
       "            </td>\n",
       "            <td style=\"padding: 0 0.5em 0 0.5em; text-align: left; border: none;\">\n",
       "                x4\n",
       "            </td>\n",
       "        </tr>\n",
       "    \n",
       "        <tr style=\"background-color: hsl(0, 100.00%, 100.00%); border: none;\">\n",
       "            <td style=\"padding: 0 1em 0 0.5em; text-align: right; border: none;\">\n",
       "                0.0000\n",
       "                \n",
       "                    &plusmn; 0.0072\n",
       "                \n",
       "            </td>\n",
       "            <td style=\"padding: 0 0.5em 0 0.5em; text-align: left; border: none;\">\n",
       "                x6\n",
       "            </td>\n",
       "        </tr>\n",
       "    \n",
       "        <tr style=\"background-color: hsl(0, 100.00%, 100.00%); border: none;\">\n",
       "            <td style=\"padding: 0 1em 0 0.5em; text-align: right; border: none;\">\n",
       "                0\n",
       "                \n",
       "                    &plusmn; 0.0000\n",
       "                \n",
       "            </td>\n",
       "            <td style=\"padding: 0 0.5em 0 0.5em; text-align: left; border: none;\">\n",
       "                x24\n",
       "            </td>\n",
       "        </tr>\n",
       "    \n",
       "        <tr style=\"background-color: hsl(0, 100.00%, 100.00%); border: none;\">\n",
       "            <td style=\"padding: 0 1em 0 0.5em; text-align: right; border: none;\">\n",
       "                0\n",
       "                \n",
       "                    &plusmn; 0.0000\n",
       "                \n",
       "            </td>\n",
       "            <td style=\"padding: 0 0.5em 0 0.5em; text-align: left; border: none;\">\n",
       "                x9\n",
       "            </td>\n",
       "        </tr>\n",
       "    \n",
       "        <tr style=\"background-color: hsl(0, 100.00%, 100.00%); border: none;\">\n",
       "            <td style=\"padding: 0 1em 0 0.5em; text-align: right; border: none;\">\n",
       "                0\n",
       "                \n",
       "                    &plusmn; 0.0000\n",
       "                \n",
       "            </td>\n",
       "            <td style=\"padding: 0 0.5em 0 0.5em; text-align: left; border: none;\">\n",
       "                x21\n",
       "            </td>\n",
       "        </tr>\n",
       "    \n",
       "        <tr style=\"background-color: hsl(0, 100.00%, 100.00%); border: none;\">\n",
       "            <td style=\"padding: 0 1em 0 0.5em; text-align: right; border: none;\">\n",
       "                0\n",
       "                \n",
       "                    &plusmn; 0.0000\n",
       "                \n",
       "            </td>\n",
       "            <td style=\"padding: 0 0.5em 0 0.5em; text-align: left; border: none;\">\n",
       "                x12\n",
       "            </td>\n",
       "        </tr>\n",
       "    \n",
       "        <tr style=\"background-color: hsl(0, 100.00%, 100.00%); border: none;\">\n",
       "            <td style=\"padding: 0 1em 0 0.5em; text-align: right; border: none;\">\n",
       "                0\n",
       "                \n",
       "                    &plusmn; 0.0000\n",
       "                \n",
       "            </td>\n",
       "            <td style=\"padding: 0 0.5em 0 0.5em; text-align: left; border: none;\">\n",
       "                x13\n",
       "            </td>\n",
       "        </tr>\n",
       "    \n",
       "        <tr style=\"background-color: hsl(0, 100.00%, 100.00%); border: none;\">\n",
       "            <td style=\"padding: 0 1em 0 0.5em; text-align: right; border: none;\">\n",
       "                0\n",
       "                \n",
       "                    &plusmn; 0.0000\n",
       "                \n",
       "            </td>\n",
       "            <td style=\"padding: 0 0.5em 0 0.5em; text-align: left; border: none;\">\n",
       "                x14\n",
       "            </td>\n",
       "        </tr>\n",
       "    \n",
       "        <tr style=\"background-color: hsl(0, 100.00%, 100.00%); border: none;\">\n",
       "            <td style=\"padding: 0 1em 0 0.5em; text-align: right; border: none;\">\n",
       "                0\n",
       "                \n",
       "                    &plusmn; 0.0000\n",
       "                \n",
       "            </td>\n",
       "            <td style=\"padding: 0 0.5em 0 0.5em; text-align: left; border: none;\">\n",
       "                x15\n",
       "            </td>\n",
       "        </tr>\n",
       "    \n",
       "        <tr style=\"background-color: hsl(0, 100.00%, 100.00%); border: none;\">\n",
       "            <td style=\"padding: 0 1em 0 0.5em; text-align: right; border: none;\">\n",
       "                0\n",
       "                \n",
       "                    &plusmn; 0.0000\n",
       "                \n",
       "            </td>\n",
       "            <td style=\"padding: 0 0.5em 0 0.5em; text-align: left; border: none;\">\n",
       "                x16\n",
       "            </td>\n",
       "        </tr>\n",
       "    \n",
       "        <tr style=\"background-color: hsl(0, 100.00%, 100.00%); border: none;\">\n",
       "            <td style=\"padding: 0 1em 0 0.5em; text-align: right; border: none;\">\n",
       "                0\n",
       "                \n",
       "                    &plusmn; 0.0000\n",
       "                \n",
       "            </td>\n",
       "            <td style=\"padding: 0 0.5em 0 0.5em; text-align: left; border: none;\">\n",
       "                x10\n",
       "            </td>\n",
       "        </tr>\n",
       "    \n",
       "        <tr style=\"background-color: hsl(0, 100.00%, 100.00%); border: none;\">\n",
       "            <td style=\"padding: 0 1em 0 0.5em; text-align: right; border: none;\">\n",
       "                -0.0000\n",
       "                \n",
       "                    &plusmn; 0.0143\n",
       "                \n",
       "            </td>\n",
       "            <td style=\"padding: 0 0.5em 0 0.5em; text-align: left; border: none;\">\n",
       "                x2\n",
       "            </td>\n",
       "        </tr>\n",
       "    \n",
       "        <tr style=\"background-color: hsl(0, 100.00%, 99.27%); border: none;\">\n",
       "            <td style=\"padding: 0 1em 0 0.5em; text-align: right; border: none;\">\n",
       "                -0.0008\n",
       "                \n",
       "                    &plusmn; 0.0060\n",
       "                \n",
       "            </td>\n",
       "            <td style=\"padding: 0 0.5em 0 0.5em; text-align: left; border: none;\">\n",
       "                x22\n",
       "            </td>\n",
       "        </tr>\n",
       "    \n",
       "        <tr style=\"background-color: hsl(0, 100.00%, 97.45%); border: none;\">\n",
       "            <td style=\"padding: 0 1em 0 0.5em; text-align: right; border: none;\">\n",
       "                -0.0048\n",
       "                \n",
       "                    &plusmn; 0.0106\n",
       "                \n",
       "            </td>\n",
       "            <td style=\"padding: 0 0.5em 0 0.5em; text-align: left; border: none;\">\n",
       "                x29\n",
       "            </td>\n",
       "        </tr>\n",
       "    \n",
       "        <tr style=\"background-color: hsl(0, 100.00%, 96.89%); border: none;\">\n",
       "            <td style=\"padding: 0 1em 0 0.5em; text-align: right; border: none;\">\n",
       "                -0.0064\n",
       "                \n",
       "                    &plusmn; 0.0148\n",
       "                \n",
       "            </td>\n",
       "            <td style=\"padding: 0 0.5em 0 0.5em; text-align: left; border: none;\">\n",
       "                x27\n",
       "            </td>\n",
       "        </tr>\n",
       "    \n",
       "        <tr style=\"background-color: hsl(0, 100.00%, 96.89%); border: none;\">\n",
       "            <td style=\"padding: 0 1em 0 0.5em; text-align: right; border: none;\">\n",
       "                -0.0064\n",
       "                \n",
       "                    &plusmn; 0.0109\n",
       "                \n",
       "            </td>\n",
       "            <td style=\"padding: 0 0.5em 0 0.5em; text-align: left; border: none;\">\n",
       "                x18\n",
       "            </td>\n",
       "        </tr>\n",
       "    \n",
       "        <tr style=\"background-color: hsl(0, 100.00%, 95.63%); border: none;\">\n",
       "            <td style=\"padding: 0 1em 0 0.5em; text-align: right; border: none;\">\n",
       "                -0.0104\n",
       "                \n",
       "                    &plusmn; 0.0082\n",
       "                \n",
       "            </td>\n",
       "            <td style=\"padding: 0 0.5em 0 0.5em; text-align: left; border: none;\">\n",
       "                x23\n",
       "            </td>\n",
       "        </tr>\n",
       "    \n",
       "    \n",
       "    </tbody>\n",
       "</table>\n",
       "    \n",
       "\n",
       "    \n",
       "\n",
       "\n",
       "    \n",
       "\n",
       "    \n",
       "\n",
       "    \n",
       "\n",
       "    \n",
       "\n",
       "    \n",
       "\n",
       "    \n",
       "\n",
       "\n",
       "\n"
      ],
      "text/plain": [
       "<IPython.core.display.HTML object>"
      ]
     },
     "execution_count": 46,
     "metadata": {},
     "output_type": "execute_result"
    }
   ],
   "source": [
    "perm = PermutationImportance(model, random_state=1).fit(X_train, y_train)\n",
    "eli5.show_weights(perm, top=50)"
   ]
  },
  {
   "cell_type": "markdown",
   "metadata": {},
   "source": [
    "35個の特徴量"
   ]
  },
  {
   "cell_type": "code",
   "execution_count": 47,
   "metadata": {},
   "outputs": [],
   "source": [
    "top_features = [i[1:] for i in eli5.formatters.as_dataframe.explain_weights_df(perm).feature if 'BIAS' not in i]\n",
    "X_train = train[top_features]\n",
    "X_test = test[top_features]\n",
    "scaler = StandardScaler()\n",
    "X_train = scaler.fit_transform(X_train)\n",
    "X_test = scaler.transform(X_test)"
   ]
  },
  {
   "cell_type": "code",
   "execution_count": 48,
   "metadata": {},
   "outputs": [
    {
     "name": "stdout",
     "output_type": "stream",
     "text": [
      "CV mean score: 0.5640, std: 0.1368.\n"
     ]
    }
   ],
   "source": [
    "model = linear_model.LogisticRegression(class_weight='balanced', penalty='l1', \n",
    "                                        C=0.1, solver='liblinear')\n",
    "oof_lr1, prediction_lr1, _ = train_model(X_train, X_test, y_train, params=None, \n",
    "                                         model_type='sklearn', model=model)"
   ]
  },
  {
   "cell_type": "markdown",
   "metadata": {},
   "source": [
    "Permutation importanceで列を選択すると、CVスコアが大幅に低下します。 場合によってはうまくいかないようです。"
   ]
  },
  {
   "cell_type": "markdown",
   "metadata": {},
   "source": [
    "## SHAP\n",
    "もう1つの興味深いツールはSHAPです。 これもまた、さまざまなモデルについて説明します。"
   ]
  },
  {
   "cell_type": "code",
   "execution_count": 50,
   "metadata": {},
   "outputs": [
    {
     "name": "stdout",
     "output_type": "stream",
     "text": [
      "CV mean score: 0.7431, std: 0.1357.\n"
     ]
    }
   ],
   "source": [
    "X_train = train.drop(['id', 'target'], axis=1)\n",
    "y_train = train['target']\n",
    "X_test = test.drop(['id'], axis=1)\n",
    "scaler = StandardScaler()\n",
    "X_train = scaler.fit_transform(X_train)\n",
    "X_test = scaler.transform(X_test)\n",
    "\n",
    "model = linear_model.LogisticRegression(class_weight='balanced', penalty='l1', C=0.1, solver='liblinear')\n",
    "oof_lr, prediction_lr, _ = train_model(X_train, X_test, y_train, params=None, model_type='sklearn', model=model)"
   ]
  },
  {
   "cell_type": "code",
   "execution_count": 51,
   "metadata": {},
   "outputs": [
    {
     "data": {
      "image/png": "[encoded data removed]",
      "text/plain": [
       "<Figure size 576x684 with 2 Axes>"
      ]
     },
     "metadata": {
      "needs_background": "light"
     },
     "output_type": "display_data"
    }
   ],
   "source": [
    "explainer = shap.LinearExplainer(model, X_train)\n",
    "shap_values = explainer.shap_values(X_train)\n",
    "\n",
    "shap.summary_plot(shap_values, X_train)"
   ]
  },
  {
   "cell_type": "markdown",
   "metadata": {},
   "source": [
    "このプロットを初めて見たとき、このプロットを解釈するのは難しいかもしれません。 特徴量が予測にどのように影響するかを示します。 たとえば、特徴量127の場合、低い値はモデルの予測にマイナスの影響を与え、高い値はプラスの影響を与えます。特徴量176には逆の効果があります。値が低いとプラスの影響があり、値が高いとマイナスの影響があります。\n",
    "\n",
    "しかし、手動で特徴量を選択する必要があります...そのためのライブラリを使用しましょう！"
   ]
  },
  {
   "cell_type": "markdown",
   "metadata": {},
   "source": [
    "## Mlextend SequentialFeatureSelector"
   ]
  },
  {
   "cell_type": "markdown",
   "metadata": {},
   "source": [
    "1.すべての特徴量を使用して評価する。  \n",
    "2.特徴量を1つずつ削除して評価する。  \n",
    "3.特徴量をさらに1つ削除して評価する。  \n",
    "4.上記を繰り返す。"
   ]
  },
  {
   "cell_type": "code",
   "execution_count": 11,
   "metadata": {},
   "outputs": [],
   "source": [
    "sfs1 = SFS(model, \n",
    "           k_features=(10, 15), \n",
    "           forward=True, \n",
    "           floating=False, \n",
    "           verbose=0,\n",
    "           scoring='roc_auc',\n",
    "           cv=folds,\n",
    "          n_jobs=-1)\n",
    "\n",
    "sfs1 = sfs1.fit(X_train, y_train)"
   ]
  },
  {
   "cell_type": "code",
   "execution_count": 12,
   "metadata": {},
   "outputs": [
    {
     "data": {
      "image/png": "[encoded data removed]",
      "text/plain": [
       "<Figure size 432x288 with 1 Axes>"
      ]
     },
     "metadata": {
      "needs_background": "light"
     },
     "output_type": "display_data"
    }
   ],
   "source": [
    "fig1 = plot_sfs(sfs1.get_metric_dict(), kind='std_dev')\n",
    "\n",
    "plt.ylim([0.8, 1])\n",
    "plt.title('Sequential Forward Selection (w. StdDev)')\n",
    "plt.grid()\n",
    "plt.show()"
   ]
  },
  {
   "cell_type": "code",
   "execution_count": 13,
   "metadata": {},
   "outputs": [
    {
     "name": "stdout",
     "output_type": "stream",
     "text": [
      "CV mean score: 0.7301, std: 0.1561.\n"
     ]
    }
   ],
   "source": [
    "top_features = list(sfs1.k_feature_names_)\n",
    "X_train = train[top_features]\n",
    "X_test = test[top_features]\n",
    "scaler = StandardScaler()\n",
    "X_train = scaler.fit_transform(X_train)\n",
    "X_test = scaler.transform(X_test)\n",
    "\n",
    "model = linear_model.LogisticRegression(class_weight='balanced', penalty='l1', C=0.1, solver='liblinear')\n",
    "oof_lr, prediction_lr, _ = train_model(X_train, X_test, y_train, params=None, model_type='sklearn', model=model)"
   ]
  },
  {
   "cell_type": "code",
   "execution_count": 14,
   "metadata": {},
   "outputs": [
    {
     "data": {
      "text/html": [
       "['0', '16', '18', '69', '79', '126', '127', '136', '177', '199']"
      ],
      "text/plain": [
       "['0', '16', '18', '69', '79', '126', '127', '136', '177', '199']"
      ]
     },
     "execution_count": 14,
     "metadata": {},
     "output_type": "execute_result"
    }
   ],
   "source": [
    "top_features"
   ]
  },
  {
   "cell_type": "code",
   "execution_count": null,
   "metadata": {},
   "outputs": [],
   "source": []
  },
  {
   "cell_type": "markdown",
   "metadata": {},
   "source": [
    "そして、これはリーダーボードに0.811を与えます。 オーバーフィット！ 特徴量選択は最善のアプローチではないようです。 いろんなモデルを作ってみよう！"
   ]
  },
  {
   "cell_type": "markdown",
   "metadata": {},
   "source": [
    "## Modelling"
   ]
  },
  {
   "cell_type": "code",
   "execution_count": 55,
   "metadata": {},
   "outputs": [],
   "source": [
    "X_train = train.drop(['id', 'target'], axis=1)\n",
    "y_train = train['target']\n",
    "X_test = test.drop(['id'], axis=1)\n",
    "scaler = StandardScaler()\n",
    "X_train = scaler.fit_transform(X_train)\n",
    "X_test = scaler.transform(X_test)"
   ]
  },
  {
   "cell_type": "markdown",
   "metadata": {},
   "source": [
    "グリッドサーチでロジスティック回帰のハイパーパラメータのチューニング"
   ]
  },
  {
   "cell_type": "code",
   "execution_count": 56,
   "metadata": {},
   "outputs": [
    {
     "name": "stdout",
     "output_type": "stream",
     "text": [
      "Best score: 0.7028703703703704\n",
      "Best parameters: {'C': 1.0, 'class_weight': None, 'penalty': 'l2', 'solver': 'sag'}\n"
     ]
    }
   ],
   "source": [
    "lr = linear_model.LogisticRegression(solver='liblinear', max_iter=1000)\n",
    "\n",
    "parameter_grid = {'class_weight' : ['balanced', None],\n",
    "                  'penalty' : ['l2'],\n",
    "                  'C' : [0.001, 0.01, 0.1, 1.0, 10.0, 100.0],\n",
    "                  'solver': ['newton-cg', 'sag', 'lbfgs']\n",
    "                 }\n",
    "\n",
    "grid_search = GridSearchCV(lr, param_grid=parameter_grid, cv=folds, scoring='roc_auc')\n",
    "grid_search.fit(X_train, y_train)\n",
    "print('Best score: {}'.format(grid_search.best_score_))\n",
    "print('Best parameters: {}'.format(grid_search.best_params_))"
   ]
  },
  {
   "cell_type": "code",
   "execution_count": 57,
   "metadata": {},
   "outputs": [
    {
     "name": "stdout",
     "output_type": "stream",
     "text": [
      "Best score: 0.7830555555555557\n",
      "Best parameters: {'C': 0.1, 'class_weight': None, 'penalty': 'l1'}\n"
     ]
    }
   ],
   "source": [
    "lr = linear_model.LogisticRegression(solver='liblinear', max_iter=10000)\n",
    "\n",
    "parameter_grid = {'class_weight' : ['balanced', None],\n",
    "                  'penalty' : ['l2', 'l1'],\n",
    "                  'C' : [0.001, 0.01, 0.08, 0.1, 0.15, 1.0, 10.0, 100.0],\n",
    "                 }\n",
    "\n",
    "grid_search = GridSearchCV(lr, param_grid=parameter_grid, cv=folds, scoring='roc_auc')\n",
    "grid_search.fit(X_train, y_train)\n",
    "print('Best score: {}'.format(grid_search.best_score_))\n",
    "print('Best parameters: {}'.format(grid_search.best_params_))\n"
   ]
  },
  {
   "cell_type": "code",
   "execution_count": 58,
   "metadata": {},
   "outputs": [
    {
     "name": "stdout",
     "output_type": "stream",
     "text": [
      "CV mean score: 0.7431, std: 0.1357.\n"
     ]
    }
   ],
   "source": [
    "model = linear_model.LogisticRegression(class_weight='balanced', penalty='l1', C=0.1, solver='liblinear')\n",
    "oof_lr, prediction_lr, scores = train_model(X_train, X_test, y_train, params=None, model_type='sklearn', model=model)"
   ]
  },
  {
   "cell_type": "markdown",
   "metadata": {},
   "source": [
    "したがって、logregのパラメーターが最適です。他のモデルを試してみましょう"
   ]
  },
  {
   "cell_type": "code",
   "execution_count": 59,
   "metadata": {},
   "outputs": [
    {
     "name": "stdout",
     "output_type": "stream",
     "text": [
      "CV mean score: 0.5462, std: 0.0910.\n"
     ]
    }
   ],
   "source": [
    "from sklearn.naive_bayes import GaussianNB\n",
    "gnb = GaussianNB()\n",
    "oof_gnb, prediction_gnb, scores_gnb = train_model(X_train, X_test, y_train, params=None, model_type='sklearn', model=gnb)"
   ]
  },
  {
   "cell_type": "code",
   "execution_count": 60,
   "metadata": {},
   "outputs": [
    {
     "name": "stdout",
     "output_type": "stream",
     "text": [
      "Best score: 0.6804629629629629\n",
      "Best parameters: {'learning_rate': 0.1, 'n_estimators': 100}\n"
     ]
    }
   ],
   "source": [
    "from sklearn.ensemble import AdaBoostClassifier\n",
    "abc = AdaBoostClassifier()\n",
    "\n",
    "parameter_grid = {'n_estimators': [5, 10, 20, 50, 100],\n",
    "                  'learning_rate': [0.001, 0.01, 0.1, 1.0, 10.0]\n",
    "                 }\n",
    "\n",
    "grid_search = GridSearchCV(abc, param_grid=parameter_grid, cv=folds, scoring='roc_auc')\n",
    "grid_search.fit(X_train, y_train)\n",
    "print('Best score: {}'.format(grid_search.best_score_))\n",
    "print('Best parameters: {}'.format(grid_search.best_params_))"
   ]
  },
  {
   "cell_type": "code",
   "execution_count": 61,
   "metadata": {},
   "outputs": [
    {
     "name": "stdout",
     "output_type": "stream",
     "text": [
      "CV mean score: 0.5625, std: 0.1363.\n"
     ]
    }
   ],
   "source": [
    "abc = AdaBoostClassifier(**grid_search.best_params_)\n",
    "oof_abc, prediction_abc, scores_abc = train_model(X_train, X_test, y_train, params=None, model_type='sklearn', model=abc)"
   ]
  },
  {
   "cell_type": "code",
   "execution_count": 62,
   "metadata": {},
   "outputs": [
    {
     "name": "stdout",
     "output_type": "stream",
     "text": [
      "Best score: 0.6993518518518518\n",
      "Best parameters: {'max_depth': 3, 'n_estimators': 1000}\n",
      "CV mean score: 0.5000, std: 0.0000.\n"
     ]
    }
   ],
   "source": [
    "from sklearn.ensemble import ExtraTreesClassifier\n",
    "etc = ExtraTreesClassifier()\n",
    "\n",
    "parameter_grid = {'n_estimators': [10, 50, 100, 1000],\n",
    "                  'max_depth': [None, 3, 5, 15]\n",
    "                 }\n",
    "\n",
    "grid_search = GridSearchCV(etc, param_grid=parameter_grid, cv=folds, scoring='roc_auc', n_jobs=-1)\n",
    "grid_search.fit(X_train, y_train)\n",
    "print('Best score: {}'.format(grid_search.best_score_))\n",
    "print('Best parameters: {}'.format(grid_search.best_params_))\n",
    "etc = ExtraTreesClassifier(**grid_search.best_params_)\n",
    "oof_etc, prediction_etc, scores_etc = train_model(X_train, X_test, y_train, params=None, model_type='sklearn', model=etc)"
   ]
  },
  {
   "cell_type": "code",
   "execution_count": 63,
   "metadata": {},
   "outputs": [
    {
     "name": "stdout",
     "output_type": "stream",
     "text": [
      "Best score: 0.6687037037037038\n",
      "Best parameters: {'max_depth': 15, 'n_estimators': 1000}\n",
      "CV mean score: 0.5000, std: 0.0000.\n"
     ]
    }
   ],
   "source": [
    "from sklearn.ensemble import RandomForestClassifier\n",
    "rfc = RandomForestClassifier()\n",
    "\n",
    "parameter_grid = {'n_estimators': [10, 50, 100, 1000],\n",
    "                  'max_depth': [None, 3, 5, 15]\n",
    "                 }\n",
    "\n",
    "grid_search = GridSearchCV(rfc, param_grid=parameter_grid, cv=folds, scoring='roc_auc', n_jobs=-1)\n",
    "grid_search.fit(X_train, y_train)\n",
    "print('Best score: {}'.format(grid_search.best_score_))\n",
    "print('Best parameters: {}'.format(grid_search.best_params_))\n",
    "rfc = RandomForestClassifier(**grid_search.best_params_)\n",
    "oof_rfc, prediction_rfc, scores_rfc = train_model(X_train, X_test, y_train, params=None, model_type='sklearn', model=rfc)"
   ]
  },
  {
   "cell_type": "code",
   "execution_count": 64,
   "metadata": {},
   "outputs": [
    {
     "name": "stdout",
     "output_type": "stream",
     "text": [
      "CV mean score: 0.5504, std: 0.1508.\n"
     ]
    }
   ],
   "source": [
    "from sklearn.gaussian_process import GaussianProcessClassifier\n",
    "gpc = GaussianProcessClassifier()\n",
    "oof_gpc, prediction_gpc, scores_gpc = train_model(X_train, X_test, y_train, params=None, model_type='sklearn', model=gpc)"
   ]
  },
  {
   "cell_type": "code",
   "execution_count": 65,
   "metadata": {},
   "outputs": [
    {
     "name": "stdout",
     "output_type": "stream",
     "text": [
      "Best score: 0.6980555555555554\n",
      "Best parameters: {'C': 10.0, 'kernel': 'rbf'}\n",
      "CV mean score: 0.4975, std: 0.0444.\n"
     ]
    }
   ],
   "source": [
    "from sklearn.svm import SVC\n",
    "svc = SVC(probability=True, gamma='scale')\n",
    "\n",
    "parameter_grid = {'C': [0.001, 0.01, 0.1, 1.0, 10.0],\n",
    "                  'kernel': ['linear', 'poly', 'rbf'],\n",
    "                 }\n",
    "\n",
    "grid_search = GridSearchCV(svc, param_grid=parameter_grid, cv=folds, scoring='roc_auc', n_jobs=-1)\n",
    "grid_search.fit(X_train, y_train)\n",
    "print('Best score: {}'.format(grid_search.best_score_))\n",
    "print('Best parameters: {}'.format(grid_search.best_params_))\n",
    "svc = SVC(probability=True, gamma='scale', **grid_search.best_params_)\n",
    "oof_svc, prediction_svc, scores_svc = train_model(X_train, X_test, y_train, params=None, model_type='sklearn', model=svc)"
   ]
  },
  {
   "cell_type": "code",
   "execution_count": 66,
   "metadata": {},
   "outputs": [
    {
     "name": "stdout",
     "output_type": "stream",
     "text": [
      "Best score: 0.5949074074074073\n",
      "Best parameters: {'leaf_size': 5, 'n_neighbors': 20, 'weights': 'distance'}\n",
      "CV mean score: 0.5000, std: 0.0000.\n"
     ]
    }
   ],
   "source": [
    "from sklearn.neighbors import KNeighborsClassifier\n",
    "knc = KNeighborsClassifier()\n",
    "\n",
    "parameter_grid = {'n_neighbors': [2, 3, 5, 10, 20],\n",
    "                  'weights': ['uniform', 'distance'],\n",
    "                  'leaf_size': [5, 10, 30]\n",
    "                 }\n",
    "\n",
    "grid_search = GridSearchCV(knc, param_grid=parameter_grid, cv=folds, scoring='roc_auc', n_jobs=-1)\n",
    "grid_search.fit(X_train, y_train)\n",
    "print('Best score: {}'.format(grid_search.best_score_))\n",
    "print('Best parameters: {}'.format(grid_search.best_params_))\n",
    "knc = KNeighborsClassifier(**grid_search.best_params_)\n",
    "oof_knc, prediction_knc, scores_knc = train_model(X_train, X_test, y_train, params=None, model_type='sklearn', model=knc)"
   ]
  },
  {
   "cell_type": "code",
   "execution_count": 67,
   "metadata": {},
   "outputs": [
    {
     "name": "stdout",
     "output_type": "stream",
     "text": [
      "Best score: 0.5453703703703704\n",
      "Best parameters: {'alpha': 2}\n",
      "CV mean score: 0.4792, std: 0.1370.\n"
     ]
    }
   ],
   "source": [
    "from sklearn.naive_bayes import BernoulliNB\n",
    "bnb = BernoulliNB()\n",
    "\n",
    "parameter_grid = {'alpha': [0.0001, 1, 2, 10]\n",
    "                 }\n",
    "\n",
    "grid_search = GridSearchCV(bnb, param_grid=parameter_grid, cv=folds, scoring='roc_auc', n_jobs=-1)\n",
    "grid_search.fit(X_train, y_train)\n",
    "print('Best score: {}'.format(grid_search.best_score_))\n",
    "print('Best parameters: {}'.format(grid_search.best_params_))\n",
    "bnb = BernoulliNB(**grid_search.best_params_)\n",
    "oof_bnb, prediction_bnb, scores_bnb = train_model(X_train, X_test, y_train, params=None, model_type='sklearn', model=bnb)"
   ]
  },
  {
   "cell_type": "code",
   "execution_count": 68,
   "metadata": {},
   "outputs": [
    {
     "name": "stdout",
     "output_type": "stream",
     "text": [
      "Best score: 0.7575925925925925\n",
      "Best parameters: {'alpha': 0.01, 'l1_ratio': 1.0, 'learning_rate': 'adaptive', 'loss': 'log', 'penalty': 'l1'}\n",
      "CV mean score: 0.6315, std: 0.1373.\n"
     ]
    }
   ],
   "source": [
    "sgd = linear_model.SGDClassifier(eta0=1, max_iter=1000, tol=0.0001)\n",
    "\n",
    "parameter_grid = {'loss': ['log', 'modified_huber'],\n",
    "                  'penalty': ['l1', 'l2', 'elasticnet'],\n",
    "                  'alpha': [0.001, 0.01],\n",
    "                  'l1_ratio': [0, 0.15, 0.5, 1.0],\n",
    "                  'learning_rate': ['optimal', 'invscaling', 'adaptive']\n",
    "                 }\n",
    "\n",
    "grid_search = GridSearchCV(sgd, param_grid=parameter_grid, cv=folds, scoring='roc_auc', n_jobs=-1)\n",
    "grid_search.fit(X_train, y_train)\n",
    "print('Best score: {}'.format(grid_search.best_score_))\n",
    "print('Best parameters: {}'.format(grid_search.best_params_))\n",
    "sgd = linear_model.SGDClassifier(eta0=1, tol=0.0001, **grid_search.best_params_)\n",
    "oof_sgd, prediction_sgd, scores_sgd = train_model(X_train, X_test, y_train, params=None, model_type='sklearn', model=sgd)"
   ]
  },
  {
   "cell_type": "code",
   "execution_count": 69,
   "metadata": {},
   "outputs": [
    {
     "data": {
      "image/png": "[encoded data removed]",
      "text/plain": [
       "<Figure size 864x576 with 1 Axes>"
      ]
     },
     "metadata": {
      "needs_background": "light"
     },
     "output_type": "display_data"
    }
   ],
   "source": [
    "plt.figure(figsize=(12, 8));\n",
    "scores_df = pd.DataFrame({'LogisticRegression': scores})\n",
    "scores_df['GaussianNB'] = scores_gnb\n",
    "scores_df['AdaBoostClassifier'] = scores_abc\n",
    "scores_df['ExtraTreesClassifier'] = scores_etc\n",
    "scores_df['GaussianProcessClassifier'] = scores_gpc\n",
    "scores_df['SVC'] = scores_svc\n",
    "scores_df['KNeighborsClassifier'] = scores_knc\n",
    "scores_df['BernoulliNB'] = scores_bnb\n",
    "scores_df['SGDClassifier'] = scores_sgd\n",
    "scores_df['RandomForestClassifier'] = scores_rfc\n",
    "\n",
    "sns.boxplot(data=scores_df);\n",
    "plt.xticks(rotation=45);"
   ]
  },
  {
   "cell_type": "markdown",
   "metadata": {},
   "source": [
    "ロジスティック回帰が他のほとんどのモデルよりも優れていることがわかります。 SVCのみが比較可能です。 他のモデルは、この小さなデータセットに適合しないか、機能しないようです。\n",
    "\n",
    "それらのブレンドを提出してみましょう！"
   ]
  },
  {
   "cell_type": "code",
   "execution_count": 70,
   "metadata": {},
   "outputs": [
    {
     "name": "stdout",
     "output_type": "stream",
     "text": [
      "CV mean score: 0.7431, std: 0.1357.\n"
     ]
    }
   ],
   "source": [
    "X_train = train.drop(['id', 'target'], axis=1)\n",
    "y_train = train['target']\n",
    "X_test = test.drop(['id'], axis=1)\n",
    "scaler = StandardScaler()\n",
    "X_train = scaler.fit_transform(X_train)\n",
    "X_test = scaler.transform(X_test)\n",
    "\n",
    "model = linear_model.LogisticRegression(class_weight='balanced', penalty='l1', C=0.1, solver='liblinear')\n",
    "oof_lr, prediction_lr, _ = train_model(X_train, X_test, y_train, params=None, model_type='sklearn', model=model)"
   ]
  },
  {
   "cell_type": "code",
   "execution_count": 71,
   "metadata": {},
   "outputs": [],
   "source": [
    "# submission = pd.read_csv('../input/sample_submission.csv')\n",
    "# submission['target'] = (prediction_lr + prediction_svc) / 2\n",
    "# submission.to_csv('submission.csv', index=False)\n",
    "\n",
    "# submission.head()"
   ]
  },
  {
   "cell_type": "code",
   "execution_count": 72,
   "metadata": {},
   "outputs": [
    {
     "data": {
      "image/png": "[encoded data removed]",
      "text/plain": [
       "<Figure size 432x288 with 1 Axes>"
      ]
     },
     "metadata": {
      "needs_background": "light"
     },
     "output_type": "display_data"
    }
   ],
   "source": [
    "plt.hist(prediction_lr, label='logreg');\n",
    "plt.hist(prediction_svc, label='svc');\n",
    "plt.hist((prediction_lr + prediction_svc) / 2, label='blend');\n",
    "plt.title('Distribution of out of fold predictions');\n",
    "plt.legend();"
   ]
  },
  {
   "cell_type": "markdown",
   "metadata": {},
   "source": [
    "悲しいことにブレンドするとLBが0.831になります。 再び運はありません。\n",
    "\n",
    "いくつかの特徴を生成してみましょう！"
   ]
  },
  {
   "cell_type": "markdown",
   "metadata": {},
   "source": [
    "## Polynomial Features"
   ]
  },
  {
   "cell_type": "code",
   "execution_count": 73,
   "metadata": {},
   "outputs": [],
   "source": [
    "from sklearn.preprocessing import PolynomialFeatures\n",
    "poly = PolynomialFeatures(2)\n",
    "\n",
    "X_train = train.drop(['id', 'target'], axis=1)\n",
    "X_test = test.drop(['id'], axis=1)\n",
    "\n",
    "X_train_poly = poly.fit_transform(X_train)\n",
    "X_test_poly = poly.transform(X_test)"
   ]
  },
  {
   "cell_type": "markdown",
   "metadata": {},
   "source": [
    "多項式特徴の数は〜45kであり、多すぎます。 それらのいくつかを選択する方法が必要です。 ターゲットとの相関関係を使用してみましょう。"
   ]
  },
  {
   "cell_type": "code",
   "execution_count": 74,
   "metadata": {},
   "outputs": [],
   "source": [
    "cor = pd.DataFrame(X_train_poly).corrwith(y_train)"
   ]
  },
  {
   "cell_type": "code",
   "execution_count": 75,
   "metadata": {},
   "outputs": [
    {
     "name": "stdout",
     "output_type": "stream",
     "text": [
      "CV mean score: 0.7686, std: 0.1499.\n",
      "CV mean score: 0.7950, std: 0.1621.\n",
      "CV mean score: 0.8467, std: 0.1206.\n",
      "CV mean score: 0.8407, std: 0.1277.\n",
      "CV mean score: 0.8485, std: 0.1255.\n",
      "CV mean score: 0.8297, std: 0.1258.\n",
      "CV mean score: 0.8258, std: 0.1212.\n",
      "CV mean score: 0.8354, std: 0.1236.\n",
      "CV mean score: 0.8710, std: 0.1107.\n",
      "CV mean score: 0.8493, std: 0.1383.\n",
      "CV mean score: 0.8678, std: 0.1018.\n",
      "CV mean score: 0.8657, std: 0.1064.\n",
      "CV mean score: 0.8546, std: 0.1063.\n",
      "CV mean score: 0.8435, std: 0.1080.\n",
      "CV mean score: 0.8518, std: 0.0954.\n",
      "CV mean score: 0.8574, std: 0.0990.\n",
      "CV mean score: 0.8579, std: 0.0889.\n",
      "CV mean score: 0.8579, std: 0.0849.\n",
      "CV mean score: 0.8551, std: 0.0870.\n",
      "CV mean score: 0.8440, std: 0.1035.\n",
      "CV mean score: 0.8360, std: 0.1191.\n",
      "CV mean score: 0.8357, std: 0.1169.\n",
      "CV mean score: 0.8211, std: 0.1363.\n",
      "CV mean score: 0.8239, std: 0.1407.\n",
      "CV mean score: 0.8322, std: 0.1098.\n",
      "CV mean score: 0.8350, std: 0.0876.\n",
      "CV mean score: 0.8285, std: 0.1011.\n",
      "CV mean score: 0.8292, std: 0.0972.\n",
      "CV mean score: 0.8292, std: 0.0972.\n",
      "CV mean score: 0.8211, std: 0.1010.\n",
      "CV mean score: 0.8347, std: 0.1082.\n",
      "CV mean score: 0.8153, std: 0.1060.\n",
      "CV mean score: 0.8042, std: 0.1049.\n",
      "CV mean score: 0.8042, std: 0.1049.\n",
      "CV mean score: 0.8000, std: 0.1086.\n",
      "CV mean score: 0.8000, std: 0.1086.\n",
      "CV mean score: 0.7833, std: 0.1323.\n",
      "CV mean score: 0.7667, std: 0.1308.\n",
      "CV mean score: 0.7886, std: 0.1087.\n",
      "CV mean score: 0.7886, std: 0.1087.\n",
      "CV mean score: 0.7806, std: 0.1136.\n",
      "CV mean score: 0.7828, std: 0.1195.\n",
      "CV mean score: 0.7744, std: 0.1176.\n",
      "CV mean score: 0.7744, std: 0.1176.\n",
      "CV mean score: 0.7772, std: 0.1196.\n",
      "CV mean score: 0.7807, std: 0.1179.\n",
      "CV mean score: 0.7862, std: 0.1095.\n",
      "CV mean score: 0.7754, std: 0.1239.\n",
      "CV mean score: 0.7692, std: 0.1327.\n",
      "CV mean score: 0.7692, std: 0.1327.\n",
      "CV mean score: 0.7664, std: 0.1342.\n",
      "CV mean score: 0.7556, std: 0.1411.\n",
      "CV mean score: 0.7340, std: 0.1401.\n",
      "CV mean score: 0.7340, std: 0.1455.\n",
      "CV mean score: 0.7257, std: 0.1470.\n",
      "CV mean score: 0.7257, std: 0.1470.\n",
      "CV mean score: 0.7229, std: 0.1497.\n",
      "CV mean score: 0.7489, std: 0.1455.\n",
      "CV mean score: 0.7486, std: 0.1486.\n",
      "CV mean score: 0.7458, std: 0.1476.\n",
      "CV mean score: 0.7489, std: 0.1405.\n",
      "CV mean score: 0.7431, std: 0.1346.\n",
      "CV mean score: 0.7431, std: 0.1346.\n",
      "CV mean score: 0.7433, std: 0.1238.\n",
      "CV mean score: 0.7433, std: 0.1238.\n",
      "CV mean score: 0.7399, std: 0.1245.\n",
      "CV mean score: 0.7371, std: 0.1261.\n",
      "CV mean score: 0.7396, std: 0.1255.\n",
      "CV mean score: 0.7396, std: 0.1255.\n",
      "CV mean score: 0.7406, std: 0.1264.\n",
      "CV mean score: 0.7406, std: 0.1264.\n",
      "CV mean score: 0.7322, std: 0.1291.\n",
      "CV mean score: 0.7325, std: 0.1323.\n",
      "CV mean score: 0.7290, std: 0.1318.\n",
      "CV mean score: 0.7204, std: 0.1329.\n",
      "CV mean score: 0.7217, std: 0.1253.\n",
      "CV mean score: 0.7212, std: 0.1345.\n",
      "CV mean score: 0.7212, std: 0.1345.\n",
      "CV mean score: 0.7175, std: 0.1507.\n",
      "CV mean score: 0.7175, std: 0.1507.\n",
      "CV mean score: 0.7321, std: 0.1445.\n",
      "CV mean score: 0.7321, std: 0.1445.\n",
      "CV mean score: 0.7321, std: 0.1412.\n",
      "CV mean score: 0.7210, std: 0.1400.\n",
      "CV mean score: 0.7210, std: 0.1400.\n",
      "CV mean score: 0.7293, std: 0.1375.\n",
      "CV mean score: 0.7265, std: 0.1431.\n",
      "CV mean score: 0.7265, std: 0.1431.\n",
      "CV mean score: 0.7265, std: 0.1431.\n",
      "CV mean score: 0.7262, std: 0.1513.\n",
      "CV mean score: 0.7262, std: 0.1513.\n",
      "CV mean score: 0.7262, std: 0.1513.\n",
      "CV mean score: 0.7262, std: 0.1513.\n",
      "CV mean score: 0.7242, std: 0.1492.\n",
      "CV mean score: 0.7186, std: 0.1444.\n",
      "CV mean score: 0.7158, std: 0.1496.\n",
      "CV mean score: 0.7103, std: 0.1597.\n",
      "CV mean score: 0.7047, std: 0.1682.\n",
      "CV mean score: 0.7019, std: 0.1669.\n",
      "CV mean score: 0.6964, std: 0.1624.\n"
     ]
    }
   ],
   "source": [
    "sc = []\n",
    "for i in range(10, 510, 5):\n",
    "    top_corr_cols = list(cor.abs().sort_values().tail(i).reset_index()['index'].values)\n",
    "    X_train_poly1 = X_train_poly[:, top_corr_cols]\n",
    "    X_test_poly1 = X_test_poly[:, top_corr_cols]\n",
    "    oof_lr_poly, prediction_lr_poly, scores = train_model(X_train_poly1, X_test_poly1, y_train, params=None, model_type='sklearn', model=model)\n",
    "    sc.append(scores)"
   ]
  },
  {
   "cell_type": "code",
   "execution_count": 76,
   "metadata": {},
   "outputs": [
    {
     "data": {
      "application/vnd.plotly.v1+json": {
       "config": {
        "linkText": "Export to plot.ly",
        "plotlyServerURL": "https://plot.ly",
        "showLink": false
       },
       "data": [
        {
         "name": "CV scores",
         "type": "scatter",
         "x": [
          10,
          15,
          20,
          25,
          30,
          35,
          40,
          45,
          50,
          55,
          60,
          65,
          70,
          75,
          80,
          85,
          90,
          95,
          100,
          105,
          110,
          115,
          120,
          125,
          130,
          135,
          140,
          145,
          150,
          155,
          160,
          165,
          170,
          175,
          180,
          185,
          190,
          195,
          200,
          205,
          210,
          215,
          220,
          225,
          230,
          235,
          240,
          245,
          250,
          255,
          260,
          265,
          270,
          275,
          280,
          285,
          290,
          295,
          300,
          305,
          310,
          315,
          320,
          325,
          330,
          335,
          340,
          345,
          350,
          355,
          360,
          365,
          370,
          375,
          380,
          385,
          390,
          395,
          400,
          405,
          410,
          415,
          420,
          425,
          430,
          435,
          440,
          445,
          450,
          455,
          460,
          465,
          470,
          475,
          480,
          485,
          490,
          495,
          500,
          505
         ],
         "y": [
          0.7686,
          0.795,
          0.8467,
          0.8407,
          0.8485,
          0.8297,
          0.8258,
          0.8354,
          0.871,
          0.8493,
          0.8678,
          0.8657,
          0.8546,
          0.8435,
          0.8518,
          0.8574,
          0.8579,
          0.8579,
          0.8551,
          0.844,
          0.836,
          0.8357,
          0.8211,
          0.8239,
          0.8322,
          0.835,
          0.8285,
          0.8292,
          0.8292,
          0.8211,
          0.8347,
          0.8153,
          0.8042,
          0.8042,
          0.8,
          0.8,
          0.7833,
          0.7667,
          0.7886,
          0.7886,
          0.7806,
          0.7828,
          0.7744,
          0.7744,
          0.7772,
          0.7807,
          0.7862,
          0.7754,
          0.7692,
          0.7692,
          0.7664,
          0.7556,
          0.734,
          0.734,
          0.7257,
          0.7257,
          0.7229,
          0.7489,
          0.7486,
          0.7458,
          0.7489,
          0.7431,
          0.7431,
          0.7433,
          0.7433,
          0.7399,
          0.7371,
          0.7396,
          0.7396,
          0.7406,
          0.7406,
          0.7322,
          0.7325,
          0.729,
          0.7204,
          0.7217,
          0.7212,
          0.7212,
          0.7175,
          0.7175,
          0.7321,
          0.7321,
          0.7321,
          0.721,
          0.721,
          0.7293,
          0.7265,
          0.7265,
          0.7265,
          0.7262,
          0.7262,
          0.7262,
          0.7262,
          0.7242,
          0.7186,
          0.7158,
          0.7103,
          0.7047,
          0.7019,
          0.6964
         ]
        }
       ],
       "layout": {
        "template": {
         "data": {
          "bar": [
           {
            "error_x": {
             "color": "#2a3f5f"
            },
            "error_y": {
             "color": "#2a3f5f"
            },
            "marker": {
             "line": {
              "color": "#E5ECF6",
              "width": 0.5
             }
            },
            "type": "bar"
           }
          ],
          "barpolar": [
           {
            "marker": {
             "line": {
              "color": "#E5ECF6",
              "width": 0.5
             }
            },
            "type": "barpolar"
           }
          ],
          "carpet": [
           {
            "aaxis": {
             "endlinecolor": "#2a3f5f",
             "gridcolor": "white",
             "linecolor": "white",
             "minorgridcolor": "white",
             "startlinecolor": "#2a3f5f"
            },
            "baxis": {
             "endlinecolor": "#2a3f5f",
             "gridcolor": "white",
             "linecolor": "white",
             "minorgridcolor": "white",
             "startlinecolor": "#2a3f5f"
            },
            "type": "carpet"
           }
          ],
          "choropleth": [
           {
            "colorbar": {
             "outlinewidth": 0,
             "ticks": ""
            },
            "type": "choropleth"
           }
          ],
          "contour": [
           {
            "colorbar": {
             "outlinewidth": 0,
             "ticks": ""
            },
            "colorscale": [
             [
              0,
              "#0d0887"
             ],
             [
              0.1111111111111111,
              "#46039f"
             ],
             [
              0.2222222222222222,
              "#7201a8"
             ],
             [
              0.3333333333333333,
              "#9c179e"
             ],
             [
              0.4444444444444444,
              "#bd3786"
             ],
             [
              0.5555555555555556,
              "#d8576b"
             ],
             [
              0.6666666666666666,
              "#ed7953"
             ],
             [
              0.7777777777777778,
              "#fb9f3a"
             ],
             [
              0.8888888888888888,
              "#fdca26"
             ],
             [
              1,
              "#f0f921"
             ]
            ],
            "type": "contour"
           }
          ],
          "contourcarpet": [
           {
            "colorbar": {
             "outlinewidth": 0,
             "ticks": ""
            },
            "type": "contourcarpet"
           }
          ],
          "heatmap": [
           {
            "colorbar": {
             "outlinewidth": 0,
             "ticks": ""
            },
            "colorscale": [
             [
              0,
              "#0d0887"
             ],
             [
              0.1111111111111111,
              "#46039f"
             ],
             [
              0.2222222222222222,
              "#7201a8"
             ],
             [
              0.3333333333333333,
              "#9c179e"
             ],
             [
              0.4444444444444444,
              "#bd3786"
             ],
             [
              0.5555555555555556,
              "#d8576b"
             ],
             [
              0.6666666666666666,
              "#ed7953"
             ],
             [
              0.7777777777777778,
              "#fb9f3a"
             ],
             [
              0.8888888888888888,
              "#fdca26"
             ],
             [
              1,
              "#f0f921"
             ]
            ],
            "type": "heatmap"
           }
          ],
          "heatmapgl": [
           {
            "colorbar": {
             "outlinewidth": 0,
             "ticks": ""
            },
            "colorscale": [
             [
              0,
              "#0d0887"
             ],
             [
              0.1111111111111111,
              "#46039f"
             ],
             [
              0.2222222222222222,
              "#7201a8"
             ],
             [
              0.3333333333333333,
              "#9c179e"
             ],
             [
              0.4444444444444444,
              "#bd3786"
             ],
             [
              0.5555555555555556,
              "#d8576b"
             ],
             [
              0.6666666666666666,
              "#ed7953"
             ],
             [
              0.7777777777777778,
              "#fb9f3a"
             ],
             [
              0.8888888888888888,
              "#fdca26"
             ],
             [
              1,
              "#f0f921"
             ]
            ],
            "type": "heatmapgl"
           }
          ],
          "histogram": [
           {
            "marker": {
             "colorbar": {
              "outlinewidth": 0,
              "ticks": ""
             }
            },
            "type": "histogram"
           }
          ],
          "histogram2d": [
           {
            "colorbar": {
             "outlinewidth": 0,
             "ticks": ""
            },
            "colorscale": [
             [
              0,
              "#0d0887"
             ],
             [
              0.1111111111111111,
              "#46039f"
             ],
             [
              0.2222222222222222,
              "#7201a8"
             ],
             [
              0.3333333333333333,
              "#9c179e"
             ],
             [
              0.4444444444444444,
              "#bd3786"
             ],
             [
              0.5555555555555556,
              "#d8576b"
             ],
             [
              0.6666666666666666,
              "#ed7953"
             ],
             [
              0.7777777777777778,
              "#fb9f3a"
             ],
             [
              0.8888888888888888,
              "#fdca26"
             ],
             [
              1,
              "#f0f921"
             ]
            ],
            "type": "histogram2d"
           }
          ],
          "histogram2dcontour": [
           {
            "colorbar": {
             "outlinewidth": 0,
             "ticks": ""
            },
            "colorscale": [
             [
              0,
              "#0d0887"
             ],
             [
              0.1111111111111111,
              "#46039f"
             ],
             [
              0.2222222222222222,
              "#7201a8"
             ],
             [
              0.3333333333333333,
              "#9c179e"
             ],
             [
              0.4444444444444444,
              "#bd3786"
             ],
             [
              0.5555555555555556,
              "#d8576b"
             ],
             [
              0.6666666666666666,
              "#ed7953"
             ],
             [
              0.7777777777777778,
              "#fb9f3a"
             ],
             [
              0.8888888888888888,
              "#fdca26"
             ],
             [
              1,
              "#f0f921"
             ]
            ],
            "type": "histogram2dcontour"
           }
          ],
          "mesh3d": [
           {
            "colorbar": {
             "outlinewidth": 0,
             "ticks": ""
            },
            "type": "mesh3d"
           }
          ],
          "parcoords": [
           {
            "line": {
             "colorbar": {
              "outlinewidth": 0,
              "ticks": ""
             }
            },
            "type": "parcoords"
           }
          ],
          "pie": [
           {
            "automargin": true,
            "type": "pie"
           }
          ],
          "scatter": [
           {
            "marker": {
             "colorbar": {
              "outlinewidth": 0,
              "ticks": ""
             }
            },
            "type": "scatter"
           }
          ],
          "scatter3d": [
           {
            "line": {
             "colorbar": {
              "outlinewidth": 0,
              "ticks": ""
             }
            },
            "marker": {
             "colorbar": {
              "outlinewidth": 0,
              "ticks": ""
             }
            },
            "type": "scatter3d"
           }
          ],
          "scattercarpet": [
           {
            "marker": {
             "colorbar": {
              "outlinewidth": 0,
              "ticks": ""
             }
            },
            "type": "scattercarpet"
           }
          ],
          "scattergeo": [
           {
            "marker": {
             "colorbar": {
              "outlinewidth": 0,
              "ticks": ""
             }
            },
            "type": "scattergeo"
           }
          ],
          "scattergl": [
           {
            "marker": {
             "colorbar": {
              "outlinewidth": 0,
              "ticks": ""
             }
            },
            "type": "scattergl"
           }
          ],
          "scattermapbox": [
           {
            "marker": {
             "colorbar": {
              "outlinewidth": 0,
              "ticks": ""
             }
            },
            "type": "scattermapbox"
           }
          ],
          "scatterpolar": [
           {
            "marker": {
             "colorbar": {
              "outlinewidth": 0,
              "ticks": ""
             }
            },
            "type": "scatterpolar"
           }
          ],
          "scatterpolargl": [
           {
            "marker": {
             "colorbar": {
              "outlinewidth": 0,
              "ticks": ""
             }
            },
            "type": "scatterpolargl"
           }
          ],
          "scatterternary": [
           {
            "marker": {
             "colorbar": {
              "outlinewidth": 0,
              "ticks": ""
             }
            },
            "type": "scatterternary"
           }
          ],
          "surface": [
           {
            "colorbar": {
             "outlinewidth": 0,
             "ticks": ""
            },
            "colorscale": [
             [
              0,
              "#0d0887"
             ],
             [
              0.1111111111111111,
              "#46039f"
             ],
             [
              0.2222222222222222,
              "#7201a8"
             ],
             [
              0.3333333333333333,
              "#9c179e"
             ],
             [
              0.4444444444444444,
              "#bd3786"
             ],
             [
              0.5555555555555556,
              "#d8576b"
             ],
             [
              0.6666666666666666,
              "#ed7953"
             ],
             [
              0.7777777777777778,
              "#fb9f3a"
             ],
             [
              0.8888888888888888,
              "#fdca26"
             ],
             [
              1,
              "#f0f921"
             ]
            ],
            "type": "surface"
           }
          ],
          "table": [
           {
            "cells": {
             "fill": {
              "color": "#EBF0F8"
             },
             "line": {
              "color": "white"
             }
            },
            "header": {
             "fill": {
              "color": "#C8D4E3"
             },
             "line": {
              "color": "white"
             }
            },
            "type": "table"
           }
          ]
         },
         "layout": {
          "annotationdefaults": {
           "arrowcolor": "#2a3f5f",
           "arrowhead": 0,
           "arrowwidth": 1
          },
          "coloraxis": {
           "colorbar": {
            "outlinewidth": 0,
            "ticks": ""
           }
          },
          "colorscale": {
           "diverging": [
            [
             0,
             "#8e0152"
            ],
            [
             0.1,
             "#c51b7d"
            ],
            [
             0.2,
             "#de77ae"
            ],
            [
             0.3,
             "#f1b6da"
            ],
            [
             0.4,
             "#fde0ef"
            ],
            [
             0.5,
             "#f7f7f7"
            ],
            [
             0.6,
             "#e6f5d0"
            ],
            [
             0.7,
             "#b8e186"
            ],
            [
             0.8,
             "#7fbc41"
            ],
            [
             0.9,
             "#4d9221"
            ],
            [
             1,
             "#276419"
            ]
           ],
           "sequential": [
            [
             0,
             "#0d0887"
            ],
            [
             0.1111111111111111,
             "#46039f"
            ],
            [
             0.2222222222222222,
             "#7201a8"
            ],
            [
             0.3333333333333333,
             "#9c179e"
            ],
            [
             0.4444444444444444,
             "#bd3786"
            ],
            [
             0.5555555555555556,
             "#d8576b"
            ],
            [
             0.6666666666666666,
             "#ed7953"
            ],
            [
             0.7777777777777778,
             "#fb9f3a"
            ],
            [
             0.8888888888888888,
             "#fdca26"
            ],
            [
             1,
             "#f0f921"
            ]
           ],
           "sequentialminus": [
            [
             0,
             "#0d0887"
            ],
            [
             0.1111111111111111,
             "#46039f"
            ],
            [
             0.2222222222222222,
             "#7201a8"
            ],
            [
             0.3333333333333333,
             "#9c179e"
            ],
            [
             0.4444444444444444,
             "#bd3786"
            ],
            [
             0.5555555555555556,
             "#d8576b"
            ],
            [
             0.6666666666666666,
             "#ed7953"
            ],
            [
             0.7777777777777778,
             "#fb9f3a"
            ],
            [
             0.8888888888888888,
             "#fdca26"
            ],
            [
             1,
             "#f0f921"
            ]
           ]
          },
          "colorway": [
           "#636efa",
           "#EF553B",
           "#00cc96",
           "#ab63fa",
           "#FFA15A",
           "#19d3f3",
           "#FF6692",
           "#B6E880",
           "#FF97FF",
           "#FECB52"
          ],
          "font": {
           "color": "#2a3f5f"
          },
          "geo": {
           "bgcolor": "white",
           "lakecolor": "white",
           "landcolor": "#E5ECF6",
           "showlakes": true,
           "showland": true,
           "subunitcolor": "white"
          },
          "hoverlabel": {
           "align": "left"
          },
          "hovermode": "closest",
          "mapbox": {
           "style": "light"
          },
          "paper_bgcolor": "white",
          "plot_bgcolor": "#E5ECF6",
          "polar": {
           "angularaxis": {
            "gridcolor": "white",
            "linecolor": "white",
            "ticks": ""
           },
           "bgcolor": "#E5ECF6",
           "radialaxis": {
            "gridcolor": "white",
            "linecolor": "white",
            "ticks": ""
           }
          },
          "scene": {
           "xaxis": {
            "backgroundcolor": "#E5ECF6",
            "gridcolor": "white",
            "gridwidth": 2,
            "linecolor": "white",
            "showbackground": true,
            "ticks": "",
            "zerolinecolor": "white"
           },
           "yaxis": {
            "backgroundcolor": "#E5ECF6",
            "gridcolor": "white",
            "gridwidth": 2,
            "linecolor": "white",
            "showbackground": true,
            "ticks": "",
            "zerolinecolor": "white"
           },
           "zaxis": {
            "backgroundcolor": "#E5ECF6",
            "gridcolor": "white",
            "gridwidth": 2,
            "linecolor": "white",
            "showbackground": true,
            "ticks": "",
            "zerolinecolor": "white"
           }
          },
          "shapedefaults": {
           "line": {
            "color": "#2a3f5f"
           }
          },
          "ternary": {
           "aaxis": {
            "gridcolor": "white",
            "linecolor": "white",
            "ticks": ""
           },
           "baxis": {
            "gridcolor": "white",
            "linecolor": "white",
            "ticks": ""
           },
           "bgcolor": "#E5ECF6",
           "caxis": {
            "gridcolor": "white",
            "linecolor": "white",
            "ticks": ""
           }
          },
          "title": {
           "x": 0.05
          },
          "xaxis": {
           "automargin": true,
           "gridcolor": "white",
           "linecolor": "white",
           "ticks": "",
           "title": {
            "standoff": 15
           },
           "zerolinecolor": "white",
           "zerolinewidth": 2
          },
          "yaxis": {
           "automargin": true,
           "gridcolor": "white",
           "linecolor": "white",
           "ticks": "",
           "title": {
            "standoff": 15
           },
           "zerolinecolor": "white",
           "zerolinewidth": 2
          }
         }
        },
        "title": {
         "text": "Top N poly features vs CV"
        },
        "xaxis": {
         "title": {
          "text": "Top N features"
         }
        },
        "yaxis": {
         "title": {
          "text": "CV score"
         }
        }
       }
      },
      "text/html": [
       "<div>\n",
       "        \n",
       "        \n",
       "            <div id=\"66f29502-b20f-490d-87d7-0f8a201ad0e0\" class=\"plotly-graph-div\" style=\"height:525px; width:100%;\"></div>\n",
       "            <script type=\"text/javascript\">\n",
       "                require([\"plotly\"], function(Plotly) {\n",
       "                    window.PLOTLYENV=window.PLOTLYENV || {};\n",
       "                    \n",
       "                if (document.getElementById(\"66f29502-b20f-490d-87d7-0f8a201ad0e0\")) {\n",
       "                    Plotly.newPlot(\n",
       "                        '66f29502-b20f-490d-87d7-0f8a201ad0e0',\n",
       "                        [{\"name\": \"CV scores\", \"type\": \"scatter\", \"x\": [10, 15, 20, 25, 30, 35, 40, 45, 50, 55, 60, 65, 70, 75, 80, 85, 90, 95, 100, 105, 110, 115, 120, 125, 130, 135, 140, 145, 150, 155, 160, 165, 170, 175, 180, 185, 190, 195, 200, 205, 210, 215, 220, 225, 230, 235, 240, 245, 250, 255, 260, 265, 270, 275, 280, 285, 290, 295, 300, 305, 310, 315, 320, 325, 330, 335, 340, 345, 350, 355, 360, 365, 370, 375, 380, 385, 390, 395, 400, 405, 410, 415, 420, 425, 430, 435, 440, 445, 450, 455, 460, 465, 470, 475, 480, 485, 490, 495, 500, 505], \"y\": [0.7686, 0.795, 0.8467, 0.8407, 0.8485, 0.8297, 0.8258, 0.8354, 0.871, 0.8493, 0.8678, 0.8657, 0.8546, 0.8435, 0.8518, 0.8574, 0.8579, 0.8579, 0.8551, 0.844, 0.836, 0.8357, 0.8211, 0.8239, 0.8322, 0.835, 0.8285, 0.8292, 0.8292, 0.8211, 0.8347, 0.8153, 0.8042, 0.8042, 0.8, 0.8, 0.7833, 0.7667, 0.7886, 0.7886, 0.7806, 0.7828, 0.7744, 0.7744, 0.7772, 0.7807, 0.7862, 0.7754, 0.7692, 0.7692, 0.7664, 0.7556, 0.734, 0.734, 0.7257, 0.7257, 0.7229, 0.7489, 0.7486, 0.7458, 0.7489, 0.7431, 0.7431, 0.7433, 0.7433, 0.7399, 0.7371, 0.7396, 0.7396, 0.7406, 0.7406, 0.7322, 0.7325, 0.729, 0.7204, 0.7217, 0.7212, 0.7212, 0.7175, 0.7175, 0.7321, 0.7321, 0.7321, 0.721, 0.721, 0.7293, 0.7265, 0.7265, 0.7265, 0.7262, 0.7262, 0.7262, 0.7262, 0.7242, 0.7186, 0.7158, 0.7103, 0.7047, 0.7019, 0.6964]}],\n",
       "                        {\"template\": {\"data\": {\"bar\": [{\"error_x\": {\"color\": \"#2a3f5f\"}, \"error_y\": {\"color\": \"#2a3f5f\"}, \"marker\": {\"line\": {\"color\": \"#E5ECF6\", \"width\": 0.5}}, \"type\": \"bar\"}], \"barpolar\": [{\"marker\": {\"line\": {\"color\": \"#E5ECF6\", \"width\": 0.5}}, \"type\": \"barpolar\"}], \"carpet\": [{\"aaxis\": {\"endlinecolor\": \"#2a3f5f\", \"gridcolor\": \"white\", \"linecolor\": \"white\", \"minorgridcolor\": \"white\", \"startlinecolor\": \"#2a3f5f\"}, \"baxis\": {\"endlinecolor\": \"#2a3f5f\", \"gridcolor\": \"white\", \"linecolor\": \"white\", \"minorgridcolor\": \"white\", \"startlinecolor\": \"#2a3f5f\"}, \"type\": \"carpet\"}], \"choropleth\": [{\"colorbar\": {\"outlinewidth\": 0, \"ticks\": \"\"}, \"type\": \"choropleth\"}], \"contour\": [{\"colorbar\": {\"outlinewidth\": 0, \"ticks\": \"\"}, \"colorscale\": [[0.0, \"#0d0887\"], [0.1111111111111111, \"#46039f\"], [0.2222222222222222, \"#7201a8\"], [0.3333333333333333, \"#9c179e\"], [0.4444444444444444, \"#bd3786\"], [0.5555555555555556, \"#d8576b\"], [0.6666666666666666, \"#ed7953\"], [0.7777777777777778, \"#fb9f3a\"], [0.8888888888888888, \"#fdca26\"], [1.0, \"#f0f921\"]], \"type\": \"contour\"}], \"contourcarpet\": [{\"colorbar\": {\"outlinewidth\": 0, \"ticks\": \"\"}, \"type\": \"contourcarpet\"}], \"heatmap\": [{\"colorbar\": {\"outlinewidth\": 0, \"ticks\": \"\"}, \"colorscale\": [[0.0, \"#0d0887\"], [0.1111111111111111, \"#46039f\"], [0.2222222222222222, \"#7201a8\"], [0.3333333333333333, \"#9c179e\"], [0.4444444444444444, \"#bd3786\"], [0.5555555555555556, \"#d8576b\"], [0.6666666666666666, \"#ed7953\"], [0.7777777777777778, \"#fb9f3a\"], [0.8888888888888888, \"#fdca26\"], [1.0, \"#f0f921\"]], \"type\": \"heatmap\"}], \"heatmapgl\": [{\"colorbar\": {\"outlinewidth\": 0, \"ticks\": \"\"}, \"colorscale\": [[0.0, \"#0d0887\"], [0.1111111111111111, \"#46039f\"], [0.2222222222222222, \"#7201a8\"], [0.3333333333333333, \"#9c179e\"], [0.4444444444444444, \"#bd3786\"], [0.5555555555555556, \"#d8576b\"], [0.6666666666666666, \"#ed7953\"], [0.7777777777777778, \"#fb9f3a\"], [0.8888888888888888, \"#fdca26\"], [1.0, \"#f0f921\"]], \"type\": \"heatmapgl\"}], \"histogram\": [{\"marker\": {\"colorbar\": {\"outlinewidth\": 0, \"ticks\": \"\"}}, \"type\": \"histogram\"}], \"histogram2d\": [{\"colorbar\": {\"outlinewidth\": 0, \"ticks\": \"\"}, \"colorscale\": [[0.0, \"#0d0887\"], [0.1111111111111111, \"#46039f\"], [0.2222222222222222, \"#7201a8\"], [0.3333333333333333, \"#9c179e\"], [0.4444444444444444, \"#bd3786\"], [0.5555555555555556, \"#d8576b\"], [0.6666666666666666, \"#ed7953\"], [0.7777777777777778, \"#fb9f3a\"], [0.8888888888888888, \"#fdca26\"], [1.0, \"#f0f921\"]], \"type\": \"histogram2d\"}], \"histogram2dcontour\": [{\"colorbar\": {\"outlinewidth\": 0, \"ticks\": \"\"}, \"colorscale\": [[0.0, \"#0d0887\"], [0.1111111111111111, \"#46039f\"], [0.2222222222222222, \"#7201a8\"], [0.3333333333333333, \"#9c179e\"], [0.4444444444444444, \"#bd3786\"], [0.5555555555555556, \"#d8576b\"], [0.6666666666666666, \"#ed7953\"], [0.7777777777777778, \"#fb9f3a\"], [0.8888888888888888, \"#fdca26\"], [1.0, \"#f0f921\"]], \"type\": \"histogram2dcontour\"}], \"mesh3d\": [{\"colorbar\": {\"outlinewidth\": 0, \"ticks\": \"\"}, \"type\": \"mesh3d\"}], \"parcoords\": [{\"line\": {\"colorbar\": {\"outlinewidth\": 0, \"ticks\": \"\"}}, \"type\": \"parcoords\"}], \"pie\": [{\"automargin\": true, \"type\": \"pie\"}], \"scatter\": [{\"marker\": {\"colorbar\": {\"outlinewidth\": 0, \"ticks\": \"\"}}, \"type\": \"scatter\"}], \"scatter3d\": [{\"line\": {\"colorbar\": {\"outlinewidth\": 0, \"ticks\": \"\"}}, \"marker\": {\"colorbar\": {\"outlinewidth\": 0, \"ticks\": \"\"}}, \"type\": \"scatter3d\"}], \"scattercarpet\": [{\"marker\": {\"colorbar\": {\"outlinewidth\": 0, \"ticks\": \"\"}}, \"type\": \"scattercarpet\"}], \"scattergeo\": [{\"marker\": {\"colorbar\": {\"outlinewidth\": 0, \"ticks\": \"\"}}, \"type\": \"scattergeo\"}], \"scattergl\": [{\"marker\": {\"colorbar\": {\"outlinewidth\": 0, \"ticks\": \"\"}}, \"type\": \"scattergl\"}], \"scattermapbox\": [{\"marker\": {\"colorbar\": {\"outlinewidth\": 0, \"ticks\": \"\"}}, \"type\": \"scattermapbox\"}], \"scatterpolar\": [{\"marker\": {\"colorbar\": {\"outlinewidth\": 0, \"ticks\": \"\"}}, \"type\": \"scatterpolar\"}], \"scatterpolargl\": [{\"marker\": {\"colorbar\": {\"outlinewidth\": 0, \"ticks\": \"\"}}, \"type\": \"scatterpolargl\"}], \"scatterternary\": [{\"marker\": {\"colorbar\": {\"outlinewidth\": 0, \"ticks\": \"\"}}, \"type\": \"scatterternary\"}], \"surface\": [{\"colorbar\": {\"outlinewidth\": 0, \"ticks\": \"\"}, \"colorscale\": [[0.0, \"#0d0887\"], [0.1111111111111111, \"#46039f\"], [0.2222222222222222, \"#7201a8\"], [0.3333333333333333, \"#9c179e\"], [0.4444444444444444, \"#bd3786\"], [0.5555555555555556, \"#d8576b\"], [0.6666666666666666, \"#ed7953\"], [0.7777777777777778, \"#fb9f3a\"], [0.8888888888888888, \"#fdca26\"], [1.0, \"#f0f921\"]], \"type\": \"surface\"}], \"table\": [{\"cells\": {\"fill\": {\"color\": \"#EBF0F8\"}, \"line\": {\"color\": \"white\"}}, \"header\": {\"fill\": {\"color\": \"#C8D4E3\"}, \"line\": {\"color\": \"white\"}}, \"type\": \"table\"}]}, \"layout\": {\"annotationdefaults\": {\"arrowcolor\": \"#2a3f5f\", \"arrowhead\": 0, \"arrowwidth\": 1}, \"coloraxis\": {\"colorbar\": {\"outlinewidth\": 0, \"ticks\": \"\"}}, \"colorscale\": {\"diverging\": [[0, \"#8e0152\"], [0.1, \"#c51b7d\"], [0.2, \"#de77ae\"], [0.3, \"#f1b6da\"], [0.4, \"#fde0ef\"], [0.5, \"#f7f7f7\"], [0.6, \"#e6f5d0\"], [0.7, \"#b8e186\"], [0.8, \"#7fbc41\"], [0.9, \"#4d9221\"], [1, \"#276419\"]], \"sequential\": [[0.0, \"#0d0887\"], [0.1111111111111111, \"#46039f\"], [0.2222222222222222, \"#7201a8\"], [0.3333333333333333, \"#9c179e\"], [0.4444444444444444, \"#bd3786\"], [0.5555555555555556, \"#d8576b\"], [0.6666666666666666, \"#ed7953\"], [0.7777777777777778, \"#fb9f3a\"], [0.8888888888888888, \"#fdca26\"], [1.0, \"#f0f921\"]], \"sequentialminus\": [[0.0, \"#0d0887\"], [0.1111111111111111, \"#46039f\"], [0.2222222222222222, \"#7201a8\"], [0.3333333333333333, \"#9c179e\"], [0.4444444444444444, \"#bd3786\"], [0.5555555555555556, \"#d8576b\"], [0.6666666666666666, \"#ed7953\"], [0.7777777777777778, \"#fb9f3a\"], [0.8888888888888888, \"#fdca26\"], [1.0, \"#f0f921\"]]}, \"colorway\": [\"#636efa\", \"#EF553B\", \"#00cc96\", \"#ab63fa\", \"#FFA15A\", \"#19d3f3\", \"#FF6692\", \"#B6E880\", \"#FF97FF\", \"#FECB52\"], \"font\": {\"color\": \"#2a3f5f\"}, \"geo\": {\"bgcolor\": \"white\", \"lakecolor\": \"white\", \"landcolor\": \"#E5ECF6\", \"showlakes\": true, \"showland\": true, \"subunitcolor\": \"white\"}, \"hoverlabel\": {\"align\": \"left\"}, \"hovermode\": \"closest\", \"mapbox\": {\"style\": \"light\"}, \"paper_bgcolor\": \"white\", \"plot_bgcolor\": \"#E5ECF6\", \"polar\": {\"angularaxis\": {\"gridcolor\": \"white\", \"linecolor\": \"white\", \"ticks\": \"\"}, \"bgcolor\": \"#E5ECF6\", \"radialaxis\": {\"gridcolor\": \"white\", \"linecolor\": \"white\", \"ticks\": \"\"}}, \"scene\": {\"xaxis\": {\"backgroundcolor\": \"#E5ECF6\", \"gridcolor\": \"white\", \"gridwidth\": 2, \"linecolor\": \"white\", \"showbackground\": true, \"ticks\": \"\", \"zerolinecolor\": \"white\"}, \"yaxis\": {\"backgroundcolor\": \"#E5ECF6\", \"gridcolor\": \"white\", \"gridwidth\": 2, \"linecolor\": \"white\", \"showbackground\": true, \"ticks\": \"\", \"zerolinecolor\": \"white\"}, \"zaxis\": {\"backgroundcolor\": \"#E5ECF6\", \"gridcolor\": \"white\", \"gridwidth\": 2, \"linecolor\": \"white\", \"showbackground\": true, \"ticks\": \"\", \"zerolinecolor\": \"white\"}}, \"shapedefaults\": {\"line\": {\"color\": \"#2a3f5f\"}}, \"ternary\": {\"aaxis\": {\"gridcolor\": \"white\", \"linecolor\": \"white\", \"ticks\": \"\"}, \"baxis\": {\"gridcolor\": \"white\", \"linecolor\": \"white\", \"ticks\": \"\"}, \"bgcolor\": \"#E5ECF6\", \"caxis\": {\"gridcolor\": \"white\", \"linecolor\": \"white\", \"ticks\": \"\"}}, \"title\": {\"x\": 0.05}, \"xaxis\": {\"automargin\": true, \"gridcolor\": \"white\", \"linecolor\": \"white\", \"ticks\": \"\", \"title\": {\"standoff\": 15}, \"zerolinecolor\": \"white\", \"zerolinewidth\": 2}, \"yaxis\": {\"automargin\": true, \"gridcolor\": \"white\", \"linecolor\": \"white\", \"ticks\": \"\", \"title\": {\"standoff\": 15}, \"zerolinecolor\": \"white\", \"zerolinewidth\": 2}}}, \"title\": {\"text\": \"Top N poly features vs CV\"}, \"xaxis\": {\"title\": {\"text\": \"Top N features\"}}, \"yaxis\": {\"title\": {\"text\": \"CV score\"}}},\n",
       "                        {\"responsive\": true}\n",
       "                    ).then(function(){\n",
       "                            \n",
       "var gd = document.getElementById('66f29502-b20f-490d-87d7-0f8a201ad0e0');\n",
       "var x = new MutationObserver(function (mutations, observer) {{\n",
       "        var display = window.getComputedStyle(gd).display;\n",
       "        if (!display || display === 'none') {{\n",
       "            console.log([gd, 'removed!']);\n",
       "            Plotly.purge(gd);\n",
       "            observer.disconnect();\n",
       "        }}\n",
       "}});\n",
       "\n",
       "// Listen for the removal of the full notebook cells\n",
       "var notebookContainer = gd.closest('#notebook-container');\n",
       "if (notebookContainer) {{\n",
       "    x.observe(notebookContainer, {childList: true});\n",
       "}}\n",
       "\n",
       "// Listen for the clearing of the current output cell\n",
       "var outputEl = gd.closest('.output');\n",
       "if (outputEl) {{\n",
       "    x.observe(outputEl, {childList: true});\n",
       "}}\n",
       "\n",
       "                        })\n",
       "                };\n",
       "                });\n",
       "            </script>\n",
       "        </div>"
      ]
     },
     "metadata": {},
     "output_type": "display_data"
    }
   ],
   "source": [
    "data = [go.Scatter(\n",
    "        x = list(range(10, 510, 5)),\n",
    "        y = [np.round(np.mean(i), 4) for i in sc],\n",
    "        name = 'CV scores'\n",
    "    )]\n",
    "layout = go.Layout(dict(title = \"Top N poly features vs CV\",\n",
    "                  xaxis = dict(title = 'Top N features'),\n",
    "                  yaxis = dict(title = 'CV score'),\n",
    "                  ))\n",
    "py.iplot(dict(data=data, layout=layout), filename='basic-line')"
   ]
  },
  {
   "cell_type": "markdown",
   "metadata": {},
   "source": [
    "当然のことながら、私たちはオーバーフィットしています。"
   ]
  },
  {
   "cell_type": "code",
   "execution_count": 77,
   "metadata": {},
   "outputs": [],
   "source": [
    "top_corr_cols = list(cor.abs().sort_values().tail(300).reset_index()['index'].values)\n",
    "X_train_poly1 = X_train_poly[:, top_corr_cols]\n",
    "X_test_poly1 = X_test_poly[:, top_corr_cols]"
   ]
  },
  {
   "cell_type": "code",
   "execution_count": 78,
   "metadata": {},
   "outputs": [
    {
     "name": "stdout",
     "output_type": "stream",
     "text": [
      "CV mean score: 0.7486, std: 0.1486.\n"
     ]
    }
   ],
   "source": [
    "model = linear_model.LogisticRegression(class_weight='balanced', penalty='l1', C=0.1, solver='liblinear')\n",
    "oof_lr_poly, prediction_lr_poly, scores = train_model(X_train_poly1, X_test_poly1, y_train, params=None, model_type='sklearn', model=model)"
   ]
  },
  {
   "cell_type": "code",
   "execution_count": 79,
   "metadata": {},
   "outputs": [
    {
     "data": {
      "text/html": [
       "<div>\n",
       "<style scoped>\n",
       "    .dataframe tbody tr th:only-of-type {\n",
       "        vertical-align: middle;\n",
       "    }\n",
       "\n",
       "    .dataframe tbody tr th {\n",
       "        vertical-align: top;\n",
       "    }\n",
       "\n",
       "    .dataframe thead th {\n",
       "        text-align: right;\n",
       "    }\n",
       "</style>\n",
       "<table border=\"1\" class=\"dataframe\">\n",
       "  <thead>\n",
       "    <tr style=\"text-align: right;\">\n",
       "      <th></th>\n",
       "      <th>id</th>\n",
       "      <th>target</th>\n",
       "    </tr>\n",
       "  </thead>\n",
       "  <tbody>\n",
       "    <tr>\n",
       "      <th>0</th>\n",
       "      <td>250</td>\n",
       "      <td>0.392720</td>\n",
       "    </tr>\n",
       "    <tr>\n",
       "      <th>1</th>\n",
       "      <td>251</td>\n",
       "      <td>0.398969</td>\n",
       "    </tr>\n",
       "    <tr>\n",
       "      <th>2</th>\n",
       "      <td>252</td>\n",
       "      <td>0.407691</td>\n",
       "    </tr>\n",
       "    <tr>\n",
       "      <th>3</th>\n",
       "      <td>253</td>\n",
       "      <td>0.281149</td>\n",
       "    </tr>\n",
       "    <tr>\n",
       "      <th>4</th>\n",
       "      <td>254</td>\n",
       "      <td>0.758072</td>\n",
       "    </tr>\n",
       "  </tbody>\n",
       "</table>\n",
       "</div>"
      ],
      "text/plain": [
       "    id    target\n",
       "0  250  0.392720\n",
       "1  251  0.398969\n",
       "2  252  0.407691\n",
       "3  253  0.281149\n",
       "4  254  0.758072"
      ]
     },
     "execution_count": 79,
     "metadata": {},
     "output_type": "execute_result"
    }
   ],
   "source": [
    "submission = pd.read_csv('sample_submission.csv')\n",
    "submission['target'] = prediction_lr_poly\n",
    "# submission.to_csv('submission_poly.csv', index=False)\n",
    "\n",
    "submission.head()"
   ]
  },
  {
   "cell_type": "markdown",
   "metadata": {},
   "source": [
    "スコアはずっと低くなった。 これも悪い考えです"
   ]
  },
  {
   "cell_type": "markdown",
   "metadata": {},
   "source": [
    "## Adding statistics"
   ]
  },
  {
   "cell_type": "code",
   "execution_count": 80,
   "metadata": {},
   "outputs": [
    {
     "name": "stdout",
     "output_type": "stream",
     "text": [
      "CV mean score: 0.7403, std: 0.1355.\n"
     ]
    }
   ],
   "source": [
    "X_train = train.drop(['id', 'target'], axis=1)\n",
    "X_test = test.drop(['id'], axis=1)\n",
    "X_train['300'] = X_train.std(1)\n",
    "X_test['300'] = X_test.std(1)\n",
    "scaler = StandardScaler()\n",
    "X_train[X_train.columns[:-1]] = scaler.fit_transform(X_train[X_train.columns[:-1]])\n",
    "X_test[X_train.columns[:-1]] = scaler.transform(X_test[X_train.columns[:-1]])\n",
    "model = linear_model.LogisticRegression(class_weight='balanced', penalty='l1', C=0.1, solver='liblinear')\n",
    "oof_lr_1, prediction_lr_1, scores = train_model(X_train.values, X_test.values, y_train, params=None, model_type='sklearn', model=model)"
   ]
  },
  {
   "cell_type": "markdown",
   "metadata": {},
   "source": [
    "繰り返されるKFoldと比較してみましょう。"
   ]
  },
  {
   "cell_type": "code",
   "execution_count": 81,
   "metadata": {},
   "outputs": [
    {
     "name": "stdout",
     "output_type": "stream",
     "text": [
      "CV mean score: 0.7069, std: 0.1432.\n"
     ]
    },
    {
     "data": {
      "text/html": [
       "<div>\n",
       "<style scoped>\n",
       "    .dataframe tbody tr th:only-of-type {\n",
       "        vertical-align: middle;\n",
       "    }\n",
       "\n",
       "    .dataframe tbody tr th {\n",
       "        vertical-align: top;\n",
       "    }\n",
       "\n",
       "    .dataframe thead th {\n",
       "        text-align: right;\n",
       "    }\n",
       "</style>\n",
       "<table border=\"1\" class=\"dataframe\">\n",
       "  <thead>\n",
       "    <tr style=\"text-align: right;\">\n",
       "      <th></th>\n",
       "      <th>id</th>\n",
       "      <th>target</th>\n",
       "    </tr>\n",
       "  </thead>\n",
       "  <tbody>\n",
       "    <tr>\n",
       "      <th>0</th>\n",
       "      <td>250</td>\n",
       "      <td>15.005341</td>\n",
       "    </tr>\n",
       "    <tr>\n",
       "      <th>1</th>\n",
       "      <td>251</td>\n",
       "      <td>9.725019</td>\n",
       "    </tr>\n",
       "    <tr>\n",
       "      <th>2</th>\n",
       "      <td>252</td>\n",
       "      <td>11.444440</td>\n",
       "    </tr>\n",
       "    <tr>\n",
       "      <th>3</th>\n",
       "      <td>253</td>\n",
       "      <td>12.744522</td>\n",
       "    </tr>\n",
       "    <tr>\n",
       "      <th>4</th>\n",
       "      <td>254</td>\n",
       "      <td>14.222673</td>\n",
       "    </tr>\n",
       "  </tbody>\n",
       "</table>\n",
       "</div>"
      ],
      "text/plain": [
       "    id     target\n",
       "0  250  15.005341\n",
       "1  251   9.725019\n",
       "2  252  11.444440\n",
       "3  253  12.744522\n",
       "4  254  14.222673"
      ]
     },
     "execution_count": 81,
     "metadata": {},
     "output_type": "execute_result"
    }
   ],
   "source": [
    "X_train = train.drop(['id', 'target'], axis=1)\n",
    "X_test = test.drop(['id'], axis=1)\n",
    "X_train['300'] = X_train.std(1)\n",
    "X_test['300'] = X_test.std(1)\n",
    "scaler = StandardScaler()\n",
    "X_train[X_train.columns[:-1]] = scaler.fit_transform(X_train[X_train.columns[:-1]])\n",
    "X_test[X_train.columns[:-1]] = scaler.transform(X_test[X_train.columns[:-1]])\n",
    "model = linear_model.LogisticRegression(class_weight='balanced', penalty='l1', C=0.1, solver='liblinear')\n",
    "oof_lr_1, prediction_lr_1_repeated, scores = train_model(X_train.values, X_test.values, y_train, params=None, model_type='sklearn', model=model, folds=repeated_folds)\n",
    "submission = pd.read_csv('sample_submission.csv')\n",
    "submission['target'] = prediction_lr_1_repeated\n",
    "submission.to_csv('repeated_fold_features.csv', index=False)\n",
    "\n",
    "submission.head()"
   ]
  },
  {
   "cell_type": "markdown",
   "metadata": {},
   "source": [
    "CVが少し増えました!"
   ]
  },
  {
   "cell_type": "markdown",
   "metadata": {},
   "source": [
    "## Adding distance features"
   ]
  },
  {
   "cell_type": "code",
   "execution_count": 82,
   "metadata": {},
   "outputs": [],
   "source": [
    "X_train = train.drop(['id', 'target'], axis=1)\n",
    "X_test = test.drop(['id'], axis=1)\n",
    "main_cols = X_train.columns.tolist()"
   ]
  },
  {
   "cell_type": "code",
   "execution_count": 83,
   "metadata": {},
   "outputs": [],
   "source": [
    "neigh = NearestNeighbors(5, n_jobs=-1)\n",
    "neigh.fit(X_train)\n",
    "\n",
    "dists, _ = neigh.kneighbors(X_train, n_neighbors=5)\n",
    "mean_dist = dists.mean(axis=1)\n",
    "max_dist = dists.max(axis=1)\n",
    "min_dist = dists.min(axis=1)\n",
    "\n",
    "X_train['300'] = X_train.std(1)\n",
    "X_train = np.hstack((X_train, mean_dist.reshape(-1, 1), max_dist.reshape(-1, 1), min_dist.reshape(-1, 1)))\n",
    "\n",
    "test_dists, _ = neigh.kneighbors(X_test, n_neighbors=5)\n",
    "\n",
    "test_mean_dist = test_dists.mean(axis=1)\n",
    "test_max_dist = test_dists.max(axis=1)\n",
    "test_min_dist = test_dists.min(axis=1)\n",
    "\n",
    "X_test['300'] = X_test.std(1)\n",
    "X_test = np.hstack((X_test, test_mean_dist.reshape(-1, 1), test_max_dist.reshape(-1, 1), test_min_dist.reshape(-1, 1)))"
   ]
  },
  {
   "cell_type": "code",
   "execution_count": 84,
   "metadata": {},
   "outputs": [
    {
     "name": "stdout",
     "output_type": "stream",
     "text": [
      "CV mean score: 0.6929, std: 0.1648.\n"
     ]
    }
   ],
   "source": [
    "model = linear_model.LogisticRegression(class_weight='balanced', penalty='l1', C=0.1, solver='liblinear')\n",
    "oof_lr_2, prediction_lr_2, scores = train_model(X_train, X_test, y_train, params=None, model_type='sklearn', model=model)\n",
    "submission['target'] = prediction_lr_2\n",
    "submission.to_csv('nn_features.csv', index=False)"
   ]
  },
  {
   "cell_type": "code",
   "execution_count": 85,
   "metadata": {},
   "outputs": [
    {
     "data": {
      "text/html": [
       "<div>\n",
       "<style scoped>\n",
       "    .dataframe tbody tr th:only-of-type {\n",
       "        vertical-align: middle;\n",
       "    }\n",
       "\n",
       "    .dataframe tbody tr th {\n",
       "        vertical-align: top;\n",
       "    }\n",
       "\n",
       "    .dataframe thead th {\n",
       "        text-align: right;\n",
       "    }\n",
       "</style>\n",
       "<table border=\"1\" class=\"dataframe\">\n",
       "  <thead>\n",
       "    <tr style=\"text-align: right;\">\n",
       "      <th></th>\n",
       "      <th>id</th>\n",
       "      <th>target</th>\n",
       "    </tr>\n",
       "  </thead>\n",
       "  <tbody>\n",
       "    <tr>\n",
       "      <th>0</th>\n",
       "      <td>250</td>\n",
       "      <td>0.741766</td>\n",
       "    </tr>\n",
       "    <tr>\n",
       "      <th>1</th>\n",
       "      <td>251</td>\n",
       "      <td>0.470430</td>\n",
       "    </tr>\n",
       "    <tr>\n",
       "      <th>2</th>\n",
       "      <td>252</td>\n",
       "      <td>0.530273</td>\n",
       "    </tr>\n",
       "    <tr>\n",
       "      <th>3</th>\n",
       "      <td>253</td>\n",
       "      <td>0.612137</td>\n",
       "    </tr>\n",
       "    <tr>\n",
       "      <th>4</th>\n",
       "      <td>254</td>\n",
       "      <td>0.700763</td>\n",
       "    </tr>\n",
       "  </tbody>\n",
       "</table>\n",
       "</div>"
      ],
      "text/plain": [
       "    id    target\n",
       "0  250  0.741766\n",
       "1  251  0.470430\n",
       "2  252  0.530273\n",
       "3  253  0.612137\n",
       "4  254  0.700763"
      ]
     },
     "execution_count": 85,
     "metadata": {},
     "output_type": "execute_result"
    }
   ],
   "source": [
    "submission = pd.read_csv('sample_submission.csv')\n",
    "submission['target'] = (prediction_lr_1 + prediction_lr_2) / 2\n",
    "# submission.to_csv('blend.csv', index=False)\n",
    "\n",
    "submission.head()"
   ]
  },
  {
   "cell_type": "markdown",
   "metadata": {},
   "source": [
    "## Sklearn feature selection\n",
    "Sklearnには、特徴選択を行うためのいくつかの方法があります。 それらのいくつかを試してみましょう！"
   ]
  },
  {
   "cell_type": "code",
   "execution_count": 86,
   "metadata": {},
   "outputs": [
    {
     "name": "stdout",
     "output_type": "stream",
     "text": [
      "CV mean score: 0.7431, std: 0.1357.\n"
     ]
    }
   ],
   "source": [
    "# baseline score\n",
    "X_train = train.drop(['id', 'target'], axis=1)\n",
    "X_test = test.drop(['id'], axis=1)\n",
    "scaler = StandardScaler()\n",
    "X_train = scaler.fit_transform(X_train)\n",
    "X_test = scaler.transform(X_test)\n",
    "model = linear_model.LogisticRegression(class_weight='balanced', penalty='l1', C=0.1, solver='liblinear')\n",
    "oof_lr_1, prediction_lr_1, scores = train_model(X_train, X_test, y_train, params=None, model_type='sklearn', model=model)"
   ]
  },
  {
   "cell_type": "code",
   "execution_count": 88,
   "metadata": {},
   "outputs": [
    {
     "name": "stdout",
     "output_type": "stream",
     "text": [
      "CV mean score: 0.7664, std: 0.1369.\n",
      "CV mean score: 0.6518, std: 0.1585.\n",
      "CV mean score: 0.7668, std: 0.1414.\n",
      "CV mean score: 0.6794, std: 0.1476.\n",
      "CV mean score: 0.7543, std: 0.1389.\n",
      "CV mean score: 0.6964, std: 0.1410.\n",
      "CV mean score: 0.7483, std: 0.1529.\n",
      "CV mean score: 0.6679, std: 0.1501.\n",
      "CV mean score: 0.7428, std: 0.1545.\n",
      "CV mean score: 0.6697, std: 0.1247.\n",
      "CV mean score: 0.7372, std: 0.1496.\n",
      "CV mean score: 0.6787, std: 0.1259.\n",
      "CV mean score: 0.7372, std: 0.1496.\n",
      "CV mean score: 0.6926, std: 0.1325.\n",
      "CV mean score: 0.7372, std: 0.1496.\n",
      "CV mean score: 0.7033, std: 0.1161.\n",
      "CV mean score: 0.7372, std: 0.1496.\n",
      "CV mean score: 0.6989, std: 0.1199.\n",
      "CV mean score: 0.7375, std: 0.1403.\n",
      "CV mean score: 0.7079, std: 0.1183.\n",
      "CV mean score: 0.7403, std: 0.1405.\n",
      "CV mean score: 0.6971, std: 0.1531.\n",
      "CV mean score: 0.7431, std: 0.1357.\n",
      "CV mean score: 0.6856, std: 0.1629.\n",
      "CV mean score: 0.7431, std: 0.1357.\n",
      "CV mean score: 0.6971, std: 0.1434.\n",
      "CV mean score: 0.7431, std: 0.1357.\n",
      "CV mean score: 0.7153, std: 0.1320.\n",
      "CV mean score: 0.7431, std: 0.1357.\n",
      "CV mean score: 0.6976, std: 0.1316.\n",
      "CV mean score: 0.7431, std: 0.1357.\n",
      "CV mean score: 0.7054, std: 0.1358.\n",
      "CV mean score: 0.7431, std: 0.1357.\n",
      "CV mean score: 0.7347, std: 0.1318.\n",
      "CV mean score: 0.7431, std: 0.1357.\n",
      "CV mean score: 0.7264, std: 0.1332.\n",
      "CV mean score: 0.7431, std: 0.1357.\n",
      "CV mean score: 0.7431, std: 0.1357.\n"
     ]
    }
   ],
   "source": [
    "scores_dict = {'f_classif': [], 'mutual_info_classif': []}\n",
    "for i in range(5, 100, 5):\n",
    "    s1 = SelectPercentile(f_classif, percentile=i)\n",
    "    X_train1 = s1.fit_transform(X_train, y_train.values.astype(int))\n",
    "    X_test1 = s1.transform(X_test)\n",
    "    oof_lr_1, prediction_lr_1, scores = train_model(X_train1, X_test1, y_train, params=None, model_type='sklearn', model=model)\n",
    "    scores_dict['f_classif'].append(np.mean(scores))\n",
    "    \n",
    "    s2 = SelectPercentile(mutual_info_classif, percentile=i)\n",
    "    X_train1 = s2.fit_transform(X_train, y_train.values.astype(int))\n",
    "    X_test1 = s2.transform(X_test)\n",
    "    oof_lr_1, prediction_lr_1, scores = train_model(X_train1, X_test1, y_train, params=None, model_type='sklearn', model=model)\n",
    "    scores_dict['mutual_info_classif'].append(np.mean(scores))"
   ]
  },
  {
   "cell_type": "code",
   "execution_count": 89,
   "metadata": {},
   "outputs": [
    {
     "data": {
      "application/vnd.plotly.v1+json": {
       "config": {
        "linkText": "Export to plot.ly",
        "plotlyServerURL": "https://plot.ly",
        "showLink": false
       },
       "data": [
        {
         "name": "CV scores f_classif",
         "type": "scatter",
         "x": [
          5,
          10,
          15,
          20,
          25,
          30,
          35,
          40,
          45,
          50,
          55,
          60,
          65,
          70,
          75,
          80,
          85,
          90,
          95
         ],
         "y": [
          0.766388888888889,
          0.7668055555555556,
          0.7543055555555556,
          0.7483333333333333,
          0.7427777777777778,
          0.7372222222222222,
          0.7372222222222222,
          0.7372222222222222,
          0.7372222222222222,
          0.7375,
          0.7402777777777778,
          0.7430555555555556,
          0.7430555555555556,
          0.7430555555555556,
          0.7430555555555556,
          0.7430555555555556,
          0.7430555555555556,
          0.7430555555555556,
          0.7430555555555556
         ]
        },
        {
         "name": "CV scores mutual_info_classif",
         "type": "scatter",
         "x": [
          5,
          10,
          15,
          20,
          25,
          30,
          35,
          40,
          45,
          50,
          55,
          60,
          65,
          70,
          75,
          80,
          85,
          90,
          95
         ],
         "y": [
          0.6518055555555555,
          0.6794444444444443,
          0.696388888888889,
          0.6679166666666665,
          0.6697222222222221,
          0.67875,
          0.6926388888888888,
          0.7033333333333331,
          0.6988888888888887,
          0.7079166666666665,
          0.6970833333333334,
          0.6855555555555556,
          0.6970833333333333,
          0.7152777777777778,
          0.6976388888888888,
          0.7054166666666667,
          0.7347222222222222,
          0.726388888888889,
          0.7430555555555556
         ]
        }
       ],
       "layout": {
        "template": {
         "data": {
          "bar": [
           {
            "error_x": {
             "color": "#2a3f5f"
            },
            "error_y": {
             "color": "#2a3f5f"
            },
            "marker": {
             "line": {
              "color": "#E5ECF6",
              "width": 0.5
             }
            },
            "type": "bar"
           }
          ],
          "barpolar": [
           {
            "marker": {
             "line": {
              "color": "#E5ECF6",
              "width": 0.5
             }
            },
            "type": "barpolar"
           }
          ],
          "carpet": [
           {
            "aaxis": {
             "endlinecolor": "#2a3f5f",
             "gridcolor": "white",
             "linecolor": "white",
             "minorgridcolor": "white",
             "startlinecolor": "#2a3f5f"
            },
            "baxis": {
             "endlinecolor": "#2a3f5f",
             "gridcolor": "white",
             "linecolor": "white",
             "minorgridcolor": "white",
             "startlinecolor": "#2a3f5f"
            },
            "type": "carpet"
           }
          ],
          "choropleth": [
           {
            "colorbar": {
             "outlinewidth": 0,
             "ticks": ""
            },
            "type": "choropleth"
           }
          ],
          "contour": [
           {
            "colorbar": {
             "outlinewidth": 0,
             "ticks": ""
            },
            "colorscale": [
             [
              0,
              "#0d0887"
             ],
             [
              0.1111111111111111,
              "#46039f"
             ],
             [
              0.2222222222222222,
              "#7201a8"
             ],
             [
              0.3333333333333333,
              "#9c179e"
             ],
             [
              0.4444444444444444,
              "#bd3786"
             ],
             [
              0.5555555555555556,
              "#d8576b"
             ],
             [
              0.6666666666666666,
              "#ed7953"
             ],
             [
              0.7777777777777778,
              "#fb9f3a"
             ],
             [
              0.8888888888888888,
              "#fdca26"
             ],
             [
              1,
              "#f0f921"
             ]
            ],
            "type": "contour"
           }
          ],
          "contourcarpet": [
           {
            "colorbar": {
             "outlinewidth": 0,
             "ticks": ""
            },
            "type": "contourcarpet"
           }
          ],
          "heatmap": [
           {
            "colorbar": {
             "outlinewidth": 0,
             "ticks": ""
            },
            "colorscale": [
             [
              0,
              "#0d0887"
             ],
             [
              0.1111111111111111,
              "#46039f"
             ],
             [
              0.2222222222222222,
              "#7201a8"
             ],
             [
              0.3333333333333333,
              "#9c179e"
             ],
             [
              0.4444444444444444,
              "#bd3786"
             ],
             [
              0.5555555555555556,
              "#d8576b"
             ],
             [
              0.6666666666666666,
              "#ed7953"
             ],
             [
              0.7777777777777778,
              "#fb9f3a"
             ],
             [
              0.8888888888888888,
              "#fdca26"
             ],
             [
              1,
              "#f0f921"
             ]
            ],
            "type": "heatmap"
           }
          ],
          "heatmapgl": [
           {
            "colorbar": {
             "outlinewidth": 0,
             "ticks": ""
            },
            "colorscale": [
             [
              0,
              "#0d0887"
             ],
             [
              0.1111111111111111,
              "#46039f"
             ],
             [
              0.2222222222222222,
              "#7201a8"
             ],
             [
              0.3333333333333333,
              "#9c179e"
             ],
             [
              0.4444444444444444,
              "#bd3786"
             ],
             [
              0.5555555555555556,
              "#d8576b"
             ],
             [
              0.6666666666666666,
              "#ed7953"
             ],
             [
              0.7777777777777778,
              "#fb9f3a"
             ],
             [
              0.8888888888888888,
              "#fdca26"
             ],
             [
              1,
              "#f0f921"
             ]
            ],
            "type": "heatmapgl"
           }
          ],
          "histogram": [
           {
            "marker": {
             "colorbar": {
              "outlinewidth": 0,
              "ticks": ""
             }
            },
            "type": "histogram"
           }
          ],
          "histogram2d": [
           {
            "colorbar": {
             "outlinewidth": 0,
             "ticks": ""
            },
            "colorscale": [
             [
              0,
              "#0d0887"
             ],
             [
              0.1111111111111111,
              "#46039f"
             ],
             [
              0.2222222222222222,
              "#7201a8"
             ],
             [
              0.3333333333333333,
              "#9c179e"
             ],
             [
              0.4444444444444444,
              "#bd3786"
             ],
             [
              0.5555555555555556,
              "#d8576b"
             ],
             [
              0.6666666666666666,
              "#ed7953"
             ],
             [
              0.7777777777777778,
              "#fb9f3a"
             ],
             [
              0.8888888888888888,
              "#fdca26"
             ],
             [
              1,
              "#f0f921"
             ]
            ],
            "type": "histogram2d"
           }
          ],
          "histogram2dcontour": [
           {
            "colorbar": {
             "outlinewidth": 0,
             "ticks": ""
            },
            "colorscale": [
             [
              0,
              "#0d0887"
             ],
             [
              0.1111111111111111,
              "#46039f"
             ],
             [
              0.2222222222222222,
              "#7201a8"
             ],
             [
              0.3333333333333333,
              "#9c179e"
             ],
             [
              0.4444444444444444,
              "#bd3786"
             ],
             [
              0.5555555555555556,
              "#d8576b"
             ],
             [
              0.6666666666666666,
              "#ed7953"
             ],
             [
              0.7777777777777778,
              "#fb9f3a"
             ],
             [
              0.8888888888888888,
              "#fdca26"
             ],
             [
              1,
              "#f0f921"
             ]
            ],
            "type": "histogram2dcontour"
           }
          ],
          "mesh3d": [
           {
            "colorbar": {
             "outlinewidth": 0,
             "ticks": ""
            },
            "type": "mesh3d"
           }
          ],
          "parcoords": [
           {
            "line": {
             "colorbar": {
              "outlinewidth": 0,
              "ticks": ""
             }
            },
            "type": "parcoords"
           }
          ],
          "pie": [
           {
            "automargin": true,
            "type": "pie"
           }
          ],
          "scatter": [
           {
            "marker": {
             "colorbar": {
              "outlinewidth": 0,
              "ticks": ""
             }
            },
            "type": "scatter"
           }
          ],
          "scatter3d": [
           {
            "line": {
             "colorbar": {
              "outlinewidth": 0,
              "ticks": ""
             }
            },
            "marker": {
             "colorbar": {
              "outlinewidth": 0,
              "ticks": ""
             }
            },
            "type": "scatter3d"
           }
          ],
          "scattercarpet": [
           {
            "marker": {
             "colorbar": {
              "outlinewidth": 0,
              "ticks": ""
             }
            },
            "type": "scattercarpet"
           }
          ],
          "scattergeo": [
           {
            "marker": {
             "colorbar": {
              "outlinewidth": 0,
              "ticks": ""
             }
            },
            "type": "scattergeo"
           }
          ],
          "scattergl": [
           {
            "marker": {
             "colorbar": {
              "outlinewidth": 0,
              "ticks": ""
             }
            },
            "type": "scattergl"
           }
          ],
          "scattermapbox": [
           {
            "marker": {
             "colorbar": {
              "outlinewidth": 0,
              "ticks": ""
             }
            },
            "type": "scattermapbox"
           }
          ],
          "scatterpolar": [
           {
            "marker": {
             "colorbar": {
              "outlinewidth": 0,
              "ticks": ""
             }
            },
            "type": "scatterpolar"
           }
          ],
          "scatterpolargl": [
           {
            "marker": {
             "colorbar": {
              "outlinewidth": 0,
              "ticks": ""
             }
            },
            "type": "scatterpolargl"
           }
          ],
          "scatterternary": [
           {
            "marker": {
             "colorbar": {
              "outlinewidth": 0,
              "ticks": ""
             }
            },
            "type": "scatterternary"
           }
          ],
          "surface": [
           {
            "colorbar": {
             "outlinewidth": 0,
             "ticks": ""
            },
            "colorscale": [
             [
              0,
              "#0d0887"
             ],
             [
              0.1111111111111111,
              "#46039f"
             ],
             [
              0.2222222222222222,
              "#7201a8"
             ],
             [
              0.3333333333333333,
              "#9c179e"
             ],
             [
              0.4444444444444444,
              "#bd3786"
             ],
             [
              0.5555555555555556,
              "#d8576b"
             ],
             [
              0.6666666666666666,
              "#ed7953"
             ],
             [
              0.7777777777777778,
              "#fb9f3a"
             ],
             [
              0.8888888888888888,
              "#fdca26"
             ],
             [
              1,
              "#f0f921"
             ]
            ],
            "type": "surface"
           }
          ],
          "table": [
           {
            "cells": {
             "fill": {
              "color": "#EBF0F8"
             },
             "line": {
              "color": "white"
             }
            },
            "header": {
             "fill": {
              "color": "#C8D4E3"
             },
             "line": {
              "color": "white"
             }
            },
            "type": "table"
           }
          ]
         },
         "layout": {
          "annotationdefaults": {
           "arrowcolor": "#2a3f5f",
           "arrowhead": 0,
           "arrowwidth": 1
          },
          "coloraxis": {
           "colorbar": {
            "outlinewidth": 0,
            "ticks": ""
           }
          },
          "colorscale": {
           "diverging": [
            [
             0,
             "#8e0152"
            ],
            [
             0.1,
             "#c51b7d"
            ],
            [
             0.2,
             "#de77ae"
            ],
            [
             0.3,
             "#f1b6da"
            ],
            [
             0.4,
             "#fde0ef"
            ],
            [
             0.5,
             "#f7f7f7"
            ],
            [
             0.6,
             "#e6f5d0"
            ],
            [
             0.7,
             "#b8e186"
            ],
            [
             0.8,
             "#7fbc41"
            ],
            [
             0.9,
             "#4d9221"
            ],
            [
             1,
             "#276419"
            ]
           ],
           "sequential": [
            [
             0,
             "#0d0887"
            ],
            [
             0.1111111111111111,
             "#46039f"
            ],
            [
             0.2222222222222222,
             "#7201a8"
            ],
            [
             0.3333333333333333,
             "#9c179e"
            ],
            [
             0.4444444444444444,
             "#bd3786"
            ],
            [
             0.5555555555555556,
             "#d8576b"
            ],
            [
             0.6666666666666666,
             "#ed7953"
            ],
            [
             0.7777777777777778,
             "#fb9f3a"
            ],
            [
             0.8888888888888888,
             "#fdca26"
            ],
            [
             1,
             "#f0f921"
            ]
           ],
           "sequentialminus": [
            [
             0,
             "#0d0887"
            ],
            [
             0.1111111111111111,
             "#46039f"
            ],
            [
             0.2222222222222222,
             "#7201a8"
            ],
            [
             0.3333333333333333,
             "#9c179e"
            ],
            [
             0.4444444444444444,
             "#bd3786"
            ],
            [
             0.5555555555555556,
             "#d8576b"
            ],
            [
             0.6666666666666666,
             "#ed7953"
            ],
            [
             0.7777777777777778,
             "#fb9f3a"
            ],
            [
             0.8888888888888888,
             "#fdca26"
            ],
            [
             1,
             "#f0f921"
            ]
           ]
          },
          "colorway": [
           "#636efa",
           "#EF553B",
           "#00cc96",
           "#ab63fa",
           "#FFA15A",
           "#19d3f3",
           "#FF6692",
           "#B6E880",
           "#FF97FF",
           "#FECB52"
          ],
          "font": {
           "color": "#2a3f5f"
          },
          "geo": {
           "bgcolor": "white",
           "lakecolor": "white",
           "landcolor": "#E5ECF6",
           "showlakes": true,
           "showland": true,
           "subunitcolor": "white"
          },
          "hoverlabel": {
           "align": "left"
          },
          "hovermode": "closest",
          "mapbox": {
           "style": "light"
          },
          "paper_bgcolor": "white",
          "plot_bgcolor": "#E5ECF6",
          "polar": {
           "angularaxis": {
            "gridcolor": "white",
            "linecolor": "white",
            "ticks": ""
           },
           "bgcolor": "#E5ECF6",
           "radialaxis": {
            "gridcolor": "white",
            "linecolor": "white",
            "ticks": ""
           }
          },
          "scene": {
           "xaxis": {
            "backgroundcolor": "#E5ECF6",
            "gridcolor": "white",
            "gridwidth": 2,
            "linecolor": "white",
            "showbackground": true,
            "ticks": "",
            "zerolinecolor": "white"
           },
           "yaxis": {
            "backgroundcolor": "#E5ECF6",
            "gridcolor": "white",
            "gridwidth": 2,
            "linecolor": "white",
            "showbackground": true,
            "ticks": "",
            "zerolinecolor": "white"
           },
           "zaxis": {
            "backgroundcolor": "#E5ECF6",
            "gridcolor": "white",
            "gridwidth": 2,
            "linecolor": "white",
            "showbackground": true,
            "ticks": "",
            "zerolinecolor": "white"
           }
          },
          "shapedefaults": {
           "line": {
            "color": "#2a3f5f"
           }
          },
          "ternary": {
           "aaxis": {
            "gridcolor": "white",
            "linecolor": "white",
            "ticks": ""
           },
           "baxis": {
            "gridcolor": "white",
            "linecolor": "white",
            "ticks": ""
           },
           "bgcolor": "#E5ECF6",
           "caxis": {
            "gridcolor": "white",
            "linecolor": "white",
            "ticks": ""
           }
          },
          "title": {
           "x": 0.05
          },
          "xaxis": {
           "automargin": true,
           "gridcolor": "white",
           "linecolor": "white",
           "ticks": "",
           "title": {
            "standoff": 15
           },
           "zerolinecolor": "white",
           "zerolinewidth": 2
          },
          "yaxis": {
           "automargin": true,
           "gridcolor": "white",
           "linecolor": "white",
           "ticks": "",
           "title": {
            "standoff": 15
           },
           "zerolinecolor": "white",
           "zerolinewidth": 2
          }
         }
        },
        "title": {
         "text": "Top N features by percentile vs CV"
        },
        "xaxis": {
         "title": {
          "text": "Top N features by percentile"
         }
        },
        "yaxis": {
         "title": {
          "text": "CV score"
         }
        }
       }
      },
      "text/html": [
       "<div>\n",
       "        \n",
       "        \n",
       "            <div id=\"ce193bec-d149-4acd-b800-56faa2971a82\" class=\"plotly-graph-div\" style=\"height:525px; width:100%;\"></div>\n",
       "            <script type=\"text/javascript\">\n",
       "                require([\"plotly\"], function(Plotly) {\n",
       "                    window.PLOTLYENV=window.PLOTLYENV || {};\n",
       "                    \n",
       "                if (document.getElementById(\"ce193bec-d149-4acd-b800-56faa2971a82\")) {\n",
       "                    Plotly.newPlot(\n",
       "                        'ce193bec-d149-4acd-b800-56faa2971a82',\n",
       "                        [{\"name\": \"CV scores f_classif\", \"type\": \"scatter\", \"x\": [5, 10, 15, 20, 25, 30, 35, 40, 45, 50, 55, 60, 65, 70, 75, 80, 85, 90, 95], \"y\": [0.766388888888889, 0.7668055555555556, 0.7543055555555556, 0.7483333333333333, 0.7427777777777778, 0.7372222222222222, 0.7372222222222222, 0.7372222222222222, 0.7372222222222222, 0.7375, 0.7402777777777778, 0.7430555555555556, 0.7430555555555556, 0.7430555555555556, 0.7430555555555556, 0.7430555555555556, 0.7430555555555556, 0.7430555555555556, 0.7430555555555556]}, {\"name\": \"CV scores mutual_info_classif\", \"type\": \"scatter\", \"x\": [5, 10, 15, 20, 25, 30, 35, 40, 45, 50, 55, 60, 65, 70, 75, 80, 85, 90, 95], \"y\": [0.6518055555555555, 0.6794444444444443, 0.696388888888889, 0.6679166666666665, 0.6697222222222221, 0.67875, 0.6926388888888888, 0.7033333333333331, 0.6988888888888887, 0.7079166666666665, 0.6970833333333334, 0.6855555555555556, 0.6970833333333333, 0.7152777777777778, 0.6976388888888888, 0.7054166666666667, 0.7347222222222222, 0.726388888888889, 0.7430555555555556]}],\n",
       "                        {\"template\": {\"data\": {\"bar\": [{\"error_x\": {\"color\": \"#2a3f5f\"}, \"error_y\": {\"color\": \"#2a3f5f\"}, \"marker\": {\"line\": {\"color\": \"#E5ECF6\", \"width\": 0.5}}, \"type\": \"bar\"}], \"barpolar\": [{\"marker\": {\"line\": {\"color\": \"#E5ECF6\", \"width\": 0.5}}, \"type\": \"barpolar\"}], \"carpet\": [{\"aaxis\": {\"endlinecolor\": \"#2a3f5f\", \"gridcolor\": \"white\", \"linecolor\": \"white\", \"minorgridcolor\": \"white\", \"startlinecolor\": \"#2a3f5f\"}, \"baxis\": {\"endlinecolor\": \"#2a3f5f\", \"gridcolor\": \"white\", \"linecolor\": \"white\", \"minorgridcolor\": \"white\", \"startlinecolor\": \"#2a3f5f\"}, \"type\": \"carpet\"}], \"choropleth\": [{\"colorbar\": {\"outlinewidth\": 0, \"ticks\": \"\"}, \"type\": \"choropleth\"}], \"contour\": [{\"colorbar\": {\"outlinewidth\": 0, \"ticks\": \"\"}, \"colorscale\": [[0.0, \"#0d0887\"], [0.1111111111111111, \"#46039f\"], [0.2222222222222222, \"#7201a8\"], [0.3333333333333333, \"#9c179e\"], [0.4444444444444444, \"#bd3786\"], [0.5555555555555556, \"#d8576b\"], [0.6666666666666666, \"#ed7953\"], [0.7777777777777778, \"#fb9f3a\"], [0.8888888888888888, \"#fdca26\"], [1.0, \"#f0f921\"]], \"type\": \"contour\"}], \"contourcarpet\": [{\"colorbar\": {\"outlinewidth\": 0, \"ticks\": \"\"}, \"type\": \"contourcarpet\"}], \"heatmap\": [{\"colorbar\": {\"outlinewidth\": 0, \"ticks\": \"\"}, \"colorscale\": [[0.0, \"#0d0887\"], [0.1111111111111111, \"#46039f\"], [0.2222222222222222, \"#7201a8\"], [0.3333333333333333, \"#9c179e\"], [0.4444444444444444, \"#bd3786\"], [0.5555555555555556, \"#d8576b\"], [0.6666666666666666, \"#ed7953\"], [0.7777777777777778, \"#fb9f3a\"], [0.8888888888888888, \"#fdca26\"], [1.0, \"#f0f921\"]], \"type\": \"heatmap\"}], \"heatmapgl\": [{\"colorbar\": {\"outlinewidth\": 0, \"ticks\": \"\"}, \"colorscale\": [[0.0, \"#0d0887\"], [0.1111111111111111, \"#46039f\"], [0.2222222222222222, \"#7201a8\"], [0.3333333333333333, \"#9c179e\"], [0.4444444444444444, \"#bd3786\"], [0.5555555555555556, \"#d8576b\"], [0.6666666666666666, \"#ed7953\"], [0.7777777777777778, \"#fb9f3a\"], [0.8888888888888888, \"#fdca26\"], [1.0, \"#f0f921\"]], \"type\": \"heatmapgl\"}], \"histogram\": [{\"marker\": {\"colorbar\": {\"outlinewidth\": 0, \"ticks\": \"\"}}, \"type\": \"histogram\"}], \"histogram2d\": [{\"colorbar\": {\"outlinewidth\": 0, \"ticks\": \"\"}, \"colorscale\": [[0.0, \"#0d0887\"], [0.1111111111111111, \"#46039f\"], [0.2222222222222222, \"#7201a8\"], [0.3333333333333333, \"#9c179e\"], [0.4444444444444444, \"#bd3786\"], [0.5555555555555556, \"#d8576b\"], [0.6666666666666666, \"#ed7953\"], [0.7777777777777778, \"#fb9f3a\"], [0.8888888888888888, \"#fdca26\"], [1.0, \"#f0f921\"]], \"type\": \"histogram2d\"}], \"histogram2dcontour\": [{\"colorbar\": {\"outlinewidth\": 0, \"ticks\": \"\"}, \"colorscale\": [[0.0, \"#0d0887\"], [0.1111111111111111, \"#46039f\"], [0.2222222222222222, \"#7201a8\"], [0.3333333333333333, \"#9c179e\"], [0.4444444444444444, \"#bd3786\"], [0.5555555555555556, \"#d8576b\"], [0.6666666666666666, \"#ed7953\"], [0.7777777777777778, \"#fb9f3a\"], [0.8888888888888888, \"#fdca26\"], [1.0, \"#f0f921\"]], \"type\": \"histogram2dcontour\"}], \"mesh3d\": [{\"colorbar\": {\"outlinewidth\": 0, \"ticks\": \"\"}, \"type\": \"mesh3d\"}], \"parcoords\": [{\"line\": {\"colorbar\": {\"outlinewidth\": 0, \"ticks\": \"\"}}, \"type\": \"parcoords\"}], \"pie\": [{\"automargin\": true, \"type\": \"pie\"}], \"scatter\": [{\"marker\": {\"colorbar\": {\"outlinewidth\": 0, \"ticks\": \"\"}}, \"type\": \"scatter\"}], \"scatter3d\": [{\"line\": {\"colorbar\": {\"outlinewidth\": 0, \"ticks\": \"\"}}, \"marker\": {\"colorbar\": {\"outlinewidth\": 0, \"ticks\": \"\"}}, \"type\": \"scatter3d\"}], \"scattercarpet\": [{\"marker\": {\"colorbar\": {\"outlinewidth\": 0, \"ticks\": \"\"}}, \"type\": \"scattercarpet\"}], \"scattergeo\": [{\"marker\": {\"colorbar\": {\"outlinewidth\": 0, \"ticks\": \"\"}}, \"type\": \"scattergeo\"}], \"scattergl\": [{\"marker\": {\"colorbar\": {\"outlinewidth\": 0, \"ticks\": \"\"}}, \"type\": \"scattergl\"}], \"scattermapbox\": [{\"marker\": {\"colorbar\": {\"outlinewidth\": 0, \"ticks\": \"\"}}, \"type\": \"scattermapbox\"}], \"scatterpolar\": [{\"marker\": {\"colorbar\": {\"outlinewidth\": 0, \"ticks\": \"\"}}, \"type\": \"scatterpolar\"}], \"scatterpolargl\": [{\"marker\": {\"colorbar\": {\"outlinewidth\": 0, \"ticks\": \"\"}}, \"type\": \"scatterpolargl\"}], \"scatterternary\": [{\"marker\": {\"colorbar\": {\"outlinewidth\": 0, \"ticks\": \"\"}}, \"type\": \"scatterternary\"}], \"surface\": [{\"colorbar\": {\"outlinewidth\": 0, \"ticks\": \"\"}, \"colorscale\": [[0.0, \"#0d0887\"], [0.1111111111111111, \"#46039f\"], [0.2222222222222222, \"#7201a8\"], [0.3333333333333333, \"#9c179e\"], [0.4444444444444444, \"#bd3786\"], [0.5555555555555556, \"#d8576b\"], [0.6666666666666666, \"#ed7953\"], [0.7777777777777778, \"#fb9f3a\"], [0.8888888888888888, \"#fdca26\"], [1.0, \"#f0f921\"]], \"type\": \"surface\"}], \"table\": [{\"cells\": {\"fill\": {\"color\": \"#EBF0F8\"}, \"line\": {\"color\": \"white\"}}, \"header\": {\"fill\": {\"color\": \"#C8D4E3\"}, \"line\": {\"color\": \"white\"}}, \"type\": \"table\"}]}, \"layout\": {\"annotationdefaults\": {\"arrowcolor\": \"#2a3f5f\", \"arrowhead\": 0, \"arrowwidth\": 1}, \"coloraxis\": {\"colorbar\": {\"outlinewidth\": 0, \"ticks\": \"\"}}, \"colorscale\": {\"diverging\": [[0, \"#8e0152\"], [0.1, \"#c51b7d\"], [0.2, \"#de77ae\"], [0.3, \"#f1b6da\"], [0.4, \"#fde0ef\"], [0.5, \"#f7f7f7\"], [0.6, \"#e6f5d0\"], [0.7, \"#b8e186\"], [0.8, \"#7fbc41\"], [0.9, \"#4d9221\"], [1, \"#276419\"]], \"sequential\": [[0.0, \"#0d0887\"], [0.1111111111111111, \"#46039f\"], [0.2222222222222222, \"#7201a8\"], [0.3333333333333333, \"#9c179e\"], [0.4444444444444444, \"#bd3786\"], [0.5555555555555556, \"#d8576b\"], [0.6666666666666666, \"#ed7953\"], [0.7777777777777778, \"#fb9f3a\"], [0.8888888888888888, \"#fdca26\"], [1.0, \"#f0f921\"]], \"sequentialminus\": [[0.0, \"#0d0887\"], [0.1111111111111111, \"#46039f\"], [0.2222222222222222, \"#7201a8\"], [0.3333333333333333, \"#9c179e\"], [0.4444444444444444, \"#bd3786\"], [0.5555555555555556, \"#d8576b\"], [0.6666666666666666, \"#ed7953\"], [0.7777777777777778, \"#fb9f3a\"], [0.8888888888888888, \"#fdca26\"], [1.0, \"#f0f921\"]]}, \"colorway\": [\"#636efa\", \"#EF553B\", \"#00cc96\", \"#ab63fa\", \"#FFA15A\", \"#19d3f3\", \"#FF6692\", \"#B6E880\", \"#FF97FF\", \"#FECB52\"], \"font\": {\"color\": \"#2a3f5f\"}, \"geo\": {\"bgcolor\": \"white\", \"lakecolor\": \"white\", \"landcolor\": \"#E5ECF6\", \"showlakes\": true, \"showland\": true, \"subunitcolor\": \"white\"}, \"hoverlabel\": {\"align\": \"left\"}, \"hovermode\": \"closest\", \"mapbox\": {\"style\": \"light\"}, \"paper_bgcolor\": \"white\", \"plot_bgcolor\": \"#E5ECF6\", \"polar\": {\"angularaxis\": {\"gridcolor\": \"white\", \"linecolor\": \"white\", \"ticks\": \"\"}, \"bgcolor\": \"#E5ECF6\", \"radialaxis\": {\"gridcolor\": \"white\", \"linecolor\": \"white\", \"ticks\": \"\"}}, \"scene\": {\"xaxis\": {\"backgroundcolor\": \"#E5ECF6\", \"gridcolor\": \"white\", \"gridwidth\": 2, \"linecolor\": \"white\", \"showbackground\": true, \"ticks\": \"\", \"zerolinecolor\": \"white\"}, \"yaxis\": {\"backgroundcolor\": \"#E5ECF6\", \"gridcolor\": \"white\", \"gridwidth\": 2, \"linecolor\": \"white\", \"showbackground\": true, \"ticks\": \"\", \"zerolinecolor\": \"white\"}, \"zaxis\": {\"backgroundcolor\": \"#E5ECF6\", \"gridcolor\": \"white\", \"gridwidth\": 2, \"linecolor\": \"white\", \"showbackground\": true, \"ticks\": \"\", \"zerolinecolor\": \"white\"}}, \"shapedefaults\": {\"line\": {\"color\": \"#2a3f5f\"}}, \"ternary\": {\"aaxis\": {\"gridcolor\": \"white\", \"linecolor\": \"white\", \"ticks\": \"\"}, \"baxis\": {\"gridcolor\": \"white\", \"linecolor\": \"white\", \"ticks\": \"\"}, \"bgcolor\": \"#E5ECF6\", \"caxis\": {\"gridcolor\": \"white\", \"linecolor\": \"white\", \"ticks\": \"\"}}, \"title\": {\"x\": 0.05}, \"xaxis\": {\"automargin\": true, \"gridcolor\": \"white\", \"linecolor\": \"white\", \"ticks\": \"\", \"title\": {\"standoff\": 15}, \"zerolinecolor\": \"white\", \"zerolinewidth\": 2}, \"yaxis\": {\"automargin\": true, \"gridcolor\": \"white\", \"linecolor\": \"white\", \"ticks\": \"\", \"title\": {\"standoff\": 15}, \"zerolinecolor\": \"white\", \"zerolinewidth\": 2}}}, \"title\": {\"text\": \"Top N features by percentile vs CV\"}, \"xaxis\": {\"title\": {\"text\": \"Top N features by percentile\"}}, \"yaxis\": {\"title\": {\"text\": \"CV score\"}}},\n",
       "                        {\"responsive\": true}\n",
       "                    ).then(function(){\n",
       "                            \n",
       "var gd = document.getElementById('ce193bec-d149-4acd-b800-56faa2971a82');\n",
       "var x = new MutationObserver(function (mutations, observer) {{\n",
       "        var display = window.getComputedStyle(gd).display;\n",
       "        if (!display || display === 'none') {{\n",
       "            console.log([gd, 'removed!']);\n",
       "            Plotly.purge(gd);\n",
       "            observer.disconnect();\n",
       "        }}\n",
       "}});\n",
       "\n",
       "// Listen for the removal of the full notebook cells\n",
       "var notebookContainer = gd.closest('#notebook-container');\n",
       "if (notebookContainer) {{\n",
       "    x.observe(notebookContainer, {childList: true});\n",
       "}}\n",
       "\n",
       "// Listen for the clearing of the current output cell\n",
       "var outputEl = gd.closest('.output');\n",
       "if (outputEl) {{\n",
       "    x.observe(outputEl, {childList: true});\n",
       "}}\n",
       "\n",
       "                        })\n",
       "                };\n",
       "                });\n",
       "            </script>\n",
       "        </div>"
      ]
     },
     "metadata": {},
     "output_type": "display_data"
    }
   ],
   "source": [
    "data = [go.Scatter(\n",
    "        x = list(range(5, 100, 5)),\n",
    "        y = scores_dict['f_classif'],\n",
    "        name = 'CV scores f_classif'\n",
    "    ), go.Scatter(\n",
    "        x = list(range(5, 100, 5)),\n",
    "        y = scores_dict['mutual_info_classif'],\n",
    "        name = 'CV scores mutual_info_classif')]\n",
    "layout = go.Layout(dict(title = \"Top N features by percentile vs CV\",\n",
    "                  xaxis = dict(title = 'Top N features by percentile'),\n",
    "                  yaxis = dict(title = 'CV score'),\n",
    "                  ))\n",
    "py.iplot(dict(data=data, layout=layout), filename='basic-line')"
   ]
  },
  {
   "cell_type": "code",
   "execution_count": 90,
   "metadata": {},
   "outputs": [
    {
     "data": {
      "application/vnd.plotly.v1+json": {
       "config": {
        "linkText": "Export to plot.ly",
        "plotlyServerURL": "https://plot.ly",
        "showLink": false
       },
       "data": [
        {
         "name": "CV scores f_classif",
         "type": "scatter",
         "x": [
          10,
          20,
          30,
          40,
          50,
          60,
          70,
          80,
          90,
          100,
          110,
          120,
          130,
          140,
          150,
          160,
          170,
          180,
          190,
          200,
          210,
          220,
          230,
          240,
          250,
          260,
          270,
          280,
          290,
          300
         ],
         "y": [
          0.766388888888889,
          0.7668055555555556,
          0.7543055555555556,
          0.7483333333333333,
          0.7427777777777778,
          0.7372222222222222,
          0.7372222222222222,
          0.7372222222222222,
          0.7372222222222222,
          0.7375,
          0.7402777777777778,
          0.7430555555555556,
          0.7430555555555556,
          0.7430555555555556,
          0.7430555555555556,
          0.7430555555555556,
          0.7430555555555556,
          0.7430555555555556,
          0.7430555555555556
         ]
        },
        {
         "name": "CV scores mutual_info_classif",
         "type": "scatter",
         "x": [
          10,
          20,
          30,
          40,
          50,
          60,
          70,
          80,
          90,
          100,
          110,
          120,
          130,
          140,
          150,
          160,
          170,
          180,
          190,
          200,
          210,
          220,
          230,
          240,
          250,
          260,
          270,
          280,
          290,
          300
         ],
         "y": [
          0.6518055555555555,
          0.6794444444444443,
          0.696388888888889,
          0.6679166666666665,
          0.6697222222222221,
          0.67875,
          0.6926388888888888,
          0.7033333333333331,
          0.6988888888888887,
          0.7079166666666665,
          0.6970833333333334,
          0.6855555555555556,
          0.6970833333333333,
          0.7152777777777778,
          0.6976388888888888,
          0.7054166666666667,
          0.7347222222222222,
          0.726388888888889,
          0.7430555555555556
         ]
        }
       ],
       "layout": {
        "template": {
         "data": {
          "bar": [
           {
            "error_x": {
             "color": "#2a3f5f"
            },
            "error_y": {
             "color": "#2a3f5f"
            },
            "marker": {
             "line": {
              "color": "#E5ECF6",
              "width": 0.5
             }
            },
            "type": "bar"
           }
          ],
          "barpolar": [
           {
            "marker": {
             "line": {
              "color": "#E5ECF6",
              "width": 0.5
             }
            },
            "type": "barpolar"
           }
          ],
          "carpet": [
           {
            "aaxis": {
             "endlinecolor": "#2a3f5f",
             "gridcolor": "white",
             "linecolor": "white",
             "minorgridcolor": "white",
             "startlinecolor": "#2a3f5f"
            },
            "baxis": {
             "endlinecolor": "#2a3f5f",
             "gridcolor": "white",
             "linecolor": "white",
             "minorgridcolor": "white",
             "startlinecolor": "#2a3f5f"
            },
            "type": "carpet"
           }
          ],
          "choropleth": [
           {
            "colorbar": {
             "outlinewidth": 0,
             "ticks": ""
            },
            "type": "choropleth"
           }
          ],
          "contour": [
           {
            "colorbar": {
             "outlinewidth": 0,
             "ticks": ""
            },
            "colorscale": [
             [
              0,
              "#0d0887"
             ],
             [
              0.1111111111111111,
              "#46039f"
             ],
             [
              0.2222222222222222,
              "#7201a8"
             ],
             [
              0.3333333333333333,
              "#9c179e"
             ],
             [
              0.4444444444444444,
              "#bd3786"
             ],
             [
              0.5555555555555556,
              "#d8576b"
             ],
             [
              0.6666666666666666,
              "#ed7953"
             ],
             [
              0.7777777777777778,
              "#fb9f3a"
             ],
             [
              0.8888888888888888,
              "#fdca26"
             ],
             [
              1,
              "#f0f921"
             ]
            ],
            "type": "contour"
           }
          ],
          "contourcarpet": [
           {
            "colorbar": {
             "outlinewidth": 0,
             "ticks": ""
            },
            "type": "contourcarpet"
           }
          ],
          "heatmap": [
           {
            "colorbar": {
             "outlinewidth": 0,
             "ticks": ""
            },
            "colorscale": [
             [
              0,
              "#0d0887"
             ],
             [
              0.1111111111111111,
              "#46039f"
             ],
             [
              0.2222222222222222,
              "#7201a8"
             ],
             [
              0.3333333333333333,
              "#9c179e"
             ],
             [
              0.4444444444444444,
              "#bd3786"
             ],
             [
              0.5555555555555556,
              "#d8576b"
             ],
             [
              0.6666666666666666,
              "#ed7953"
             ],
             [
              0.7777777777777778,
              "#fb9f3a"
             ],
             [
              0.8888888888888888,
              "#fdca26"
             ],
             [
              1,
              "#f0f921"
             ]
            ],
            "type": "heatmap"
           }
          ],
          "heatmapgl": [
           {
            "colorbar": {
             "outlinewidth": 0,
             "ticks": ""
            },
            "colorscale": [
             [
              0,
              "#0d0887"
             ],
             [
              0.1111111111111111,
              "#46039f"
             ],
             [
              0.2222222222222222,
              "#7201a8"
             ],
             [
              0.3333333333333333,
              "#9c179e"
             ],
             [
              0.4444444444444444,
              "#bd3786"
             ],
             [
              0.5555555555555556,
              "#d8576b"
             ],
             [
              0.6666666666666666,
              "#ed7953"
             ],
             [
              0.7777777777777778,
              "#fb9f3a"
             ],
             [
              0.8888888888888888,
              "#fdca26"
             ],
             [
              1,
              "#f0f921"
             ]
            ],
            "type": "heatmapgl"
           }
          ],
          "histogram": [
           {
            "marker": {
             "colorbar": {
              "outlinewidth": 0,
              "ticks": ""
             }
            },
            "type": "histogram"
           }
          ],
          "histogram2d": [
           {
            "colorbar": {
             "outlinewidth": 0,
             "ticks": ""
            },
            "colorscale": [
             [
              0,
              "#0d0887"
             ],
             [
              0.1111111111111111,
              "#46039f"
             ],
             [
              0.2222222222222222,
              "#7201a8"
             ],
             [
              0.3333333333333333,
              "#9c179e"
             ],
             [
              0.4444444444444444,
              "#bd3786"
             ],
             [
              0.5555555555555556,
              "#d8576b"
             ],
             [
              0.6666666666666666,
              "#ed7953"
             ],
             [
              0.7777777777777778,
              "#fb9f3a"
             ],
             [
              0.8888888888888888,
              "#fdca26"
             ],
             [
              1,
              "#f0f921"
             ]
            ],
            "type": "histogram2d"
           }
          ],
          "histogram2dcontour": [
           {
            "colorbar": {
             "outlinewidth": 0,
             "ticks": ""
            },
            "colorscale": [
             [
              0,
              "#0d0887"
             ],
             [
              0.1111111111111111,
              "#46039f"
             ],
             [
              0.2222222222222222,
              "#7201a8"
             ],
             [
              0.3333333333333333,
              "#9c179e"
             ],
             [
              0.4444444444444444,
              "#bd3786"
             ],
             [
              0.5555555555555556,
              "#d8576b"
             ],
             [
              0.6666666666666666,
              "#ed7953"
             ],
             [
              0.7777777777777778,
              "#fb9f3a"
             ],
             [
              0.8888888888888888,
              "#fdca26"
             ],
             [
              1,
              "#f0f921"
             ]
            ],
            "type": "histogram2dcontour"
           }
          ],
          "mesh3d": [
           {
            "colorbar": {
             "outlinewidth": 0,
             "ticks": ""
            },
            "type": "mesh3d"
           }
          ],
          "parcoords": [
           {
            "line": {
             "colorbar": {
              "outlinewidth": 0,
              "ticks": ""
             }
            },
            "type": "parcoords"
           }
          ],
          "pie": [
           {
            "automargin": true,
            "type": "pie"
           }
          ],
          "scatter": [
           {
            "marker": {
             "colorbar": {
              "outlinewidth": 0,
              "ticks": ""
             }
            },
            "type": "scatter"
           }
          ],
          "scatter3d": [
           {
            "line": {
             "colorbar": {
              "outlinewidth": 0,
              "ticks": ""
             }
            },
            "marker": {
             "colorbar": {
              "outlinewidth": 0,
              "ticks": ""
             }
            },
            "type": "scatter3d"
           }
          ],
          "scattercarpet": [
           {
            "marker": {
             "colorbar": {
              "outlinewidth": 0,
              "ticks": ""
             }
            },
            "type": "scattercarpet"
           }
          ],
          "scattergeo": [
           {
            "marker": {
             "colorbar": {
              "outlinewidth": 0,
              "ticks": ""
             }
            },
            "type": "scattergeo"
           }
          ],
          "scattergl": [
           {
            "marker": {
             "colorbar": {
              "outlinewidth": 0,
              "ticks": ""
             }
            },
            "type": "scattergl"
           }
          ],
          "scattermapbox": [
           {
            "marker": {
             "colorbar": {
              "outlinewidth": 0,
              "ticks": ""
             }
            },
            "type": "scattermapbox"
           }
          ],
          "scatterpolar": [
           {
            "marker": {
             "colorbar": {
              "outlinewidth": 0,
              "ticks": ""
             }
            },
            "type": "scatterpolar"
           }
          ],
          "scatterpolargl": [
           {
            "marker": {
             "colorbar": {
              "outlinewidth": 0,
              "ticks": ""
             }
            },
            "type": "scatterpolargl"
           }
          ],
          "scatterternary": [
           {
            "marker": {
             "colorbar": {
              "outlinewidth": 0,
              "ticks": ""
             }
            },
            "type": "scatterternary"
           }
          ],
          "surface": [
           {
            "colorbar": {
             "outlinewidth": 0,
             "ticks": ""
            },
            "colorscale": [
             [
              0,
              "#0d0887"
             ],
             [
              0.1111111111111111,
              "#46039f"
             ],
             [
              0.2222222222222222,
              "#7201a8"
             ],
             [
              0.3333333333333333,
              "#9c179e"
             ],
             [
              0.4444444444444444,
              "#bd3786"
             ],
             [
              0.5555555555555556,
              "#d8576b"
             ],
             [
              0.6666666666666666,
              "#ed7953"
             ],
             [
              0.7777777777777778,
              "#fb9f3a"
             ],
             [
              0.8888888888888888,
              "#fdca26"
             ],
             [
              1,
              "#f0f921"
             ]
            ],
            "type": "surface"
           }
          ],
          "table": [
           {
            "cells": {
             "fill": {
              "color": "#EBF0F8"
             },
             "line": {
              "color": "white"
             }
            },
            "header": {
             "fill": {
              "color": "#C8D4E3"
             },
             "line": {
              "color": "white"
             }
            },
            "type": "table"
           }
          ]
         },
         "layout": {
          "annotationdefaults": {
           "arrowcolor": "#2a3f5f",
           "arrowhead": 0,
           "arrowwidth": 1
          },
          "coloraxis": {
           "colorbar": {
            "outlinewidth": 0,
            "ticks": ""
           }
          },
          "colorscale": {
           "diverging": [
            [
             0,
             "#8e0152"
            ],
            [
             0.1,
             "#c51b7d"
            ],
            [
             0.2,
             "#de77ae"
            ],
            [
             0.3,
             "#f1b6da"
            ],
            [
             0.4,
             "#fde0ef"
            ],
            [
             0.5,
             "#f7f7f7"
            ],
            [
             0.6,
             "#e6f5d0"
            ],
            [
             0.7,
             "#b8e186"
            ],
            [
             0.8,
             "#7fbc41"
            ],
            [
             0.9,
             "#4d9221"
            ],
            [
             1,
             "#276419"
            ]
           ],
           "sequential": [
            [
             0,
             "#0d0887"
            ],
            [
             0.1111111111111111,
             "#46039f"
            ],
            [
             0.2222222222222222,
             "#7201a8"
            ],
            [
             0.3333333333333333,
             "#9c179e"
            ],
            [
             0.4444444444444444,
             "#bd3786"
            ],
            [
             0.5555555555555556,
             "#d8576b"
            ],
            [
             0.6666666666666666,
             "#ed7953"
            ],
            [
             0.7777777777777778,
             "#fb9f3a"
            ],
            [
             0.8888888888888888,
             "#fdca26"
            ],
            [
             1,
             "#f0f921"
            ]
           ],
           "sequentialminus": [
            [
             0,
             "#0d0887"
            ],
            [
             0.1111111111111111,
             "#46039f"
            ],
            [
             0.2222222222222222,
             "#7201a8"
            ],
            [
             0.3333333333333333,
             "#9c179e"
            ],
            [
             0.4444444444444444,
             "#bd3786"
            ],
            [
             0.5555555555555556,
             "#d8576b"
            ],
            [
             0.6666666666666666,
             "#ed7953"
            ],
            [
             0.7777777777777778,
             "#fb9f3a"
            ],
            [
             0.8888888888888888,
             "#fdca26"
            ],
            [
             1,
             "#f0f921"
            ]
           ]
          },
          "colorway": [
           "#636efa",
           "#EF553B",
           "#00cc96",
           "#ab63fa",
           "#FFA15A",
           "#19d3f3",
           "#FF6692",
           "#B6E880",
           "#FF97FF",
           "#FECB52"
          ],
          "font": {
           "color": "#2a3f5f"
          },
          "geo": {
           "bgcolor": "white",
           "lakecolor": "white",
           "landcolor": "#E5ECF6",
           "showlakes": true,
           "showland": true,
           "subunitcolor": "white"
          },
          "hoverlabel": {
           "align": "left"
          },
          "hovermode": "closest",
          "mapbox": {
           "style": "light"
          },
          "paper_bgcolor": "white",
          "plot_bgcolor": "#E5ECF6",
          "polar": {
           "angularaxis": {
            "gridcolor": "white",
            "linecolor": "white",
            "ticks": ""
           },
           "bgcolor": "#E5ECF6",
           "radialaxis": {
            "gridcolor": "white",
            "linecolor": "white",
            "ticks": ""
           }
          },
          "scene": {
           "xaxis": {
            "backgroundcolor": "#E5ECF6",
            "gridcolor": "white",
            "gridwidth": 2,
            "linecolor": "white",
            "showbackground": true,
            "ticks": "",
            "zerolinecolor": "white"
           },
           "yaxis": {
            "backgroundcolor": "#E5ECF6",
            "gridcolor": "white",
            "gridwidth": 2,
            "linecolor": "white",
            "showbackground": true,
            "ticks": "",
            "zerolinecolor": "white"
           },
           "zaxis": {
            "backgroundcolor": "#E5ECF6",
            "gridcolor": "white",
            "gridwidth": 2,
            "linecolor": "white",
            "showbackground": true,
            "ticks": "",
            "zerolinecolor": "white"
           }
          },
          "shapedefaults": {
           "line": {
            "color": "#2a3f5f"
           }
          },
          "ternary": {
           "aaxis": {
            "gridcolor": "white",
            "linecolor": "white",
            "ticks": ""
           },
           "baxis": {
            "gridcolor": "white",
            "linecolor": "white",
            "ticks": ""
           },
           "bgcolor": "#E5ECF6",
           "caxis": {
            "gridcolor": "white",
            "linecolor": "white",
            "ticks": ""
           }
          },
          "title": {
           "x": 0.05
          },
          "xaxis": {
           "automargin": true,
           "gridcolor": "white",
           "linecolor": "white",
           "ticks": "",
           "title": {
            "standoff": 15
           },
           "zerolinecolor": "white",
           "zerolinewidth": 2
          },
          "yaxis": {
           "automargin": true,
           "gridcolor": "white",
           "linecolor": "white",
           "ticks": "",
           "title": {
            "standoff": 15
           },
           "zerolinecolor": "white",
           "zerolinewidth": 2
          }
         }
        },
        "title": {
         "text": "Top N features by SelectKBest vs CV"
        },
        "xaxis": {
         "title": {
          "text": "Top N features by SelectKBest"
         }
        },
        "yaxis": {
         "title": {
          "text": "CV score"
         }
        }
       }
      },
      "text/html": [
       "<div>\n",
       "        \n",
       "        \n",
       "            <div id=\"50e3859a-5cb7-46f1-afa9-800b7d855844\" class=\"plotly-graph-div\" style=\"height:525px; width:100%;\"></div>\n",
       "            <script type=\"text/javascript\">\n",
       "                require([\"plotly\"], function(Plotly) {\n",
       "                    window.PLOTLYENV=window.PLOTLYENV || {};\n",
       "                    \n",
       "                if (document.getElementById(\"50e3859a-5cb7-46f1-afa9-800b7d855844\")) {\n",
       "                    Plotly.newPlot(\n",
       "                        '50e3859a-5cb7-46f1-afa9-800b7d855844',\n",
       "                        [{\"name\": \"CV scores f_classif\", \"type\": \"scatter\", \"x\": [10, 20, 30, 40, 50, 60, 70, 80, 90, 100, 110, 120, 130, 140, 150, 160, 170, 180, 190, 200, 210, 220, 230, 240, 250, 260, 270, 280, 290, 300], \"y\": [0.766388888888889, 0.7668055555555556, 0.7543055555555556, 0.7483333333333333, 0.7427777777777778, 0.7372222222222222, 0.7372222222222222, 0.7372222222222222, 0.7372222222222222, 0.7375, 0.7402777777777778, 0.7430555555555556, 0.7430555555555556, 0.7430555555555556, 0.7430555555555556, 0.7430555555555556, 0.7430555555555556, 0.7430555555555556, 0.7430555555555556]}, {\"name\": \"CV scores mutual_info_classif\", \"type\": \"scatter\", \"x\": [10, 20, 30, 40, 50, 60, 70, 80, 90, 100, 110, 120, 130, 140, 150, 160, 170, 180, 190, 200, 210, 220, 230, 240, 250, 260, 270, 280, 290, 300], \"y\": [0.6518055555555555, 0.6794444444444443, 0.696388888888889, 0.6679166666666665, 0.6697222222222221, 0.67875, 0.6926388888888888, 0.7033333333333331, 0.6988888888888887, 0.7079166666666665, 0.6970833333333334, 0.6855555555555556, 0.6970833333333333, 0.7152777777777778, 0.6976388888888888, 0.7054166666666667, 0.7347222222222222, 0.726388888888889, 0.7430555555555556]}],\n",
       "                        {\"template\": {\"data\": {\"bar\": [{\"error_x\": {\"color\": \"#2a3f5f\"}, \"error_y\": {\"color\": \"#2a3f5f\"}, \"marker\": {\"line\": {\"color\": \"#E5ECF6\", \"width\": 0.5}}, \"type\": \"bar\"}], \"barpolar\": [{\"marker\": {\"line\": {\"color\": \"#E5ECF6\", \"width\": 0.5}}, \"type\": \"barpolar\"}], \"carpet\": [{\"aaxis\": {\"endlinecolor\": \"#2a3f5f\", \"gridcolor\": \"white\", \"linecolor\": \"white\", \"minorgridcolor\": \"white\", \"startlinecolor\": \"#2a3f5f\"}, \"baxis\": {\"endlinecolor\": \"#2a3f5f\", \"gridcolor\": \"white\", \"linecolor\": \"white\", \"minorgridcolor\": \"white\", \"startlinecolor\": \"#2a3f5f\"}, \"type\": \"carpet\"}], \"choropleth\": [{\"colorbar\": {\"outlinewidth\": 0, \"ticks\": \"\"}, \"type\": \"choropleth\"}], \"contour\": [{\"colorbar\": {\"outlinewidth\": 0, \"ticks\": \"\"}, \"colorscale\": [[0.0, \"#0d0887\"], [0.1111111111111111, \"#46039f\"], [0.2222222222222222, \"#7201a8\"], [0.3333333333333333, \"#9c179e\"], [0.4444444444444444, \"#bd3786\"], [0.5555555555555556, \"#d8576b\"], [0.6666666666666666, \"#ed7953\"], [0.7777777777777778, \"#fb9f3a\"], [0.8888888888888888, \"#fdca26\"], [1.0, \"#f0f921\"]], \"type\": \"contour\"}], \"contourcarpet\": [{\"colorbar\": {\"outlinewidth\": 0, \"ticks\": \"\"}, \"type\": \"contourcarpet\"}], \"heatmap\": [{\"colorbar\": {\"outlinewidth\": 0, \"ticks\": \"\"}, \"colorscale\": [[0.0, \"#0d0887\"], [0.1111111111111111, \"#46039f\"], [0.2222222222222222, \"#7201a8\"], [0.3333333333333333, \"#9c179e\"], [0.4444444444444444, \"#bd3786\"], [0.5555555555555556, \"#d8576b\"], [0.6666666666666666, \"#ed7953\"], [0.7777777777777778, \"#fb9f3a\"], [0.8888888888888888, \"#fdca26\"], [1.0, \"#f0f921\"]], \"type\": \"heatmap\"}], \"heatmapgl\": [{\"colorbar\": {\"outlinewidth\": 0, \"ticks\": \"\"}, \"colorscale\": [[0.0, \"#0d0887\"], [0.1111111111111111, \"#46039f\"], [0.2222222222222222, \"#7201a8\"], [0.3333333333333333, \"#9c179e\"], [0.4444444444444444, \"#bd3786\"], [0.5555555555555556, \"#d8576b\"], [0.6666666666666666, \"#ed7953\"], [0.7777777777777778, \"#fb9f3a\"], [0.8888888888888888, \"#fdca26\"], [1.0, \"#f0f921\"]], \"type\": \"heatmapgl\"}], \"histogram\": [{\"marker\": {\"colorbar\": {\"outlinewidth\": 0, \"ticks\": \"\"}}, \"type\": \"histogram\"}], \"histogram2d\": [{\"colorbar\": {\"outlinewidth\": 0, \"ticks\": \"\"}, \"colorscale\": [[0.0, \"#0d0887\"], [0.1111111111111111, \"#46039f\"], [0.2222222222222222, \"#7201a8\"], [0.3333333333333333, \"#9c179e\"], [0.4444444444444444, \"#bd3786\"], [0.5555555555555556, \"#d8576b\"], [0.6666666666666666, \"#ed7953\"], [0.7777777777777778, \"#fb9f3a\"], [0.8888888888888888, \"#fdca26\"], [1.0, \"#f0f921\"]], \"type\": \"histogram2d\"}], \"histogram2dcontour\": [{\"colorbar\": {\"outlinewidth\": 0, \"ticks\": \"\"}, \"colorscale\": [[0.0, \"#0d0887\"], [0.1111111111111111, \"#46039f\"], [0.2222222222222222, \"#7201a8\"], [0.3333333333333333, \"#9c179e\"], [0.4444444444444444, \"#bd3786\"], [0.5555555555555556, \"#d8576b\"], [0.6666666666666666, \"#ed7953\"], [0.7777777777777778, \"#fb9f3a\"], [0.8888888888888888, \"#fdca26\"], [1.0, \"#f0f921\"]], \"type\": \"histogram2dcontour\"}], \"mesh3d\": [{\"colorbar\": {\"outlinewidth\": 0, \"ticks\": \"\"}, \"type\": \"mesh3d\"}], \"parcoords\": [{\"line\": {\"colorbar\": {\"outlinewidth\": 0, \"ticks\": \"\"}}, \"type\": \"parcoords\"}], \"pie\": [{\"automargin\": true, \"type\": \"pie\"}], \"scatter\": [{\"marker\": {\"colorbar\": {\"outlinewidth\": 0, \"ticks\": \"\"}}, \"type\": \"scatter\"}], \"scatter3d\": [{\"line\": {\"colorbar\": {\"outlinewidth\": 0, \"ticks\": \"\"}}, \"marker\": {\"colorbar\": {\"outlinewidth\": 0, \"ticks\": \"\"}}, \"type\": \"scatter3d\"}], \"scattercarpet\": [{\"marker\": {\"colorbar\": {\"outlinewidth\": 0, \"ticks\": \"\"}}, \"type\": \"scattercarpet\"}], \"scattergeo\": [{\"marker\": {\"colorbar\": {\"outlinewidth\": 0, \"ticks\": \"\"}}, \"type\": \"scattergeo\"}], \"scattergl\": [{\"marker\": {\"colorbar\": {\"outlinewidth\": 0, \"ticks\": \"\"}}, \"type\": \"scattergl\"}], \"scattermapbox\": [{\"marker\": {\"colorbar\": {\"outlinewidth\": 0, \"ticks\": \"\"}}, \"type\": \"scattermapbox\"}], \"scatterpolar\": [{\"marker\": {\"colorbar\": {\"outlinewidth\": 0, \"ticks\": \"\"}}, \"type\": \"scatterpolar\"}], \"scatterpolargl\": [{\"marker\": {\"colorbar\": {\"outlinewidth\": 0, \"ticks\": \"\"}}, \"type\": \"scatterpolargl\"}], \"scatterternary\": [{\"marker\": {\"colorbar\": {\"outlinewidth\": 0, \"ticks\": \"\"}}, \"type\": \"scatterternary\"}], \"surface\": [{\"colorbar\": {\"outlinewidth\": 0, \"ticks\": \"\"}, \"colorscale\": [[0.0, \"#0d0887\"], [0.1111111111111111, \"#46039f\"], [0.2222222222222222, \"#7201a8\"], [0.3333333333333333, \"#9c179e\"], [0.4444444444444444, \"#bd3786\"], [0.5555555555555556, \"#d8576b\"], [0.6666666666666666, \"#ed7953\"], [0.7777777777777778, \"#fb9f3a\"], [0.8888888888888888, \"#fdca26\"], [1.0, \"#f0f921\"]], \"type\": \"surface\"}], \"table\": [{\"cells\": {\"fill\": {\"color\": \"#EBF0F8\"}, \"line\": {\"color\": \"white\"}}, \"header\": {\"fill\": {\"color\": \"#C8D4E3\"}, \"line\": {\"color\": \"white\"}}, \"type\": \"table\"}]}, \"layout\": {\"annotationdefaults\": {\"arrowcolor\": \"#2a3f5f\", \"arrowhead\": 0, \"arrowwidth\": 1}, \"coloraxis\": {\"colorbar\": {\"outlinewidth\": 0, \"ticks\": \"\"}}, \"colorscale\": {\"diverging\": [[0, \"#8e0152\"], [0.1, \"#c51b7d\"], [0.2, \"#de77ae\"], [0.3, \"#f1b6da\"], [0.4, \"#fde0ef\"], [0.5, \"#f7f7f7\"], [0.6, \"#e6f5d0\"], [0.7, \"#b8e186\"], [0.8, \"#7fbc41\"], [0.9, \"#4d9221\"], [1, \"#276419\"]], \"sequential\": [[0.0, \"#0d0887\"], [0.1111111111111111, \"#46039f\"], [0.2222222222222222, \"#7201a8\"], [0.3333333333333333, \"#9c179e\"], [0.4444444444444444, \"#bd3786\"], [0.5555555555555556, \"#d8576b\"], [0.6666666666666666, \"#ed7953\"], [0.7777777777777778, \"#fb9f3a\"], [0.8888888888888888, \"#fdca26\"], [1.0, \"#f0f921\"]], \"sequentialminus\": [[0.0, \"#0d0887\"], [0.1111111111111111, \"#46039f\"], [0.2222222222222222, \"#7201a8\"], [0.3333333333333333, \"#9c179e\"], [0.4444444444444444, \"#bd3786\"], [0.5555555555555556, \"#d8576b\"], [0.6666666666666666, \"#ed7953\"], [0.7777777777777778, \"#fb9f3a\"], [0.8888888888888888, \"#fdca26\"], [1.0, \"#f0f921\"]]}, \"colorway\": [\"#636efa\", \"#EF553B\", \"#00cc96\", \"#ab63fa\", \"#FFA15A\", \"#19d3f3\", \"#FF6692\", \"#B6E880\", \"#FF97FF\", \"#FECB52\"], \"font\": {\"color\": \"#2a3f5f\"}, \"geo\": {\"bgcolor\": \"white\", \"lakecolor\": \"white\", \"landcolor\": \"#E5ECF6\", \"showlakes\": true, \"showland\": true, \"subunitcolor\": \"white\"}, \"hoverlabel\": {\"align\": \"left\"}, \"hovermode\": \"closest\", \"mapbox\": {\"style\": \"light\"}, \"paper_bgcolor\": \"white\", \"plot_bgcolor\": \"#E5ECF6\", \"polar\": {\"angularaxis\": {\"gridcolor\": \"white\", \"linecolor\": \"white\", \"ticks\": \"\"}, \"bgcolor\": \"#E5ECF6\", \"radialaxis\": {\"gridcolor\": \"white\", \"linecolor\": \"white\", \"ticks\": \"\"}}, \"scene\": {\"xaxis\": {\"backgroundcolor\": \"#E5ECF6\", \"gridcolor\": \"white\", \"gridwidth\": 2, \"linecolor\": \"white\", \"showbackground\": true, \"ticks\": \"\", \"zerolinecolor\": \"white\"}, \"yaxis\": {\"backgroundcolor\": \"#E5ECF6\", \"gridcolor\": \"white\", \"gridwidth\": 2, \"linecolor\": \"white\", \"showbackground\": true, \"ticks\": \"\", \"zerolinecolor\": \"white\"}, \"zaxis\": {\"backgroundcolor\": \"#E5ECF6\", \"gridcolor\": \"white\", \"gridwidth\": 2, \"linecolor\": \"white\", \"showbackground\": true, \"ticks\": \"\", \"zerolinecolor\": \"white\"}}, \"shapedefaults\": {\"line\": {\"color\": \"#2a3f5f\"}}, \"ternary\": {\"aaxis\": {\"gridcolor\": \"white\", \"linecolor\": \"white\", \"ticks\": \"\"}, \"baxis\": {\"gridcolor\": \"white\", \"linecolor\": \"white\", \"ticks\": \"\"}, \"bgcolor\": \"#E5ECF6\", \"caxis\": {\"gridcolor\": \"white\", \"linecolor\": \"white\", \"ticks\": \"\"}}, \"title\": {\"x\": 0.05}, \"xaxis\": {\"automargin\": true, \"gridcolor\": \"white\", \"linecolor\": \"white\", \"ticks\": \"\", \"title\": {\"standoff\": 15}, \"zerolinecolor\": \"white\", \"zerolinewidth\": 2}, \"yaxis\": {\"automargin\": true, \"gridcolor\": \"white\", \"linecolor\": \"white\", \"ticks\": \"\", \"title\": {\"standoff\": 15}, \"zerolinecolor\": \"white\", \"zerolinewidth\": 2}}}, \"title\": {\"text\": \"Top N features by SelectKBest vs CV\"}, \"xaxis\": {\"title\": {\"text\": \"Top N features by SelectKBest\"}}, \"yaxis\": {\"title\": {\"text\": \"CV score\"}}},\n",
       "                        {\"responsive\": true}\n",
       "                    ).then(function(){\n",
       "                            \n",
       "var gd = document.getElementById('50e3859a-5cb7-46f1-afa9-800b7d855844');\n",
       "var x = new MutationObserver(function (mutations, observer) {{\n",
       "        var display = window.getComputedStyle(gd).display;\n",
       "        if (!display || display === 'none') {{\n",
       "            console.log([gd, 'removed!']);\n",
       "            Plotly.purge(gd);\n",
       "            observer.disconnect();\n",
       "        }}\n",
       "}});\n",
       "\n",
       "// Listen for the removal of the full notebook cells\n",
       "var notebookContainer = gd.closest('#notebook-container');\n",
       "if (notebookContainer) {{\n",
       "    x.observe(notebookContainer, {childList: true});\n",
       "}}\n",
       "\n",
       "// Listen for the clearing of the current output cell\n",
       "var outputEl = gd.closest('.output');\n",
       "if (outputEl) {{\n",
       "    x.observe(outputEl, {childList: true});\n",
       "}}\n",
       "\n",
       "                        })\n",
       "                };\n",
       "                });\n",
       "            </script>\n",
       "        </div>"
      ]
     },
     "metadata": {},
     "output_type": "display_data"
    }
   ],
   "source": [
    "data = [go.Scatter(\n",
    "        x = list(range(10, 301, 10)),\n",
    "        y = scores_dict['f_classif'],\n",
    "        name = 'CV scores f_classif'\n",
    "    ), go.Scatter(\n",
    "        x = list(range(10, 301, 10)),\n",
    "        y = scores_dict['mutual_info_classif'],\n",
    "        name = 'CV scores mutual_info_classif')]\n",
    "layout = go.Layout(dict(title = \"Top N features by SelectKBest vs CV\",\n",
    "                  xaxis = dict(title = 'Top N features by SelectKBest'),\n",
    "                  yaxis = dict(title = 'CV score'),\n",
    "                  ))\n",
    "py.iplot(dict(data=data, layout=layout), filename='basic-line')"
   ]
  },
  {
   "cell_type": "code",
   "execution_count": 91,
   "metadata": {},
   "outputs": [
    {
     "name": "stdout",
     "output_type": "stream",
     "text": [
      "CV mean score: 0.7483, std: 0.1529.\n"
     ]
    }
   ],
   "source": [
    "selector = SelectKBest(f_classif, k=60)\n",
    "X_trainK = selector.fit_transform(X_train, y_train.values.astype(int))\n",
    "X_testK = selector.transform(X_test)\n",
    "oof_lr_1, prediction_lr_1, scores = train_model(X_trainK, X_testK, y_train, params=None, model_type='sklearn', model=model)"
   ]
  },
  {
   "cell_type": "code",
   "execution_count": 92,
   "metadata": {},
   "outputs": [
    {
     "data": {
      "text/html": [
       "<div>\n",
       "<style scoped>\n",
       "    .dataframe tbody tr th:only-of-type {\n",
       "        vertical-align: middle;\n",
       "    }\n",
       "\n",
       "    .dataframe tbody tr th {\n",
       "        vertical-align: top;\n",
       "    }\n",
       "\n",
       "    .dataframe thead th {\n",
       "        text-align: right;\n",
       "    }\n",
       "</style>\n",
       "<table border=\"1\" class=\"dataframe\">\n",
       "  <thead>\n",
       "    <tr style=\"text-align: right;\">\n",
       "      <th></th>\n",
       "      <th>id</th>\n",
       "      <th>target</th>\n",
       "    </tr>\n",
       "  </thead>\n",
       "  <tbody>\n",
       "    <tr>\n",
       "      <th>0</th>\n",
       "      <td>250</td>\n",
       "      <td>0.759484</td>\n",
       "    </tr>\n",
       "    <tr>\n",
       "      <th>1</th>\n",
       "      <td>251</td>\n",
       "      <td>0.494025</td>\n",
       "    </tr>\n",
       "    <tr>\n",
       "      <th>2</th>\n",
       "      <td>252</td>\n",
       "      <td>0.573739</td>\n",
       "    </tr>\n",
       "    <tr>\n",
       "      <th>3</th>\n",
       "      <td>253</td>\n",
       "      <td>0.632191</td>\n",
       "    </tr>\n",
       "    <tr>\n",
       "      <th>4</th>\n",
       "      <td>254</td>\n",
       "      <td>0.703619</td>\n",
       "    </tr>\n",
       "  </tbody>\n",
       "</table>\n",
       "</div>"
      ],
      "text/plain": [
       "    id    target\n",
       "0  250  0.759484\n",
       "1  251  0.494025\n",
       "2  252  0.573739\n",
       "3  253  0.632191\n",
       "4  254  0.703619"
      ]
     },
     "execution_count": 92,
     "metadata": {},
     "output_type": "execute_result"
    }
   ],
   "source": [
    "submission = pd.read_csv('sample_submission.csv')\n",
    "submission['target'] = prediction_lr_1\n",
    "# submission.to_csv('top_n_features.csv', index=False)\n",
    "\n",
    "submission.head()"
   ]
  },
  {
   "cell_type": "code",
   "execution_count": 94,
   "metadata": {},
   "outputs": [
    {
     "name": "stdout",
     "output_type": "stream",
     "text": [
      "CV mean score: 0.7283, std: 0.1603.\n",
      "CV mean score: 0.7725, std: 0.1339.\n",
      "CV mean score: 0.7550, std: 0.1442.\n",
      "CV mean score: 0.7599, std: 0.1383.\n",
      "CV mean score: 0.7594, std: 0.1475.\n",
      "CV mean score: 0.7567, std: 0.1385.\n",
      "CV mean score: 0.7567, std: 0.1385.\n",
      "CV mean score: 0.7567, std: 0.1385.\n",
      "CV mean score: 0.7567, std: 0.1385.\n",
      "CV mean score: 0.7567, std: 0.1385.\n",
      "CV mean score: 0.7567, std: 0.1385.\n",
      "CV mean score: 0.7567, std: 0.1385.\n",
      "CV mean score: 0.7539, std: 0.1424.\n",
      "CV mean score: 0.7539, std: 0.1424.\n",
      "CV mean score: 0.7539, std: 0.1424.\n",
      "CV mean score: 0.7400, std: 0.1511.\n",
      "CV mean score: 0.7400, std: 0.1511.\n",
      "CV mean score: 0.7400, std: 0.1511.\n",
      "CV mean score: 0.7400, std: 0.1511.\n",
      "CV mean score: 0.7483, std: 0.1386.\n",
      "CV mean score: 0.7508, std: 0.1409.\n",
      "CV mean score: 0.7508, std: 0.1409.\n",
      "CV mean score: 0.7508, std: 0.1409.\n",
      "CV mean score: 0.7508, std: 0.1409.\n",
      "CV mean score: 0.7508, std: 0.1409.\n",
      "CV mean score: 0.7508, std: 0.1409.\n",
      "CV mean score: 0.7508, std: 0.1409.\n",
      "CV mean score: 0.7508, std: 0.1409.\n",
      "CV mean score: 0.7508, std: 0.1409.\n",
      "CV mean score: 0.7508, std: 0.1409.\n",
      "CV mean score: 0.7508, std: 0.1409.\n",
      "CV mean score: 0.7508, std: 0.1409.\n",
      "CV mean score: 0.7508, std: 0.1409.\n",
      "CV mean score: 0.7536, std: 0.1352.\n",
      "CV mean score: 0.7536, std: 0.1352.\n",
      "CV mean score: 0.7536, std: 0.1352.\n",
      "CV mean score: 0.7536, std: 0.1352.\n",
      "CV mean score: 0.7536, std: 0.1352.\n",
      "CV mean score: 0.7536, std: 0.1352.\n",
      "CV mean score: 0.7536, std: 0.1352.\n",
      "CV mean score: 0.7536, std: 0.1352.\n",
      "CV mean score: 0.7536, std: 0.1352.\n",
      "CV mean score: 0.7481, std: 0.1395.\n",
      "CV mean score: 0.7481, std: 0.1395.\n",
      "CV mean score: 0.7481, std: 0.1395.\n",
      "CV mean score: 0.7431, std: 0.1357.\n",
      "CV mean score: 0.7431, std: 0.1357.\n",
      "CV mean score: 0.7458, std: 0.1355.\n",
      "CV mean score: 0.7458, std: 0.1355.\n",
      "CV mean score: 0.7458, std: 0.1355.\n",
      "CV mean score: 0.7458, std: 0.1355.\n",
      "CV mean score: 0.7458, std: 0.1355.\n",
      "CV mean score: 0.7458, std: 0.1355.\n",
      "CV mean score: 0.7458, std: 0.1355.\n",
      "CV mean score: 0.7458, std: 0.1355.\n",
      "CV mean score: 0.7458, std: 0.1355.\n",
      "CV mean score: 0.7458, std: 0.1355.\n",
      "CV mean score: 0.7458, std: 0.1355.\n",
      "CV mean score: 0.7431, std: 0.1357.\n"
     ]
    }
   ],
   "source": [
    "scores_list = []\n",
    "for i in range(10, 301, 5):\n",
    "    s = RFE(model, i, step=1)\n",
    "    X_train1 = s.fit_transform(X_train, y_train.values.astype(int))\n",
    "    X_test1 = s.transform(X_test)\n",
    "    oof_lr_1, prediction_lr_1, scores = train_model(X_train1, X_test1, y_train, params=None, model_type='sklearn', model=model)\n",
    "    scores_list.append(np.mean(scores))"
   ]
  },
  {
   "cell_type": "code",
   "execution_count": 95,
   "metadata": {},
   "outputs": [
    {
     "data": {
      "application/vnd.plotly.v1+json": {
       "config": {
        "linkText": "Export to plot.ly",
        "plotlyServerURL": "https://plot.ly",
        "showLink": false
       },
       "data": [
        {
         "name": "CV scores RFE",
         "type": "scatter",
         "x": [
          10,
          15,
          20,
          25,
          30,
          35,
          40,
          45,
          50,
          55,
          60,
          65,
          70,
          75,
          80,
          85,
          90,
          95,
          100,
          105,
          110,
          115,
          120,
          125,
          130,
          135,
          140,
          145,
          150,
          155,
          160,
          165,
          170,
          175,
          180,
          185,
          190,
          195,
          200,
          205,
          210,
          215,
          220,
          225,
          230,
          235,
          240,
          245,
          250,
          255,
          260,
          265,
          270,
          275,
          280,
          285,
          290,
          295,
          300
         ],
         "y": [
          0.7283333333333333,
          0.7725000000000001,
          0.755,
          0.7598611111111112,
          0.7594444444444445,
          0.7566666666666667,
          0.7566666666666667,
          0.7566666666666667,
          0.7566666666666667,
          0.7566666666666667,
          0.7566666666666667,
          0.7566666666666667,
          0.7538888888888889,
          0.7538888888888889,
          0.7538888888888889,
          0.74,
          0.74,
          0.74,
          0.74,
          0.7483333333333333,
          0.7508333333333334,
          0.7508333333333334,
          0.7508333333333334,
          0.7508333333333334,
          0.7508333333333334,
          0.7508333333333334,
          0.7508333333333334,
          0.7508333333333334,
          0.7508333333333334,
          0.7508333333333334,
          0.7508333333333334,
          0.7508333333333334,
          0.7508333333333334,
          0.7536111111111111,
          0.7536111111111111,
          0.7536111111111111,
          0.7536111111111111,
          0.7536111111111111,
          0.7536111111111111,
          0.7536111111111111,
          0.7536111111111111,
          0.7536111111111111,
          0.7480555555555555,
          0.7480555555555555,
          0.7480555555555555,
          0.7430555555555556,
          0.7430555555555556,
          0.7458333333333333,
          0.7458333333333333,
          0.7458333333333333,
          0.7458333333333333,
          0.7458333333333333,
          0.7458333333333333,
          0.7458333333333333,
          0.7458333333333333,
          0.7458333333333333,
          0.7458333333333333,
          0.7458333333333333,
          0.7430555555555556
         ]
        }
       ],
       "layout": {
        "template": {
         "data": {
          "bar": [
           {
            "error_x": {
             "color": "#2a3f5f"
            },
            "error_y": {
             "color": "#2a3f5f"
            },
            "marker": {
             "line": {
              "color": "#E5ECF6",
              "width": 0.5
             }
            },
            "type": "bar"
           }
          ],
          "barpolar": [
           {
            "marker": {
             "line": {
              "color": "#E5ECF6",
              "width": 0.5
             }
            },
            "type": "barpolar"
           }
          ],
          "carpet": [
           {
            "aaxis": {
             "endlinecolor": "#2a3f5f",
             "gridcolor": "white",
             "linecolor": "white",
             "minorgridcolor": "white",
             "startlinecolor": "#2a3f5f"
            },
            "baxis": {
             "endlinecolor": "#2a3f5f",
             "gridcolor": "white",
             "linecolor": "white",
             "minorgridcolor": "white",
             "startlinecolor": "#2a3f5f"
            },
            "type": "carpet"
           }
          ],
          "choropleth": [
           {
            "colorbar": {
             "outlinewidth": 0,
             "ticks": ""
            },
            "type": "choropleth"
           }
          ],
          "contour": [
           {
            "colorbar": {
             "outlinewidth": 0,
             "ticks": ""
            },
            "colorscale": [
             [
              0,
              "#0d0887"
             ],
             [
              0.1111111111111111,
              "#46039f"
             ],
             [
              0.2222222222222222,
              "#7201a8"
             ],
             [
              0.3333333333333333,
              "#9c179e"
             ],
             [
              0.4444444444444444,
              "#bd3786"
             ],
             [
              0.5555555555555556,
              "#d8576b"
             ],
             [
              0.6666666666666666,
              "#ed7953"
             ],
             [
              0.7777777777777778,
              "#fb9f3a"
             ],
             [
              0.8888888888888888,
              "#fdca26"
             ],
             [
              1,
              "#f0f921"
             ]
            ],
            "type": "contour"
           }
          ],
          "contourcarpet": [
           {
            "colorbar": {
             "outlinewidth": 0,
             "ticks": ""
            },
            "type": "contourcarpet"
           }
          ],
          "heatmap": [
           {
            "colorbar": {
             "outlinewidth": 0,
             "ticks": ""
            },
            "colorscale": [
             [
              0,
              "#0d0887"
             ],
             [
              0.1111111111111111,
              "#46039f"
             ],
             [
              0.2222222222222222,
              "#7201a8"
             ],
             [
              0.3333333333333333,
              "#9c179e"
             ],
             [
              0.4444444444444444,
              "#bd3786"
             ],
             [
              0.5555555555555556,
              "#d8576b"
             ],
             [
              0.6666666666666666,
              "#ed7953"
             ],
             [
              0.7777777777777778,
              "#fb9f3a"
             ],
             [
              0.8888888888888888,
              "#fdca26"
             ],
             [
              1,
              "#f0f921"
             ]
            ],
            "type": "heatmap"
           }
          ],
          "heatmapgl": [
           {
            "colorbar": {
             "outlinewidth": 0,
             "ticks": ""
            },
            "colorscale": [
             [
              0,
              "#0d0887"
             ],
             [
              0.1111111111111111,
              "#46039f"
             ],
             [
              0.2222222222222222,
              "#7201a8"
             ],
             [
              0.3333333333333333,
              "#9c179e"
             ],
             [
              0.4444444444444444,
              "#bd3786"
             ],
             [
              0.5555555555555556,
              "#d8576b"
             ],
             [
              0.6666666666666666,
              "#ed7953"
             ],
             [
              0.7777777777777778,
              "#fb9f3a"
             ],
             [
              0.8888888888888888,
              "#fdca26"
             ],
             [
              1,
              "#f0f921"
             ]
            ],
            "type": "heatmapgl"
           }
          ],
          "histogram": [
           {
            "marker": {
             "colorbar": {
              "outlinewidth": 0,
              "ticks": ""
             }
            },
            "type": "histogram"
           }
          ],
          "histogram2d": [
           {
            "colorbar": {
             "outlinewidth": 0,
             "ticks": ""
            },
            "colorscale": [
             [
              0,
              "#0d0887"
             ],
             [
              0.1111111111111111,
              "#46039f"
             ],
             [
              0.2222222222222222,
              "#7201a8"
             ],
             [
              0.3333333333333333,
              "#9c179e"
             ],
             [
              0.4444444444444444,
              "#bd3786"
             ],
             [
              0.5555555555555556,
              "#d8576b"
             ],
             [
              0.6666666666666666,
              "#ed7953"
             ],
             [
              0.7777777777777778,
              "#fb9f3a"
             ],
             [
              0.8888888888888888,
              "#fdca26"
             ],
             [
              1,
              "#f0f921"
             ]
            ],
            "type": "histogram2d"
           }
          ],
          "histogram2dcontour": [
           {
            "colorbar": {
             "outlinewidth": 0,
             "ticks": ""
            },
            "colorscale": [
             [
              0,
              "#0d0887"
             ],
             [
              0.1111111111111111,
              "#46039f"
             ],
             [
              0.2222222222222222,
              "#7201a8"
             ],
             [
              0.3333333333333333,
              "#9c179e"
             ],
             [
              0.4444444444444444,
              "#bd3786"
             ],
             [
              0.5555555555555556,
              "#d8576b"
             ],
             [
              0.6666666666666666,
              "#ed7953"
             ],
             [
              0.7777777777777778,
              "#fb9f3a"
             ],
             [
              0.8888888888888888,
              "#fdca26"
             ],
             [
              1,
              "#f0f921"
             ]
            ],
            "type": "histogram2dcontour"
           }
          ],
          "mesh3d": [
           {
            "colorbar": {
             "outlinewidth": 0,
             "ticks": ""
            },
            "type": "mesh3d"
           }
          ],
          "parcoords": [
           {
            "line": {
             "colorbar": {
              "outlinewidth": 0,
              "ticks": ""
             }
            },
            "type": "parcoords"
           }
          ],
          "pie": [
           {
            "automargin": true,
            "type": "pie"
           }
          ],
          "scatter": [
           {
            "marker": {
             "colorbar": {
              "outlinewidth": 0,
              "ticks": ""
             }
            },
            "type": "scatter"
           }
          ],
          "scatter3d": [
           {
            "line": {
             "colorbar": {
              "outlinewidth": 0,
              "ticks": ""
             }
            },
            "marker": {
             "colorbar": {
              "outlinewidth": 0,
              "ticks": ""
             }
            },
            "type": "scatter3d"
           }
          ],
          "scattercarpet": [
           {
            "marker": {
             "colorbar": {
              "outlinewidth": 0,
              "ticks": ""
             }
            },
            "type": "scattercarpet"
           }
          ],
          "scattergeo": [
           {
            "marker": {
             "colorbar": {
              "outlinewidth": 0,
              "ticks": ""
             }
            },
            "type": "scattergeo"
           }
          ],
          "scattergl": [
           {
            "marker": {
             "colorbar": {
              "outlinewidth": 0,
              "ticks": ""
             }
            },
            "type": "scattergl"
           }
          ],
          "scattermapbox": [
           {
            "marker": {
             "colorbar": {
              "outlinewidth": 0,
              "ticks": ""
             }
            },
            "type": "scattermapbox"
           }
          ],
          "scatterpolar": [
           {
            "marker": {
             "colorbar": {
              "outlinewidth": 0,
              "ticks": ""
             }
            },
            "type": "scatterpolar"
           }
          ],
          "scatterpolargl": [
           {
            "marker": {
             "colorbar": {
              "outlinewidth": 0,
              "ticks": ""
             }
            },
            "type": "scatterpolargl"
           }
          ],
          "scatterternary": [
           {
            "marker": {
             "colorbar": {
              "outlinewidth": 0,
              "ticks": ""
             }
            },
            "type": "scatterternary"
           }
          ],
          "surface": [
           {
            "colorbar": {
             "outlinewidth": 0,
             "ticks": ""
            },
            "colorscale": [
             [
              0,
              "#0d0887"
             ],
             [
              0.1111111111111111,
              "#46039f"
             ],
             [
              0.2222222222222222,
              "#7201a8"
             ],
             [
              0.3333333333333333,
              "#9c179e"
             ],
             [
              0.4444444444444444,
              "#bd3786"
             ],
             [
              0.5555555555555556,
              "#d8576b"
             ],
             [
              0.6666666666666666,
              "#ed7953"
             ],
             [
              0.7777777777777778,
              "#fb9f3a"
             ],
             [
              0.8888888888888888,
              "#fdca26"
             ],
             [
              1,
              "#f0f921"
             ]
            ],
            "type": "surface"
           }
          ],
          "table": [
           {
            "cells": {
             "fill": {
              "color": "#EBF0F8"
             },
             "line": {
              "color": "white"
             }
            },
            "header": {
             "fill": {
              "color": "#C8D4E3"
             },
             "line": {
              "color": "white"
             }
            },
            "type": "table"
           }
          ]
         },
         "layout": {
          "annotationdefaults": {
           "arrowcolor": "#2a3f5f",
           "arrowhead": 0,
           "arrowwidth": 1
          },
          "coloraxis": {
           "colorbar": {
            "outlinewidth": 0,
            "ticks": ""
           }
          },
          "colorscale": {
           "diverging": [
            [
             0,
             "#8e0152"
            ],
            [
             0.1,
             "#c51b7d"
            ],
            [
             0.2,
             "#de77ae"
            ],
            [
             0.3,
             "#f1b6da"
            ],
            [
             0.4,
             "#fde0ef"
            ],
            [
             0.5,
             "#f7f7f7"
            ],
            [
             0.6,
             "#e6f5d0"
            ],
            [
             0.7,
             "#b8e186"
            ],
            [
             0.8,
             "#7fbc41"
            ],
            [
             0.9,
             "#4d9221"
            ],
            [
             1,
             "#276419"
            ]
           ],
           "sequential": [
            [
             0,
             "#0d0887"
            ],
            [
             0.1111111111111111,
             "#46039f"
            ],
            [
             0.2222222222222222,
             "#7201a8"
            ],
            [
             0.3333333333333333,
             "#9c179e"
            ],
            [
             0.4444444444444444,
             "#bd3786"
            ],
            [
             0.5555555555555556,
             "#d8576b"
            ],
            [
             0.6666666666666666,
             "#ed7953"
            ],
            [
             0.7777777777777778,
             "#fb9f3a"
            ],
            [
             0.8888888888888888,
             "#fdca26"
            ],
            [
             1,
             "#f0f921"
            ]
           ],
           "sequentialminus": [
            [
             0,
             "#0d0887"
            ],
            [
             0.1111111111111111,
             "#46039f"
            ],
            [
             0.2222222222222222,
             "#7201a8"
            ],
            [
             0.3333333333333333,
             "#9c179e"
            ],
            [
             0.4444444444444444,
             "#bd3786"
            ],
            [
             0.5555555555555556,
             "#d8576b"
            ],
            [
             0.6666666666666666,
             "#ed7953"
            ],
            [
             0.7777777777777778,
             "#fb9f3a"
            ],
            [
             0.8888888888888888,
             "#fdca26"
            ],
            [
             1,
             "#f0f921"
            ]
           ]
          },
          "colorway": [
           "#636efa",
           "#EF553B",
           "#00cc96",
           "#ab63fa",
           "#FFA15A",
           "#19d3f3",
           "#FF6692",
           "#B6E880",
           "#FF97FF",
           "#FECB52"
          ],
          "font": {
           "color": "#2a3f5f"
          },
          "geo": {
           "bgcolor": "white",
           "lakecolor": "white",
           "landcolor": "#E5ECF6",
           "showlakes": true,
           "showland": true,
           "subunitcolor": "white"
          },
          "hoverlabel": {
           "align": "left"
          },
          "hovermode": "closest",
          "mapbox": {
           "style": "light"
          },
          "paper_bgcolor": "white",
          "plot_bgcolor": "#E5ECF6",
          "polar": {
           "angularaxis": {
            "gridcolor": "white",
            "linecolor": "white",
            "ticks": ""
           },
           "bgcolor": "#E5ECF6",
           "radialaxis": {
            "gridcolor": "white",
            "linecolor": "white",
            "ticks": ""
           }
          },
          "scene": {
           "xaxis": {
            "backgroundcolor": "#E5ECF6",
            "gridcolor": "white",
            "gridwidth": 2,
            "linecolor": "white",
            "showbackground": true,
            "ticks": "",
            "zerolinecolor": "white"
           },
           "yaxis": {
            "backgroundcolor": "#E5ECF6",
            "gridcolor": "white",
            "gridwidth": 2,
            "linecolor": "white",
            "showbackground": true,
            "ticks": "",
            "zerolinecolor": "white"
           },
           "zaxis": {
            "backgroundcolor": "#E5ECF6",
            "gridcolor": "white",
            "gridwidth": 2,
            "linecolor": "white",
            "showbackground": true,
            "ticks": "",
            "zerolinecolor": "white"
           }
          },
          "shapedefaults": {
           "line": {
            "color": "#2a3f5f"
           }
          },
          "ternary": {
           "aaxis": {
            "gridcolor": "white",
            "linecolor": "white",
            "ticks": ""
           },
           "baxis": {
            "gridcolor": "white",
            "linecolor": "white",
            "ticks": ""
           },
           "bgcolor": "#E5ECF6",
           "caxis": {
            "gridcolor": "white",
            "linecolor": "white",
            "ticks": ""
           }
          },
          "title": {
           "x": 0.05
          },
          "xaxis": {
           "automargin": true,
           "gridcolor": "white",
           "linecolor": "white",
           "ticks": "",
           "title": {
            "standoff": 15
           },
           "zerolinecolor": "white",
           "zerolinewidth": 2
          },
          "yaxis": {
           "automargin": true,
           "gridcolor": "white",
           "linecolor": "white",
           "ticks": "",
           "title": {
            "standoff": 15
           },
           "zerolinecolor": "white",
           "zerolinewidth": 2
          }
         }
        },
        "title": {
         "text": "Top N features by RFE vs CV"
        },
        "xaxis": {
         "title": {
          "text": "Top N features by RFE"
         }
        },
        "yaxis": {
         "title": {
          "text": "CV score"
         }
        }
       }
      },
      "text/html": [
       "<div>\n",
       "        \n",
       "        \n",
       "            <div id=\"e9e503fd-c575-4028-a71b-ac0797c19262\" class=\"plotly-graph-div\" style=\"height:525px; width:100%;\"></div>\n",
       "            <script type=\"text/javascript\">\n",
       "                require([\"plotly\"], function(Plotly) {\n",
       "                    window.PLOTLYENV=window.PLOTLYENV || {};\n",
       "                    \n",
       "                if (document.getElementById(\"e9e503fd-c575-4028-a71b-ac0797c19262\")) {\n",
       "                    Plotly.newPlot(\n",
       "                        'e9e503fd-c575-4028-a71b-ac0797c19262',\n",
       "                        [{\"name\": \"CV scores RFE\", \"type\": \"scatter\", \"x\": [10, 15, 20, 25, 30, 35, 40, 45, 50, 55, 60, 65, 70, 75, 80, 85, 90, 95, 100, 105, 110, 115, 120, 125, 130, 135, 140, 145, 150, 155, 160, 165, 170, 175, 180, 185, 190, 195, 200, 205, 210, 215, 220, 225, 230, 235, 240, 245, 250, 255, 260, 265, 270, 275, 280, 285, 290, 295, 300], \"y\": [0.7283333333333333, 0.7725000000000001, 0.755, 0.7598611111111112, 0.7594444444444445, 0.7566666666666667, 0.7566666666666667, 0.7566666666666667, 0.7566666666666667, 0.7566666666666667, 0.7566666666666667, 0.7566666666666667, 0.7538888888888889, 0.7538888888888889, 0.7538888888888889, 0.74, 0.74, 0.74, 0.74, 0.7483333333333333, 0.7508333333333334, 0.7508333333333334, 0.7508333333333334, 0.7508333333333334, 0.7508333333333334, 0.7508333333333334, 0.7508333333333334, 0.7508333333333334, 0.7508333333333334, 0.7508333333333334, 0.7508333333333334, 0.7508333333333334, 0.7508333333333334, 0.7536111111111111, 0.7536111111111111, 0.7536111111111111, 0.7536111111111111, 0.7536111111111111, 0.7536111111111111, 0.7536111111111111, 0.7536111111111111, 0.7536111111111111, 0.7480555555555555, 0.7480555555555555, 0.7480555555555555, 0.7430555555555556, 0.7430555555555556, 0.7458333333333333, 0.7458333333333333, 0.7458333333333333, 0.7458333333333333, 0.7458333333333333, 0.7458333333333333, 0.7458333333333333, 0.7458333333333333, 0.7458333333333333, 0.7458333333333333, 0.7458333333333333, 0.7430555555555556]}],\n",
       "                        {\"template\": {\"data\": {\"bar\": [{\"error_x\": {\"color\": \"#2a3f5f\"}, \"error_y\": {\"color\": \"#2a3f5f\"}, \"marker\": {\"line\": {\"color\": \"#E5ECF6\", \"width\": 0.5}}, \"type\": \"bar\"}], \"barpolar\": [{\"marker\": {\"line\": {\"color\": \"#E5ECF6\", \"width\": 0.5}}, \"type\": \"barpolar\"}], \"carpet\": [{\"aaxis\": {\"endlinecolor\": \"#2a3f5f\", \"gridcolor\": \"white\", \"linecolor\": \"white\", \"minorgridcolor\": \"white\", \"startlinecolor\": \"#2a3f5f\"}, \"baxis\": {\"endlinecolor\": \"#2a3f5f\", \"gridcolor\": \"white\", \"linecolor\": \"white\", \"minorgridcolor\": \"white\", \"startlinecolor\": \"#2a3f5f\"}, \"type\": \"carpet\"}], \"choropleth\": [{\"colorbar\": {\"outlinewidth\": 0, \"ticks\": \"\"}, \"type\": \"choropleth\"}], \"contour\": [{\"colorbar\": {\"outlinewidth\": 0, \"ticks\": \"\"}, \"colorscale\": [[0.0, \"#0d0887\"], [0.1111111111111111, \"#46039f\"], [0.2222222222222222, \"#7201a8\"], [0.3333333333333333, \"#9c179e\"], [0.4444444444444444, \"#bd3786\"], [0.5555555555555556, \"#d8576b\"], [0.6666666666666666, \"#ed7953\"], [0.7777777777777778, \"#fb9f3a\"], [0.8888888888888888, \"#fdca26\"], [1.0, \"#f0f921\"]], \"type\": \"contour\"}], \"contourcarpet\": [{\"colorbar\": {\"outlinewidth\": 0, \"ticks\": \"\"}, \"type\": \"contourcarpet\"}], \"heatmap\": [{\"colorbar\": {\"outlinewidth\": 0, \"ticks\": \"\"}, \"colorscale\": [[0.0, \"#0d0887\"], [0.1111111111111111, \"#46039f\"], [0.2222222222222222, \"#7201a8\"], [0.3333333333333333, \"#9c179e\"], [0.4444444444444444, \"#bd3786\"], [0.5555555555555556, \"#d8576b\"], [0.6666666666666666, \"#ed7953\"], [0.7777777777777778, \"#fb9f3a\"], [0.8888888888888888, \"#fdca26\"], [1.0, \"#f0f921\"]], \"type\": \"heatmap\"}], \"heatmapgl\": [{\"colorbar\": {\"outlinewidth\": 0, \"ticks\": \"\"}, \"colorscale\": [[0.0, \"#0d0887\"], [0.1111111111111111, \"#46039f\"], [0.2222222222222222, \"#7201a8\"], [0.3333333333333333, \"#9c179e\"], [0.4444444444444444, \"#bd3786\"], [0.5555555555555556, \"#d8576b\"], [0.6666666666666666, \"#ed7953\"], [0.7777777777777778, \"#fb9f3a\"], [0.8888888888888888, \"#fdca26\"], [1.0, \"#f0f921\"]], \"type\": \"heatmapgl\"}], \"histogram\": [{\"marker\": {\"colorbar\": {\"outlinewidth\": 0, \"ticks\": \"\"}}, \"type\": \"histogram\"}], \"histogram2d\": [{\"colorbar\": {\"outlinewidth\": 0, \"ticks\": \"\"}, \"colorscale\": [[0.0, \"#0d0887\"], [0.1111111111111111, \"#46039f\"], [0.2222222222222222, \"#7201a8\"], [0.3333333333333333, \"#9c179e\"], [0.4444444444444444, \"#bd3786\"], [0.5555555555555556, \"#d8576b\"], [0.6666666666666666, \"#ed7953\"], [0.7777777777777778, \"#fb9f3a\"], [0.8888888888888888, \"#fdca26\"], [1.0, \"#f0f921\"]], \"type\": \"histogram2d\"}], \"histogram2dcontour\": [{\"colorbar\": {\"outlinewidth\": 0, \"ticks\": \"\"}, \"colorscale\": [[0.0, \"#0d0887\"], [0.1111111111111111, \"#46039f\"], [0.2222222222222222, \"#7201a8\"], [0.3333333333333333, \"#9c179e\"], [0.4444444444444444, \"#bd3786\"], [0.5555555555555556, \"#d8576b\"], [0.6666666666666666, \"#ed7953\"], [0.7777777777777778, \"#fb9f3a\"], [0.8888888888888888, \"#fdca26\"], [1.0, \"#f0f921\"]], \"type\": \"histogram2dcontour\"}], \"mesh3d\": [{\"colorbar\": {\"outlinewidth\": 0, \"ticks\": \"\"}, \"type\": \"mesh3d\"}], \"parcoords\": [{\"line\": {\"colorbar\": {\"outlinewidth\": 0, \"ticks\": \"\"}}, \"type\": \"parcoords\"}], \"pie\": [{\"automargin\": true, \"type\": \"pie\"}], \"scatter\": [{\"marker\": {\"colorbar\": {\"outlinewidth\": 0, \"ticks\": \"\"}}, \"type\": \"scatter\"}], \"scatter3d\": [{\"line\": {\"colorbar\": {\"outlinewidth\": 0, \"ticks\": \"\"}}, \"marker\": {\"colorbar\": {\"outlinewidth\": 0, \"ticks\": \"\"}}, \"type\": \"scatter3d\"}], \"scattercarpet\": [{\"marker\": {\"colorbar\": {\"outlinewidth\": 0, \"ticks\": \"\"}}, \"type\": \"scattercarpet\"}], \"scattergeo\": [{\"marker\": {\"colorbar\": {\"outlinewidth\": 0, \"ticks\": \"\"}}, \"type\": \"scattergeo\"}], \"scattergl\": [{\"marker\": {\"colorbar\": {\"outlinewidth\": 0, \"ticks\": \"\"}}, \"type\": \"scattergl\"}], \"scattermapbox\": [{\"marker\": {\"colorbar\": {\"outlinewidth\": 0, \"ticks\": \"\"}}, \"type\": \"scattermapbox\"}], \"scatterpolar\": [{\"marker\": {\"colorbar\": {\"outlinewidth\": 0, \"ticks\": \"\"}}, \"type\": \"scatterpolar\"}], \"scatterpolargl\": [{\"marker\": {\"colorbar\": {\"outlinewidth\": 0, \"ticks\": \"\"}}, \"type\": \"scatterpolargl\"}], \"scatterternary\": [{\"marker\": {\"colorbar\": {\"outlinewidth\": 0, \"ticks\": \"\"}}, \"type\": \"scatterternary\"}], \"surface\": [{\"colorbar\": {\"outlinewidth\": 0, \"ticks\": \"\"}, \"colorscale\": [[0.0, \"#0d0887\"], [0.1111111111111111, \"#46039f\"], [0.2222222222222222, \"#7201a8\"], [0.3333333333333333, \"#9c179e\"], [0.4444444444444444, \"#bd3786\"], [0.5555555555555556, \"#d8576b\"], [0.6666666666666666, \"#ed7953\"], [0.7777777777777778, \"#fb9f3a\"], [0.8888888888888888, \"#fdca26\"], [1.0, \"#f0f921\"]], \"type\": \"surface\"}], \"table\": [{\"cells\": {\"fill\": {\"color\": \"#EBF0F8\"}, \"line\": {\"color\": \"white\"}}, \"header\": {\"fill\": {\"color\": \"#C8D4E3\"}, \"line\": {\"color\": \"white\"}}, \"type\": \"table\"}]}, \"layout\": {\"annotationdefaults\": {\"arrowcolor\": \"#2a3f5f\", \"arrowhead\": 0, \"arrowwidth\": 1}, \"coloraxis\": {\"colorbar\": {\"outlinewidth\": 0, \"ticks\": \"\"}}, \"colorscale\": {\"diverging\": [[0, \"#8e0152\"], [0.1, \"#c51b7d\"], [0.2, \"#de77ae\"], [0.3, \"#f1b6da\"], [0.4, \"#fde0ef\"], [0.5, \"#f7f7f7\"], [0.6, \"#e6f5d0\"], [0.7, \"#b8e186\"], [0.8, \"#7fbc41\"], [0.9, \"#4d9221\"], [1, \"#276419\"]], \"sequential\": [[0.0, \"#0d0887\"], [0.1111111111111111, \"#46039f\"], [0.2222222222222222, \"#7201a8\"], [0.3333333333333333, \"#9c179e\"], [0.4444444444444444, \"#bd3786\"], [0.5555555555555556, \"#d8576b\"], [0.6666666666666666, \"#ed7953\"], [0.7777777777777778, \"#fb9f3a\"], [0.8888888888888888, \"#fdca26\"], [1.0, \"#f0f921\"]], \"sequentialminus\": [[0.0, \"#0d0887\"], [0.1111111111111111, \"#46039f\"], [0.2222222222222222, \"#7201a8\"], [0.3333333333333333, \"#9c179e\"], [0.4444444444444444, \"#bd3786\"], [0.5555555555555556, \"#d8576b\"], [0.6666666666666666, \"#ed7953\"], [0.7777777777777778, \"#fb9f3a\"], [0.8888888888888888, \"#fdca26\"], [1.0, \"#f0f921\"]]}, \"colorway\": [\"#636efa\", \"#EF553B\", \"#00cc96\", \"#ab63fa\", \"#FFA15A\", \"#19d3f3\", \"#FF6692\", \"#B6E880\", \"#FF97FF\", \"#FECB52\"], \"font\": {\"color\": \"#2a3f5f\"}, \"geo\": {\"bgcolor\": \"white\", \"lakecolor\": \"white\", \"landcolor\": \"#E5ECF6\", \"showlakes\": true, \"showland\": true, \"subunitcolor\": \"white\"}, \"hoverlabel\": {\"align\": \"left\"}, \"hovermode\": \"closest\", \"mapbox\": {\"style\": \"light\"}, \"paper_bgcolor\": \"white\", \"plot_bgcolor\": \"#E5ECF6\", \"polar\": {\"angularaxis\": {\"gridcolor\": \"white\", \"linecolor\": \"white\", \"ticks\": \"\"}, \"bgcolor\": \"#E5ECF6\", \"radialaxis\": {\"gridcolor\": \"white\", \"linecolor\": \"white\", \"ticks\": \"\"}}, \"scene\": {\"xaxis\": {\"backgroundcolor\": \"#E5ECF6\", \"gridcolor\": \"white\", \"gridwidth\": 2, \"linecolor\": \"white\", \"showbackground\": true, \"ticks\": \"\", \"zerolinecolor\": \"white\"}, \"yaxis\": {\"backgroundcolor\": \"#E5ECF6\", \"gridcolor\": \"white\", \"gridwidth\": 2, \"linecolor\": \"white\", \"showbackground\": true, \"ticks\": \"\", \"zerolinecolor\": \"white\"}, \"zaxis\": {\"backgroundcolor\": \"#E5ECF6\", \"gridcolor\": \"white\", \"gridwidth\": 2, \"linecolor\": \"white\", \"showbackground\": true, \"ticks\": \"\", \"zerolinecolor\": \"white\"}}, \"shapedefaults\": {\"line\": {\"color\": \"#2a3f5f\"}}, \"ternary\": {\"aaxis\": {\"gridcolor\": \"white\", \"linecolor\": \"white\", \"ticks\": \"\"}, \"baxis\": {\"gridcolor\": \"white\", \"linecolor\": \"white\", \"ticks\": \"\"}, \"bgcolor\": \"#E5ECF6\", \"caxis\": {\"gridcolor\": \"white\", \"linecolor\": \"white\", \"ticks\": \"\"}}, \"title\": {\"x\": 0.05}, \"xaxis\": {\"automargin\": true, \"gridcolor\": \"white\", \"linecolor\": \"white\", \"ticks\": \"\", \"title\": {\"standoff\": 15}, \"zerolinecolor\": \"white\", \"zerolinewidth\": 2}, \"yaxis\": {\"automargin\": true, \"gridcolor\": \"white\", \"linecolor\": \"white\", \"ticks\": \"\", \"title\": {\"standoff\": 15}, \"zerolinecolor\": \"white\", \"zerolinewidth\": 2}}}, \"title\": {\"text\": \"Top N features by RFE vs CV\"}, \"xaxis\": {\"title\": {\"text\": \"Top N features by RFE\"}}, \"yaxis\": {\"title\": {\"text\": \"CV score\"}}},\n",
       "                        {\"responsive\": true}\n",
       "                    ).then(function(){\n",
       "                            \n",
       "var gd = document.getElementById('e9e503fd-c575-4028-a71b-ac0797c19262');\n",
       "var x = new MutationObserver(function (mutations, observer) {{\n",
       "        var display = window.getComputedStyle(gd).display;\n",
       "        if (!display || display === 'none') {{\n",
       "            console.log([gd, 'removed!']);\n",
       "            Plotly.purge(gd);\n",
       "            observer.disconnect();\n",
       "        }}\n",
       "}});\n",
       "\n",
       "// Listen for the removal of the full notebook cells\n",
       "var notebookContainer = gd.closest('#notebook-container');\n",
       "if (notebookContainer) {{\n",
       "    x.observe(notebookContainer, {childList: true});\n",
       "}}\n",
       "\n",
       "// Listen for the clearing of the current output cell\n",
       "var outputEl = gd.closest('.output');\n",
       "if (outputEl) {{\n",
       "    x.observe(outputEl, {childList: true});\n",
       "}}\n",
       "\n",
       "                        })\n",
       "                };\n",
       "                });\n",
       "            </script>\n",
       "        </div>"
      ]
     },
     "metadata": {},
     "output_type": "display_data"
    }
   ],
   "source": [
    "data = [go.Scatter(\n",
    "        x = list(range(10, 301, 5)),\n",
    "        y = scores_list,\n",
    "        name = 'CV scores RFE'\n",
    "    )]\n",
    "layout = go.Layout(dict(title = \"Top N features by RFE vs CV\",\n",
    "                  xaxis = dict(title = 'Top N features by RFE'),\n",
    "                  yaxis = dict(title = 'CV score'),\n",
    "                  ))\n",
    "py.iplot(dict(data=data, layout=layout), filename='basic-line')"
   ]
  },
  {
   "cell_type": "code",
   "execution_count": 96,
   "metadata": {},
   "outputs": [
    {
     "name": "stdout",
     "output_type": "stream",
     "text": [
      "CV mean score: 0.7550, std: 0.1442.\n"
     ]
    }
   ],
   "source": [
    "selector = RFE(model, 20, step=1)\n",
    "X_trainK = selector.fit_transform(X_train, y_train.values.astype(int))\n",
    "X_testK = selector.transform(X_test)\n",
    "oof_lr_1, prediction_lr_rfe_20, scores = train_model(X_trainK, X_testK, y_train, params=None, model_type='sklearn', model=model)"
   ]
  },
  {
   "cell_type": "code",
   "execution_count": 97,
   "metadata": {},
   "outputs": [
    {
     "data": {
      "text/html": [
       "<div>\n",
       "<style scoped>\n",
       "    .dataframe tbody tr th:only-of-type {\n",
       "        vertical-align: middle;\n",
       "    }\n",
       "\n",
       "    .dataframe tbody tr th {\n",
       "        vertical-align: top;\n",
       "    }\n",
       "\n",
       "    .dataframe thead th {\n",
       "        text-align: right;\n",
       "    }\n",
       "</style>\n",
       "<table border=\"1\" class=\"dataframe\">\n",
       "  <thead>\n",
       "    <tr style=\"text-align: right;\">\n",
       "      <th></th>\n",
       "      <th>id</th>\n",
       "      <th>target</th>\n",
       "    </tr>\n",
       "  </thead>\n",
       "  <tbody>\n",
       "    <tr>\n",
       "      <th>0</th>\n",
       "      <td>250</td>\n",
       "      <td>0.804053</td>\n",
       "    </tr>\n",
       "    <tr>\n",
       "      <th>1</th>\n",
       "      <td>251</td>\n",
       "      <td>0.486082</td>\n",
       "    </tr>\n",
       "    <tr>\n",
       "      <th>2</th>\n",
       "      <td>252</td>\n",
       "      <td>0.533516</td>\n",
       "    </tr>\n",
       "    <tr>\n",
       "      <th>3</th>\n",
       "      <td>253</td>\n",
       "      <td>0.654747</td>\n",
       "    </tr>\n",
       "    <tr>\n",
       "      <th>4</th>\n",
       "      <td>254</td>\n",
       "      <td>0.735582</td>\n",
       "    </tr>\n",
       "  </tbody>\n",
       "</table>\n",
       "</div>"
      ],
      "text/plain": [
       "    id    target\n",
       "0  250  0.804053\n",
       "1  251  0.486082\n",
       "2  252  0.533516\n",
       "3  253  0.654747\n",
       "4  254  0.735582"
      ]
     },
     "execution_count": 97,
     "metadata": {},
     "output_type": "execute_result"
    }
   ],
   "source": [
    "submission = pd.read_csv('sample_submission.csv')\n",
    "submission['target'] = prediction_lr_rfe_20\n",
    "submission.to_csv('rfe_20.csv', index=False)\n",
    "\n",
    "submission.head()"
   ]
  },
  {
   "cell_type": "markdown",
   "metadata": {},
   "source": [
    "## GLM"
   ]
  },
  {
   "cell_type": "code",
   "execution_count": 98,
   "metadata": {},
   "outputs": [],
   "source": [
    "selector = SelectKBest(f_classif, k=15)\n",
    "X_trainK = selector.fit_transform(X_train, y_train.values.astype(int))\n",
    "X_testK = selector.transform(X_test)"
   ]
  },
  {
   "cell_type": "code",
   "execution_count": 99,
   "metadata": {},
   "outputs": [
    {
     "name": "stdout",
     "output_type": "stream",
     "text": [
      "CV mean score: 0.8645, std: 0.1206.\n"
     ]
    }
   ],
   "source": [
    "oof_glm, prediction_glm, scores = train_model(X_trainK, X_testK, y_train, params=None, model_type='glm')"
   ]
  },
  {
   "cell_type": "code",
   "execution_count": 100,
   "metadata": {},
   "outputs": [
    {
     "data": {
      "text/html": [
       "<div>\n",
       "<style scoped>\n",
       "    .dataframe tbody tr th:only-of-type {\n",
       "        vertical-align: middle;\n",
       "    }\n",
       "\n",
       "    .dataframe tbody tr th {\n",
       "        vertical-align: top;\n",
       "    }\n",
       "\n",
       "    .dataframe thead th {\n",
       "        text-align: right;\n",
       "    }\n",
       "</style>\n",
       "<table border=\"1\" class=\"dataframe\">\n",
       "  <thead>\n",
       "    <tr style=\"text-align: right;\">\n",
       "      <th></th>\n",
       "      <th>id</th>\n",
       "      <th>target</th>\n",
       "    </tr>\n",
       "  </thead>\n",
       "  <tbody>\n",
       "    <tr>\n",
       "      <th>0</th>\n",
       "      <td>250</td>\n",
       "      <td>0.832866</td>\n",
       "    </tr>\n",
       "    <tr>\n",
       "      <th>1</th>\n",
       "      <td>251</td>\n",
       "      <td>0.742659</td>\n",
       "    </tr>\n",
       "    <tr>\n",
       "      <th>2</th>\n",
       "      <td>252</td>\n",
       "      <td>0.803590</td>\n",
       "    </tr>\n",
       "    <tr>\n",
       "      <th>3</th>\n",
       "      <td>253</td>\n",
       "      <td>0.786638</td>\n",
       "    </tr>\n",
       "    <tr>\n",
       "      <th>4</th>\n",
       "      <td>254</td>\n",
       "      <td>0.832275</td>\n",
       "    </tr>\n",
       "  </tbody>\n",
       "</table>\n",
       "</div>"
      ],
      "text/plain": [
       "    id    target\n",
       "0  250  0.832866\n",
       "1  251  0.742659\n",
       "2  252  0.803590\n",
       "3  253  0.786638\n",
       "4  254  0.832275"
      ]
     },
     "execution_count": 100,
     "metadata": {},
     "output_type": "execute_result"
    }
   ],
   "source": [
    "submission = pd.read_csv('sample_submission.csv')\n",
    "submission['target'] = prediction_glm\n",
    "submission.to_csv('glm.csv', index=False)\n",
    "\n",
    "submission.head()"
   ]
  },
  {
   "cell_type": "markdown",
   "metadata": {},
   "source": [
    "## Selected top_features + statistics"
   ]
  },
  {
   "cell_type": "code",
   "execution_count": 101,
   "metadata": {
    "scrolled": false
   },
   "outputs": [
    {
     "data": {
      "text/html": [
       "<div>\n",
       "<style scoped>\n",
       "    .dataframe tbody tr th:only-of-type {\n",
       "        vertical-align: middle;\n",
       "    }\n",
       "\n",
       "    .dataframe tbody tr th {\n",
       "        vertical-align: top;\n",
       "    }\n",
       "\n",
       "    .dataframe thead th {\n",
       "        text-align: right;\n",
       "    }\n",
       "</style>\n",
       "<table border=\"1\" class=\"dataframe\">\n",
       "  <thead>\n",
       "    <tr style=\"text-align: right;\">\n",
       "      <th></th>\n",
       "      <th>target</th>\n",
       "      <th>feature</th>\n",
       "      <th>weight</th>\n",
       "    </tr>\n",
       "  </thead>\n",
       "  <tbody>\n",
       "    <tr>\n",
       "      <th>0</th>\n",
       "      <td>1.0</td>\n",
       "      <td>x9</td>\n",
       "      <td>0.611341</td>\n",
       "    </tr>\n",
       "    <tr>\n",
       "      <th>1</th>\n",
       "      <td>1.0</td>\n",
       "      <td>x1</td>\n",
       "      <td>0.277548</td>\n",
       "    </tr>\n",
       "    <tr>\n",
       "      <th>20</th>\n",
       "      <td>1.0</td>\n",
       "      <td>x12</td>\n",
       "      <td>0.228856</td>\n",
       "    </tr>\n",
       "    <tr>\n",
       "      <th>19</th>\n",
       "      <td>1.0</td>\n",
       "      <td>x7</td>\n",
       "      <td>0.202346</td>\n",
       "    </tr>\n",
       "    <tr>\n",
       "      <th>18</th>\n",
       "      <td>1.0</td>\n",
       "      <td>x14</td>\n",
       "      <td>0.188908</td>\n",
       "    </tr>\n",
       "    <tr>\n",
       "      <th>2</th>\n",
       "      <td>1.0</td>\n",
       "      <td>x17</td>\n",
       "      <td>0.185738</td>\n",
       "    </tr>\n",
       "    <tr>\n",
       "      <th>17</th>\n",
       "      <td>1.0</td>\n",
       "      <td>x11</td>\n",
       "      <td>0.178246</td>\n",
       "    </tr>\n",
       "    <tr>\n",
       "      <th>16</th>\n",
       "      <td>1.0</td>\n",
       "      <td>&lt;BIAS&gt;</td>\n",
       "      <td>0.167057</td>\n",
       "    </tr>\n",
       "    <tr>\n",
       "      <th>15</th>\n",
       "      <td>1.0</td>\n",
       "      <td>x0</td>\n",
       "      <td>0.159732</td>\n",
       "    </tr>\n",
       "    <tr>\n",
       "      <th>14</th>\n",
       "      <td>1.0</td>\n",
       "      <td>x5</td>\n",
       "      <td>0.152752</td>\n",
       "    </tr>\n",
       "    <tr>\n",
       "      <th>13</th>\n",
       "      <td>1.0</td>\n",
       "      <td>x10</td>\n",
       "      <td>0.148157</td>\n",
       "    </tr>\n",
       "    <tr>\n",
       "      <th>12</th>\n",
       "      <td>1.0</td>\n",
       "      <td>x2</td>\n",
       "      <td>0.147845</td>\n",
       "    </tr>\n",
       "    <tr>\n",
       "      <th>11</th>\n",
       "      <td>1.0</td>\n",
       "      <td>x15</td>\n",
       "      <td>0.145104</td>\n",
       "    </tr>\n",
       "    <tr>\n",
       "      <th>3</th>\n",
       "      <td>1.0</td>\n",
       "      <td>x3</td>\n",
       "      <td>0.109616</td>\n",
       "    </tr>\n",
       "    <tr>\n",
       "      <th>10</th>\n",
       "      <td>1.0</td>\n",
       "      <td>x19</td>\n",
       "      <td>0.106133</td>\n",
       "    </tr>\n",
       "    <tr>\n",
       "      <th>9</th>\n",
       "      <td>1.0</td>\n",
       "      <td>x8</td>\n",
       "      <td>0.095892</td>\n",
       "    </tr>\n",
       "    <tr>\n",
       "      <th>8</th>\n",
       "      <td>1.0</td>\n",
       "      <td>x4</td>\n",
       "      <td>0.080430</td>\n",
       "    </tr>\n",
       "    <tr>\n",
       "      <th>4</th>\n",
       "      <td>1.0</td>\n",
       "      <td>x18</td>\n",
       "      <td>0.072675</td>\n",
       "    </tr>\n",
       "    <tr>\n",
       "      <th>7</th>\n",
       "      <td>1.0</td>\n",
       "      <td>x13</td>\n",
       "      <td>0.064411</td>\n",
       "    </tr>\n",
       "    <tr>\n",
       "      <th>5</th>\n",
       "      <td>1.0</td>\n",
       "      <td>x6</td>\n",
       "      <td>0.055294</td>\n",
       "    </tr>\n",
       "    <tr>\n",
       "      <th>6</th>\n",
       "      <td>1.0</td>\n",
       "      <td>x16</td>\n",
       "      <td>0.048437</td>\n",
       "    </tr>\n",
       "  </tbody>\n",
       "</table>\n",
       "</div>"
      ],
      "text/plain": [
       "    target feature    weight\n",
       "0      1.0      x9  0.611341\n",
       "1      1.0      x1  0.277548\n",
       "20     1.0     x12  0.228856\n",
       "19     1.0      x7  0.202346\n",
       "18     1.0     x14  0.188908\n",
       "2      1.0     x17  0.185738\n",
       "17     1.0     x11  0.178246\n",
       "16     1.0  <BIAS>  0.167057\n",
       "15     1.0      x0  0.159732\n",
       "14     1.0      x5  0.152752\n",
       "13     1.0     x10  0.148157\n",
       "12     1.0      x2  0.147845\n",
       "11     1.0     x15  0.145104\n",
       "3      1.0      x3  0.109616\n",
       "10     1.0     x19  0.106133\n",
       "9      1.0      x8  0.095892\n",
       "8      1.0      x4  0.080430\n",
       "4      1.0     x18  0.072675\n",
       "7      1.0     x13  0.064411\n",
       "5      1.0      x6  0.055294\n",
       "6      1.0     x16  0.048437"
      ]
     },
     "execution_count": 101,
     "metadata": {},
     "output_type": "execute_result"
    }
   ],
   "source": [
    "eli5_weights = eli5.formatters.as_dataframe.explain_weights_df(model)\n",
    "eli5_weights['weight'] = eli5_weights['weight'].abs()\n",
    "eli5_weights = eli5_weights.sort_values('weight', ascending=False)\n",
    "eli5_weights"
   ]
  },
  {
   "cell_type": "code",
   "execution_count": 104,
   "metadata": {},
   "outputs": [
    {
     "name": "stdout",
     "output_type": "stream",
     "text": [
      "CV mean score: 0.5000, std: 0.0000.\n",
      "CV mean score: 0.5000, std: 0.0000.\n",
      "CV mean score: 0.5000, std: 0.0000.\n",
      "CV mean score: 0.5760, std: 0.1237.\n",
      "CV mean score: 0.5760, std: 0.1237.\n",
      "CV mean score: 0.5760, std: 0.1160.\n",
      "CV mean score: 0.5760, std: 0.1237.\n",
      "CV mean score: 0.5760, std: 0.1237.\n",
      "CV mean score: 0.5760, std: 0.1160.\n",
      "CV mean score: 0.5760, std: 0.1237.\n",
      "CV mean score: 0.5760, std: 0.1237.\n",
      "CV mean score: 0.5760, std: 0.1160.\n",
      "CV mean score: 0.5760, std: 0.1237.\n",
      "CV mean score: 0.5760, std: 0.1237.\n",
      "CV mean score: 0.5760, std: 0.1160.\n",
      "CV mean score: 0.5267, std: 0.1480.\n",
      "CV mean score: 0.5267, std: 0.1480.\n",
      "CV mean score: 0.5204, std: 0.1390.\n",
      "CV mean score: 0.5267, std: 0.1480.\n",
      "CV mean score: 0.5267, std: 0.1480.\n",
      "CV mean score: 0.5204, std: 0.1390.\n",
      "CV mean score: 0.5301, std: 0.1457.\n",
      "CV mean score: 0.5301, std: 0.1457.\n",
      "CV mean score: 0.5267, std: 0.1439.\n",
      "CV mean score: 0.5301, std: 0.1457.\n",
      "CV mean score: 0.5301, std: 0.1457.\n",
      "CV mean score: 0.5267, std: 0.1439.\n",
      "CV mean score: 0.5443, std: 0.1323.\n",
      "CV mean score: 0.5443, std: 0.1323.\n",
      "CV mean score: 0.5408, std: 0.1306.\n",
      "CV mean score: 0.5443, std: 0.1323.\n",
      "CV mean score: 0.5443, std: 0.1323.\n",
      "CV mean score: 0.5408, std: 0.1306.\n",
      "CV mean score: 0.5443, std: 0.1323.\n",
      "CV mean score: 0.5443, std: 0.1323.\n",
      "CV mean score: 0.5408, std: 0.1306.\n",
      "CV mean score: 0.5493, std: 0.1248.\n",
      "CV mean score: 0.5493, std: 0.1248.\n",
      "CV mean score: 0.5549, std: 0.1262.\n",
      "CV mean score: 0.5493, std: 0.1248.\n",
      "CV mean score: 0.5493, std: 0.1248.\n",
      "CV mean score: 0.5549, std: 0.1262.\n",
      "CV mean score: 0.5493, std: 0.1248.\n",
      "CV mean score: 0.5493, std: 0.1248.\n",
      "CV mean score: 0.5549, std: 0.1262.\n",
      "CV mean score: 0.5317, std: 0.1193.\n",
      "CV mean score: 0.5317, std: 0.1193.\n",
      "CV mean score: 0.5397, std: 0.1104.\n",
      "CV mean score: 0.5786, std: 0.1343.\n",
      "CV mean score: 0.5786, std: 0.1343.\n",
      "CV mean score: 0.5554, std: 0.1452.\n",
      "CV mean score: 0.5786, std: 0.1343.\n",
      "CV mean score: 0.5786, std: 0.1343.\n",
      "CV mean score: 0.5554, std: 0.1452.\n",
      "CV mean score: 0.5619, std: 0.1534.\n",
      "CV mean score: 0.5619, std: 0.1534.\n",
      "CV mean score: 0.5383, std: 0.1390.\n",
      "CV mean score: 0.5869, std: 0.1404.\n",
      "CV mean score: 0.5869, std: 0.1404.\n",
      "CV mean score: 0.5797, std: 0.1393.\n",
      "CV mean score: 0.5869, std: 0.1404.\n",
      "CV mean score: 0.5869, std: 0.1404.\n",
      "CV mean score: 0.5797, std: 0.1393.\n"
     ]
    }
   ],
   "source": [
    "train['mean'] = train.mean(1)\n",
    "train['std'] = train.std(1)\n",
    "test['mean'] = test.mean(1)\n",
    "test['std'] = test.std(1)\n",
    "\n",
    "scores_dict = {'simple': [], 'with_std': [], 'with_mean': []}\n",
    "for i in range(1, eli5_weights.shape[0] + 1):\n",
    "    top_features = [i[1:] for i in eli5_weights.feature if 'BIAS' not in i][:i]\n",
    "    \n",
    "    X_train = train[top_features]\n",
    "    X_test = test[top_features]\n",
    "    scaler = StandardScaler()\n",
    "    X_train = scaler.fit_transform(X_train)\n",
    "    X_test = scaler.transform(X_test)\n",
    "    oof_lr, prediction_lr, scores = train_model(X_train, X_test, y_train, params=None, model_type='sklearn', model=model)\n",
    "    scores_dict['simple'].append(np.mean(scores))\n",
    "    \n",
    "    X_train = train[top_features + ['mean']]\n",
    "    X_test = test[top_features + ['mean']]\n",
    "    scaler = StandardScaler()\n",
    "    X_train[X_train.columns[:-1]] = scaler.fit_transform(X_train[X_train.columns[:-1]])\n",
    "    X_test[X_train.columns[:-1]] = scaler.transform(X_test[X_train.columns[:-1]])\n",
    "    oof_lr, prediction_lr, scores = train_model(X_train.values, X_test.values, y_train, params=None, model_type='sklearn', model=model)\n",
    "    scores_dict['with_mean'].append(np.mean(scores))\n",
    "    \n",
    "    X_train = train[top_features + ['std']]\n",
    "    X_test = test[top_features + ['std']]\n",
    "    scaler = StandardScaler()\n",
    "    X_train[X_train.columns[:-1]] = scaler.fit_transform(X_train[X_train.columns[:-1]])\n",
    "    X_test[X_train.columns[:-1]] = scaler.transform(X_test[X_train.columns[:-1]])\n",
    "    oof_lr, prediction_lr, scores = train_model(X_train.values, X_test.values, y_train, params=None, model_type='sklearn', model=model)\n",
    "    scores_dict['with_std'].append(np.mean(scores))"
   ]
  },
  {
   "cell_type": "code",
   "execution_count": 105,
   "metadata": {},
   "outputs": [
    {
     "data": {
      "application/vnd.plotly.v1+json": {
       "config": {
        "linkText": "Export to plot.ly",
        "plotlyServerURL": "https://plot.ly",
        "showLink": false
       },
       "data": [
        {
         "name": "Simple CV scores",
         "type": "scatter",
         "x": [
          1,
          2,
          3,
          4,
          5,
          6,
          7,
          8,
          9,
          10,
          11,
          12,
          13,
          14,
          15,
          16,
          17,
          18,
          19,
          20,
          21
         ],
         "y": [
          0.5,
          0.5759722222222222,
          0.5759722222222222,
          0.5759722222222222,
          0.5759722222222222,
          0.5266666666666666,
          0.5266666666666666,
          0.5301388888888889,
          0.5301388888888889,
          0.5443055555555556,
          0.5443055555555556,
          0.5443055555555556,
          0.5493055555555555,
          0.5493055555555555,
          0.5493055555555555,
          0.5316666666666665,
          0.5786111111111112,
          0.5786111111111112,
          0.5619444444444445,
          0.5869444444444444,
          0.5869444444444444
         ]
        },
        {
         "name": "With mean CV scores",
         "type": "scatter",
         "x": [
          1,
          2,
          3,
          4,
          5,
          6,
          7,
          8,
          9,
          10,
          11,
          12,
          13,
          14,
          15,
          16,
          17,
          18,
          19,
          20,
          21
         ],
         "y": [
          0.5,
          0.5759722222222222,
          0.5759722222222222,
          0.5759722222222222,
          0.5759722222222222,
          0.5266666666666666,
          0.5266666666666666,
          0.5301388888888889,
          0.5301388888888889,
          0.5443055555555556,
          0.5443055555555556,
          0.5443055555555556,
          0.5493055555555555,
          0.5493055555555555,
          0.5493055555555555,
          0.5316666666666665,
          0.5786111111111112,
          0.5786111111111112,
          0.5619444444444445,
          0.5869444444444444,
          0.5869444444444444
         ]
        },
        {
         "name": "With std CV scores",
         "type": "scatter",
         "x": [
          1,
          2,
          3,
          4,
          5,
          6,
          7,
          8,
          9,
          10,
          11,
          12,
          13,
          14,
          15,
          16,
          17,
          18,
          19,
          20,
          21
         ],
         "y": [
          0.5,
          0.5759722222222222,
          0.5759722222222222,
          0.5759722222222222,
          0.5759722222222222,
          0.5204166666666666,
          0.5204166666666666,
          0.5266666666666667,
          0.5266666666666667,
          0.5408333333333333,
          0.5408333333333333,
          0.5408333333333333,
          0.554861111111111,
          0.554861111111111,
          0.554861111111111,
          0.5397222222222221,
          0.5554166666666667,
          0.5554166666666667,
          0.5383333333333333,
          0.5797222222222221,
          0.5797222222222221
         ]
        }
       ],
       "layout": {
        "template": {
         "data": {
          "bar": [
           {
            "error_x": {
             "color": "#2a3f5f"
            },
            "error_y": {
             "color": "#2a3f5f"
            },
            "marker": {
             "line": {
              "color": "#E5ECF6",
              "width": 0.5
             }
            },
            "type": "bar"
           }
          ],
          "barpolar": [
           {
            "marker": {
             "line": {
              "color": "#E5ECF6",
              "width": 0.5
             }
            },
            "type": "barpolar"
           }
          ],
          "carpet": [
           {
            "aaxis": {
             "endlinecolor": "#2a3f5f",
             "gridcolor": "white",
             "linecolor": "white",
             "minorgridcolor": "white",
             "startlinecolor": "#2a3f5f"
            },
            "baxis": {
             "endlinecolor": "#2a3f5f",
             "gridcolor": "white",
             "linecolor": "white",
             "minorgridcolor": "white",
             "startlinecolor": "#2a3f5f"
            },
            "type": "carpet"
           }
          ],
          "choropleth": [
           {
            "colorbar": {
             "outlinewidth": 0,
             "ticks": ""
            },
            "type": "choropleth"
           }
          ],
          "contour": [
           {
            "colorbar": {
             "outlinewidth": 0,
             "ticks": ""
            },
            "colorscale": [
             [
              0,
              "#0d0887"
             ],
             [
              0.1111111111111111,
              "#46039f"
             ],
             [
              0.2222222222222222,
              "#7201a8"
             ],
             [
              0.3333333333333333,
              "#9c179e"
             ],
             [
              0.4444444444444444,
              "#bd3786"
             ],
             [
              0.5555555555555556,
              "#d8576b"
             ],
             [
              0.6666666666666666,
              "#ed7953"
             ],
             [
              0.7777777777777778,
              "#fb9f3a"
             ],
             [
              0.8888888888888888,
              "#fdca26"
             ],
             [
              1,
              "#f0f921"
             ]
            ],
            "type": "contour"
           }
          ],
          "contourcarpet": [
           {
            "colorbar": {
             "outlinewidth": 0,
             "ticks": ""
            },
            "type": "contourcarpet"
           }
          ],
          "heatmap": [
           {
            "colorbar": {
             "outlinewidth": 0,
             "ticks": ""
            },
            "colorscale": [
             [
              0,
              "#0d0887"
             ],
             [
              0.1111111111111111,
              "#46039f"
             ],
             [
              0.2222222222222222,
              "#7201a8"
             ],
             [
              0.3333333333333333,
              "#9c179e"
             ],
             [
              0.4444444444444444,
              "#bd3786"
             ],
             [
              0.5555555555555556,
              "#d8576b"
             ],
             [
              0.6666666666666666,
              "#ed7953"
             ],
             [
              0.7777777777777778,
              "#fb9f3a"
             ],
             [
              0.8888888888888888,
              "#fdca26"
             ],
             [
              1,
              "#f0f921"
             ]
            ],
            "type": "heatmap"
           }
          ],
          "heatmapgl": [
           {
            "colorbar": {
             "outlinewidth": 0,
             "ticks": ""
            },
            "colorscale": [
             [
              0,
              "#0d0887"
             ],
             [
              0.1111111111111111,
              "#46039f"
             ],
             [
              0.2222222222222222,
              "#7201a8"
             ],
             [
              0.3333333333333333,
              "#9c179e"
             ],
             [
              0.4444444444444444,
              "#bd3786"
             ],
             [
              0.5555555555555556,
              "#d8576b"
             ],
             [
              0.6666666666666666,
              "#ed7953"
             ],
             [
              0.7777777777777778,
              "#fb9f3a"
             ],
             [
              0.8888888888888888,
              "#fdca26"
             ],
             [
              1,
              "#f0f921"
             ]
            ],
            "type": "heatmapgl"
           }
          ],
          "histogram": [
           {
            "marker": {
             "colorbar": {
              "outlinewidth": 0,
              "ticks": ""
             }
            },
            "type": "histogram"
           }
          ],
          "histogram2d": [
           {
            "colorbar": {
             "outlinewidth": 0,
             "ticks": ""
            },
            "colorscale": [
             [
              0,
              "#0d0887"
             ],
             [
              0.1111111111111111,
              "#46039f"
             ],
             [
              0.2222222222222222,
              "#7201a8"
             ],
             [
              0.3333333333333333,
              "#9c179e"
             ],
             [
              0.4444444444444444,
              "#bd3786"
             ],
             [
              0.5555555555555556,
              "#d8576b"
             ],
             [
              0.6666666666666666,
              "#ed7953"
             ],
             [
              0.7777777777777778,
              "#fb9f3a"
             ],
             [
              0.8888888888888888,
              "#fdca26"
             ],
             [
              1,
              "#f0f921"
             ]
            ],
            "type": "histogram2d"
           }
          ],
          "histogram2dcontour": [
           {
            "colorbar": {
             "outlinewidth": 0,
             "ticks": ""
            },
            "colorscale": [
             [
              0,
              "#0d0887"
             ],
             [
              0.1111111111111111,
              "#46039f"
             ],
             [
              0.2222222222222222,
              "#7201a8"
             ],
             [
              0.3333333333333333,
              "#9c179e"
             ],
             [
              0.4444444444444444,
              "#bd3786"
             ],
             [
              0.5555555555555556,
              "#d8576b"
             ],
             [
              0.6666666666666666,
              "#ed7953"
             ],
             [
              0.7777777777777778,
              "#fb9f3a"
             ],
             [
              0.8888888888888888,
              "#fdca26"
             ],
             [
              1,
              "#f0f921"
             ]
            ],
            "type": "histogram2dcontour"
           }
          ],
          "mesh3d": [
           {
            "colorbar": {
             "outlinewidth": 0,
             "ticks": ""
            },
            "type": "mesh3d"
           }
          ],
          "parcoords": [
           {
            "line": {
             "colorbar": {
              "outlinewidth": 0,
              "ticks": ""
             }
            },
            "type": "parcoords"
           }
          ],
          "pie": [
           {
            "automargin": true,
            "type": "pie"
           }
          ],
          "scatter": [
           {
            "marker": {
             "colorbar": {
              "outlinewidth": 0,
              "ticks": ""
             }
            },
            "type": "scatter"
           }
          ],
          "scatter3d": [
           {
            "line": {
             "colorbar": {
              "outlinewidth": 0,
              "ticks": ""
             }
            },
            "marker": {
             "colorbar": {
              "outlinewidth": 0,
              "ticks": ""
             }
            },
            "type": "scatter3d"
           }
          ],
          "scattercarpet": [
           {
            "marker": {
             "colorbar": {
              "outlinewidth": 0,
              "ticks": ""
             }
            },
            "type": "scattercarpet"
           }
          ],
          "scattergeo": [
           {
            "marker": {
             "colorbar": {
              "outlinewidth": 0,
              "ticks": ""
             }
            },
            "type": "scattergeo"
           }
          ],
          "scattergl": [
           {
            "marker": {
             "colorbar": {
              "outlinewidth": 0,
              "ticks": ""
             }
            },
            "type": "scattergl"
           }
          ],
          "scattermapbox": [
           {
            "marker": {
             "colorbar": {
              "outlinewidth": 0,
              "ticks": ""
             }
            },
            "type": "scattermapbox"
           }
          ],
          "scatterpolar": [
           {
            "marker": {
             "colorbar": {
              "outlinewidth": 0,
              "ticks": ""
             }
            },
            "type": "scatterpolar"
           }
          ],
          "scatterpolargl": [
           {
            "marker": {
             "colorbar": {
              "outlinewidth": 0,
              "ticks": ""
             }
            },
            "type": "scatterpolargl"
           }
          ],
          "scatterternary": [
           {
            "marker": {
             "colorbar": {
              "outlinewidth": 0,
              "ticks": ""
             }
            },
            "type": "scatterternary"
           }
          ],
          "surface": [
           {
            "colorbar": {
             "outlinewidth": 0,
             "ticks": ""
            },
            "colorscale": [
             [
              0,
              "#0d0887"
             ],
             [
              0.1111111111111111,
              "#46039f"
             ],
             [
              0.2222222222222222,
              "#7201a8"
             ],
             [
              0.3333333333333333,
              "#9c179e"
             ],
             [
              0.4444444444444444,
              "#bd3786"
             ],
             [
              0.5555555555555556,
              "#d8576b"
             ],
             [
              0.6666666666666666,
              "#ed7953"
             ],
             [
              0.7777777777777778,
              "#fb9f3a"
             ],
             [
              0.8888888888888888,
              "#fdca26"
             ],
             [
              1,
              "#f0f921"
             ]
            ],
            "type": "surface"
           }
          ],
          "table": [
           {
            "cells": {
             "fill": {
              "color": "#EBF0F8"
             },
             "line": {
              "color": "white"
             }
            },
            "header": {
             "fill": {
              "color": "#C8D4E3"
             },
             "line": {
              "color": "white"
             }
            },
            "type": "table"
           }
          ]
         },
         "layout": {
          "annotationdefaults": {
           "arrowcolor": "#2a3f5f",
           "arrowhead": 0,
           "arrowwidth": 1
          },
          "coloraxis": {
           "colorbar": {
            "outlinewidth": 0,
            "ticks": ""
           }
          },
          "colorscale": {
           "diverging": [
            [
             0,
             "#8e0152"
            ],
            [
             0.1,
             "#c51b7d"
            ],
            [
             0.2,
             "#de77ae"
            ],
            [
             0.3,
             "#f1b6da"
            ],
            [
             0.4,
             "#fde0ef"
            ],
            [
             0.5,
             "#f7f7f7"
            ],
            [
             0.6,
             "#e6f5d0"
            ],
            [
             0.7,
             "#b8e186"
            ],
            [
             0.8,
             "#7fbc41"
            ],
            [
             0.9,
             "#4d9221"
            ],
            [
             1,
             "#276419"
            ]
           ],
           "sequential": [
            [
             0,
             "#0d0887"
            ],
            [
             0.1111111111111111,
             "#46039f"
            ],
            [
             0.2222222222222222,
             "#7201a8"
            ],
            [
             0.3333333333333333,
             "#9c179e"
            ],
            [
             0.4444444444444444,
             "#bd3786"
            ],
            [
             0.5555555555555556,
             "#d8576b"
            ],
            [
             0.6666666666666666,
             "#ed7953"
            ],
            [
             0.7777777777777778,
             "#fb9f3a"
            ],
            [
             0.8888888888888888,
             "#fdca26"
            ],
            [
             1,
             "#f0f921"
            ]
           ],
           "sequentialminus": [
            [
             0,
             "#0d0887"
            ],
            [
             0.1111111111111111,
             "#46039f"
            ],
            [
             0.2222222222222222,
             "#7201a8"
            ],
            [
             0.3333333333333333,
             "#9c179e"
            ],
            [
             0.4444444444444444,
             "#bd3786"
            ],
            [
             0.5555555555555556,
             "#d8576b"
            ],
            [
             0.6666666666666666,
             "#ed7953"
            ],
            [
             0.7777777777777778,
             "#fb9f3a"
            ],
            [
             0.8888888888888888,
             "#fdca26"
            ],
            [
             1,
             "#f0f921"
            ]
           ]
          },
          "colorway": [
           "#636efa",
           "#EF553B",
           "#00cc96",
           "#ab63fa",
           "#FFA15A",
           "#19d3f3",
           "#FF6692",
           "#B6E880",
           "#FF97FF",
           "#FECB52"
          ],
          "font": {
           "color": "#2a3f5f"
          },
          "geo": {
           "bgcolor": "white",
           "lakecolor": "white",
           "landcolor": "#E5ECF6",
           "showlakes": true,
           "showland": true,
           "subunitcolor": "white"
          },
          "hoverlabel": {
           "align": "left"
          },
          "hovermode": "closest",
          "mapbox": {
           "style": "light"
          },
          "paper_bgcolor": "white",
          "plot_bgcolor": "#E5ECF6",
          "polar": {
           "angularaxis": {
            "gridcolor": "white",
            "linecolor": "white",
            "ticks": ""
           },
           "bgcolor": "#E5ECF6",
           "radialaxis": {
            "gridcolor": "white",
            "linecolor": "white",
            "ticks": ""
           }
          },
          "scene": {
           "xaxis": {
            "backgroundcolor": "#E5ECF6",
            "gridcolor": "white",
            "gridwidth": 2,
            "linecolor": "white",
            "showbackground": true,
            "ticks": "",
            "zerolinecolor": "white"
           },
           "yaxis": {
            "backgroundcolor": "#E5ECF6",
            "gridcolor": "white",
            "gridwidth": 2,
            "linecolor": "white",
            "showbackground": true,
            "ticks": "",
            "zerolinecolor": "white"
           },
           "zaxis": {
            "backgroundcolor": "#E5ECF6",
            "gridcolor": "white",
            "gridwidth": 2,
            "linecolor": "white",
            "showbackground": true,
            "ticks": "",
            "zerolinecolor": "white"
           }
          },
          "shapedefaults": {
           "line": {
            "color": "#2a3f5f"
           }
          },
          "ternary": {
           "aaxis": {
            "gridcolor": "white",
            "linecolor": "white",
            "ticks": ""
           },
           "baxis": {
            "gridcolor": "white",
            "linecolor": "white",
            "ticks": ""
           },
           "bgcolor": "#E5ECF6",
           "caxis": {
            "gridcolor": "white",
            "linecolor": "white",
            "ticks": ""
           }
          },
          "title": {
           "x": 0.05
          },
          "xaxis": {
           "automargin": true,
           "gridcolor": "white",
           "linecolor": "white",
           "ticks": "",
           "title": {
            "standoff": 15
           },
           "zerolinecolor": "white",
           "zerolinewidth": 2
          },
          "yaxis": {
           "automargin": true,
           "gridcolor": "white",
           "linecolor": "white",
           "ticks": "",
           "title": {
            "standoff": 15
           },
           "zerolinecolor": "white",
           "zerolinewidth": 2
          }
         }
        },
        "title": {
         "text": "Top N features vs CV"
        },
        "xaxis": {
         "title": {
          "text": "Top N features"
         }
        },
        "yaxis": {
         "title": {
          "text": "CV score"
         }
        }
       }
      },
      "text/html": [
       "<div>\n",
       "        \n",
       "        \n",
       "            <div id=\"1b9602ab-d4b4-48f0-956e-81fbbf9a598d\" class=\"plotly-graph-div\" style=\"height:525px; width:100%;\"></div>\n",
       "            <script type=\"text/javascript\">\n",
       "                require([\"plotly\"], function(Plotly) {\n",
       "                    window.PLOTLYENV=window.PLOTLYENV || {};\n",
       "                    \n",
       "                if (document.getElementById(\"1b9602ab-d4b4-48f0-956e-81fbbf9a598d\")) {\n",
       "                    Plotly.newPlot(\n",
       "                        '1b9602ab-d4b4-48f0-956e-81fbbf9a598d',\n",
       "                        [{\"name\": \"Simple CV scores\", \"type\": \"scatter\", \"x\": [1, 2, 3, 4, 5, 6, 7, 8, 9, 10, 11, 12, 13, 14, 15, 16, 17, 18, 19, 20, 21], \"y\": [0.5, 0.5759722222222222, 0.5759722222222222, 0.5759722222222222, 0.5759722222222222, 0.5266666666666666, 0.5266666666666666, 0.5301388888888889, 0.5301388888888889, 0.5443055555555556, 0.5443055555555556, 0.5443055555555556, 0.5493055555555555, 0.5493055555555555, 0.5493055555555555, 0.5316666666666665, 0.5786111111111112, 0.5786111111111112, 0.5619444444444445, 0.5869444444444444, 0.5869444444444444]}, {\"name\": \"With mean CV scores\", \"type\": \"scatter\", \"x\": [1, 2, 3, 4, 5, 6, 7, 8, 9, 10, 11, 12, 13, 14, 15, 16, 17, 18, 19, 20, 21], \"y\": [0.5, 0.5759722222222222, 0.5759722222222222, 0.5759722222222222, 0.5759722222222222, 0.5266666666666666, 0.5266666666666666, 0.5301388888888889, 0.5301388888888889, 0.5443055555555556, 0.5443055555555556, 0.5443055555555556, 0.5493055555555555, 0.5493055555555555, 0.5493055555555555, 0.5316666666666665, 0.5786111111111112, 0.5786111111111112, 0.5619444444444445, 0.5869444444444444, 0.5869444444444444]}, {\"name\": \"With std CV scores\", \"type\": \"scatter\", \"x\": [1, 2, 3, 4, 5, 6, 7, 8, 9, 10, 11, 12, 13, 14, 15, 16, 17, 18, 19, 20, 21], \"y\": [0.5, 0.5759722222222222, 0.5759722222222222, 0.5759722222222222, 0.5759722222222222, 0.5204166666666666, 0.5204166666666666, 0.5266666666666667, 0.5266666666666667, 0.5408333333333333, 0.5408333333333333, 0.5408333333333333, 0.554861111111111, 0.554861111111111, 0.554861111111111, 0.5397222222222221, 0.5554166666666667, 0.5554166666666667, 0.5383333333333333, 0.5797222222222221, 0.5797222222222221]}],\n",
       "                        {\"template\": {\"data\": {\"bar\": [{\"error_x\": {\"color\": \"#2a3f5f\"}, \"error_y\": {\"color\": \"#2a3f5f\"}, \"marker\": {\"line\": {\"color\": \"#E5ECF6\", \"width\": 0.5}}, \"type\": \"bar\"}], \"barpolar\": [{\"marker\": {\"line\": {\"color\": \"#E5ECF6\", \"width\": 0.5}}, \"type\": \"barpolar\"}], \"carpet\": [{\"aaxis\": {\"endlinecolor\": \"#2a3f5f\", \"gridcolor\": \"white\", \"linecolor\": \"white\", \"minorgridcolor\": \"white\", \"startlinecolor\": \"#2a3f5f\"}, \"baxis\": {\"endlinecolor\": \"#2a3f5f\", \"gridcolor\": \"white\", \"linecolor\": \"white\", \"minorgridcolor\": \"white\", \"startlinecolor\": \"#2a3f5f\"}, \"type\": \"carpet\"}], \"choropleth\": [{\"colorbar\": {\"outlinewidth\": 0, \"ticks\": \"\"}, \"type\": \"choropleth\"}], \"contour\": [{\"colorbar\": {\"outlinewidth\": 0, \"ticks\": \"\"}, \"colorscale\": [[0.0, \"#0d0887\"], [0.1111111111111111, \"#46039f\"], [0.2222222222222222, \"#7201a8\"], [0.3333333333333333, \"#9c179e\"], [0.4444444444444444, \"#bd3786\"], [0.5555555555555556, \"#d8576b\"], [0.6666666666666666, \"#ed7953\"], [0.7777777777777778, \"#fb9f3a\"], [0.8888888888888888, \"#fdca26\"], [1.0, \"#f0f921\"]], \"type\": \"contour\"}], \"contourcarpet\": [{\"colorbar\": {\"outlinewidth\": 0, \"ticks\": \"\"}, \"type\": \"contourcarpet\"}], \"heatmap\": [{\"colorbar\": {\"outlinewidth\": 0, \"ticks\": \"\"}, \"colorscale\": [[0.0, \"#0d0887\"], [0.1111111111111111, \"#46039f\"], [0.2222222222222222, \"#7201a8\"], [0.3333333333333333, \"#9c179e\"], [0.4444444444444444, \"#bd3786\"], [0.5555555555555556, \"#d8576b\"], [0.6666666666666666, \"#ed7953\"], [0.7777777777777778, \"#fb9f3a\"], [0.8888888888888888, \"#fdca26\"], [1.0, \"#f0f921\"]], \"type\": \"heatmap\"}], \"heatmapgl\": [{\"colorbar\": {\"outlinewidth\": 0, \"ticks\": \"\"}, \"colorscale\": [[0.0, \"#0d0887\"], [0.1111111111111111, \"#46039f\"], [0.2222222222222222, \"#7201a8\"], [0.3333333333333333, \"#9c179e\"], [0.4444444444444444, \"#bd3786\"], [0.5555555555555556, \"#d8576b\"], [0.6666666666666666, \"#ed7953\"], [0.7777777777777778, \"#fb9f3a\"], [0.8888888888888888, \"#fdca26\"], [1.0, \"#f0f921\"]], \"type\": \"heatmapgl\"}], \"histogram\": [{\"marker\": {\"colorbar\": {\"outlinewidth\": 0, \"ticks\": \"\"}}, \"type\": \"histogram\"}], \"histogram2d\": [{\"colorbar\": {\"outlinewidth\": 0, \"ticks\": \"\"}, \"colorscale\": [[0.0, \"#0d0887\"], [0.1111111111111111, \"#46039f\"], [0.2222222222222222, \"#7201a8\"], [0.3333333333333333, \"#9c179e\"], [0.4444444444444444, \"#bd3786\"], [0.5555555555555556, \"#d8576b\"], [0.6666666666666666, \"#ed7953\"], [0.7777777777777778, \"#fb9f3a\"], [0.8888888888888888, \"#fdca26\"], [1.0, \"#f0f921\"]], \"type\": \"histogram2d\"}], \"histogram2dcontour\": [{\"colorbar\": {\"outlinewidth\": 0, \"ticks\": \"\"}, \"colorscale\": [[0.0, \"#0d0887\"], [0.1111111111111111, \"#46039f\"], [0.2222222222222222, \"#7201a8\"], [0.3333333333333333, \"#9c179e\"], [0.4444444444444444, \"#bd3786\"], [0.5555555555555556, \"#d8576b\"], [0.6666666666666666, \"#ed7953\"], [0.7777777777777778, \"#fb9f3a\"], [0.8888888888888888, \"#fdca26\"], [1.0, \"#f0f921\"]], \"type\": \"histogram2dcontour\"}], \"mesh3d\": [{\"colorbar\": {\"outlinewidth\": 0, \"ticks\": \"\"}, \"type\": \"mesh3d\"}], \"parcoords\": [{\"line\": {\"colorbar\": {\"outlinewidth\": 0, \"ticks\": \"\"}}, \"type\": \"parcoords\"}], \"pie\": [{\"automargin\": true, \"type\": \"pie\"}], \"scatter\": [{\"marker\": {\"colorbar\": {\"outlinewidth\": 0, \"ticks\": \"\"}}, \"type\": \"scatter\"}], \"scatter3d\": [{\"line\": {\"colorbar\": {\"outlinewidth\": 0, \"ticks\": \"\"}}, \"marker\": {\"colorbar\": {\"outlinewidth\": 0, \"ticks\": \"\"}}, \"type\": \"scatter3d\"}], \"scattercarpet\": [{\"marker\": {\"colorbar\": {\"outlinewidth\": 0, \"ticks\": \"\"}}, \"type\": \"scattercarpet\"}], \"scattergeo\": [{\"marker\": {\"colorbar\": {\"outlinewidth\": 0, \"ticks\": \"\"}}, \"type\": \"scattergeo\"}], \"scattergl\": [{\"marker\": {\"colorbar\": {\"outlinewidth\": 0, \"ticks\": \"\"}}, \"type\": \"scattergl\"}], \"scattermapbox\": [{\"marker\": {\"colorbar\": {\"outlinewidth\": 0, \"ticks\": \"\"}}, \"type\": \"scattermapbox\"}], \"scatterpolar\": [{\"marker\": {\"colorbar\": {\"outlinewidth\": 0, \"ticks\": \"\"}}, \"type\": \"scatterpolar\"}], \"scatterpolargl\": [{\"marker\": {\"colorbar\": {\"outlinewidth\": 0, \"ticks\": \"\"}}, \"type\": \"scatterpolargl\"}], \"scatterternary\": [{\"marker\": {\"colorbar\": {\"outlinewidth\": 0, \"ticks\": \"\"}}, \"type\": \"scatterternary\"}], \"surface\": [{\"colorbar\": {\"outlinewidth\": 0, \"ticks\": \"\"}, \"colorscale\": [[0.0, \"#0d0887\"], [0.1111111111111111, \"#46039f\"], [0.2222222222222222, \"#7201a8\"], [0.3333333333333333, \"#9c179e\"], [0.4444444444444444, \"#bd3786\"], [0.5555555555555556, \"#d8576b\"], [0.6666666666666666, \"#ed7953\"], [0.7777777777777778, \"#fb9f3a\"], [0.8888888888888888, \"#fdca26\"], [1.0, \"#f0f921\"]], \"type\": \"surface\"}], \"table\": [{\"cells\": {\"fill\": {\"color\": \"#EBF0F8\"}, \"line\": {\"color\": \"white\"}}, \"header\": {\"fill\": {\"color\": \"#C8D4E3\"}, \"line\": {\"color\": \"white\"}}, \"type\": \"table\"}]}, \"layout\": {\"annotationdefaults\": {\"arrowcolor\": \"#2a3f5f\", \"arrowhead\": 0, \"arrowwidth\": 1}, \"coloraxis\": {\"colorbar\": {\"outlinewidth\": 0, \"ticks\": \"\"}}, \"colorscale\": {\"diverging\": [[0, \"#8e0152\"], [0.1, \"#c51b7d\"], [0.2, \"#de77ae\"], [0.3, \"#f1b6da\"], [0.4, \"#fde0ef\"], [0.5, \"#f7f7f7\"], [0.6, \"#e6f5d0\"], [0.7, \"#b8e186\"], [0.8, \"#7fbc41\"], [0.9, \"#4d9221\"], [1, \"#276419\"]], \"sequential\": [[0.0, \"#0d0887\"], [0.1111111111111111, \"#46039f\"], [0.2222222222222222, \"#7201a8\"], [0.3333333333333333, \"#9c179e\"], [0.4444444444444444, \"#bd3786\"], [0.5555555555555556, \"#d8576b\"], [0.6666666666666666, \"#ed7953\"], [0.7777777777777778, \"#fb9f3a\"], [0.8888888888888888, \"#fdca26\"], [1.0, \"#f0f921\"]], \"sequentialminus\": [[0.0, \"#0d0887\"], [0.1111111111111111, \"#46039f\"], [0.2222222222222222, \"#7201a8\"], [0.3333333333333333, \"#9c179e\"], [0.4444444444444444, \"#bd3786\"], [0.5555555555555556, \"#d8576b\"], [0.6666666666666666, \"#ed7953\"], [0.7777777777777778, \"#fb9f3a\"], [0.8888888888888888, \"#fdca26\"], [1.0, \"#f0f921\"]]}, \"colorway\": [\"#636efa\", \"#EF553B\", \"#00cc96\", \"#ab63fa\", \"#FFA15A\", \"#19d3f3\", \"#FF6692\", \"#B6E880\", \"#FF97FF\", \"#FECB52\"], \"font\": {\"color\": \"#2a3f5f\"}, \"geo\": {\"bgcolor\": \"white\", \"lakecolor\": \"white\", \"landcolor\": \"#E5ECF6\", \"showlakes\": true, \"showland\": true, \"subunitcolor\": \"white\"}, \"hoverlabel\": {\"align\": \"left\"}, \"hovermode\": \"closest\", \"mapbox\": {\"style\": \"light\"}, \"paper_bgcolor\": \"white\", \"plot_bgcolor\": \"#E5ECF6\", \"polar\": {\"angularaxis\": {\"gridcolor\": \"white\", \"linecolor\": \"white\", \"ticks\": \"\"}, \"bgcolor\": \"#E5ECF6\", \"radialaxis\": {\"gridcolor\": \"white\", \"linecolor\": \"white\", \"ticks\": \"\"}}, \"scene\": {\"xaxis\": {\"backgroundcolor\": \"#E5ECF6\", \"gridcolor\": \"white\", \"gridwidth\": 2, \"linecolor\": \"white\", \"showbackground\": true, \"ticks\": \"\", \"zerolinecolor\": \"white\"}, \"yaxis\": {\"backgroundcolor\": \"#E5ECF6\", \"gridcolor\": \"white\", \"gridwidth\": 2, \"linecolor\": \"white\", \"showbackground\": true, \"ticks\": \"\", \"zerolinecolor\": \"white\"}, \"zaxis\": {\"backgroundcolor\": \"#E5ECF6\", \"gridcolor\": \"white\", \"gridwidth\": 2, \"linecolor\": \"white\", \"showbackground\": true, \"ticks\": \"\", \"zerolinecolor\": \"white\"}}, \"shapedefaults\": {\"line\": {\"color\": \"#2a3f5f\"}}, \"ternary\": {\"aaxis\": {\"gridcolor\": \"white\", \"linecolor\": \"white\", \"ticks\": \"\"}, \"baxis\": {\"gridcolor\": \"white\", \"linecolor\": \"white\", \"ticks\": \"\"}, \"bgcolor\": \"#E5ECF6\", \"caxis\": {\"gridcolor\": \"white\", \"linecolor\": \"white\", \"ticks\": \"\"}}, \"title\": {\"x\": 0.05}, \"xaxis\": {\"automargin\": true, \"gridcolor\": \"white\", \"linecolor\": \"white\", \"ticks\": \"\", \"title\": {\"standoff\": 15}, \"zerolinecolor\": \"white\", \"zerolinewidth\": 2}, \"yaxis\": {\"automargin\": true, \"gridcolor\": \"white\", \"linecolor\": \"white\", \"ticks\": \"\", \"title\": {\"standoff\": 15}, \"zerolinecolor\": \"white\", \"zerolinewidth\": 2}}}, \"title\": {\"text\": \"Top N features vs CV\"}, \"xaxis\": {\"title\": {\"text\": \"Top N features\"}}, \"yaxis\": {\"title\": {\"text\": \"CV score\"}}},\n",
       "                        {\"responsive\": true}\n",
       "                    ).then(function(){\n",
       "                            \n",
       "var gd = document.getElementById('1b9602ab-d4b4-48f0-956e-81fbbf9a598d');\n",
       "var x = new MutationObserver(function (mutations, observer) {{\n",
       "        var display = window.getComputedStyle(gd).display;\n",
       "        if (!display || display === 'none') {{\n",
       "            console.log([gd, 'removed!']);\n",
       "            Plotly.purge(gd);\n",
       "            observer.disconnect();\n",
       "        }}\n",
       "}});\n",
       "\n",
       "// Listen for the removal of the full notebook cells\n",
       "var notebookContainer = gd.closest('#notebook-container');\n",
       "if (notebookContainer) {{\n",
       "    x.observe(notebookContainer, {childList: true});\n",
       "}}\n",
       "\n",
       "// Listen for the clearing of the current output cell\n",
       "var outputEl = gd.closest('.output');\n",
       "if (outputEl) {{\n",
       "    x.observe(outputEl, {childList: true});\n",
       "}}\n",
       "\n",
       "                        })\n",
       "                };\n",
       "                });\n",
       "            </script>\n",
       "        </div>"
      ]
     },
     "metadata": {},
     "output_type": "display_data"
    }
   ],
   "source": [
    "data = [go.Scatter(\n",
    "        x = list(range(1, eli5_weights.shape[0] + 1)),\n",
    "        y = scores_dict['simple'],\n",
    "        name = 'Simple CV scores'\n",
    "    ), go.Scatter(\n",
    "        x = list(range(1, eli5_weights.shape[0] + 1)),\n",
    "        y = scores_dict['with_mean'],\n",
    "        name = 'With mean CV scores'\n",
    "    ), go.Scatter(\n",
    "        x = list(range(1, eli5_weights.shape[0] + 1)),\n",
    "        y = scores_dict['with_std'],\n",
    "        name = 'With std CV scores'\n",
    "    )]\n",
    "layout = go.Layout(dict(title = \"Top N features vs CV\",\n",
    "                  xaxis = dict(title = 'Top N features'),\n",
    "                  yaxis = dict(title = 'CV score'),\n",
    "                  ))\n",
    "py.iplot(dict(data=data, layout=layout), filename='basic-line')"
   ]
  },
  {
   "cell_type": "code",
   "execution_count": 106,
   "metadata": {},
   "outputs": [
    {
     "data": {
      "application/vnd.plotly.v1+json": {
       "config": {
        "linkText": "Export to plot.ly",
        "plotlyServerURL": "https://plot.ly",
        "showLink": false
       },
       "data": [
        {
         "name": "Simple CV scores",
         "type": "scatter",
         "x": [
          1,
          2,
          3,
          4,
          5,
          6,
          7,
          8,
          9,
          10,
          11,
          12,
          13,
          14,
          15,
          16,
          17,
          18,
          19,
          20,
          21
         ],
         "y": [
          0.5,
          0.5759722222222222,
          0.5759722222222222,
          0.5759722222222222,
          0.5759722222222222,
          0.5266666666666666,
          0.5266666666666666,
          0.5301388888888889,
          0.5301388888888889,
          0.5443055555555556,
          0.5443055555555556,
          0.5443055555555556,
          0.5493055555555555,
          0.5493055555555555,
          0.5493055555555555,
          0.5316666666666665,
          0.5786111111111112,
          0.5786111111111112,
          0.5619444444444445,
          0.5869444444444444,
          0.5869444444444444
         ]
        },
        {
         "name": "With mean CV scores",
         "type": "scatter",
         "x": [
          1,
          2,
          3,
          4,
          5,
          6,
          7,
          8,
          9,
          10,
          11,
          12,
          13,
          14,
          15,
          16,
          17,
          18,
          19,
          20,
          21
         ],
         "y": [
          0.5,
          0.5759722222222222,
          0.5759722222222222,
          0.5759722222222222,
          0.5759722222222222,
          0.5266666666666666,
          0.5266666666666666,
          0.5301388888888889,
          0.5301388888888889,
          0.5443055555555556,
          0.5443055555555556,
          0.5443055555555556,
          0.5493055555555555,
          0.5493055555555555,
          0.5493055555555555,
          0.5316666666666665,
          0.5786111111111112,
          0.5786111111111112,
          0.5619444444444445,
          0.5869444444444444,
          0.5869444444444444
         ]
        },
        {
         "name": "With std CV scores",
         "type": "scatter",
         "x": [
          1,
          2,
          3,
          4,
          5,
          6,
          7,
          8,
          9,
          10,
          11,
          12,
          13,
          14,
          15,
          16,
          17,
          18,
          19,
          20,
          21
         ],
         "y": [
          0.5,
          0.5759722222222222,
          0.5759722222222222,
          0.5759722222222222,
          0.5759722222222222,
          0.5204166666666666,
          0.5204166666666666,
          0.5266666666666667,
          0.5266666666666667,
          0.5408333333333333,
          0.5408333333333333,
          0.5408333333333333,
          0.554861111111111,
          0.554861111111111,
          0.554861111111111,
          0.5397222222222221,
          0.5554166666666667,
          0.5554166666666667,
          0.5383333333333333,
          0.5797222222222221,
          0.5797222222222221
         ]
        }
       ],
       "layout": {
        "template": {
         "data": {
          "bar": [
           {
            "error_x": {
             "color": "#2a3f5f"
            },
            "error_y": {
             "color": "#2a3f5f"
            },
            "marker": {
             "line": {
              "color": "#E5ECF6",
              "width": 0.5
             }
            },
            "type": "bar"
           }
          ],
          "barpolar": [
           {
            "marker": {
             "line": {
              "color": "#E5ECF6",
              "width": 0.5
             }
            },
            "type": "barpolar"
           }
          ],
          "carpet": [
           {
            "aaxis": {
             "endlinecolor": "#2a3f5f",
             "gridcolor": "white",
             "linecolor": "white",
             "minorgridcolor": "white",
             "startlinecolor": "#2a3f5f"
            },
            "baxis": {
             "endlinecolor": "#2a3f5f",
             "gridcolor": "white",
             "linecolor": "white",
             "minorgridcolor": "white",
             "startlinecolor": "#2a3f5f"
            },
            "type": "carpet"
           }
          ],
          "choropleth": [
           {
            "colorbar": {
             "outlinewidth": 0,
             "ticks": ""
            },
            "type": "choropleth"
           }
          ],
          "contour": [
           {
            "colorbar": {
             "outlinewidth": 0,
             "ticks": ""
            },
            "colorscale": [
             [
              0,
              "#0d0887"
             ],
             [
              0.1111111111111111,
              "#46039f"
             ],
             [
              0.2222222222222222,
              "#7201a8"
             ],
             [
              0.3333333333333333,
              "#9c179e"
             ],
             [
              0.4444444444444444,
              "#bd3786"
             ],
             [
              0.5555555555555556,
              "#d8576b"
             ],
             [
              0.6666666666666666,
              "#ed7953"
             ],
             [
              0.7777777777777778,
              "#fb9f3a"
             ],
             [
              0.8888888888888888,
              "#fdca26"
             ],
             [
              1,
              "#f0f921"
             ]
            ],
            "type": "contour"
           }
          ],
          "contourcarpet": [
           {
            "colorbar": {
             "outlinewidth": 0,
             "ticks": ""
            },
            "type": "contourcarpet"
           }
          ],
          "heatmap": [
           {
            "colorbar": {
             "outlinewidth": 0,
             "ticks": ""
            },
            "colorscale": [
             [
              0,
              "#0d0887"
             ],
             [
              0.1111111111111111,
              "#46039f"
             ],
             [
              0.2222222222222222,
              "#7201a8"
             ],
             [
              0.3333333333333333,
              "#9c179e"
             ],
             [
              0.4444444444444444,
              "#bd3786"
             ],
             [
              0.5555555555555556,
              "#d8576b"
             ],
             [
              0.6666666666666666,
              "#ed7953"
             ],
             [
              0.7777777777777778,
              "#fb9f3a"
             ],
             [
              0.8888888888888888,
              "#fdca26"
             ],
             [
              1,
              "#f0f921"
             ]
            ],
            "type": "heatmap"
           }
          ],
          "heatmapgl": [
           {
            "colorbar": {
             "outlinewidth": 0,
             "ticks": ""
            },
            "colorscale": [
             [
              0,
              "#0d0887"
             ],
             [
              0.1111111111111111,
              "#46039f"
             ],
             [
              0.2222222222222222,
              "#7201a8"
             ],
             [
              0.3333333333333333,
              "#9c179e"
             ],
             [
              0.4444444444444444,
              "#bd3786"
             ],
             [
              0.5555555555555556,
              "#d8576b"
             ],
             [
              0.6666666666666666,
              "#ed7953"
             ],
             [
              0.7777777777777778,
              "#fb9f3a"
             ],
             [
              0.8888888888888888,
              "#fdca26"
             ],
             [
              1,
              "#f0f921"
             ]
            ],
            "type": "heatmapgl"
           }
          ],
          "histogram": [
           {
            "marker": {
             "colorbar": {
              "outlinewidth": 0,
              "ticks": ""
             }
            },
            "type": "histogram"
           }
          ],
          "histogram2d": [
           {
            "colorbar": {
             "outlinewidth": 0,
             "ticks": ""
            },
            "colorscale": [
             [
              0,
              "#0d0887"
             ],
             [
              0.1111111111111111,
              "#46039f"
             ],
             [
              0.2222222222222222,
              "#7201a8"
             ],
             [
              0.3333333333333333,
              "#9c179e"
             ],
             [
              0.4444444444444444,
              "#bd3786"
             ],
             [
              0.5555555555555556,
              "#d8576b"
             ],
             [
              0.6666666666666666,
              "#ed7953"
             ],
             [
              0.7777777777777778,
              "#fb9f3a"
             ],
             [
              0.8888888888888888,
              "#fdca26"
             ],
             [
              1,
              "#f0f921"
             ]
            ],
            "type": "histogram2d"
           }
          ],
          "histogram2dcontour": [
           {
            "colorbar": {
             "outlinewidth": 0,
             "ticks": ""
            },
            "colorscale": [
             [
              0,
              "#0d0887"
             ],
             [
              0.1111111111111111,
              "#46039f"
             ],
             [
              0.2222222222222222,
              "#7201a8"
             ],
             [
              0.3333333333333333,
              "#9c179e"
             ],
             [
              0.4444444444444444,
              "#bd3786"
             ],
             [
              0.5555555555555556,
              "#d8576b"
             ],
             [
              0.6666666666666666,
              "#ed7953"
             ],
             [
              0.7777777777777778,
              "#fb9f3a"
             ],
             [
              0.8888888888888888,
              "#fdca26"
             ],
             [
              1,
              "#f0f921"
             ]
            ],
            "type": "histogram2dcontour"
           }
          ],
          "mesh3d": [
           {
            "colorbar": {
             "outlinewidth": 0,
             "ticks": ""
            },
            "type": "mesh3d"
           }
          ],
          "parcoords": [
           {
            "line": {
             "colorbar": {
              "outlinewidth": 0,
              "ticks": ""
             }
            },
            "type": "parcoords"
           }
          ],
          "pie": [
           {
            "automargin": true,
            "type": "pie"
           }
          ],
          "scatter": [
           {
            "marker": {
             "colorbar": {
              "outlinewidth": 0,
              "ticks": ""
             }
            },
            "type": "scatter"
           }
          ],
          "scatter3d": [
           {
            "line": {
             "colorbar": {
              "outlinewidth": 0,
              "ticks": ""
             }
            },
            "marker": {
             "colorbar": {
              "outlinewidth": 0,
              "ticks": ""
             }
            },
            "type": "scatter3d"
           }
          ],
          "scattercarpet": [
           {
            "marker": {
             "colorbar": {
              "outlinewidth": 0,
              "ticks": ""
             }
            },
            "type": "scattercarpet"
           }
          ],
          "scattergeo": [
           {
            "marker": {
             "colorbar": {
              "outlinewidth": 0,
              "ticks": ""
             }
            },
            "type": "scattergeo"
           }
          ],
          "scattergl": [
           {
            "marker": {
             "colorbar": {
              "outlinewidth": 0,
              "ticks": ""
             }
            },
            "type": "scattergl"
           }
          ],
          "scattermapbox": [
           {
            "marker": {
             "colorbar": {
              "outlinewidth": 0,
              "ticks": ""
             }
            },
            "type": "scattermapbox"
           }
          ],
          "scatterpolar": [
           {
            "marker": {
             "colorbar": {
              "outlinewidth": 0,
              "ticks": ""
             }
            },
            "type": "scatterpolar"
           }
          ],
          "scatterpolargl": [
           {
            "marker": {
             "colorbar": {
              "outlinewidth": 0,
              "ticks": ""
             }
            },
            "type": "scatterpolargl"
           }
          ],
          "scatterternary": [
           {
            "marker": {
             "colorbar": {
              "outlinewidth": 0,
              "ticks": ""
             }
            },
            "type": "scatterternary"
           }
          ],
          "surface": [
           {
            "colorbar": {
             "outlinewidth": 0,
             "ticks": ""
            },
            "colorscale": [
             [
              0,
              "#0d0887"
             ],
             [
              0.1111111111111111,
              "#46039f"
             ],
             [
              0.2222222222222222,
              "#7201a8"
             ],
             [
              0.3333333333333333,
              "#9c179e"
             ],
             [
              0.4444444444444444,
              "#bd3786"
             ],
             [
              0.5555555555555556,
              "#d8576b"
             ],
             [
              0.6666666666666666,
              "#ed7953"
             ],
             [
              0.7777777777777778,
              "#fb9f3a"
             ],
             [
              0.8888888888888888,
              "#fdca26"
             ],
             [
              1,
              "#f0f921"
             ]
            ],
            "type": "surface"
           }
          ],
          "table": [
           {
            "cells": {
             "fill": {
              "color": "#EBF0F8"
             },
             "line": {
              "color": "white"
             }
            },
            "header": {
             "fill": {
              "color": "#C8D4E3"
             },
             "line": {
              "color": "white"
             }
            },
            "type": "table"
           }
          ]
         },
         "layout": {
          "annotationdefaults": {
           "arrowcolor": "#2a3f5f",
           "arrowhead": 0,
           "arrowwidth": 1
          },
          "coloraxis": {
           "colorbar": {
            "outlinewidth": 0,
            "ticks": ""
           }
          },
          "colorscale": {
           "diverging": [
            [
             0,
             "#8e0152"
            ],
            [
             0.1,
             "#c51b7d"
            ],
            [
             0.2,
             "#de77ae"
            ],
            [
             0.3,
             "#f1b6da"
            ],
            [
             0.4,
             "#fde0ef"
            ],
            [
             0.5,
             "#f7f7f7"
            ],
            [
             0.6,
             "#e6f5d0"
            ],
            [
             0.7,
             "#b8e186"
            ],
            [
             0.8,
             "#7fbc41"
            ],
            [
             0.9,
             "#4d9221"
            ],
            [
             1,
             "#276419"
            ]
           ],
           "sequential": [
            [
             0,
             "#0d0887"
            ],
            [
             0.1111111111111111,
             "#46039f"
            ],
            [
             0.2222222222222222,
             "#7201a8"
            ],
            [
             0.3333333333333333,
             "#9c179e"
            ],
            [
             0.4444444444444444,
             "#bd3786"
            ],
            [
             0.5555555555555556,
             "#d8576b"
            ],
            [
             0.6666666666666666,
             "#ed7953"
            ],
            [
             0.7777777777777778,
             "#fb9f3a"
            ],
            [
             0.8888888888888888,
             "#fdca26"
            ],
            [
             1,
             "#f0f921"
            ]
           ],
           "sequentialminus": [
            [
             0,
             "#0d0887"
            ],
            [
             0.1111111111111111,
             "#46039f"
            ],
            [
             0.2222222222222222,
             "#7201a8"
            ],
            [
             0.3333333333333333,
             "#9c179e"
            ],
            [
             0.4444444444444444,
             "#bd3786"
            ],
            [
             0.5555555555555556,
             "#d8576b"
            ],
            [
             0.6666666666666666,
             "#ed7953"
            ],
            [
             0.7777777777777778,
             "#fb9f3a"
            ],
            [
             0.8888888888888888,
             "#fdca26"
            ],
            [
             1,
             "#f0f921"
            ]
           ]
          },
          "colorway": [
           "#636efa",
           "#EF553B",
           "#00cc96",
           "#ab63fa",
           "#FFA15A",
           "#19d3f3",
           "#FF6692",
           "#B6E880",
           "#FF97FF",
           "#FECB52"
          ],
          "font": {
           "color": "#2a3f5f"
          },
          "geo": {
           "bgcolor": "white",
           "lakecolor": "white",
           "landcolor": "#E5ECF6",
           "showlakes": true,
           "showland": true,
           "subunitcolor": "white"
          },
          "hoverlabel": {
           "align": "left"
          },
          "hovermode": "closest",
          "mapbox": {
           "style": "light"
          },
          "paper_bgcolor": "white",
          "plot_bgcolor": "#E5ECF6",
          "polar": {
           "angularaxis": {
            "gridcolor": "white",
            "linecolor": "white",
            "ticks": ""
           },
           "bgcolor": "#E5ECF6",
           "radialaxis": {
            "gridcolor": "white",
            "linecolor": "white",
            "ticks": ""
           }
          },
          "scene": {
           "xaxis": {
            "backgroundcolor": "#E5ECF6",
            "gridcolor": "white",
            "gridwidth": 2,
            "linecolor": "white",
            "showbackground": true,
            "ticks": "",
            "zerolinecolor": "white"
           },
           "yaxis": {
            "backgroundcolor": "#E5ECF6",
            "gridcolor": "white",
            "gridwidth": 2,
            "linecolor": "white",
            "showbackground": true,
            "ticks": "",
            "zerolinecolor": "white"
           },
           "zaxis": {
            "backgroundcolor": "#E5ECF6",
            "gridcolor": "white",
            "gridwidth": 2,
            "linecolor": "white",
            "showbackground": true,
            "ticks": "",
            "zerolinecolor": "white"
           }
          },
          "shapedefaults": {
           "line": {
            "color": "#2a3f5f"
           }
          },
          "ternary": {
           "aaxis": {
            "gridcolor": "white",
            "linecolor": "white",
            "ticks": ""
           },
           "baxis": {
            "gridcolor": "white",
            "linecolor": "white",
            "ticks": ""
           },
           "bgcolor": "#E5ECF6",
           "caxis": {
            "gridcolor": "white",
            "linecolor": "white",
            "ticks": ""
           }
          },
          "title": {
           "x": 0.05
          },
          "xaxis": {
           "automargin": true,
           "gridcolor": "white",
           "linecolor": "white",
           "ticks": "",
           "title": {
            "standoff": 15
           },
           "zerolinecolor": "white",
           "zerolinewidth": 2
          },
          "yaxis": {
           "automargin": true,
           "gridcolor": "white",
           "linecolor": "white",
           "ticks": "",
           "title": {
            "standoff": 15
           },
           "zerolinecolor": "white",
           "zerolinewidth": 2
          }
         }
        },
        "title": {
         "text": "Top N features vs repeated folds CV"
        },
        "xaxis": {
         "title": {
          "text": "Top N features"
         }
        },
        "yaxis": {
         "title": {
          "text": "CV score"
         }
        }
       }
      },
      "text/html": [
       "<div>\n",
       "        \n",
       "        \n",
       "            <div id=\"b0c3f204-db31-454f-8951-20f14dee8b2d\" class=\"plotly-graph-div\" style=\"height:525px; width:100%;\"></div>\n",
       "            <script type=\"text/javascript\">\n",
       "                require([\"plotly\"], function(Plotly) {\n",
       "                    window.PLOTLYENV=window.PLOTLYENV || {};\n",
       "                    \n",
       "                if (document.getElementById(\"b0c3f204-db31-454f-8951-20f14dee8b2d\")) {\n",
       "                    Plotly.newPlot(\n",
       "                        'b0c3f204-db31-454f-8951-20f14dee8b2d',\n",
       "                        [{\"name\": \"Simple CV scores\", \"type\": \"scatter\", \"x\": [1, 2, 3, 4, 5, 6, 7, 8, 9, 10, 11, 12, 13, 14, 15, 16, 17, 18, 19, 20, 21], \"y\": [0.5, 0.5759722222222222, 0.5759722222222222, 0.5759722222222222, 0.5759722222222222, 0.5266666666666666, 0.5266666666666666, 0.5301388888888889, 0.5301388888888889, 0.5443055555555556, 0.5443055555555556, 0.5443055555555556, 0.5493055555555555, 0.5493055555555555, 0.5493055555555555, 0.5316666666666665, 0.5786111111111112, 0.5786111111111112, 0.5619444444444445, 0.5869444444444444, 0.5869444444444444]}, {\"name\": \"With mean CV scores\", \"type\": \"scatter\", \"x\": [1, 2, 3, 4, 5, 6, 7, 8, 9, 10, 11, 12, 13, 14, 15, 16, 17, 18, 19, 20, 21], \"y\": [0.5, 0.5759722222222222, 0.5759722222222222, 0.5759722222222222, 0.5759722222222222, 0.5266666666666666, 0.5266666666666666, 0.5301388888888889, 0.5301388888888889, 0.5443055555555556, 0.5443055555555556, 0.5443055555555556, 0.5493055555555555, 0.5493055555555555, 0.5493055555555555, 0.5316666666666665, 0.5786111111111112, 0.5786111111111112, 0.5619444444444445, 0.5869444444444444, 0.5869444444444444]}, {\"name\": \"With std CV scores\", \"type\": \"scatter\", \"x\": [1, 2, 3, 4, 5, 6, 7, 8, 9, 10, 11, 12, 13, 14, 15, 16, 17, 18, 19, 20, 21], \"y\": [0.5, 0.5759722222222222, 0.5759722222222222, 0.5759722222222222, 0.5759722222222222, 0.5204166666666666, 0.5204166666666666, 0.5266666666666667, 0.5266666666666667, 0.5408333333333333, 0.5408333333333333, 0.5408333333333333, 0.554861111111111, 0.554861111111111, 0.554861111111111, 0.5397222222222221, 0.5554166666666667, 0.5554166666666667, 0.5383333333333333, 0.5797222222222221, 0.5797222222222221]}],\n",
       "                        {\"template\": {\"data\": {\"bar\": [{\"error_x\": {\"color\": \"#2a3f5f\"}, \"error_y\": {\"color\": \"#2a3f5f\"}, \"marker\": {\"line\": {\"color\": \"#E5ECF6\", \"width\": 0.5}}, \"type\": \"bar\"}], \"barpolar\": [{\"marker\": {\"line\": {\"color\": \"#E5ECF6\", \"width\": 0.5}}, \"type\": \"barpolar\"}], \"carpet\": [{\"aaxis\": {\"endlinecolor\": \"#2a3f5f\", \"gridcolor\": \"white\", \"linecolor\": \"white\", \"minorgridcolor\": \"white\", \"startlinecolor\": \"#2a3f5f\"}, \"baxis\": {\"endlinecolor\": \"#2a3f5f\", \"gridcolor\": \"white\", \"linecolor\": \"white\", \"minorgridcolor\": \"white\", \"startlinecolor\": \"#2a3f5f\"}, \"type\": \"carpet\"}], \"choropleth\": [{\"colorbar\": {\"outlinewidth\": 0, \"ticks\": \"\"}, \"type\": \"choropleth\"}], \"contour\": [{\"colorbar\": {\"outlinewidth\": 0, \"ticks\": \"\"}, \"colorscale\": [[0.0, \"#0d0887\"], [0.1111111111111111, \"#46039f\"], [0.2222222222222222, \"#7201a8\"], [0.3333333333333333, \"#9c179e\"], [0.4444444444444444, \"#bd3786\"], [0.5555555555555556, \"#d8576b\"], [0.6666666666666666, \"#ed7953\"], [0.7777777777777778, \"#fb9f3a\"], [0.8888888888888888, \"#fdca26\"], [1.0, \"#f0f921\"]], \"type\": \"contour\"}], \"contourcarpet\": [{\"colorbar\": {\"outlinewidth\": 0, \"ticks\": \"\"}, \"type\": \"contourcarpet\"}], \"heatmap\": [{\"colorbar\": {\"outlinewidth\": 0, \"ticks\": \"\"}, \"colorscale\": [[0.0, \"#0d0887\"], [0.1111111111111111, \"#46039f\"], [0.2222222222222222, \"#7201a8\"], [0.3333333333333333, \"#9c179e\"], [0.4444444444444444, \"#bd3786\"], [0.5555555555555556, \"#d8576b\"], [0.6666666666666666, \"#ed7953\"], [0.7777777777777778, \"#fb9f3a\"], [0.8888888888888888, \"#fdca26\"], [1.0, \"#f0f921\"]], \"type\": \"heatmap\"}], \"heatmapgl\": [{\"colorbar\": {\"outlinewidth\": 0, \"ticks\": \"\"}, \"colorscale\": [[0.0, \"#0d0887\"], [0.1111111111111111, \"#46039f\"], [0.2222222222222222, \"#7201a8\"], [0.3333333333333333, \"#9c179e\"], [0.4444444444444444, \"#bd3786\"], [0.5555555555555556, \"#d8576b\"], [0.6666666666666666, \"#ed7953\"], [0.7777777777777778, \"#fb9f3a\"], [0.8888888888888888, \"#fdca26\"], [1.0, \"#f0f921\"]], \"type\": \"heatmapgl\"}], \"histogram\": [{\"marker\": {\"colorbar\": {\"outlinewidth\": 0, \"ticks\": \"\"}}, \"type\": \"histogram\"}], \"histogram2d\": [{\"colorbar\": {\"outlinewidth\": 0, \"ticks\": \"\"}, \"colorscale\": [[0.0, \"#0d0887\"], [0.1111111111111111, \"#46039f\"], [0.2222222222222222, \"#7201a8\"], [0.3333333333333333, \"#9c179e\"], [0.4444444444444444, \"#bd3786\"], [0.5555555555555556, \"#d8576b\"], [0.6666666666666666, \"#ed7953\"], [0.7777777777777778, \"#fb9f3a\"], [0.8888888888888888, \"#fdca26\"], [1.0, \"#f0f921\"]], \"type\": \"histogram2d\"}], \"histogram2dcontour\": [{\"colorbar\": {\"outlinewidth\": 0, \"ticks\": \"\"}, \"colorscale\": [[0.0, \"#0d0887\"], [0.1111111111111111, \"#46039f\"], [0.2222222222222222, \"#7201a8\"], [0.3333333333333333, \"#9c179e\"], [0.4444444444444444, \"#bd3786\"], [0.5555555555555556, \"#d8576b\"], [0.6666666666666666, \"#ed7953\"], [0.7777777777777778, \"#fb9f3a\"], [0.8888888888888888, \"#fdca26\"], [1.0, \"#f0f921\"]], \"type\": \"histogram2dcontour\"}], \"mesh3d\": [{\"colorbar\": {\"outlinewidth\": 0, \"ticks\": \"\"}, \"type\": \"mesh3d\"}], \"parcoords\": [{\"line\": {\"colorbar\": {\"outlinewidth\": 0, \"ticks\": \"\"}}, \"type\": \"parcoords\"}], \"pie\": [{\"automargin\": true, \"type\": \"pie\"}], \"scatter\": [{\"marker\": {\"colorbar\": {\"outlinewidth\": 0, \"ticks\": \"\"}}, \"type\": \"scatter\"}], \"scatter3d\": [{\"line\": {\"colorbar\": {\"outlinewidth\": 0, \"ticks\": \"\"}}, \"marker\": {\"colorbar\": {\"outlinewidth\": 0, \"ticks\": \"\"}}, \"type\": \"scatter3d\"}], \"scattercarpet\": [{\"marker\": {\"colorbar\": {\"outlinewidth\": 0, \"ticks\": \"\"}}, \"type\": \"scattercarpet\"}], \"scattergeo\": [{\"marker\": {\"colorbar\": {\"outlinewidth\": 0, \"ticks\": \"\"}}, \"type\": \"scattergeo\"}], \"scattergl\": [{\"marker\": {\"colorbar\": {\"outlinewidth\": 0, \"ticks\": \"\"}}, \"type\": \"scattergl\"}], \"scattermapbox\": [{\"marker\": {\"colorbar\": {\"outlinewidth\": 0, \"ticks\": \"\"}}, \"type\": \"scattermapbox\"}], \"scatterpolar\": [{\"marker\": {\"colorbar\": {\"outlinewidth\": 0, \"ticks\": \"\"}}, \"type\": \"scatterpolar\"}], \"scatterpolargl\": [{\"marker\": {\"colorbar\": {\"outlinewidth\": 0, \"ticks\": \"\"}}, \"type\": \"scatterpolargl\"}], \"scatterternary\": [{\"marker\": {\"colorbar\": {\"outlinewidth\": 0, \"ticks\": \"\"}}, \"type\": \"scatterternary\"}], \"surface\": [{\"colorbar\": {\"outlinewidth\": 0, \"ticks\": \"\"}, \"colorscale\": [[0.0, \"#0d0887\"], [0.1111111111111111, \"#46039f\"], [0.2222222222222222, \"#7201a8\"], [0.3333333333333333, \"#9c179e\"], [0.4444444444444444, \"#bd3786\"], [0.5555555555555556, \"#d8576b\"], [0.6666666666666666, \"#ed7953\"], [0.7777777777777778, \"#fb9f3a\"], [0.8888888888888888, \"#fdca26\"], [1.0, \"#f0f921\"]], \"type\": \"surface\"}], \"table\": [{\"cells\": {\"fill\": {\"color\": \"#EBF0F8\"}, \"line\": {\"color\": \"white\"}}, \"header\": {\"fill\": {\"color\": \"#C8D4E3\"}, \"line\": {\"color\": \"white\"}}, \"type\": \"table\"}]}, \"layout\": {\"annotationdefaults\": {\"arrowcolor\": \"#2a3f5f\", \"arrowhead\": 0, \"arrowwidth\": 1}, \"coloraxis\": {\"colorbar\": {\"outlinewidth\": 0, \"ticks\": \"\"}}, \"colorscale\": {\"diverging\": [[0, \"#8e0152\"], [0.1, \"#c51b7d\"], [0.2, \"#de77ae\"], [0.3, \"#f1b6da\"], [0.4, \"#fde0ef\"], [0.5, \"#f7f7f7\"], [0.6, \"#e6f5d0\"], [0.7, \"#b8e186\"], [0.8, \"#7fbc41\"], [0.9, \"#4d9221\"], [1, \"#276419\"]], \"sequential\": [[0.0, \"#0d0887\"], [0.1111111111111111, \"#46039f\"], [0.2222222222222222, \"#7201a8\"], [0.3333333333333333, \"#9c179e\"], [0.4444444444444444, \"#bd3786\"], [0.5555555555555556, \"#d8576b\"], [0.6666666666666666, \"#ed7953\"], [0.7777777777777778, \"#fb9f3a\"], [0.8888888888888888, \"#fdca26\"], [1.0, \"#f0f921\"]], \"sequentialminus\": [[0.0, \"#0d0887\"], [0.1111111111111111, \"#46039f\"], [0.2222222222222222, \"#7201a8\"], [0.3333333333333333, \"#9c179e\"], [0.4444444444444444, \"#bd3786\"], [0.5555555555555556, \"#d8576b\"], [0.6666666666666666, \"#ed7953\"], [0.7777777777777778, \"#fb9f3a\"], [0.8888888888888888, \"#fdca26\"], [1.0, \"#f0f921\"]]}, \"colorway\": [\"#636efa\", \"#EF553B\", \"#00cc96\", \"#ab63fa\", \"#FFA15A\", \"#19d3f3\", \"#FF6692\", \"#B6E880\", \"#FF97FF\", \"#FECB52\"], \"font\": {\"color\": \"#2a3f5f\"}, \"geo\": {\"bgcolor\": \"white\", \"lakecolor\": \"white\", \"landcolor\": \"#E5ECF6\", \"showlakes\": true, \"showland\": true, \"subunitcolor\": \"white\"}, \"hoverlabel\": {\"align\": \"left\"}, \"hovermode\": \"closest\", \"mapbox\": {\"style\": \"light\"}, \"paper_bgcolor\": \"white\", \"plot_bgcolor\": \"#E5ECF6\", \"polar\": {\"angularaxis\": {\"gridcolor\": \"white\", \"linecolor\": \"white\", \"ticks\": \"\"}, \"bgcolor\": \"#E5ECF6\", \"radialaxis\": {\"gridcolor\": \"white\", \"linecolor\": \"white\", \"ticks\": \"\"}}, \"scene\": {\"xaxis\": {\"backgroundcolor\": \"#E5ECF6\", \"gridcolor\": \"white\", \"gridwidth\": 2, \"linecolor\": \"white\", \"showbackground\": true, \"ticks\": \"\", \"zerolinecolor\": \"white\"}, \"yaxis\": {\"backgroundcolor\": \"#E5ECF6\", \"gridcolor\": \"white\", \"gridwidth\": 2, \"linecolor\": \"white\", \"showbackground\": true, \"ticks\": \"\", \"zerolinecolor\": \"white\"}, \"zaxis\": {\"backgroundcolor\": \"#E5ECF6\", \"gridcolor\": \"white\", \"gridwidth\": 2, \"linecolor\": \"white\", \"showbackground\": true, \"ticks\": \"\", \"zerolinecolor\": \"white\"}}, \"shapedefaults\": {\"line\": {\"color\": \"#2a3f5f\"}}, \"ternary\": {\"aaxis\": {\"gridcolor\": \"white\", \"linecolor\": \"white\", \"ticks\": \"\"}, \"baxis\": {\"gridcolor\": \"white\", \"linecolor\": \"white\", \"ticks\": \"\"}, \"bgcolor\": \"#E5ECF6\", \"caxis\": {\"gridcolor\": \"white\", \"linecolor\": \"white\", \"ticks\": \"\"}}, \"title\": {\"x\": 0.05}, \"xaxis\": {\"automargin\": true, \"gridcolor\": \"white\", \"linecolor\": \"white\", \"ticks\": \"\", \"title\": {\"standoff\": 15}, \"zerolinecolor\": \"white\", \"zerolinewidth\": 2}, \"yaxis\": {\"automargin\": true, \"gridcolor\": \"white\", \"linecolor\": \"white\", \"ticks\": \"\", \"title\": {\"standoff\": 15}, \"zerolinecolor\": \"white\", \"zerolinewidth\": 2}}}, \"title\": {\"text\": \"Top N features vs repeated folds CV\"}, \"xaxis\": {\"title\": {\"text\": \"Top N features\"}}, \"yaxis\": {\"title\": {\"text\": \"CV score\"}}},\n",
       "                        {\"responsive\": true}\n",
       "                    ).then(function(){\n",
       "                            \n",
       "var gd = document.getElementById('b0c3f204-db31-454f-8951-20f14dee8b2d');\n",
       "var x = new MutationObserver(function (mutations, observer) {{\n",
       "        var display = window.getComputedStyle(gd).display;\n",
       "        if (!display || display === 'none') {{\n",
       "            console.log([gd, 'removed!']);\n",
       "            Plotly.purge(gd);\n",
       "            observer.disconnect();\n",
       "        }}\n",
       "}});\n",
       "\n",
       "// Listen for the removal of the full notebook cells\n",
       "var notebookContainer = gd.closest('#notebook-container');\n",
       "if (notebookContainer) {{\n",
       "    x.observe(notebookContainer, {childList: true});\n",
       "}}\n",
       "\n",
       "// Listen for the clearing of the current output cell\n",
       "var outputEl = gd.closest('.output');\n",
       "if (outputEl) {{\n",
       "    x.observe(outputEl, {childList: true});\n",
       "}}\n",
       "\n",
       "                        })\n",
       "                };\n",
       "                });\n",
       "            </script>\n",
       "        </div>"
      ]
     },
     "metadata": {},
     "output_type": "display_data"
    }
   ],
   "source": [
    "data = [go.Scatter(\n",
    "        x = list(range(1, eli5_weights.shape[0] + 1)),\n",
    "        y = scores_dict['simple'],\n",
    "        name = 'Simple CV scores'\n",
    "    ), go.Scatter(\n",
    "        x = list(range(1, eli5_weights.shape[0] + 1)),\n",
    "        y = scores_dict['with_mean'],\n",
    "        name = 'With mean CV scores'\n",
    "    ), go.Scatter(\n",
    "        x = list(range(1, eli5_weights.shape[0] + 1)),\n",
    "        y = scores_dict['with_std'],\n",
    "        name = 'With std CV scores'\n",
    "    )]\n",
    "layout = go.Layout(dict(title = \"Top N features vs repeated folds CV\",\n",
    "                  xaxis = dict(title = 'Top N features'),\n",
    "                  yaxis = dict(title = 'CV score'),\n",
    "                  ))\n",
    "py.iplot(dict(data=data, layout=layout), filename='basic-line')"
   ]
  },
  {
   "cell_type": "code",
   "execution_count": 108,
   "metadata": {},
   "outputs": [
    {
     "name": "stdout",
     "output_type": "stream",
     "text": [
      "CV mean score: 0.5252, std: 0.1537.\n"
     ]
    },
    {
     "data": {
      "text/html": [
       "<div>\n",
       "<style scoped>\n",
       "    .dataframe tbody tr th:only-of-type {\n",
       "        vertical-align: middle;\n",
       "    }\n",
       "\n",
       "    .dataframe tbody tr th {\n",
       "        vertical-align: top;\n",
       "    }\n",
       "\n",
       "    .dataframe thead th {\n",
       "        text-align: right;\n",
       "    }\n",
       "</style>\n",
       "<table border=\"1\" class=\"dataframe\">\n",
       "  <thead>\n",
       "    <tr style=\"text-align: right;\">\n",
       "      <th></th>\n",
       "      <th>id</th>\n",
       "      <th>target</th>\n",
       "    </tr>\n",
       "  </thead>\n",
       "  <tbody>\n",
       "    <tr>\n",
       "      <th>0</th>\n",
       "      <td>250</td>\n",
       "      <td>9.159932</td>\n",
       "    </tr>\n",
       "    <tr>\n",
       "      <th>1</th>\n",
       "      <td>251</td>\n",
       "      <td>10.116762</td>\n",
       "    </tr>\n",
       "    <tr>\n",
       "      <th>2</th>\n",
       "      <td>252</td>\n",
       "      <td>9.466172</td>\n",
       "    </tr>\n",
       "    <tr>\n",
       "      <th>3</th>\n",
       "      <td>253</td>\n",
       "      <td>9.982606</td>\n",
       "    </tr>\n",
       "    <tr>\n",
       "      <th>4</th>\n",
       "      <td>254</td>\n",
       "      <td>10.305380</td>\n",
       "    </tr>\n",
       "  </tbody>\n",
       "</table>\n",
       "</div>"
      ],
      "text/plain": [
       "    id     target\n",
       "0  250   9.159932\n",
       "1  251  10.116762\n",
       "2  252   9.466172\n",
       "3  253   9.982606\n",
       "4  254  10.305380"
      ]
     },
     "execution_count": 108,
     "metadata": {},
     "output_type": "execute_result"
    }
   ],
   "source": [
    "top_features = [i[1:] for i in eli5_weights.feature if 'BIAS' not in i][:8]\n",
    "\n",
    "X_train = train[top_features + ['mean']]\n",
    "X_test = test[top_features + ['mean']]\n",
    "scaler = StandardScaler()\n",
    "X_train[X_train.columns[:-1]] = scaler.fit_transform(X_train[X_train.columns[:-1]])\n",
    "X_test[X_train.columns[:-1]] = scaler.transform(X_test[X_train.columns[:-1]])\n",
    "oof_lr, prediction_lr, scores = train_model(X_train.values, X_test.values, y_train, params=None, model_type='sklearn', model=model, folds=repeated_folds)\n",
    "\n",
    "submission = pd.read_csv('sample_submission.csv')\n",
    "submission['target'] = prediction_lr\n",
    "submission.to_csv('submission_top8.csv', index=False)\n",
    "\n",
    "submission.head()"
   ]
  },
  {
   "cell_type": "code",
   "execution_count": 110,
   "metadata": {},
   "outputs": [
    {
     "name": "stdout",
     "output_type": "stream",
     "text": [
      "CV mean score: 0.4979, std: 0.1563.\n"
     ]
    },
    {
     "data": {
      "text/html": [
       "<div>\n",
       "<style scoped>\n",
       "    .dataframe tbody tr th:only-of-type {\n",
       "        vertical-align: middle;\n",
       "    }\n",
       "\n",
       "    .dataframe tbody tr th {\n",
       "        vertical-align: top;\n",
       "    }\n",
       "\n",
       "    .dataframe thead th {\n",
       "        text-align: right;\n",
       "    }\n",
       "</style>\n",
       "<table border=\"1\" class=\"dataframe\">\n",
       "  <thead>\n",
       "    <tr style=\"text-align: right;\">\n",
       "      <th></th>\n",
       "      <th>id</th>\n",
       "      <th>target</th>\n",
       "    </tr>\n",
       "  </thead>\n",
       "  <tbody>\n",
       "    <tr>\n",
       "      <th>0</th>\n",
       "      <td>250</td>\n",
       "      <td>9.140604</td>\n",
       "    </tr>\n",
       "    <tr>\n",
       "      <th>1</th>\n",
       "      <td>251</td>\n",
       "      <td>10.490532</td>\n",
       "    </tr>\n",
       "    <tr>\n",
       "      <th>2</th>\n",
       "      <td>252</td>\n",
       "      <td>9.554579</td>\n",
       "    </tr>\n",
       "    <tr>\n",
       "      <th>3</th>\n",
       "      <td>253</td>\n",
       "      <td>9.820028</td>\n",
       "    </tr>\n",
       "    <tr>\n",
       "      <th>4</th>\n",
       "      <td>254</td>\n",
       "      <td>10.410640</td>\n",
       "    </tr>\n",
       "  </tbody>\n",
       "</table>\n",
       "</div>"
      ],
      "text/plain": [
       "    id     target\n",
       "0  250   9.140604\n",
       "1  251  10.490532\n",
       "2  252   9.554579\n",
       "3  253   9.820028\n",
       "4  254  10.410640"
      ]
     },
     "execution_count": 110,
     "metadata": {},
     "output_type": "execute_result"
    }
   ],
   "source": [
    "top_features = [i[1:] for i in eli5_weights.feature if 'BIAS' not in i][:10]\n",
    "\n",
    "X_train = train[top_features + ['mean']]\n",
    "X_test = test[top_features + ['mean']]\n",
    "scaler = StandardScaler()\n",
    "X_train[X_train.columns[:-1]] = scaler.fit_transform(X_train[X_train.columns[:-1]])\n",
    "X_test[X_train.columns[:-1]] = scaler.transform(X_test[X_train.columns[:-1]])\n",
    "oof_lr, prediction_lr, scores = train_model(X_train.values, X_test.values, y_train, params=None, model_type='sklearn', model=model, folds=repeated_folds)\n",
    "\n",
    "submission = pd.read_csv('sample_submission.csv')\n",
    "submission['target'] = prediction_lr\n",
    "submission.to_csv('submission_top10.csv', index=False)\n",
    "\n",
    "submission.head()"
   ]
  },
  {
   "cell_type": "code",
   "execution_count": null,
   "metadata": {},
   "outputs": [],
   "source": []
  }
 ],
 "metadata": {
  "kernelspec": {
   "display_name": "Python 3",
   "language": "python",
   "name": "python3"
  },
  "language_info": {
   "codemirror_mode": {
    "name": "ipython",
    "version": 3
   },
   "file_extension": ".py",
   "mimetype": "text/x-python",
   "name": "python",
   "nbconvert_exporter": "python",
   "pygments_lexer": "ipython3",
   "version": "3.7.6"
  }
 },
 "nbformat": 4,
 "nbformat_minor": 4
}
