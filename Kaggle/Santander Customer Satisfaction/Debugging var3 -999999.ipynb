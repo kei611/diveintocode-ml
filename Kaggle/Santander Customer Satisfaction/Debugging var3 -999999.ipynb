{
 "cells": [
  {
   "cell_type": "markdown",
   "metadata": {},
   "source": [
    "# -999999を最頻値の2で置き換えることの妥当性を検証"
   ]
  },
  {
   "cell_type": "code",
   "execution_count": 14,
   "metadata": {},
   "outputs": [
    {
     "name": "stdout",
     "output_type": "stream",
     "text": [
      "(76020, 370)\n",
      "(75818, 369)\n"
     ]
    },
    {
     "name": "stderr",
     "output_type": "stream",
     "text": [
      "C:\\Users\\Kei\\anaconda3\\envs\\py_env\\lib\\site-packages\\sklearn\\feature_selection\\_univariate_selection.py:114: UserWarning: Features [ 21  22  56  57  58  59  80  84  85 131 132 133 134 155 161 162 179 180\n",
      " 189 192 220 222 234 238 244 248 261 262 303 307 315 319 327 349] are constant.\n",
      "  UserWarning)\n",
      "C:\\Users\\Kei\\anaconda3\\envs\\py_env\\lib\\site-packages\\sklearn\\feature_selection\\_univariate_selection.py:115: RuntimeWarning: invalid value encountered in true_divide\n",
      "  f = msb / msw\n"
     ]
    },
    {
     "name": "stdout",
     "output_type": "stream",
     "text": [
      "Index(['var3', 'var15', 'imp_op_var39_comer_ult1', 'imp_op_var39_comer_ult3',\n",
      "       'imp_op_var40_comer_ult1', 'imp_op_var40_efect_ult1',\n",
      "       'imp_op_var40_efect_ult3', 'imp_op_var40_ult1',\n",
      "       'imp_op_var41_comer_ult1', 'imp_op_var41_comer_ult3',\n",
      "       ...\n",
      "       'saldo_medio_var13_largo_ult3', 'saldo_medio_var33_hace2',\n",
      "       'saldo_medio_var33_hace3', 'saldo_medio_var33_ult1',\n",
      "       'saldo_medio_var33_ult3', 'saldo_medio_var44_hace2',\n",
      "       'saldo_medio_var44_hace3', 'saldo_medio_var44_ult1',\n",
      "       'saldo_medio_var44_ult3', 'var38'],\n",
      "      dtype='object', length=220)\n"
     ]
    }
   ],
   "source": [
    "import numpy as np \n",
    "import pandas as pd\n",
    "\n",
    "import matplotlib.pyplot as plt\n",
    "import matplotlib\n",
    "#matplotlib.use(\"Agg\") #Needed to save figures\n",
    "%matplotlib inline\n",
    "\n",
    "from sklearn.model_selection import cross_val_score\n",
    "import xgboost as xgb\n",
    "from sklearn.metrics import roc_auc_score\n",
    "\n",
    "training = pd.read_csv(\"train.csv\", index_col=0)\n",
    "test = pd.read_csv(\"test.csv\", index_col=0)\n",
    "\n",
    "print(training.shape)\n",
    "print(test.shape)\n",
    "\n",
    "X = training.iloc[:,:-1]\n",
    "y = training.TARGET\n",
    "\n",
    "from sklearn.feature_selection import SelectKBest\n",
    "from sklearn.feature_selection import chi2, f_classif\n",
    "from sklearn. model_selection import train_test_split\n",
    "\n",
    "#目的変数と関連性の高い上位220個\n",
    "selectK = SelectKBest(f_classif, k=220)\n",
    "selectK.fit(X, y)\n",
    "#選択した特徴量の列のみ取得\n",
    "X_sel = selectK.transform(X)\n",
    "\n",
    "#選択した特徴量名を取得\n",
    "features = X.columns[selectK.get_support()]\n",
    "print (features)\n",
    "\n",
    "X_train, X_test, y_train, y_test = train_test_split(X_sel, y, random_state=1301)"
   ]
  },
  {
   "cell_type": "code",
   "execution_count": 15,
   "metadata": {},
   "outputs": [
    {
     "data": {
      "text/plain": [
       "'var3'"
      ]
     },
     "execution_count": 15,
     "metadata": {},
     "output_type": "execute_result"
    }
   ],
   "source": [
    "features[0]"
   ]
  },
  {
   "cell_type": "code",
   "execution_count": 16,
   "metadata": {},
   "outputs": [
    {
     "data": {
      "text/plain": [
       " 2         74165\n",
       " 8           138\n",
       "-999999      116\n",
       " 9           110\n",
       " 3           108\n",
       "           ...  \n",
       " 177           1\n",
       " 87            1\n",
       " 151           1\n",
       " 215           1\n",
       " 191           1\n",
       "Name: var3, Length: 208, dtype: int64"
      ]
     },
     "execution_count": 16,
     "metadata": {},
     "output_type": "execute_result"
    }
   ],
   "source": [
    "training['var3'].value_counts()"
   ]
  },
  {
   "cell_type": "code",
   "execution_count": 17,
   "metadata": {},
   "outputs": [
    {
     "data": {
      "text/plain": [
       "<matplotlib.axes._subplots.AxesSubplot at 0x14207be0fc8>"
      ]
     },
     "execution_count": 17,
     "metadata": {},
     "output_type": "execute_result"
    },
    {
     "data": {
      "image/png": "[encoded data removed]",
      "text/plain": [
       "<Figure size 432x288 with 1 Axes>"
      ]
     },
     "metadata": {
      "needs_background": "light"
     },
     "output_type": "display_data"
    }
   ],
   "source": [
    "training.loc[training['var3'] != -999999, 'var3'].hist(bins=1000)"
   ]
  },
  {
   "cell_type": "markdown",
   "metadata": {},
   "source": [
    "- 目的変数　var3(var3 != -999999)\n",
    "- 説明変数　var3以外の特徴量(var3 != -999999)\n",
    "\n",
    "k近傍法で学習させて、var3 == -999999をもつデータのvar3を予測する。\n"
   ]
  },
  {
   "cell_type": "code",
   "execution_count": 18,
   "metadata": {},
   "outputs": [],
   "source": [
    "#var3 != -999999 の行のvar3以外の特徴量\n",
    "X_train = training.loc[training['var3'] != -999999, features[1:]]\n",
    "#var3 != -999999 の行のvar3\n",
    "y_train = training.loc[training['var3'] != -999999, 'var3']\n",
    "#var3 == -999999 の行のvar3以外の特徴量\n",
    "X_test = training.loc[training['var3'] == -999999, features[1:]]"
   ]
  },
  {
   "cell_type": "code",
   "execution_count": 19,
   "metadata": {},
   "outputs": [],
   "source": [
    "from sklearn.neighbors import KNeighborsClassifier"
   ]
  },
  {
   "cell_type": "code",
   "execution_count": 20,
   "metadata": {},
   "outputs": [
    {
     "data": {
      "text/plain": [
       "KNeighborsClassifier(algorithm='auto', leaf_size=30, metric='minkowski',\n",
       "                     metric_params=None, n_jobs=None, n_neighbors=20, p=2,\n",
       "                     weights='uniform')"
      ]
     },
     "execution_count": 20,
     "metadata": {},
     "output_type": "execute_result"
    }
   ],
   "source": [
    "clf = KNeighborsClassifier(n_neighbors=20)\n",
    "clf.fit(X_train, y_train)"
   ]
  },
  {
   "cell_type": "code",
   "execution_count": 21,
   "metadata": {},
   "outputs": [
    {
     "data": {
      "text/plain": [
       "array([2, 2, 2, 2, 2, 2, 2, 2, 2, 2, 2, 2, 2, 2, 2, 2, 2, 2, 2, 2, 2, 2,\n",
       "       2, 2, 2, 2, 2, 2, 2, 2, 2, 2, 2, 2, 2, 2, 2, 2, 2, 2, 2, 2, 2, 2,\n",
       "       2, 2, 2, 2, 2, 2, 2, 2, 2, 2, 2, 2, 2, 2, 2, 2, 2, 2, 2, 2, 2, 2,\n",
       "       2, 2, 2, 2, 2, 2, 2, 2, 2, 2, 2, 2, 2, 2, 2, 2, 2, 2, 2, 2, 2, 2,\n",
       "       2, 2, 2, 2, 2, 2, 2, 2, 2, 2, 2, 2, 2, 2, 2, 2, 2, 2, 2, 2, 2, 2,\n",
       "       2, 2, 2, 2, 2, 2], dtype=int64)"
      ]
     },
     "execution_count": 21,
     "metadata": {},
     "output_type": "execute_result"
    }
   ],
   "source": [
    "y_test = clf.predict(X_test)\n",
    "y_test"
   ]
  },
  {
   "cell_type": "markdown",
   "metadata": {},
   "source": [
    "-999999を最頻値の2で置き換えることはおそらく良いアプローチだといえる。"
   ]
  },
  {
   "cell_type": "code",
   "execution_count": 22,
   "metadata": {},
   "outputs": [
    {
     "name": "stdout",
     "output_type": "stream",
     "text": [
      "['var3']\n"
     ]
    }
   ],
   "source": [
    "# Check in what columns value -999999 appears\n",
    "print ([f for f in X.columns if X[f][X[f] == -999999].shape[0] > 0])"
   ]
  },
  {
   "cell_type": "code",
   "execution_count": 23,
   "metadata": {},
   "outputs": [],
   "source": [
    "#Replace value -999999 in column var3\n",
    "X.var3 = X.var3.replace(-999999,2)"
   ]
  },
  {
   "cell_type": "code",
   "execution_count": null,
   "metadata": {},
   "outputs": [],
   "source": []
  }
 ],
 "metadata": {
  "kernelspec": {
   "display_name": "Python 3",
   "language": "python",
   "name": "python3"
  },
  "language_info": {
   "codemirror_mode": {
    "name": "ipython",
    "version": 3
   },
   "file_extension": ".py",
   "mimetype": "text/x-python",
   "name": "python",
   "nbconvert_exporter": "python",
   "pygments_lexer": "ipython3",
   "version": "3.7.6"
  }
 },
 "nbformat": 4,
 "nbformat_minor": 4
}
