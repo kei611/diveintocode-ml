{
 "cells": [
  {
   "cell_type": "markdown",
   "metadata": {
    "colab_type": "text",
    "id": "1qo6vXqILPnv"
   },
   "source": [
    "# MNISTデータセット\n",
    "\n",
    "ニューラルネットワークスクラッチの検証にはMNISTデータセットを使用します。各種ライブラリやサイトからダウンロードできますが、ここでは深層学習フレームワークのKerasを用います。以下のコードを実行すればデータセットをダウンロードし、展開まで行えます。\n",
    "\n",
    "\n",
    "《データセットをダウンロードするコード》"
   ]
  },
  {
   "cell_type": "code",
   "execution_count": 78,
   "metadata": {
    "colab": {
     "base_uri": "https://localhost:8080/",
     "height": 72
    },
    "colab_type": "code",
    "executionInfo": {
     "elapsed": 2801,
     "status": "ok",
     "timestamp": 1599041445656,
     "user": {
      "displayName": "kei39maroond@yahoo.co.jp",
      "photoUrl": "",
      "userId": "09127499667912050250"
     },
     "user_tz": -540
    },
    "id": "mmFenUbkLPnw",
    "outputId": "597a66e3-31bc-440d-fe33-b0efb638f283"
   },
   "outputs": [],
   "source": [
    "from keras.datasets import mnist\n",
    "(X_train, y_train), (X_test, y_test) = mnist.load_data()"
   ]
  },
  {
   "cell_type": "markdown",
   "metadata": {
    "colab_type": "text",
    "id": "OwNkd40rLPn2"
   },
   "source": [
    "### 《MNISTとは？》\n",
    "\n",
    "\n",
    "画像分類のための定番データセットで、手書き数字認識を行います。このデータセットには訓練用6万枚、テスト用1万枚の28×28ピクセルの白黒画像、およびそれらが0〜9のどの数字であるかというラベルが含まれています。\n",
    "\n",
    "\n",
    "### 《画像データとは？》\n",
    "\n",
    "\n",
    "デジタル画像は点の集合で、これをピクセルと呼びます。一般的に白黒画像であればピクセルには0〜255の値が含まれます。一方、カラー画像であればR（赤）、G（緑）、B（青）それぞれに対応する0〜255の値が含まれます。機械学習をする上では、この0〜255の値一つひとつが特徴量として扱われます。0〜255は符号なしの8ビット整数で表せる範囲になるため、NumPyであれば「uint8」型の変数として保持できます。\n",
    "\n",
    "\n",
    "## データセットの確認\n",
    "どういったデータなのかを見てみます。\n",
    "### 《サンプルコード》"
   ]
  },
  {
   "cell_type": "code",
   "execution_count": 79,
   "metadata": {
    "colab": {
     "base_uri": "https://localhost:8080/",
     "height": 1000
    },
    "colab_type": "code",
    "executionInfo": {
     "elapsed": 2374,
     "status": "ok",
     "timestamp": 1599041445662,
     "user": {
      "displayName": "kei39maroond@yahoo.co.jp",
      "photoUrl": "",
      "userId": "09127499667912050250"
     },
     "user_tz": -540
    },
    "id": "p7XMOLhGLPn2",
    "outputId": "b3d71546-c9fb-46b2-877d-2da5cc92fe38"
   },
   "outputs": [
    {
     "name": "stdout",
     "output_type": "stream",
     "text": [
      "(60000, 28, 28)\n",
      "(10000, 28, 28)\n",
      "uint8\n",
      "[[  0   0   0   0   0   0   0   0   0   0   0   0   0   0   0   0   0   0\n",
      "    0   0   0   0   0   0   0   0   0   0]\n",
      " [  0   0   0   0   0   0   0   0   0   0   0   0   0   0   0   0   0   0\n",
      "    0   0   0   0   0   0   0   0   0   0]\n",
      " [  0   0   0   0   0   0   0   0   0   0   0   0   0   0   0   0   0   0\n",
      "    0   0   0   0   0   0   0   0   0   0]\n",
      " [  0   0   0   0   0   0   0   0   0   0   0   0   0   0   0   0   0   0\n",
      "    0   0   0   0   0   0   0   0   0   0]\n",
      " [  0   0   0   0   0   0   0   0   0   0   0   0   0   0   0   0   0   0\n",
      "    0   0   0   0   0   0   0   0   0   0]\n",
      " [  0   0   0   0   0   0   0   0   0   0   0   0   3  18  18  18 126 136\n",
      "  175  26 166 255 247 127   0   0   0   0]\n",
      " [  0   0   0   0   0   0   0   0  30  36  94 154 170 253 253 253 253 253\n",
      "  225 172 253 242 195  64   0   0   0   0]\n",
      " [  0   0   0   0   0   0   0  49 238 253 253 253 253 253 253 253 253 251\n",
      "   93  82  82  56  39   0   0   0   0   0]\n",
      " [  0   0   0   0   0   0   0  18 219 253 253 253 253 253 198 182 247 241\n",
      "    0   0   0   0   0   0   0   0   0   0]\n",
      " [  0   0   0   0   0   0   0   0  80 156 107 253 253 205  11   0  43 154\n",
      "    0   0   0   0   0   0   0   0   0   0]\n",
      " [  0   0   0   0   0   0   0   0   0  14   1 154 253  90   0   0   0   0\n",
      "    0   0   0   0   0   0   0   0   0   0]\n",
      " [  0   0   0   0   0   0   0   0   0   0   0 139 253 190   2   0   0   0\n",
      "    0   0   0   0   0   0   0   0   0   0]\n",
      " [  0   0   0   0   0   0   0   0   0   0   0  11 190 253  70   0   0   0\n",
      "    0   0   0   0   0   0   0   0   0   0]\n",
      " [  0   0   0   0   0   0   0   0   0   0   0   0  35 241 225 160 108   1\n",
      "    0   0   0   0   0   0   0   0   0   0]\n",
      " [  0   0   0   0   0   0   0   0   0   0   0   0   0  81 240 253 253 119\n",
      "   25   0   0   0   0   0   0   0   0   0]\n",
      " [  0   0   0   0   0   0   0   0   0   0   0   0   0   0  45 186 253 253\n",
      "  150  27   0   0   0   0   0   0   0   0]\n",
      " [  0   0   0   0   0   0   0   0   0   0   0   0   0   0   0  16  93 252\n",
      "  253 187   0   0   0   0   0   0   0   0]\n",
      " [  0   0   0   0   0   0   0   0   0   0   0   0   0   0   0   0   0 249\n",
      "  253 249  64   0   0   0   0   0   0   0]\n",
      " [  0   0   0   0   0   0   0   0   0   0   0   0   0   0  46 130 183 253\n",
      "  253 207   2   0   0   0   0   0   0   0]\n",
      " [  0   0   0   0   0   0   0   0   0   0   0   0  39 148 229 253 253 253\n",
      "  250 182   0   0   0   0   0   0   0   0]\n",
      " [  0   0   0   0   0   0   0   0   0   0  24 114 221 253 253 253 253 201\n",
      "   78   0   0   0   0   0   0   0   0   0]\n",
      " [  0   0   0   0   0   0   0   0  23  66 213 253 253 253 253 198  81   2\n",
      "    0   0   0   0   0   0   0   0   0   0]\n",
      " [  0   0   0   0   0   0  18 171 219 253 253 253 253 195  80   9   0   0\n",
      "    0   0   0   0   0   0   0   0   0   0]\n",
      " [  0   0   0   0  55 172 226 253 253 253 253 244 133  11   0   0   0   0\n",
      "    0   0   0   0   0   0   0   0   0   0]\n",
      " [  0   0   0   0 136 253 253 253 212 135 132  16   0   0   0   0   0   0\n",
      "    0   0   0   0   0   0   0   0   0   0]\n",
      " [  0   0   0   0   0   0   0   0   0   0   0   0   0   0   0   0   0   0\n",
      "    0   0   0   0   0   0   0   0   0   0]\n",
      " [  0   0   0   0   0   0   0   0   0   0   0   0   0   0   0   0   0   0\n",
      "    0   0   0   0   0   0   0   0   0   0]\n",
      " [  0   0   0   0   0   0   0   0   0   0   0   0   0   0   0   0   0   0\n",
      "    0   0   0   0   0   0   0   0   0   0]]\n"
     ]
    }
   ],
   "source": [
    "print(X_train.shape) # (60000, 28, 28)\n",
    "print(X_test.shape) # (10000, 28, 28)\n",
    "print(X_train[0].dtype) # uint8\n",
    "print(X_train[0])"
   ]
  },
  {
   "cell_type": "markdown",
   "metadata": {
    "colab_type": "text",
    "id": "XuLi1a53LPn6"
   },
   "source": [
    "各データは28×28ピクセルの白黒画像です。"
   ]
  },
  {
   "cell_type": "markdown",
   "metadata": {
    "colab_type": "text",
    "id": "LjZUvExKLPn7"
   },
   "source": [
    "## 平滑化\n",
    "(1, 28, 28)の各画像を、(1, 784)に変換します。これまで学んできた機械学習手法や、今回扱う全結合層のみのニューラルネットワークではこの形で扱います。全てのピクセルが一列になっていることを、 平滑化（flatten） してあるという風に表現します。\n",
    "\n",
    "\n",
    "### 《サンプルコード》"
   ]
  },
  {
   "cell_type": "code",
   "execution_count": 80,
   "metadata": {
    "colab": {},
    "colab_type": "code",
    "executionInfo": {
     "elapsed": 1589,
     "status": "ok",
     "timestamp": 1599041445665,
     "user": {
      "displayName": "kei39maroond@yahoo.co.jp",
      "photoUrl": "",
      "userId": "09127499667912050250"
     },
     "user_tz": -540
    },
    "id": "HaHMI66ZLPn8"
   },
   "outputs": [],
   "source": [
    "X_train = X_train.reshape(-1, 784)\n",
    "X_test = X_test.reshape(-1, 784)"
   ]
  },
  {
   "cell_type": "markdown",
   "metadata": {
    "colab_type": "text",
    "id": "IP5XW4zoLPn_"
   },
   "source": [
    "### 《補足》\n",
    "\n",
    "\n",
    "ここまで機械学習を学んでくる中で、特徴量の数を「次元」と呼んできました。その視点ではMNISTは784次元のデータです。一方で、NumPyのshapeが(784,)の状態を1次元配列とも呼びます。画像としての縦横の情報を持つ（28, 28)の状態であれば、2次元配列です。この視点では2次元のデータです。さらに、もしもカラー画像であれば(28, 28, 3)ということになり、3次元配列です。先ほどの視点では3次元のデータになります。しかし、白黒でもカラーでも平面画像であり、立体データではないという視点で、2次元のデータです。画像データを扱う際にはこのように「次元」という言葉が複数の意味合いで使われることに注意してください。\n",
    "\n",
    "\n",
    "## 画像データの可視化\n",
    "画像データを可視化します。plt.imshowに渡します。\n",
    "\n",
    "\n",
    "### 《サンプルコード》"
   ]
  },
  {
   "cell_type": "code",
   "execution_count": 81,
   "metadata": {
    "colab": {
     "base_uri": "https://localhost:8080/",
     "height": 281
    },
    "colab_type": "code",
    "executionInfo": {
     "elapsed": 901,
     "status": "ok",
     "timestamp": 1599041446168,
     "user": {
      "displayName": "kei39maroond@yahoo.co.jp",
      "photoUrl": "",
      "userId": "09127499667912050250"
     },
     "user_tz": -540
    },
    "id": "ORIZ3N90LPoA",
    "outputId": "e68e49ae-068a-4fc6-8786-e463d955ef5e"
   },
   "outputs": [
    {
     "data": {
      "image/png": "[encoded data removed]",
      "text/plain": [
       "<Figure size 432x288 with 1 Axes>"
      ]
     },
     "metadata": {
      "needs_background": "light"
     },
     "output_type": "display_data"
    }
   ],
   "source": [
    "import matplotlib.pyplot as plt\n",
    "%matplotlib inline\n",
    "index = 0\n",
    "image = X_train[index].reshape(28,28)\n",
    "# X_train[index]: (784,)\n",
    "# image: (28, 28)\n",
    "plt.imshow(image, 'gray')\n",
    "plt.title('label : {}'.format(y_train[index]))\n",
    "plt.show()"
   ]
  },
  {
   "cell_type": "markdown",
   "metadata": {
    "colab_type": "text",
    "id": "V9PFSVOwLPoE"
   },
   "source": [
    "numpy.reshape — NumPy v1.17 Manual\n",
    "\n",
    "\n",
    "matplotlib.pyplot.imshow — Matplotlib 3.1.1 documentation\n",
    "\n",
    "### 《発展的話題》\n",
    "\n",
    "\n",
    "画像データは符号なし8ビット整数のuint8型で保持されることが一般的ですが、plt.imshowはより自由な配列を画像として表示することが可能です。例えば、以下のようにマイナスの値を持ったfloat64型の浮動小数点であってもエラーにはならないし、先ほどと全く同じ風に表示されます。"
   ]
  },
  {
   "cell_type": "code",
   "execution_count": 82,
   "metadata": {
    "colab": {
     "base_uri": "https://localhost:8080/",
     "height": 1000
    },
    "colab_type": "code",
    "executionInfo": {
     "elapsed": 1310,
     "status": "ok",
     "timestamp": 1599041447760,
     "user": {
      "displayName": "kei39maroond@yahoo.co.jp",
      "photoUrl": "",
      "userId": "09127499667912050250"
     },
     "user_tz": -540
    },
    "id": "A-035mibLPoE",
    "outputId": "d3d518b9-e2d0-4305-8017-1df85762371d"
   },
   "outputs": [
    {
     "data": {
      "image/png": "[encoded data removed]",
      "text/plain": [
       "<Figure size 432x288 with 1 Axes>"
      ]
     },
     "metadata": {
      "needs_background": "light"
     },
     "output_type": "display_data"
    },
    {
     "name": "stdout",
     "output_type": "stream",
     "text": [
      "[[-105.35 -105.35 -105.35 -105.35 -105.35 -105.35 -105.35 -105.35 -105.35\n",
      "  -105.35 -105.35 -105.35 -105.35 -105.35 -105.35 -105.35 -105.35 -105.35\n",
      "  -105.35 -105.35 -105.35 -105.35 -105.35 -105.35 -105.35 -105.35 -105.35\n",
      "  -105.35]\n",
      " [-105.35 -105.35 -105.35 -105.35 -105.35 -105.35 -105.35 -105.35 -105.35\n",
      "  -105.35 -105.35 -105.35 -105.35 -105.35 -105.35 -105.35 -105.35 -105.35\n",
      "  -105.35 -105.35 -105.35 -105.35 -105.35 -105.35 -105.35 -105.35 -105.35\n",
      "  -105.35]\n",
      " [-105.35 -105.35 -105.35 -105.35 -105.35 -105.35 -105.35 -105.35 -105.35\n",
      "  -105.35 -105.35 -105.35 -105.35 -105.35 -105.35 -105.35 -105.35 -105.35\n",
      "  -105.35 -105.35 -105.35 -105.35 -105.35 -105.35 -105.35 -105.35 -105.35\n",
      "  -105.35]\n",
      " [-105.35 -105.35 -105.35 -105.35 -105.35 -105.35 -105.35 -105.35 -105.35\n",
      "  -105.35 -105.35 -105.35 -105.35 -105.35 -105.35 -105.35 -105.35 -105.35\n",
      "  -105.35 -105.35 -105.35 -105.35 -105.35 -105.35 -105.35 -105.35 -105.35\n",
      "  -105.35]\n",
      " [-105.35 -105.35 -105.35 -105.35 -105.35 -105.35 -105.35 -105.35 -105.35\n",
      "  -105.35 -105.35 -105.35 -105.35 -105.35 -105.35 -105.35 -105.35 -105.35\n",
      "  -105.35 -105.35 -105.35 -105.35 -105.35 -105.35 -105.35 -105.35 -105.35\n",
      "  -105.35]\n",
      " [-105.35 -105.35 -105.35 -105.35 -105.35 -105.35 -105.35 -105.35 -105.35\n",
      "  -105.35 -105.35 -105.35 -102.35  -87.35  -87.35  -87.35   20.65   30.65\n",
      "    69.65  -79.35   60.65  149.65  141.65   21.65 -105.35 -105.35 -105.35\n",
      "  -105.35]\n",
      " [-105.35 -105.35 -105.35 -105.35 -105.35 -105.35 -105.35 -105.35  -75.35\n",
      "   -69.35  -11.35   48.65   64.65  147.65  147.65  147.65  147.65  147.65\n",
      "   119.65   66.65  147.65  136.65   89.65  -41.35 -105.35 -105.35 -105.35\n",
      "  -105.35]\n",
      " [-105.35 -105.35 -105.35 -105.35 -105.35 -105.35 -105.35  -56.35  132.65\n",
      "   147.65  147.65  147.65  147.65  147.65  147.65  147.65  147.65  145.65\n",
      "   -12.35  -23.35  -23.35  -49.35  -66.35 -105.35 -105.35 -105.35 -105.35\n",
      "  -105.35]\n",
      " [-105.35 -105.35 -105.35 -105.35 -105.35 -105.35 -105.35  -87.35  113.65\n",
      "   147.65  147.65  147.65  147.65  147.65   92.65   76.65  141.65  135.65\n",
      "  -105.35 -105.35 -105.35 -105.35 -105.35 -105.35 -105.35 -105.35 -105.35\n",
      "  -105.35]\n",
      " [-105.35 -105.35 -105.35 -105.35 -105.35 -105.35 -105.35 -105.35  -25.35\n",
      "    50.65    1.65  147.65  147.65   99.65  -94.35 -105.35  -62.35   48.65\n",
      "  -105.35 -105.35 -105.35 -105.35 -105.35 -105.35 -105.35 -105.35 -105.35\n",
      "  -105.35]\n",
      " [-105.35 -105.35 -105.35 -105.35 -105.35 -105.35 -105.35 -105.35 -105.35\n",
      "   -91.35 -104.35   48.65  147.65  -15.35 -105.35 -105.35 -105.35 -105.35\n",
      "  -105.35 -105.35 -105.35 -105.35 -105.35 -105.35 -105.35 -105.35 -105.35\n",
      "  -105.35]\n",
      " [-105.35 -105.35 -105.35 -105.35 -105.35 -105.35 -105.35 -105.35 -105.35\n",
      "  -105.35 -105.35   33.65  147.65   84.65 -103.35 -105.35 -105.35 -105.35\n",
      "  -105.35 -105.35 -105.35 -105.35 -105.35 -105.35 -105.35 -105.35 -105.35\n",
      "  -105.35]\n",
      " [-105.35 -105.35 -105.35 -105.35 -105.35 -105.35 -105.35 -105.35 -105.35\n",
      "  -105.35 -105.35  -94.35   84.65  147.65  -35.35 -105.35 -105.35 -105.35\n",
      "  -105.35 -105.35 -105.35 -105.35 -105.35 -105.35 -105.35 -105.35 -105.35\n",
      "  -105.35]\n",
      " [-105.35 -105.35 -105.35 -105.35 -105.35 -105.35 -105.35 -105.35 -105.35\n",
      "  -105.35 -105.35 -105.35  -70.35  135.65  119.65   54.65    2.65 -104.35\n",
      "  -105.35 -105.35 -105.35 -105.35 -105.35 -105.35 -105.35 -105.35 -105.35\n",
      "  -105.35]\n",
      " [-105.35 -105.35 -105.35 -105.35 -105.35 -105.35 -105.35 -105.35 -105.35\n",
      "  -105.35 -105.35 -105.35 -105.35  -24.35  134.65  147.65  147.65   13.65\n",
      "   -80.35 -105.35 -105.35 -105.35 -105.35 -105.35 -105.35 -105.35 -105.35\n",
      "  -105.35]\n",
      " [-105.35 -105.35 -105.35 -105.35 -105.35 -105.35 -105.35 -105.35 -105.35\n",
      "  -105.35 -105.35 -105.35 -105.35 -105.35  -60.35   80.65  147.65  147.65\n",
      "    44.65  -78.35 -105.35 -105.35 -105.35 -105.35 -105.35 -105.35 -105.35\n",
      "  -105.35]\n",
      " [-105.35 -105.35 -105.35 -105.35 -105.35 -105.35 -105.35 -105.35 -105.35\n",
      "  -105.35 -105.35 -105.35 -105.35 -105.35 -105.35  -89.35  -12.35  146.65\n",
      "   147.65   81.65 -105.35 -105.35 -105.35 -105.35 -105.35 -105.35 -105.35\n",
      "  -105.35]\n",
      " [-105.35 -105.35 -105.35 -105.35 -105.35 -105.35 -105.35 -105.35 -105.35\n",
      "  -105.35 -105.35 -105.35 -105.35 -105.35 -105.35 -105.35 -105.35  143.65\n",
      "   147.65  143.65  -41.35 -105.35 -105.35 -105.35 -105.35 -105.35 -105.35\n",
      "  -105.35]\n",
      " [-105.35 -105.35 -105.35 -105.35 -105.35 -105.35 -105.35 -105.35 -105.35\n",
      "  -105.35 -105.35 -105.35 -105.35 -105.35  -59.35   24.65   77.65  147.65\n",
      "   147.65  101.65 -103.35 -105.35 -105.35 -105.35 -105.35 -105.35 -105.35\n",
      "  -105.35]\n",
      " [-105.35 -105.35 -105.35 -105.35 -105.35 -105.35 -105.35 -105.35 -105.35\n",
      "  -105.35 -105.35 -105.35  -66.35   42.65  123.65  147.65  147.65  147.65\n",
      "   144.65   76.65 -105.35 -105.35 -105.35 -105.35 -105.35 -105.35 -105.35\n",
      "  -105.35]\n",
      " [-105.35 -105.35 -105.35 -105.35 -105.35 -105.35 -105.35 -105.35 -105.35\n",
      "  -105.35  -81.35    8.65  115.65  147.65  147.65  147.65  147.65   95.65\n",
      "   -27.35 -105.35 -105.35 -105.35 -105.35 -105.35 -105.35 -105.35 -105.35\n",
      "  -105.35]\n",
      " [-105.35 -105.35 -105.35 -105.35 -105.35 -105.35 -105.35 -105.35  -82.35\n",
      "   -39.35  107.65  147.65  147.65  147.65  147.65   92.65  -24.35 -103.35\n",
      "  -105.35 -105.35 -105.35 -105.35 -105.35 -105.35 -105.35 -105.35 -105.35\n",
      "  -105.35]\n",
      " [-105.35 -105.35 -105.35 -105.35 -105.35 -105.35  -87.35   65.65  113.65\n",
      "   147.65  147.65  147.65  147.65   89.65  -25.35  -96.35 -105.35 -105.35\n",
      "  -105.35 -105.35 -105.35 -105.35 -105.35 -105.35 -105.35 -105.35 -105.35\n",
      "  -105.35]\n",
      " [-105.35 -105.35 -105.35 -105.35  -50.35   66.65  120.65  147.65  147.65\n",
      "   147.65  147.65  138.65   27.65  -94.35 -105.35 -105.35 -105.35 -105.35\n",
      "  -105.35 -105.35 -105.35 -105.35 -105.35 -105.35 -105.35 -105.35 -105.35\n",
      "  -105.35]\n",
      " [-105.35 -105.35 -105.35 -105.35   30.65  147.65  147.65  147.65  106.65\n",
      "    29.65   26.65  -89.35 -105.35 -105.35 -105.35 -105.35 -105.35 -105.35\n",
      "  -105.35 -105.35 -105.35 -105.35 -105.35 -105.35 -105.35 -105.35 -105.35\n",
      "  -105.35]\n",
      " [-105.35 -105.35 -105.35 -105.35 -105.35 -105.35 -105.35 -105.35 -105.35\n",
      "  -105.35 -105.35 -105.35 -105.35 -105.35 -105.35 -105.35 -105.35 -105.35\n",
      "  -105.35 -105.35 -105.35 -105.35 -105.35 -105.35 -105.35 -105.35 -105.35\n",
      "  -105.35]\n",
      " [-105.35 -105.35 -105.35 -105.35 -105.35 -105.35 -105.35 -105.35 -105.35\n",
      "  -105.35 -105.35 -105.35 -105.35 -105.35 -105.35 -105.35 -105.35 -105.35\n",
      "  -105.35 -105.35 -105.35 -105.35 -105.35 -105.35 -105.35 -105.35 -105.35\n",
      "  -105.35]\n",
      " [-105.35 -105.35 -105.35 -105.35 -105.35 -105.35 -105.35 -105.35 -105.35\n",
      "  -105.35 -105.35 -105.35 -105.35 -105.35 -105.35 -105.35 -105.35 -105.35\n",
      "  -105.35 -105.35 -105.35 -105.35 -105.35 -105.35 -105.35 -105.35 -105.35\n",
      "  -105.35]]\n"
     ]
    }
   ],
   "source": [
    "import numpy as np\n",
    "index = 0\n",
    "image = X_train[index].reshape(28,28)\n",
    "image = image.astype(np.float) # float型に変換\n",
    "image -= 105.35 # 意図的に負の小数値を作り出してみる\n",
    "plt.imshow(image, 'gray')\n",
    "plt.title('label : {}'.format(y_train[index]))\n",
    "plt.show()\n",
    "print(image) # 値を確認"
   ]
  },
  {
   "cell_type": "markdown",
   "metadata": {
    "colab_type": "text",
    "id": "akWudYo9LPoH"
   },
   "source": [
    "これは、自動的に値を0〜255の整数に変換して処理するように作られているからです。uint8型であっても最小値が0、最大値が255でない場合には色合いがおかしくなります。それを防ぐためには次のように引数を入れてください。"
   ]
  },
  {
   "cell_type": "code",
   "execution_count": 83,
   "metadata": {
    "colab": {
     "base_uri": "https://localhost:8080/",
     "height": 282
    },
    "colab_type": "code",
    "executionInfo": {
     "elapsed": 809,
     "status": "ok",
     "timestamp": 1599041448408,
     "user": {
      "displayName": "kei39maroond@yahoo.co.jp",
      "photoUrl": "",
      "userId": "09127499667912050250"
     },
     "user_tz": -540
    },
    "id": "9jiC4fKYLPoI",
    "outputId": "b4c723d3-8a23-4a58-d9dd-27a578ec569a"
   },
   "outputs": [
    {
     "data": {
      "text/plain": [
       "<matplotlib.image.AxesImage at 0x1f0c2c6c108>"
      ]
     },
     "execution_count": 83,
     "metadata": {},
     "output_type": "execute_result"
    },
    {
     "data": {
      "image/png": "[encoded data removed]",
      "text/plain": [
       "<Figure size 432x288 with 1 Axes>"
      ]
     },
     "metadata": {
      "needs_background": "light"
     },
     "output_type": "display_data"
    }
   ],
   "source": [
    "plt.imshow(image, 'gray', vmin = 0, vmax = 255)"
   ]
  },
  {
   "cell_type": "markdown",
   "metadata": {
    "colab_type": "text",
    "id": "DZSTECiMLPoL"
   },
   "source": [
    "画像関係のライブラリではこの自動的なスケーリングが思わぬ結果を生むことがあるので、新しいメソッドを使うときには確認しておきましょう。\n",
    "\n",
    "\n",
    "## 前処理\n",
    "画像は0から255のuint8型で表されますが、機械学習をする上では0から1のfloat型で扱うことになります。以下のコードで変換可能です。\n",
    "\n",
    "\n",
    "### 《サンプルコード》"
   ]
  },
  {
   "cell_type": "code",
   "execution_count": 84,
   "metadata": {
    "colab": {
     "base_uri": "https://localhost:8080/",
     "height": 52
    },
    "colab_type": "code",
    "executionInfo": {
     "elapsed": 1125,
     "status": "ok",
     "timestamp": 1599041449931,
     "user": {
      "displayName": "kei39maroond@yahoo.co.jp",
      "photoUrl": "",
      "userId": "09127499667912050250"
     },
     "user_tz": -540
    },
    "id": "hifdDmo3LPoM",
    "outputId": "0535cb37-b9f6-4d22-c619-b353b638bcb1"
   },
   "outputs": [
    {
     "name": "stdout",
     "output_type": "stream",
     "text": [
      "1.0\n",
      "0.0\n"
     ]
    }
   ],
   "source": [
    "X_train = X_train.astype(np.float)\n",
    "X_test = X_test.astype(np.float)\n",
    "X_train /= 255\n",
    "X_test /= 255\n",
    "print(X_train.max()) # 1.0\n",
    "print(X_train.min()) # 0.0"
   ]
  },
  {
   "cell_type": "markdown",
   "metadata": {
    "colab_type": "text",
    "id": "KRoJ-XD9LPoP"
   },
   "source": [
    "また、正解ラベルは0から9の整数ですが、ニューラルネットワークで多クラス分類を行う際には one-hot表現 に変換します。scikit-learnのOneHotEncoderを使用したコードが以下です。このone-hot表現による値はそのラベルである確率を示していることになるため、float型で扱います。\n",
    "\n",
    "\n",
    "### 《サンプルコード》"
   ]
  },
  {
   "cell_type": "code",
   "execution_count": 85,
   "metadata": {
    "colab": {
     "base_uri": "https://localhost:8080/",
     "height": 70
    },
    "colab_type": "code",
    "executionInfo": {
     "elapsed": 1337,
     "status": "ok",
     "timestamp": 1599041451238,
     "user": {
      "displayName": "kei39maroond@yahoo.co.jp",
      "photoUrl": "",
      "userId": "09127499667912050250"
     },
     "user_tz": -540
    },
    "id": "RME-SgtRLPoQ",
    "outputId": "6f2c08f5-79df-4109-8e18-c2d14df5921c"
   },
   "outputs": [],
   "source": [
    "# from sklearn.preprocessing import OneHotEncoder\n",
    "# enc = OneHotEncoder(handle_unknown='ignore', sparse=False)\n",
    "# y_train_one_hot = enc.fit_transform(y_train[:, np.newaxis])\n",
    "# y_test_one_hot = enc.transform(y_test[:, np.newaxis])\n",
    "# print(y_train.shape) # (60000,)\n",
    "# print(y_train_one_hot.shape) # (60000, 10)\n",
    "# print(y_train_one_hot.dtype) # float64"
   ]
  },
  {
   "cell_type": "markdown",
   "metadata": {
    "colab_type": "text",
    "id": "46inOHBbLPoT"
   },
   "source": [
    "sklearn.preprocessing.OneHotEncoder — scikit-learn 0.21.3 documentation\n",
    "\n",
    "\n",
    "さらに、訓練データ6万枚の内2割を検証データとして分割してください。訓練データが48000枚、検証データが12000枚となります。\n",
    "\n",
    "\n",
    "### 《サンプルコード》"
   ]
  },
  {
   "cell_type": "code",
   "execution_count": 86,
   "metadata": {
    "colab": {
     "base_uri": "https://localhost:8080/",
     "height": 52
    },
    "colab_type": "code",
    "executionInfo": {
     "elapsed": 919,
     "status": "ok",
     "timestamp": 1599041451565,
     "user": {
      "displayName": "kei39maroond@yahoo.co.jp",
      "photoUrl": "",
      "userId": "09127499667912050250"
     },
     "user_tz": -540
    },
    "id": "XP8qXI53LPoT",
    "outputId": "134cd22c-7c09-4338-f5b3-496c2d53410c"
   },
   "outputs": [],
   "source": [
    "# from sklearn.model_selection import train_test_split\n",
    "# X_train, X_val, y_train, y_val = train_test_split(X_train, y_train_one_hot, test_size=0.2)\n",
    "# print(X_train.shape) # (48000, 784)\n",
    "# print(X_val.shape) # (12000, 784)"
   ]
  },
  {
   "cell_type": "markdown",
   "metadata": {
    "colab_type": "text",
    "id": "JvvWOOcmLPoX"
   },
   "source": [
    "## ニューラルネットワークスクラッチ\n",
    "\n",
    "ニューラルネットワークのクラスをスクラッチで作成していきます。NumPyなど最低限のライブラリのみを使いアルゴリズムを実装していきます。\n",
    "\n",
    "\n",
    "今回は多クラス分類を行う3層のニューラルネットワークを作成します。層の数などは固定した上でニューラルネットワークの基本を学びます。次のSprintで層を自由に変えられる設計にしていきます。\n",
    "\n",
    "\n",
    "以下に雛形を用意してあります。このScratchSimpleNeuralNetrowkClassifierクラスにコードを書き加えていってください。\n",
    "\n",
    "\n",
    "### 《雛形》"
   ]
  },
  {
   "cell_type": "code",
   "execution_count": 87,
   "metadata": {
    "colab": {},
    "colab_type": "code",
    "executionInfo": {
     "elapsed": 945,
     "status": "ok",
     "timestamp": 1599041452601,
     "user": {
      "displayName": "kei39maroond@yahoo.co.jp",
      "photoUrl": "",
      "userId": "09127499667912050250"
     },
     "user_tz": -540
    },
    "id": "slS7hNfhLPoX"
   },
   "outputs": [],
   "source": [
    "class ScratchSimpleNeuralNetrowkClassifier():\n",
    "    \"\"\"\n",
    "    シンプルな三層ニューラルネットワーク分類器\n",
    "\n",
    "    Parameters\n",
    "    ----------\n",
    "\n",
    "    Attributes\n",
    "    ----------\n",
    "    \"\"\"\n",
    "    def __init__(self, verbose = True):\n",
    "        self.verbose = verbose\n",
    "        pass\n",
    "    def fit(self, X, y, X_val=None, y_val=None):\n",
    "        \"\"\"\n",
    "        ニューラルネットワーク分類器を学習する。\n",
    "\n",
    "        Parameters\n",
    "        ----------\n",
    "        X : 次の形のndarray, shape (n_samples, n_features)\n",
    "            訓練データの特徴量\n",
    "        y : 次の形のndarray, shape (n_samples, )\n",
    "            訓練データの正解値\n",
    "        X_val : 次の形のndarray, shape (n_samples, n_features)\n",
    "            検証データの特徴量\n",
    "        y_val : 次の形のndarray, shape (n_samples, )\n",
    "            検証データの正解値\n",
    "        \"\"\"\n",
    "        if self.verbose:\n",
    "            #verboseをTrueにした際は学習過程などを出力する\n",
    "            print()\n",
    "        pass\n",
    "    def predict(self, X):\n",
    "        \"\"\"\n",
    "        ニューラルネットワーク分類器を使い推定する。\n",
    "\n",
    "        Parameters\n",
    "        ----------\n",
    "        X : 次の形のndarray, shape (n_samples, n_features)\n",
    "            サンプル\n",
    "\n",
    "        Returns\n",
    "        -------\n",
    "            次の形のndarray, shape (n_samples, 1)\n",
    "            推定結果\n",
    "        \"\"\"\n",
    "        pass\n",
    "        return"
   ]
  },
  {
   "cell_type": "markdown",
   "metadata": {
    "colab_type": "text",
    "id": "LD4P6KGfLPob"
   },
   "source": [
    "## ミニバッチ処理\n",
    "これまでの機械学習スクラッチでは、全てのサンプルを一度に計算していました。しかし、ニューラルネットワークではデータを分割して入力する 確率的勾配降下法 が一般的です。分割した際のひとかたまりを ミニバッチ 、そのサンプル数を バッチサイズ と呼びます。\n",
    "\n",
    "\n",
    "今回はバッチサイズを20とします。今回使う訓練データは48000枚ですから、48000÷20で2400回の更新を繰り返すことになります。ニューラルネットワークではこれを2400回 イテレーション（iteration） すると呼びます。訓練データを一度全て見ると1回の エポック（epoch） が終わったことになります。このエポックを複数回繰り返し、学習が完了します。\n",
    "\n",
    "\n",
    "これを実現するための簡素なイテレータを用意しました。for文で呼び出すと、ミニバッチを取得できます。\n",
    "\n",
    "\n",
    "#### 《コード》"
   ]
  },
  {
   "cell_type": "code",
   "execution_count": 88,
   "metadata": {
    "colab": {},
    "colab_type": "code",
    "executionInfo": {
     "elapsed": 557,
     "status": "ok",
     "timestamp": 1599041453007,
     "user": {
      "displayName": "kei39maroond@yahoo.co.jp",
      "photoUrl": "",
      "userId": "09127499667912050250"
     },
     "user_tz": -540
    },
    "id": "FV_xMohULPob"
   },
   "outputs": [],
   "source": [
    "class GetMiniBatch:\n",
    "    \"\"\"\n",
    "    ミニバッチを取得するイテレータ\n",
    "\n",
    "    Parameters\n",
    "    ----------\n",
    "    X : 次の形のndarray, shape (n_samples, n_features)\n",
    "      訓練データ\n",
    "    y : 次の形のndarray, shape (n_samples, 1)\n",
    "      正解値\n",
    "    batch_size : int\n",
    "      バッチサイズ\n",
    "    seed : int\n",
    "      NumPyの乱数のシード\n",
    "    \"\"\"\n",
    "    def __init__(self, X, y, batch_size = 20, seed=0):\n",
    "        self.batch_size = batch_size\n",
    "        np.random.seed(seed)\n",
    "        shuffle_index = np.random.permutation(np.arange(X.shape[0]))\n",
    "        self._X = X[shuffle_index]\n",
    "        self._y = y[shuffle_index]\n",
    "        self._stop = np.ceil(X.shape[0]/self.batch_size).astype(np.int)\n",
    "    def __len__(self):\n",
    "        return self._stop\n",
    "    def __getitem__(self,item):\n",
    "        p0 = item*self.batch_size\n",
    "        p1 = item*self.batch_size + self.batch_size\n",
    "        return self._X[p0:p1], self._y[p0:p1]        \n",
    "    def __iter__(self):\n",
    "        self._counter = 0\n",
    "        return self\n",
    "    def __next__(self):\n",
    "        if self._counter >= self._stop:\n",
    "            raise StopIteration()\n",
    "        p0 = self._counter*self.batch_size\n",
    "        p1 = self._counter*self.batch_size + self.batch_size\n",
    "        self._counter += 1\n",
    "        return self._X[p0:p1], self._y[p0:p1]"
   ]
  },
  {
   "cell_type": "markdown",
   "metadata": {
    "colab_type": "text",
    "id": "MHUZjuTULPoe"
   },
   "source": [
    "このクラスをインスタンス化し、for文を使うことでミニバッチが取り出せます。"
   ]
  },
  {
   "cell_type": "code",
   "execution_count": 89,
   "metadata": {
    "colab": {
     "base_uri": "https://localhost:8080/",
     "height": 492
    },
    "colab_type": "code",
    "executionInfo": {
     "elapsed": 740,
     "status": "ok",
     "timestamp": 1599041453960,
     "user": {
      "displayName": "kei39maroond@yahoo.co.jp",
      "photoUrl": "",
      "userId": "09127499667912050250"
     },
     "user_tz": -540
    },
    "id": "C5PpVGZ1LPof",
    "outputId": "7549afba-8198-40fc-9510-4043d10c9582"
   },
   "outputs": [
    {
     "name": "stdout",
     "output_type": "stream",
     "text": [
      "3000\n",
      "(array([[0., 0., 0., ..., 0., 0., 0.],\n",
      "       [0., 0., 0., ..., 0., 0., 0.],\n",
      "       [0., 0., 0., ..., 0., 0., 0.],\n",
      "       ...,\n",
      "       [0., 0., 0., ..., 0., 0., 0.],\n",
      "       [0., 0., 0., ..., 0., 0., 0.],\n",
      "       [0., 0., 0., ..., 0., 0., 0.]]), array([4, 8, 4, 1, 3, 4, 9, 1, 3, 1, 6, 4, 9, 1, 8, 8, 8, 4, 3, 6],\n",
      "      dtype=uint8))\n"
     ]
    }
   ],
   "source": [
    "get_mini_batch = GetMiniBatch(X_train, y_train, batch_size=20)\n",
    "print(len(get_mini_batch)) # 2400\n",
    "print(get_mini_batch[5]) # 5番目のミニバッチが取得できる\n",
    "for mini_X_train, mini_y_train in get_mini_batch:\n",
    "    # このfor文内でミニバッチが使える\n",
    "    pass"
   ]
  },
  {
   "cell_type": "markdown",
   "metadata": {
    "colab_type": "text",
    "id": "RS_q92lHLPoi"
   },
   "source": [
    "\\__getitem__や\\__next__は\\__init__と同じ特殊メソッドの一種です。\n",
    "\n",
    "\n",
    "## 学習\n",
    "ニューラルネットワークの学習はフォワードプロパゲーションとバックプロパゲションの繰り返しになります。\n",
    "\n",
    "## 【問題1】重みの初期値を決めるコードの作成\n",
    "ニューラルネットワークの各層の重みの初期値を決めるコードを作成してください。\n",
    "\n",
    "\n",
    "重みの初期値は様々な方法が提案されていますが、今回はガウス分布による単純な初期化を行います。バイアスに関しても同様です。\n",
    "\n",
    "\n",
    "以下のコードを参考にしてください。標準偏差の値sigmaはハイパーパラメータです。発展的な重みの初期化方法については次のSprintで扱います。\n",
    "\n",
    "### 《サンプルコード》"
   ]
  },
  {
   "cell_type": "code",
   "execution_count": 14,
   "metadata": {
    "colab": {},
    "colab_type": "code",
    "executionInfo": {
     "elapsed": 824,
     "status": "ok",
     "timestamp": 1599041455085,
     "user": {
      "displayName": "kei39maroond@yahoo.co.jp",
      "photoUrl": "",
      "userId": "09127499667912050250"
     },
     "user_tz": -540
    },
    "id": "M5AWw-NwLPoi"
   },
   "outputs": [],
   "source": [
    "n_features = 784\n",
    "n_nodes1 = 400\n",
    "sigma = 0.01 # ガウス分布の標準偏差\n",
    "W1 = sigma * np.random.randn(n_features, n_nodes1)\n",
    "# W1: (784, 400)"
   ]
  },
  {
   "cell_type": "markdown",
   "metadata": {
    "colab_type": "text",
    "id": "XVzkxswZLPom"
   },
   "source": [
    "numpy.random.randn — NumPy v1.15 Manual"
   ]
  },
  {
   "cell_type": "code",
   "execution_count": 15,
   "metadata": {
    "colab": {},
    "colab_type": "code",
    "executionInfo": {
     "elapsed": 377,
     "status": "ok",
     "timestamp": 1599041456061,
     "user": {
      "displayName": "kei39maroond@yahoo.co.jp",
      "photoUrl": "",
      "userId": "09127499667912050250"
     },
     "user_tz": -540
    },
    "id": "kJlA61IwLPom"
   },
   "outputs": [],
   "source": [
    "def init_Wb(n_features = 784, n_nodes1 = 400, sigma=0.01):\n",
    "    W = sigma * np.random.randn(n_features, n_nodes1)\n",
    "    return W"
   ]
  },
  {
   "cell_type": "markdown",
   "metadata": {
    "colab_type": "text",
    "id": "pFt_i6wlLPoq"
   },
   "source": [
    "## 【問題2】フォワードプロパゲーションの実装\n",
    "三層のニューラルネットワークの フォワードプロパゲーション を作成してください。以下の説明ではノード数は1層目は400、2層目は200としますが、変更しても構いません。\n",
    "\n",
    "\n",
    "各層の数式を以下に示します。今回はそれぞれの記号が表す配列が、実装上どのようなndarrayのshapeになるかを併記してあります。\n",
    "\n",
    "\n",
    "batch_size = 20 # バッチサイズ  \n",
    "n_features = 784 # 特徴量の数  \n",
    "n_nodes1 = 400 # 1層目のノード数  \n",
    "n_nodes2 = 200 # 2層目のノード数  \n",
    "n_output = 10 # 出力のクラス数（3層目のノード数） \n",
    "\n",
    "「1層目」\n",
    "$$\n",
    "A_1 = X \\cdot W_1 + B_1\n",
    "$$\n",
    "\n",
    "X: 特徴量ベクトル (batch_size, n_features)\n",
    "\n",
    "\n",
    "W1: 1層目の重み (n_features, n_nodes1)\n",
    "\n",
    "\n",
    "B1: 1層目のバイアス (n_nodes1,)\n",
    "\n",
    "\n",
    "A1: 出力 (batch_size, n_nodes1)\n",
    "\n",
    "\n",
    "「1層目の活性化関数」\n",
    "$$\n",
    "Z_1 = f(A_1)\n",
    "$$\n",
    "\n",
    "f(): 活性化関数\n",
    "\n",
    "\n",
    "Z1出力 (batch_size, n_nodes1)\n",
    "\n",
    "\n",
    "「2層目」\n",
    "$$\n",
    "A_2 = Z_1 \\cdot W_2 + B_2\n",
    "$$\n",
    "\n",
    "W2: 2層目の重み (n_nodes1, n_nodes2)\n",
    "\n",
    "\n",
    "B2: 2層目のバイアス (n_nodes2,)\n",
    "\n",
    "\n",
    "A2: 出力 (batch_size, n_nodes2)\n",
    "\n",
    "\n",
    "「2層目の活性化関数」\n",
    "$$\n",
    "Z_2 = f(A_2)\n",
    "$$\n",
    "\n",
    "f(): 活性化関数\n",
    "\n",
    "\n",
    "Z2出力 (batch_size, n_nodes2)\n",
    "\n",
    "\n",
    "「3層目（出力層）」\n",
    "$$\n",
    "A_3 = Z_2 \\cdot W_3 + B_3\n",
    "$$\n",
    "W3: 3層目の重み (n_nodes2, n_output)\n",
    "\n",
    "\n",
    "B3: 3層目のバイアス (n_output,)\n",
    "\n",
    "\n",
    "A3: 出力 (batch_size, n_output)\n",
    "\n",
    "\n",
    "「3層目の活性化関数」\n",
    "$$\n",
    "Z_3 = softmax(A_3)\n",
    "$$\n",
    "\n",
    "softmax(): ソフトマックス関数\n",
    "\n",
    "\n",
    "Z3 出力 (batch_size, n_output)\n",
    "\n",
    "\n",
    "Z3 は各ラベル（0〜9）に対する確率の配列である。\n",
    "\n",
    "## 活性化関数（フォワードプロバゲーション）\n",
    "活性化関数を作成し、フォワードプロパゲーションの中で使用します。切り替えられるように実装することを推奨しますが、片方でも構いません。\n",
    "\n",
    "「シグモイド関数」\n",
    "$$\n",
    "f(Z) = sigmoid(A) = \\frac{1}{1+exp(-A)}\n",
    "$$\n",
    "\n",
    "指数関数 exp(-A)の計算はnp.expを使用してください。\n",
    "\n",
    "\n",
    "numpy.exp — NumPy v1.15 Manual\n",
    "\n",
    "\n",
    "「ハイパボリックタンジェント関数」\n",
    "\n",
    "\n",
    "次の数式で表されますが、np.tanhひとつで実現できます。\n",
    "\n",
    "$$\n",
    "f(Z) = tanh(A) = \\frac{exp(A) - exp(-A)}{exp(A) + exp(-A)}\n",
    "$$\n",
    "\n",
    "numpy.tanh — NumPy v1.15 Manual\n",
    "\n",
    "\n",
    "＊現在ではこれらの代わりにReLUと呼ばれる活性化関数が一般的です。次のSprintで扱います\n",
    "\n",
    "## ソフトマックス関数\n",
    "ソフトマックス関数を作成し、フォワードプロパゲーションの中で使用します。これも活性化関数の一種ですが、多クラス分類の出力層で使われる特性上、区別して扱われることが多いです。\n",
    "\n",
    "\n",
    "次の数式です。\n",
    "\n",
    "$$\n",
    "Z_{3\\_k} = \\frac{exp(A_{3\\_k})}{\\sum_{i=1}^{n_c}exp(A_{3\\_i})}\n",
    "$$\n",
    "\n",
    "Z3k: k番目のクラスの確率ベクトル (batch_size,)\n",
    "\n",
    "\n",
    "A3k: k番目のクラスにあたる前の層からのベクトル (batch_size,)\n",
    "\n",
    "\n",
    "nc: クラスの数、n_output。今回のMNISTでは10。\n",
    "\n",
    "\n",
    "分母は全てのクラスに相当する値を指数関数に通した上で足し合わせたものです。その中で、分子に k番目のクラスを持ってくることでk番目のクラスである確率が求まります。\n",
    "\n",
    "\n",
    "これを10クラス分計算し、合わせたものが Z3です。"
   ]
  },
  {
   "cell_type": "code",
   "execution_count": 16,
   "metadata": {
    "colab": {},
    "colab_type": "code",
    "executionInfo": {
     "elapsed": 645,
     "status": "ok",
     "timestamp": 1599041457888,
     "user": {
      "displayName": "kei39maroond@yahoo.co.jp",
      "photoUrl": "",
      "userId": "09127499667912050250"
     },
     "user_tz": -540
    },
    "id": "72Dp6s1BLPoq"
   },
   "outputs": [],
   "source": [
    "batch_size = 20 # バッチサイズ\n",
    "n_features = 784 # 特徴量の数\n",
    "n_nodes1 = 400 # 1層目のノード数\n",
    "n_nodes2 = 200 # 2層目のノード数\n",
    "n_output = 10 # 出力のクラス数（3層目のノード数）"
   ]
  },
  {
   "cell_type": "code",
   "execution_count": 17,
   "metadata": {
    "colab": {},
    "colab_type": "code",
    "executionInfo": {
     "elapsed": 494,
     "status": "ok",
     "timestamp": 1599041458565,
     "user": {
      "displayName": "kei39maroond@yahoo.co.jp",
      "photoUrl": "",
      "userId": "09127499667912050250"
     },
     "user_tz": -540
    },
    "id": "Gu-jfSbaLPoy"
   },
   "outputs": [],
   "source": [
    "def sigmoid_forward(X):\n",
    "    return 1 / (1 + np.exp(-X))\n",
    "\n",
    "def sigmoid_forward2(X):\n",
    "    return 1. / (1. + np.exp(-np.clip(z, -250, 250)))\n",
    "\n",
    "def tanh_forward(X):\n",
    "    return np.tanh(X)"
   ]
  },
  {
   "cell_type": "code",
   "execution_count": 18,
   "metadata": {
    "colab": {},
    "colab_type": "code",
    "executionInfo": {
     "elapsed": 792,
     "status": "ok",
     "timestamp": 1599041460149,
     "user": {
      "displayName": "kei39maroond@yahoo.co.jp",
      "photoUrl": "",
      "userId": "09127499667912050250"
     },
     "user_tz": -540
    },
    "id": "IWA_ZsbKLPo1"
   },
   "outputs": [],
   "source": [
    "def _softmax_forward(self, X):\n",
    "    c = np.max(X)\n",
    "    exp_x = np.exp(X - c)\n",
    "    sum_exp_x = np.sum(exp_x, axis=1).reshape(-1, 1)\n",
    "    y = exp_x / sum_exp_x\n",
    "    return y"
   ]
  },
  {
   "cell_type": "code",
   "execution_count": 19,
   "metadata": {
    "colab": {},
    "colab_type": "code",
    "executionInfo": {
     "elapsed": 422,
     "status": "ok",
     "timestamp": 1599041460379,
     "user": {
      "displayName": "kei39maroond@yahoo.co.jp",
      "photoUrl": "",
      "userId": "09127499667912050250"
     },
     "user_tz": -540
    },
    "id": "MzNICJKJLPo4"
   },
   "outputs": [],
   "source": [
    "X = np.array([[1,1],[2,2],[3,3]])#バッチサイズ３,入力サイズ２\n",
    "b = np.array([1,2,3])\n",
    "w = np.array([[1,2],[3,4],[5,6]])#出力サイズ３,入力サイズ２"
   ]
  },
  {
   "cell_type": "code",
   "execution_count": 20,
   "metadata": {
    "colab": {
     "base_uri": "https://localhost:8080/",
     "height": 122
    },
    "colab_type": "code",
    "executionInfo": {
     "elapsed": 1551,
     "status": "ok",
     "timestamp": 1599041462257,
     "user": {
      "displayName": "kei39maroond@yahoo.co.jp",
      "photoUrl": "",
      "userId": "09127499667912050250"
     },
     "user_tz": -540
    },
    "id": "BumiM1AZLPo6",
    "outputId": "7a9e9edb-68e3-4faf-dd71-26d611f8d6c8"
   },
   "outputs": [
    {
     "name": "stdout",
     "output_type": "stream",
     "text": [
      "[[ 4  9 14]\n",
      " [ 7 16 25]\n",
      " [10 23 36]]\n",
      "[[0.98201379 0.99987661 0.99999917]\n",
      " [0.99908895 0.99999989 1.        ]\n",
      " [0.9999546  1.         1.        ]]\n"
     ]
    }
   ],
   "source": [
    "z_h = np.dot(X, w.T) + b\n",
    "print(z_h)\n",
    "\n",
    "a_h = sigmoid_forward(z_h)\n",
    "print(a_h)\n"
   ]
  },
  {
   "cell_type": "code",
   "execution_count": 21,
   "metadata": {
    "colab": {},
    "colab_type": "code",
    "executionInfo": {
     "elapsed": 2060,
     "status": "ok",
     "timestamp": 1599041463277,
     "user": {
      "displayName": "kei39maroond@yahoo.co.jp",
      "photoUrl": "",
      "userId": "09127499667912050250"
     },
     "user_tz": -540
    },
    "id": "BFJSHt2jLPo9"
   },
   "outputs": [],
   "source": [
    "def _forward(self, X):\n",
    "    #隠れ層1の総入力\n",
    "    z_h = np.dot(X, self.w_h) + self.b_h\n",
    "\n",
    "    #隠れ層1の活性化関数\n",
    "    if self.activation == 'tan':\n",
    "        a_h = np.tanh(z_h)\n",
    "    elif self.activation == 'sigmoid':\n",
    "        a_h = 1 / (1 + np.exp(-z_h))\n",
    "\n",
    "    #隠れ層2の総入力\n",
    "    z_h2 = np.dot(a_h, self.w_h2) + self.b_h2\n",
    "\n",
    "    #隠れ層2の活性化関数\n",
    "    if self.activation == 'tan':\n",
    "        a_h2 = np.tanh(z_h2)\n",
    "    elif self.activation == 'sigmoid':\n",
    "        a_h2 = 1 / (1 + np.exp(-z_h2))        \n",
    "\n",
    "    #出力層の総入力\n",
    "    z_out = np.dot(a_h2, self.w_out) + self.b_out\n",
    "\n",
    "    #出力層の活性化関数\n",
    "    a_out = self._softmax_forward(z_out)\n",
    "\n",
    "    return z_h, a_h, z_h2, a_h2, z_out, a_out"
   ]
  },
  {
   "cell_type": "markdown",
   "metadata": {
    "colab_type": "text",
    "id": "t9W1mAc6LPo_"
   },
   "source": [
    "## 【問題3】交差エントロピー誤差の実装\n",
    "目的関数（損失関数）を作成します。\n",
    "\n",
    "\n",
    "多クラス分類の目的関数である交差エントロピー誤差 Lは次の数式です。\n",
    "\n",
    "$$\n",
    "L = - \\frac{1}{n_b}\\sum_{j}^{n_b}\\sum_{k}^{n_c}y_{jk} log(z_{3\\_jk})\n",
    "$$\n",
    "\n",
    "yij: j番目のサンプルのk番目のクラスの正解ラベル（one-hot表現で0か1のスカラー）\n",
    "\n",
    "\n",
    "z3ij: j番目のサンプルの k番目のクラスの確率（スカラー）\n",
    "\n",
    "\n",
    "nb: バッチサイズ、batch_size\n",
    "\n",
    "\n",
    "nc: クラスの数、n_output（今回のMNISTでは10）\n",
    "\n",
    "\n",
    "サンプル1つあたりの誤差が求まります。"
   ]
  },
  {
   "cell_type": "code",
   "execution_count": 22,
   "metadata": {
    "colab": {},
    "colab_type": "code",
    "executionInfo": {
     "elapsed": 952,
     "status": "ok",
     "timestamp": 1599041463685,
     "user": {
      "displayName": "kei39maroond@yahoo.co.jp",
      "photoUrl": "",
      "userId": "09127499667912050250"
     },
     "user_tz": -540
    },
    "id": "-8yjsywD1-g5"
   },
   "outputs": [],
   "source": [
    "def _cross_entropy(self, y_enc, output):\n",
    "    batch_size = y_enc.shape[0]\n",
    "    return -np.sum(y_enc * np.log(output)) / batch_size"
   ]
  },
  {
   "cell_type": "code",
   "execution_count": 23,
   "metadata": {
    "colab": {},
    "colab_type": "code",
    "executionInfo": {
     "elapsed": 1078,
     "status": "ok",
     "timestamp": 1599041463279,
     "user": {
      "displayName": "kei39maroond@yahoo.co.jp",
      "photoUrl": "",
      "userId": "09127499667912050250"
     },
     "user_tz": -540
    },
    "id": "TAqNHmRZLPpA"
   },
   "outputs": [],
   "source": [
    "def cross_entropy(y, t):\n",
    "    delta = 1e-7\n",
    "    batch_size  = y.shape[0]\n",
    "    return -np.sum(t * np.log(y + delta)) / batch_size"
   ]
  },
  {
   "cell_type": "markdown",
   "metadata": {
    "colab_type": "text",
    "id": "I-Qk0AEdLPpF"
   },
   "source": [
    "## 【問題4】バックプロパゲーションの実装\n",
    "三層のニューラルネットワークのバックプロパゲーションを作成してください。確率的勾配降下法を行う部分です。\n",
    "\n",
    "数式を以下に示します。\n",
    "\n",
    "まず、i層目の重みとバイアスの更新式です。WiとBiに対し、更新後のWi'と B'iは次の数式で求められます。\n",
    "\n",
    "$$\n",
    "W_i^{\\prime} = W_i - \\alpha \\frac{\\partial L}{\\partial W_i} \\\\\n",
    "B_i^{\\prime} = B_i - \\alpha \\frac{\\partial L}{\\partial B_i}\n",
    "$$\n",
    "\n",
    "α: 学習率（層ごとに変えることも可能だが、基本的には全て同じとする）  \n",
    "$\\frac{\\partial L}{\\partial W_i}$  :Wiに関する損失Lの勾配  \n",
    "$\\frac{\\partial L}{\\partial B_i}$  :Biに関する損失Lの勾配\n",
    "\n",
    "＊この勾配はミニバッチのサンプル数分の合計または平均を考えます。ここでは合計を計算します。\n",
    "\n",
    "この更新方法はSprint3線形回帰やsprint4ロジスティック回帰における最急降下法と同様です。より効果的な更新方法が知られており、それは次のSprintで扱います。\n",
    "\n",
    "勾配$\\frac{\\partial L}{\\partial W_i}$や$\\frac{\\partial L}{\\partial B_i}$を求めるために、バックプロパゲーションを行います。以下の数式です。ハイパボリックタンジェント関数を使用した例を載せました。シグモイド関数の場合の数式はその後ろにあります。\n",
    "\n",
    "\n",
    "「3層目」\n",
    "$$\n",
    "\\frac{\\partial L}{\\partial A_3} = Z_{3} - Y\\\\\n",
    "\\frac{\\partial L}{\\partial B_3} = \\sum_{j}^{n_b}\\frac{\\partial L}{\\partial A_{3\\_j}}\\\\\n",
    "\\frac{\\partial L}{\\partial W_3} = Z_{2}^{T}\\cdot \\frac{\\partial L}{\\partial A_3}\\\\\n",
    "\\frac{\\partial L}{\\partial Z_2} = \\frac{\\partial L}{\\partial A_3} \\cdot W_3^T\n",
    "$$\n",
    "\n",
    "$\\frac{\\partial L}{\\partial A_3}$: A3に関する損失Lの勾配 (batch_size, n_output)  \n",
    "$\\frac{\\partial L}{\\partial A_{3_j}}$: j番目のサンプルのA3に関する損失Lの勾配(n_nodes2,)  \n",
    "$\\frac{\\partial L}{\\partial B_3}$: B3に関する損失Lの勾配(n_output,)  \n",
    "$\\frac{\\partial L}{\\partial W_3}$: W3に関する損失Lの勾配 (n_nodes2, n_output)  \n",
    "$\\frac{\\partial L}{\\partial Z_2}$: Z2に関する損失Lの勾配 (batch_size, n_nodes2)  \n",
    "Z3：ソフトマックス関数の出力 (batch_size, n_output) \n",
    "\n",
    "Y: 正解ラベル (batch_size, n_output)  \n",
    "\n",
    "Z2: 2層目の活性化関数の出力 (batch_size, n_nodes2)  \n",
    "\n",
    "W3: 3層目の重み (n_nodes2, n_output)  \n",
    "\n",
    "\n",
    "「2層目」  \n",
    "$$\n",
    "\\frac{\\partial L}{\\partial A_2} = \\frac{\\partial L}{\\partial Z_2} \\odot \\{1-tanh^2(A_{2})\\}\\\\\n",
    "\\frac{\\partial L}{\\partial B_2} = \\sum_{j}^{n_b}\\frac{\\partial L}{\\partial A_{2\\_j}}\\\\\n",
    "\\frac{\\partial L}{\\partial W_2} = Z_{1}^T \\cdot \\frac{\\partial L}{\\partial A_2}\\\\\n",
    "\\frac{\\partial L}{\\partial Z_1} = \\frac{\\partial L}{\\partial A_2} \\cdot W_2^T\n",
    "$$\n",
    "\n",
    "$\\frac{\\partial L}{\\partial A_2}$: A2に関する損失Lの勾配 (batch_size, n_nodes2)  \n",
    "$\\frac{\\partial L}{\\partial A_{2_j}}$ : j番目のサンプルのA2に関する損失Lの勾配(n_nodes2,)  \n",
    "$\\frac{\\partial L}{\\partial B_2}$: B2に関する損失Lの勾配(n_output,)  \n",
    "$\\frac{\\partial L}{\\partial W_2}$: W2に関する損失Lの勾配 (n_nodes2, n_output)  \n",
    "$\\frac{\\partial L}{\\partial Z_2}$: Z2に関する損失Lの勾配 (batch_size, n_nodes2)   \n",
    "A2: 2層目の出力 (batch_size, n_nodes2)  \n",
    "\n",
    "Z1: 1層目の活性化関数の出力 (batch_size, n_nodes2)  \n",
    "\n",
    "W2: 2層目の重み (n_nodes2, n_output)  \n",
    "\n",
    "「1層目」\n",
    "\n",
    "$$\n",
    "\\frac{\\partial L}{\\partial A_1} = \\frac{\\partial L}{\\partial Z_1} \\odot \\{1-tanh^2(A_{1})\\}\\\\\n",
    "\\frac{\\partial L}{\\partial B_1} = \\sum_{j}^{n_b}\\frac{\\partial L}{\\partial A_{1\\_j}}\\\\\n",
    "\\frac{\\partial L}{\\partial W_1} = X^T \\cdot \\frac{\\partial L}{\\partial A_1}\\\\\n",
    "$$\n",
    "\n",
    "$\\frac{\\partial L}{\\partial A_2}$: A1に関する損失Lの勾配 (batch_size, n_nodes1)  \n",
    "$\\frac{\\partial L}{\\partial A_{2_j}}$ : j番目のサンプルのA1に関する損失Lの勾配(n_nodes1,)   \n",
    "$\\frac{\\partial L}{\\partial B_2}$: B1に関する損失Lの勾配(n_output,)  \n",
    "$\\frac{\\partial L}{\\partial W_2}$: W1に関する損失Lの勾配 (n_features, n_nodes1)    \n",
    "$\\frac{\\partial L}{\\partial Z_2}$: Z1に関する損失Lの勾配 (batch_size, n_nodes1)    \n",
    "A2: 2層目の出力 (batch_size, n_nodes1)  \n",
    "\n",
    "Z1: 1層目の活性化関数の出力 (batch_size, n_features)   \n",
    "\n",
    "W2: 2層目の重み (n_features, n_nodes1)  \n",
    "\n",
    "### 《補足》\n",
    "活性化関数にシグモイド関数を使用した場合は、次のようになります。\n",
    "\n",
    "$$\n",
    "\\frac{\\partial L}{\\partial A_2} = \\frac{\\partial L}{\\partial Z_2} \\odot  \\{1-sigmoid(A_{2})\\}sigmoid(A_{2})  \n",
    "\\\\\n",
    "\\frac{\\partial L}{\\partial A_1} = \\frac{\\partial L}{\\partial Z_1} \\odot  \\{1-sigmoid(A_{1})\\}sigmoid(A_{1})\n",
    "$$\n"
   ]
  },
  {
   "cell_type": "code",
   "execution_count": 24,
   "metadata": {
    "colab": {},
    "colab_type": "code",
    "executionInfo": {
     "elapsed": 617,
     "status": "ok",
     "timestamp": 1599041464275,
     "user": {
      "displayName": "kei39maroond@yahoo.co.jp",
      "photoUrl": "",
      "userId": "09127499667912050250"
     },
     "user_tz": -540
    },
    "id": "BZ328rPgLPpW"
   },
   "outputs": [],
   "source": [
    "def sigmoid_backward(a_h):\n",
    "    sigmoid_derivative_h = a_h * (1. - a_h)\n",
    "    return sigmoid_derivative_h"
   ]
  },
  {
   "cell_type": "code",
   "execution_count": 25,
   "metadata": {
    "colab": {},
    "colab_type": "code",
    "executionInfo": {
     "elapsed": 649,
     "status": "ok",
     "timestamp": 1599041464782,
     "user": {
      "displayName": "kei39maroond@yahoo.co.jp",
      "photoUrl": "",
      "userId": "09127499667912050250"
     },
     "user_tz": -540
    },
    "id": "cTSVOftiLPpY"
   },
   "outputs": [],
   "source": [
    "def tan_backward(a_h):\n",
    "    tan_derivative_h = 1 - a_h**2\n",
    "    return tan_derivative_h"
   ]
  },
  {
   "cell_type": "code",
   "execution_count": 26,
   "metadata": {
    "colab": {},
    "colab_type": "code",
    "executionInfo": {
     "elapsed": 645,
     "status": "ok",
     "timestamp": 1599041465297,
     "user": {
      "displayName": "kei39maroond@yahoo.co.jp",
      "photoUrl": "",
      "userId": "09127499667912050250"
     },
     "user_tz": -540
    },
    "id": "MGedGtGXLPpa"
   },
   "outputs": [],
   "source": [
    "def softmax_backward(a_out, y_train_enc):\n",
    "      batch_size = y_train_enc.shape[0]\n",
    "      dx = (a_out - y_train_enc) / batch_size\n",
    "      \n",
    "      return dx"
   ]
  },
  {
   "cell_type": "code",
   "execution_count": 27,
   "metadata": {
    "colab": {},
    "colab_type": "code",
    "executionInfo": {
     "elapsed": 633,
     "status": "ok",
     "timestamp": 1599041465768,
     "user": {
      "displayName": "kei39maroond@yahoo.co.jp",
      "photoUrl": "",
      "userId": "09127499667912050250"
     },
     "user_tz": -540
    },
    "id": "Iru5BfHFLPpd"
   },
   "outputs": [],
   "source": [
    "def _backward(self, X, y, z_h, a_h, z_h2, a_h2, z_out, a_out):\n",
    "    #出力層の誤差ベクトル\n",
    "    sigma_out = a_out - y\n",
    "    #出力層の各ノードの偏微分係数\n",
    "    grad_w_out = np.dot(a_h2.T, sigma_out)\n",
    "    grad_b_out = np.sum(sigma_out, axis=0)\n",
    "\n",
    "    #隠れ層2の活性化関数の偏微分係数\n",
    "    if self.activation == 'tan':\n",
    "        #ハイパボリックタンジェント関数の偏微分係数\n",
    "        derivative_h2 = 1 - a_h2**2\n",
    "    elif self.activation == 'sigmoid':\n",
    "        #シグモイド活性化関数の偏微分係数\n",
    "        derivative_h2 = a_h2 * (1. - a_h2)\n",
    "    #隠れ層2の誤差行列\n",
    "    sigma_h2 = (np.dot(sigma_out, self.w_out.T) * derivative_h2)\n",
    "    #隠れ層2の各ノードの偏微分係数\n",
    "    grad_w_h2 = np.dot(a_h.T, sigma_h2)\n",
    "    grad_b_h2 = np.sum(sigma_h2, axis=0)\n",
    "\n",
    "    #隠れ層1の活性化関数の偏微分係数\n",
    "    if self.activation == 'tan':\n",
    "        #ハイパボリックタンジェント関数の偏微分係数\n",
    "        derivative_h = 1 - a_h**2\n",
    "    elif self.activation == 'sigmoid':\n",
    "        #シグモイド活性化関数の偏微分係数\n",
    "        derivative_h = a_h * (1. - a_h)\n",
    "    #隠れ層1の誤差行列\n",
    "    sigma_h = (np.dot(sigma_h2, self.w_h2.T) * derivative_h)\n",
    "    #隠れ層1の各ノードの偏微分係数\n",
    "    grad_w_h = np.dot(X.T, sigma_h)\n",
    "    grad_b_h = np.sum(sigma_h, axis=0)\n",
    "\n",
    "    #重みの更新\n",
    "    self.w_out -= self.eta * grad_w_out\n",
    "    self.b_out -= self.eta * grad_b_out \n",
    "\n",
    "    self.w_h2 -= self.eta * grad_w_h2\n",
    "    self.b_h2 -= self.eta * grad_b_h2  \n",
    "\n",
    "    self.w_h -= self.eta * grad_w_h\n",
    "    self.b_h -= self.eta * grad_b_h  \n",
    "\n",
    "    return self\n",
    "    "
   ]
  },
  {
   "cell_type": "markdown",
   "metadata": {
    "colab_type": "text",
    "id": "IZu_17BgLPph"
   },
   "source": [
    "## 【問題5】推定\n",
    "推定を行うメソッドを作成してください。\n",
    "\n",
    "フォワードプロパゲーションによって出力された10個の確率の中で、最も高いものはどれかを判定します。\n",
    "\n",
    "numpy.argmax — NumPy v1.17 Manual"
   ]
  },
  {
   "cell_type": "code",
   "execution_count": 28,
   "metadata": {
    "colab": {},
    "colab_type": "code",
    "executionInfo": {
     "elapsed": 901,
     "status": "ok",
     "timestamp": 1599041467085,
     "user": {
      "displayName": "kei39maroond@yahoo.co.jp",
      "photoUrl": "",
      "userId": "09127499667912050250"
     },
     "user_tz": -540
    },
    "id": "7LDK2n0gLPpi"
   },
   "outputs": [],
   "source": [
    "def predict(self, X):\n",
    "    \"\"\"\n",
    "    ニューラルネットワーク分類器を使い推定する。\n",
    "\n",
    "    Parameters\n",
    "    ----------\n",
    "    X : 次の形のndarray, shape (n_samples, n_features)\n",
    "        サンプル\n",
    "\n",
    "    Returns\n",
    "    -------\n",
    "        次の形のndarray, shape (n_samples, 1)\n",
    "        推定結果\n",
    "    \"\"\"\n",
    "    z_h, a_h, z_h2, a_h2, z_out, a_out = self._forward(X)\n",
    "    y_pred = np.argmax(z_out, axis=1)\n",
    "\n",
    "    return y_pred"
   ]
  },
  {
   "cell_type": "markdown",
   "metadata": {
    "colab_type": "text",
    "id": "Ubljc02xLPpm"
   },
   "source": [
    "# 検証\n",
    "\n",
    "## 【問題6】学習と推定\n",
    "MNISTのデータを学習・推定し、Accuracyを計算してください。"
   ]
  },
  {
   "cell_type": "code",
   "execution_count": 29,
   "metadata": {
    "colab": {},
    "colab_type": "code",
    "executionInfo": {
     "elapsed": 694,
     "status": "ok",
     "timestamp": 1599041467974,
     "user": {
      "displayName": "kei39maroond@yahoo.co.jp",
      "photoUrl": "",
      "userId": "09127499667912050250"
     },
     "user_tz": -540
    },
    "id": "Wx9LIxy5LPpn"
   },
   "outputs": [],
   "source": [
    "class GetMiniBatch:\n",
    "    \"\"\"\n",
    "    ミニバッチを取得するイテレータ\n",
    "\n",
    "    Parameters\n",
    "    ----------\n",
    "    X : 次の形のndarray, shape (n_samples, n_features)\n",
    "      訓練データ\n",
    "    y : 次の形のndarray, shape (n_samples, 1)\n",
    "      正解値\n",
    "    batch_size : int\n",
    "      バッチサイズ\n",
    "    seed : int\n",
    "      NumPyの乱数のシード\n",
    "    \"\"\"\n",
    "    def __init__(self, X, y, batch_size = 20, seed=0):\n",
    "        self.batch_size = batch_size\n",
    "        np.random.seed(seed)\n",
    "        shuffle_index = np.random.permutation(np.arange(X.shape[0]))\n",
    "        self._X = X[shuffle_index]\n",
    "        self._y = y[shuffle_index]\n",
    "        self._stop = np.ceil(X.shape[0]/self.batch_size).astype(np.int)\n",
    "    def __len__(self):\n",
    "        return self._stop\n",
    "    def __getitem__(self,item):\n",
    "        p0 = item*self.batch_size\n",
    "        p1 = item*self.batch_size + self.batch_size\n",
    "        return self._X[p0:p1], self._y[p0:p1]        \n",
    "    def __iter__(self):\n",
    "        self._counter = 0\n",
    "        return self\n",
    "    def __next__(self):\n",
    "        if self._counter >= self._stop:\n",
    "            raise StopIteration()\n",
    "        p0 = self._counter*self.batch_size\n",
    "        p1 = self._counter*self.batch_size + self.batch_size\n",
    "        self._counter += 1\n",
    "        return self._X[p0:p1], self._y[p0:p1]"
   ]
  },
  {
   "cell_type": "code",
   "execution_count": 30,
   "metadata": {
    "colab": {},
    "colab_type": "code",
    "executionInfo": {
     "elapsed": 715,
     "status": "ok",
     "timestamp": 1599041468553,
     "user": {
      "displayName": "kei39maroond@yahoo.co.jp",
      "photoUrl": "",
      "userId": "09127499667912050250"
     },
     "user_tz": -540
    },
    "id": "pCxSwlfxuXeq"
   },
   "outputs": [],
   "source": [
    "n_features = 784\n",
    "n_nodes1 = 400\n",
    "sigma = 0.01 # ガウス分布の標準偏差\n",
    "W1 = sigma * np.random.randn(n_features, n_nodes1)\n",
    "# W1: (784, 400)\n",
    "\n",
    "batch_size = 20 # バッチサイズ\n",
    "n_features = 784 # 特徴量の数\n",
    "n_nodes1 = 400 # 1層目のノード数\n",
    "n_nodes2 = 200 # 2層目のノード数\n",
    "n_output = 10 # 出力のクラス数（3層目のノード数）"
   ]
  },
  {
   "cell_type": "code",
   "execution_count": 90,
   "metadata": {
    "colab": {},
    "colab_type": "code",
    "executionInfo": {
     "elapsed": 934,
     "status": "ok",
     "timestamp": 1599041469857,
     "user": {
      "displayName": "kei39maroond@yahoo.co.jp",
      "photoUrl": "",
      "userId": "09127499667912050250"
     },
     "user_tz": -540
    },
    "id": "Ud2nz0I7LPps"
   },
   "outputs": [],
   "source": [
    "class ScratchSimpleNeuralNetrowkClassifier():\n",
    "    \"\"\"\n",
    "    シンプルな三層ニューラルネットワーク分類器\n",
    "\n",
    "    Parameters\n",
    "    ----------\n",
    "    verbose : bool\n",
    "        学習過程の表示\n",
    "    eta : float\n",
    "        学習率\n",
    "    epochs : int\n",
    "        トレーニング回数\n",
    "    n_output : int\n",
    "        クラスラベルの個数\n",
    "    minibatch_size: int\n",
    "        ミニバッチあたりのトレーニングサンプルの個数\n",
    "    sigma: int (デフォルト:0.01 ガウス分布の標準偏差)\n",
    "        標準偏差の値\n",
    "    n_nodes1: int\n",
    "        1層目のノード数\n",
    "    n_nodes2: int\n",
    "        2層目のノード数\n",
    "    activation: str\n",
    "        活性化関数\n",
    "\n",
    "    Attributes\n",
    "    ----------\n",
    "    \"\"\"\n",
    "    def __init__(self, verbose = True, eta=0.001, epochs=100, n_output=10, \n",
    "                 minibatch_size=20, sigma=0.01, n_nodes1=400, n_nodes2=200,  \n",
    "                 activation='sigmoid'):\n",
    "        self.verbose = verbose\n",
    "        self.eta = eta\n",
    "        self.epochs = epochs\n",
    "        self.n_output = n_output\n",
    "        self.minibatch_size = minibatch_size\n",
    "        self.sigma = sigma\n",
    "        self.n_nodes1 = n_nodes1\n",
    "        self.n_nodes2 = n_nodes2\n",
    "        self.activation = activation\n",
    "        \n",
    "    def _init_Wb(self, X):\n",
    "        \"\"\"\n",
    "        ニューラルネットワークの各層の重みの初期値を決める。\n",
    "        今回はガウス分布による単純な初期化を行う。バイアスに関しても同様。\n",
    "        標準偏差の値sigmaはハイパーパラメータ。\n",
    "\n",
    "        Parameters\n",
    "        ----------\n",
    "        X : 次の形のndarray, shape (n_samples, n_features)\n",
    "            訓練データの特徴量\n",
    "        y : 次の形のndarray, shape (n_samples, )\n",
    "            訓練データの正解値\n",
    "        X_val : 次の形のndarray, shape (n_samples, n_features)\n",
    "            検証データの特徴量\n",
    "        y_val : 次の形のndarray, shape (n_samples, )\n",
    "            検証データの正解値\n",
    "        \"\"\"\n",
    "\n",
    "        #特徴量の個数\n",
    "        n_features = X.shape[1]\n",
    "        \n",
    "        #入力層 -> 隠れ層1の重み\n",
    "        self.b_h = self.sigma * np.random.randn(self.n_nodes1)\n",
    "        self.w_h = self.sigma * np.random.randn(n_features, self.n_nodes1)\n",
    "        \n",
    "        #隠れ層1 -> 隠れ層2の重み\n",
    "        self.b_h2 = self.sigma * np.random.randn(self.n_nodes2)\n",
    "        self.w_h2 = self.sigma * np.random.randn(self.n_nodes1, self.n_nodes2)\n",
    "\n",
    "        #隠れ層2 -> 出力層の重み\n",
    "        self.b_out = self.sigma * np.random.randn(self.n_output)\n",
    "        self.w_out = self.sigma * np.random.randn(self.n_nodes2, self.n_output)  \n",
    "        \n",
    "        return self       \n",
    "    \n",
    "    def _softmax_forward(self, X):\n",
    "        c = np.max(X)\n",
    "        exp_x = np.exp(X - c)\n",
    "        sum_exp_x = np.sum(exp_x, axis=1).reshape(-1, 1)\n",
    "        y = exp_x / sum_exp_x\n",
    "        return y\n",
    "    \n",
    "    def _forward(self, X):\n",
    "        #隠れ層1の総入力\n",
    "        z_h = np.dot(X, self.w_h) + self.b_h\n",
    "\n",
    "        #隠れ層1の活性化関数\n",
    "        if self.activation == 'tan':\n",
    "            a_h = np.tanh(z_h)\n",
    "        elif self.activation == 'sigmoid':\n",
    "            a_h = 1 / (1 + np.exp(-z_h))\n",
    "        \n",
    "        #隠れ層2の総入力\n",
    "        z_h2 = np.dot(a_h, self.w_h2) + self.b_h2\n",
    "\n",
    "        #隠れ層2の活性化関数\n",
    "        if self.activation == 'tan':\n",
    "            a_h2 = np.tanh(z_h2)\n",
    "        elif self.activation == 'sigmoid':\n",
    "            a_h2 = 1 / (1 + np.exp(-z_h2))        \n",
    "\n",
    "        #出力層の総入力\n",
    "        z_out = np.dot(a_h2, self.w_out) + self.b_out\n",
    "        \n",
    "        #出力層の活性化関数\n",
    "        a_out = self._softmax_forward(z_out)\n",
    "\n",
    "        return z_h, a_h, z_h2, a_h2, z_out, a_out\n",
    "    \n",
    "    def _backward(self, X, y, z_h, a_h, z_h2, a_h2, z_out, a_out):\n",
    "        #出力層の誤差ベクトル\n",
    "        sigma_out = a_out - y\n",
    "        #出力層の各ノードの偏微分係数\n",
    "        grad_w_out = np.dot(a_h2.T, sigma_out)\n",
    "        grad_b_out = np.sum(sigma_out, axis=0)\n",
    "\n",
    "        #隠れ層2の活性化関数の偏微分係数\n",
    "        if self.activation == 'tan':\n",
    "            #ハイパボリックタンジェント関数の偏微分係数\n",
    "            derivative_h2 = 1 - a_h2**2\n",
    "        elif self.activation == 'sigmoid':\n",
    "            #シグモイド活性化関数の偏微分係数\n",
    "            derivative_h2 = a_h2 * (1. - a_h2)\n",
    "        #隠れ層2の誤差行列\n",
    "        sigma_h2 = (np.dot(sigma_out, self.w_out.T) * derivative_h2)\n",
    "        #隠れ層2の各ノードの偏微分係数\n",
    "        grad_w_h2 = np.dot(a_h.T, sigma_h2)\n",
    "        grad_b_h2 = np.sum(sigma_h2, axis=0)\n",
    "\n",
    "        #隠れ層1の活性化関数の偏微分係数\n",
    "        if self.activation == 'tan':\n",
    "            #ハイパボリックタンジェント関数の偏微分係数\n",
    "            derivative_h = 1 - a_h**2\n",
    "        elif self.activation == 'sigmoid':\n",
    "            #シグモイド活性化関数の偏微分係数\n",
    "            derivative_h = a_h * (1. - a_h)\n",
    "        #隠れ層1の誤差行列\n",
    "        sigma_h = (np.dot(sigma_h2, self.w_h2.T) * derivative_h)\n",
    "        #隠れ層1の各ノードの偏微分係数\n",
    "        grad_w_h = np.dot(X.T, sigma_h)\n",
    "        grad_b_h = np.sum(sigma_h, axis=0)\n",
    "\n",
    "        #重みの更新\n",
    "        self.w_out -= self.eta * grad_w_out\n",
    "        self.b_out -= self.eta * grad_b_out \n",
    "\n",
    "        self.w_h2 -= self.eta * grad_w_h2\n",
    "        self.b_h2 -= self.eta * grad_b_h2  \n",
    "\n",
    "        self.w_h -= self.eta * grad_w_h\n",
    "        self.b_h -= self.eta * grad_b_h  \n",
    "\n",
    "        return self\n",
    "    \n",
    "    def _cross_entropy(self, y_enc, output):\n",
    "        batch_size = y_enc.shape[0]\n",
    "        return -np.sum(y_enc * np.log(output)) / batch_size\n",
    "    \n",
    "    def fit(self, X, y, X_val=None, y_val=None):\n",
    "        \"\"\"\n",
    "        ニューラルネットワーク分類器を学習する。\n",
    "\n",
    "        Parameters\n",
    "        ----------\n",
    "        X : 次の形のndarray, shape (n_samples, n_features)\n",
    "            訓練データの特徴量\n",
    "        y : 次の形のndarray, shape (n_samples, )\n",
    "            訓練データの正解値\n",
    "        X_val : 次の形のndarray, shape (n_samples, n_features)\n",
    "            検証データの特徴量\n",
    "        y_val : 次の形のndarray, shape (n_samples, )\n",
    "            検証データの正解値\n",
    "        \"\"\"\n",
    "        if self.verbose:\n",
    "            #verboseをTrueにした際は学習過程などを出力する\n",
    "            print()\n",
    "        \n",
    "        #重みの初期化\n",
    "        self._init_Wb(X)\n",
    "        \n",
    "        self.eval_ = {'cost': [], 'train_acc': [], 'valid_acc': []}\n",
    "        \n",
    "        for i in range(self.epochs):\n",
    "            get_mini_batch = GetMiniBatch(X, y, self.minibatch_size)\n",
    "            for mini_X, mini_y in get_mini_batch:\n",
    "\n",
    "                #forward propagation\n",
    "                z_h, a_h, z_h2, a_h2, z_out, a_out = self._forward(mini_X)\n",
    "                \n",
    "                #back propagation\n",
    "                self._backward(mini_X, mini_y, z_h, a_h, z_h2, a_h2, z_out, a_out)\n",
    "            \n",
    "            #評価\n",
    "            z_h, a_h, z_h2, a_h2, z_out, a_out = self._forward(X)\n",
    "            cost = self._cross_entropy(y, a_out)\n",
    "            print(cost)\n",
    "            #y_train_pred = self.predict(X)\n",
    "            #y_valid_pred = self.predict(X_val)\n",
    "            self.eval_['cost'].append(cost)\n",
    "\n",
    "        return self\n",
    "    \n",
    "    def predict(self, X):\n",
    "        \"\"\"\n",
    "        ニューラルネットワーク分類器を使い推定する。\n",
    "\n",
    "        Parameters\n",
    "        ----------\n",
    "        X : 次の形のndarray, shape (n_samples, n_features)\n",
    "            サンプル\n",
    "\n",
    "        Returns\n",
    "        -------\n",
    "            次の形のndarray, shape (n_samples, 1)\n",
    "            推定結果\n",
    "        \"\"\"\n",
    "        z_h, a_h, z_h2, a_h2, z_out, a_out = self._forward(X)\n",
    "        y_pred = np.argmax(z_out, axis=1)\n",
    "\n",
    "        return y_pred"
   ]
  },
  {
   "cell_type": "markdown",
   "metadata": {
    "colab_type": "text",
    "id": "cYpnd-EKLPq9"
   },
   "source": [
    "## 【問題7】学習曲線のプロット\n",
    "学習曲線をプロットしてください。\n",
    "\n",
    "ニューラルネットワークは過学習が発生しやすいため、学習曲線の確認が重要です。訓練データと検証データに対するエポックごとの損失（交差エントロピー誤差）を記録できるようにする必要があります。"
   ]
  },
  {
   "cell_type": "markdown",
   "metadata": {
    "colab_type": "text",
    "id": "-7Sm9QpyQfs5"
   },
   "source": [
    "#### 小さいデータを作って学習してみる"
   ]
  },
  {
   "cell_type": "code",
   "execution_count": 67,
   "metadata": {
    "colab": {
     "base_uri": "https://localhost:8080/",
     "height": 355
    },
    "colab_type": "code",
    "executionInfo": {
     "elapsed": 1564,
     "status": "ok",
     "timestamp": 1599041471604,
     "user": {
      "displayName": "kei39maroond@yahoo.co.jp",
      "photoUrl": "",
      "userId": "09127499667912050250"
     },
     "user_tz": -540
    },
    "id": "eu6hiUSALPpz",
    "outputId": "0b6edff4-732b-4376-9f59-a0065e0be4ab"
   },
   "outputs": [
    {
     "data": {
      "image/png": "[encoded data removed]",
      "text/plain": [
       "<Figure size 360x360 with 1 Axes>"
      ]
     },
     "metadata": {
      "needs_background": "light"
     },
     "output_type": "display_data"
    },
    {
     "name": "stdout",
     "output_type": "stream",
     "text": [
      "X2.shape => (10000, 2)\n",
      "y2.shape => (10000,)\n"
     ]
    }
   ],
   "source": [
    "import numpy as np\n",
    "\n",
    "X2 = np.random.uniform(-1.2,1.2,(10000,2))\n",
    "y2 = np.sum(X2**2,axis=1)<1\n",
    "plt.figure(figsize=(5,5))\n",
    "plt.scatter(X2[:,0], X2[:,1], c=y2, s=1)\n",
    "plt.show()\n",
    "print(\"X2.shape =>\",X2.shape)\n",
    "print(\"y2.shape =>\",y2.shape)"
   ]
  },
  {
   "cell_type": "code",
   "execution_count": 68,
   "metadata": {},
   "outputs": [],
   "source": [
    "#データを分割\n",
    "\n",
    "X2_train,X2_test,y2_train,y2_test = train_test_split(X2, y2)"
   ]
  },
  {
   "cell_type": "code",
   "execution_count": 69,
   "metadata": {
    "colab": {
     "base_uri": "https://localhost:8080/",
     "height": 52
    },
    "colab_type": "code",
    "executionInfo": {
     "elapsed": 884,
     "status": "ok",
     "timestamp": 1599041471607,
     "user": {
      "displayName": "kei39maroond@yahoo.co.jp",
      "photoUrl": "",
      "userId": "09127499667912050250"
     },
     "user_tz": -540
    },
    "id": "aALzhlKLLPp4",
    "outputId": "4b930a7d-aa80-4e84-800f-7140135466cc"
   },
   "outputs": [],
   "source": [
    "#onehot化\n",
    "\n",
    "enc = OneHotEncoder(handle_unknown='ignore', sparse=False)\n",
    "y2_train_one_hot = enc.fit_transform(y2_train[:, np.newaxis])\n",
    "y2_test_one_hot = enc.fit_transform(y2_test[:, np.newaxis])"
   ]
  },
  {
   "cell_type": "code",
   "execution_count": 70,
   "metadata": {
    "colab": {},
    "colab_type": "code",
    "executionInfo": {
     "elapsed": 639,
     "status": "ok",
     "timestamp": 1599041472379,
     "user": {
      "displayName": "kei39maroond@yahoo.co.jp",
      "photoUrl": "",
      "userId": "09127499667912050250"
     },
     "user_tz": -540
    },
    "id": "AQBwYyW8LPpv"
   },
   "outputs": [],
   "source": [
    "nn2 = ScratchSimpleNeuralNetrowkClassifier(verbose = True, \n",
    "                                          eta=0.0001, \n",
    "                                          epochs=50, \n",
    "                                          n_output=2, \n",
    "                                          minibatch_size=20, \n",
    "                                          sigma=0.01, \n",
    "                                          n_nodes1=400, \n",
    "                                          n_nodes2=200, \n",
    "                                          activation='tan')"
   ]
  },
  {
   "cell_type": "code",
   "execution_count": 71,
   "metadata": {},
   "outputs": [
    {
     "name": "stdout",
     "output_type": "stream",
     "text": [
      "\n",
      "0.6924616170721448\n",
      "0.6917683871791472\n",
      "0.6914484043707166\n",
      "0.6912999508050737\n",
      "0.6912305671742929\n",
      "0.6911977981718268\n",
      "0.6911820942350078\n",
      "0.6911744165539022\n",
      "0.6911705617501241\n",
      "0.6911685590880013\n",
      "0.6911674740377268\n",
      "0.691166856512986\n",
      "0.6911664852404911\n",
      "0.6911662485519844\n",
      "0.6911660882813324\n",
      "0.6911659730225248\n",
      "0.6911658851612837\n",
      "0.6911658144426983\n",
      "0.6911657546894637\n",
      "0.691165702070711\n",
      "0.6911656541543981\n",
      "0.691165609368468\n",
      "0.6911655666830836\n",
      "0.6911655254170639\n",
      "0.6911654851167448\n",
      "0.6911654454785253\n",
      "0.6911654062985384\n",
      "0.6911653674395556\n",
      "0.6911653288090384\n",
      "0.6911652903444939\n",
      "0.691165252003667\n",
      "0.6911652137579476\n",
      "0.6911651755879349\n",
      "0.6911651374804458\n",
      "0.6911650994264982\n",
      "0.6911650614199478\n",
      "0.6911650234565685\n",
      "0.6911649855334314\n",
      "0.6911649476484838\n",
      "0.6911649098002662\n",
      "0.6911648719877203\n",
      "0.6911648342100588\n",
      "0.6911647964666789\n",
      "0.6911647587571019\n",
      "0.6911647210809337\n",
      "0.6911646834378383\n",
      "0.6911646458275179\n",
      "0.6911646082497024\n",
      "0.6911645707041396\n",
      "0.6911645331905905\n"
     ]
    },
    {
     "data": {
      "text/plain": [
       "<__main__.ScratchSimpleNeuralNetrowkClassifier at 0x1f0c4f23b48>"
      ]
     },
     "execution_count": 71,
     "metadata": {},
     "output_type": "execute_result"
    }
   ],
   "source": [
    "nn2.fit(X2_train, y2_train_one_hot)"
   ]
  },
  {
   "cell_type": "code",
   "execution_count": 72,
   "metadata": {
    "colab": {
     "base_uri": "https://localhost:8080/",
     "height": 265
    },
    "colab_type": "code",
    "executionInfo": {
     "elapsed": 80508,
     "status": "ok",
     "timestamp": 1599041561788,
     "user": {
      "displayName": "kei39maroond@yahoo.co.jp",
      "photoUrl": "",
      "userId": "09127499667912050250"
     },
     "user_tz": -540
    },
    "id": "MNW991q1SC0g",
    "outputId": "a7b0c88b-ef45-4d1b-a1be-22c2ecad22a5"
   },
   "outputs": [
    {
     "data": {
      "image/png": "[encoded data removed]",
      "text/plain": [
       "<Figure size 432x288 with 1 Axes>"
      ]
     },
     "metadata": {
      "needs_background": "light"
     },
     "output_type": "display_data"
    }
   ],
   "source": [
    "import matplotlib.pyplot as plt\n",
    "plt.plot(range(nn2.epochs), nn2.eval_['cost'])\n",
    "plt.show()"
   ]
  },
  {
   "cell_type": "markdown",
   "metadata": {},
   "source": [
    "コスト関数は下がってはいるが、下がり幅が小さいのが気になるところ"
   ]
  },
  {
   "cell_type": "code",
   "execution_count": 76,
   "metadata": {
    "colab": {},
    "colab_type": "code",
    "executionInfo": {
     "elapsed": 76491,
     "status": "ok",
     "timestamp": 1599041561970,
     "user": {
      "displayName": "kei39maroond@yahoo.co.jp",
      "photoUrl": "",
      "userId": "09127499667912050250"
     },
     "user_tz": -540
    },
    "id": "Q-0G9U8aLPqD"
   },
   "outputs": [],
   "source": [
    "y2_test_pred = nn2.predict(X2_test)"
   ]
  },
  {
   "cell_type": "code",
   "execution_count": 77,
   "metadata": {},
   "outputs": [
    {
     "name": "stdout",
     "output_type": "stream",
     "text": [
      "Accuracy:  0.536\n"
     ]
    }
   ],
   "source": [
    "#識別精度の評価\n",
    "from sklearn.metrics import accuracy_score\n",
    "\n",
    "print('Accuracy: ', accuracy_score(y2_test, y2_test_pred))"
   ]
  },
  {
   "cell_type": "markdown",
   "metadata": {},
   "source": [
    "やはり識別精度はあまり高くない"
   ]
  },
  {
   "cell_type": "markdown",
   "metadata": {
    "colab_type": "text",
    "id": "pYCLoCMtLPqH"
   },
   "source": [
    "#### MNISTを学習、推定"
   ]
  },
  {
   "cell_type": "code",
   "execution_count": 91,
   "metadata": {},
   "outputs": [],
   "source": [
    "#訓練データと検証データに分割\n",
    "\n",
    "from sklearn.model_selection import train_test_split\n",
    "X_train, X_val, y_train, y_val = train_test_split(X_train, y_train, test_size=0.2)"
   ]
  },
  {
   "cell_type": "code",
   "execution_count": 92,
   "metadata": {},
   "outputs": [],
   "source": [
    "#one-hot化\n",
    "\n",
    "from sklearn.preprocessing import OneHotEncoder\n",
    "enc = OneHotEncoder(handle_unknown='ignore', sparse=False)\n",
    "\n",
    "y_train_one_hot = enc.fit_transform(y_train[:, np.newaxis])\n",
    "y_val_one_hot = enc.transform(y_val[:, np.newaxis])"
   ]
  },
  {
   "cell_type": "code",
   "execution_count": 101,
   "metadata": {
    "colab": {},
    "colab_type": "code",
    "executionInfo": {
     "elapsed": 3657,
     "status": "ok",
     "timestamp": 1599031088951,
     "user": {
      "displayName": "kei39maroond@yahoo.co.jp",
      "photoUrl": "",
      "userId": "09127499667912050250"
     },
     "user_tz": -540
    },
    "id": "B_pYnEWsLPqI"
   },
   "outputs": [],
   "source": [
    "nn = ScratchSimpleNeuralNetrowkClassifier(verbose = True, \n",
    "                                          eta=0.001, \n",
    "                                          epochs=50, \n",
    "                                          n_output=10, \n",
    "                                          minibatch_size=20, \n",
    "                                          sigma=0.01, \n",
    "                                          n_nodes1=400, \n",
    "                                          n_nodes2=200, \n",
    "                                          activation='sigmoid')"
   ]
  },
  {
   "cell_type": "code",
   "execution_count": 102,
   "metadata": {
    "colab": {
     "base_uri": "https://localhost:8080/",
     "height": 987
    },
    "colab_type": "code",
    "executionInfo": {
     "elapsed": 686040,
     "status": "ok",
     "timestamp": 1599031772217,
     "user": {
      "displayName": "kei39maroond@yahoo.co.jp",
      "photoUrl": "",
      "userId": "09127499667912050250"
     },
     "user_tz": -540
    },
    "id": "Q7V2gvVxLPqP",
    "outputId": "c7f2cba8-3fd8-4576-9f77-8b1864772dd9"
   },
   "outputs": [
    {
     "name": "stdout",
     "output_type": "stream",
     "text": [
      "\n",
      "2.3084057742013813\n",
      "2.305417764843963\n",
      "2.298887726887343\n",
      "2.09225818417639\n",
      "1.4186964983478496\n",
      "0.9739619095607782\n",
      "0.7621448834127826\n",
      "0.6751153909407\n",
      "0.58991238758656\n",
      "0.5305276107125406\n",
      "0.49086827016748374\n",
      "0.4579048689498818\n",
      "0.42631070603058385\n",
      "0.3973425709907142\n",
      "0.37454695963545925\n",
      "0.3567182489892799\n",
      "0.3416045780157457\n",
      "0.3280871327689757\n",
      "0.3156942008442938\n",
      "0.3041798707661186\n",
      "0.29336359526346983\n",
      "0.28309650838317063\n",
      "0.2732657001618591\n",
      "0.26379693569891094\n",
      "0.25464896629987355\n",
      "0.2458044101766176\n",
      "0.23726174508647233\n",
      "0.22902953497358755\n",
      "0.22112188228108803\n",
      "0.21355408588220876\n",
      "0.2063385119133851\n",
      "0.19948140259585623\n",
      "0.19298128643092602\n",
      "0.18682910699745306\n",
      "0.18100965590690624\n",
      "0.17550364976618513\n",
      "0.17028982632964088\n",
      "0.16534664168196989\n",
      "0.16065340797966723\n",
      "0.15619091616998718\n",
      "0.15194168632258329\n",
      "0.14788999062520097\n",
      "0.14402175092906624\n",
      "0.14032436990424105\n",
      "0.13678653021254686\n",
      "0.13339798621920126\n",
      "0.13014936891658532\n",
      "0.12703202066962804\n",
      "0.12403786963284202\n",
      "0.12115934524830971\n"
     ]
    },
    {
     "data": {
      "text/plain": [
       "<__main__.ScratchSimpleNeuralNetrowkClassifier at 0x1f0c2d1c308>"
      ]
     },
     "execution_count": 102,
     "metadata": {},
     "output_type": "execute_result"
    }
   ],
   "source": [
    "nn.fit(X_train, y_train_one_hot)"
   ]
  },
  {
   "cell_type": "code",
   "execution_count": 109,
   "metadata": {},
   "outputs": [],
   "source": [
    "nn2 = ScratchSimpleNeuralNetrowkClassifier(verbose = True, \n",
    "                                          eta=0.001, \n",
    "                                          epochs=50, \n",
    "                                          n_output=10, \n",
    "                                          minibatch_size=20, \n",
    "                                          sigma=0.01, \n",
    "                                          n_nodes1=400, \n",
    "                                          n_nodes2=200, \n",
    "                                          activation='sigmoid')"
   ]
  },
  {
   "cell_type": "code",
   "execution_count": 110,
   "metadata": {},
   "outputs": [
    {
     "name": "stdout",
     "output_type": "stream",
     "text": [
      "\n",
      "2.323419134190946\n",
      "2.3216446170702807\n",
      "2.320001999525857\n",
      "2.318471783954443\n",
      "2.3170319566139623\n",
      "2.315656125412316\n",
      "2.3143097901295615\n",
      "2.31294278320708\n",
      "2.3114731148622747\n",
      "2.3097494556816502\n",
      "2.3074537905880836\n",
      "2.30380975498735\n",
      "2.2965285787173\n",
      "2.2770066979349\n",
      "2.2056623250597185\n",
      "2.004319724867093\n",
      "1.8219539650944667\n",
      "1.707922704550473\n",
      "1.5946398365923087\n",
      "1.4321369941837396\n",
      "1.2750084511813482\n",
      "1.1658167443154737\n",
      "1.068785651412454\n",
      "0.9658300450586245\n",
      "0.8782878805129185\n",
      "0.8191677765250568\n",
      "0.7792488132605478\n",
      "0.7496225489861096\n",
      "0.7251949203693001\n",
      "0.7032041062692035\n",
      "0.682127478649638\n",
      "0.6611386693953981\n",
      "0.6398936975503849\n",
      "0.6184791049310092\n",
      "0.5973693048505831\n",
      "0.5772593199861906\n",
      "0.5587793094140167\n",
      "0.5422641045072683\n",
      "0.5277136123218703\n",
      "0.5149008554651002\n",
      "0.5035074937025907\n",
      "0.4932162882875956\n",
      "0.4837525757273077\n",
      "0.4748928281077049\n",
      "0.46645868639332205\n",
      "0.4583076004160599\n",
      "0.4503250872815691\n",
      "0.442420279505454\n",
      "0.4345249767475951\n",
      "0.4265956972502495\n"
     ]
    },
    {
     "data": {
      "text/plain": [
       "<__main__.ScratchSimpleNeuralNetrowkClassifier at 0x1f0c2d30048>"
      ]
     },
     "execution_count": 110,
     "metadata": {},
     "output_type": "execute_result"
    }
   ],
   "source": [
    "nn2.fit(X_val, y_val_one_hot)"
   ]
  },
  {
   "cell_type": "code",
   "execution_count": 111,
   "metadata": {
    "colab": {
     "base_uri": "https://localhost:8080/",
     "height": 265
    },
    "colab_type": "code",
    "executionInfo": {
     "elapsed": 678676,
     "status": "ok",
     "timestamp": 1599031772228,
     "user": {
      "displayName": "kei39maroond@yahoo.co.jp",
      "photoUrl": "",
      "userId": "09127499667912050250"
     },
     "user_tz": -540
    },
    "id": "VJA2N6rjLPqx",
    "outputId": "690a651a-ee46-4a48-ccba-149f38ae625d"
   },
   "outputs": [
    {
     "data": {
      "image/png": "[encoded data removed]",
      "text/plain": [
       "<Figure size 432x288 with 1 Axes>"
      ]
     },
     "metadata": {
      "needs_background": "light"
     },
     "output_type": "display_data"
    }
   ],
   "source": [
    "import matplotlib.pyplot as plt\n",
    "\n",
    "plt.plot(range(nn.epochs), nn.eval_['cost'], color='r', label='Train')\n",
    "plt.plot(range(nn2.epochs), nn2.eval_['cost'], color='g', label='Test')\n",
    "plt.xlabel('epoch')\n",
    "plt.ylabel('loss')\n",
    "plt.legend()\n",
    "plt.show()"
   ]
  },
  {
   "cell_type": "code",
   "execution_count": 105,
   "metadata": {
    "colab": {
     "base_uri": "https://localhost:8080/",
     "height": 354
    },
    "colab_type": "code",
    "executionInfo": {
     "elapsed": 670249,
     "status": "error",
     "timestamp": 1599031772564,
     "user": {
      "displayName": "kei39maroond@yahoo.co.jp",
      "photoUrl": "",
      "userId": "09127499667912050250"
     },
     "user_tz": -540
    },
    "id": "blo49jHULPq0",
    "outputId": "4d421e51-a54d-4dd4-b7d4-3c89f49e8311"
   },
   "outputs": [],
   "source": [
    "y_test_pred = nn.predict(X_val)"
   ]
  },
  {
   "cell_type": "code",
   "execution_count": 106,
   "metadata": {
    "colab": {},
    "colab_type": "code",
    "executionInfo": {
     "elapsed": 669548,
     "status": "aborted",
     "timestamp": 1599031772557,
     "user": {
      "displayName": "kei39maroond@yahoo.co.jp",
      "photoUrl": "",
      "userId": "09127499667912050250"
     },
     "user_tz": -540
    },
    "id": "_WtA2KHELPq5"
   },
   "outputs": [
    {
     "name": "stdout",
     "output_type": "stream",
     "text": [
      "Accuracy:  0.9575833333333333\n"
     ]
    }
   ],
   "source": [
    "#識別精度の評価\n",
    "from sklearn.metrics import accuracy_score\n",
    "\n",
    "print('Accuracy: ', accuracy_score(y_val, y_test_pred))"
   ]
  },
  {
   "cell_type": "markdown",
   "metadata": {
    "colab": {},
    "colab_type": "code",
    "id": "YruyXRPqLPq-"
   },
   "source": [
    "かなり高い識別精度を示した。"
   ]
  },
  {
   "cell_type": "markdown",
   "metadata": {
    "colab_type": "text",
    "id": "AfCg9KcPLPrA"
   },
   "source": [
    "## 【問題8】（アドバンス課題）誤分類の確認\n",
    "誤分類した画像はどのようなものだったかを確認してください。推定値を用意し、以下のコードを実行してください。\n",
    "\n",
    "\n",
    "《コード》"
   ]
  },
  {
   "cell_type": "code",
   "execution_count": null,
   "metadata": {
    "colab": {},
    "colab_type": "code",
    "id": "Ld2fq616LPrA"
   },
   "outputs": [],
   "source": [
    "\"\"\"\n",
    "語分類結果を並べて表示する。画像の上の表示は「推定結果/正解」である。\n",
    "\n",
    "Parameters:\n",
    "----------\n",
    "y_pred : 推定値のndarray (n_samples,)\n",
    "y_val : 検証データの正解ラベル(n_samples,)\n",
    "X_val : 検証データの特徴量（n_samples, n_features)\n",
    "\"\"\"\n",
    "import numpy as np\n",
    "import matplotlib.pyplot as plt\n",
    "num = 36 # いくつ表示するか\n",
    "true_false = y_pred==y_val\n",
    "false_list = np.where(true_false==False)[0].astype(np.int)\n",
    "if false_list.shape[0] < num:\n",
    "    num = false_list.shape[0]\n",
    "fig = plt.figure(figsize=(6, 6))\n",
    "fig.subplots_adjust(left=0, right=0.8,  bottom=0, top=0.8, hspace=1, wspace=0.5)\n",
    "for i in range(num):\n",
    "    ax = fig.add_subplot(6, 6, i + 1, xticks=[], yticks=[])\n",
    "    ax.set_title(\"{} / {}\".format(y_pred[false_list[i]],y_val[false_list[i]]))\n",
    "    ax.imshow(X_val.reshape(-1,28,28)[false_list[i]], cmap='gray')"
   ]
  },
  {
   "cell_type": "code",
   "execution_count": null,
   "metadata": {
    "colab": {},
    "colab_type": "code",
    "id": "-tu_J91ULPrF"
   },
   "outputs": [],
   "source": []
  }
 ],
 "metadata": {
  "colab": {
   "collapsed_sections": [
    "cYpnd-EKLPq9"
   ],
   "name": "Sprint 深層学習スクラッチ ニューラルネットワーク.ipynb",
   "provenance": []
  },
  "kernelspec": {
   "display_name": "Python 3",
   "language": "python",
   "name": "python3"
  },
  "language_info": {
   "codemirror_mode": {
    "name": "ipython",
    "version": 3
   },
   "file_extension": ".py",
   "mimetype": "text/x-python",
   "name": "python",
   "nbconvert_exporter": "python",
   "pygments_lexer": "ipython3",
   "version": "3.7.6"
  }
 },
 "nbformat": 4,
 "nbformat_minor": 1
}
