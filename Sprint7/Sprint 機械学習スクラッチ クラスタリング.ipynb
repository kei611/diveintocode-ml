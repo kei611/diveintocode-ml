{
 "cells": [
  {
   "cell_type": "markdown",
   "metadata": {},
   "source": [
    "# K-meansスクラッチ\n",
    "\n",
    "K-meansのクラスをスクラッチで作成していきます。NumPyなど最低限のライブラリのみを使いアルゴリズムを実装していきます。\n",
    "\n",
    "\n",
    "以下に雛形を用意してあります。このScratchKMeansクラスにコードを書き加えていってください。"
   ]
  },
  {
   "cell_type": "code",
   "execution_count": 1,
   "metadata": {},
   "outputs": [
    {
     "ename": "SyntaxError",
     "evalue": "invalid syntax (<ipython-input-1-de26e439c0aa>, line 23)",
     "output_type": "error",
     "traceback": [
      "\u001b[1;36m  File \u001b[1;32m\"<ipython-input-1-de26e439c0aa>\"\u001b[1;36m, line \u001b[1;32m23\u001b[0m\n\u001b[1;33m    self.tol  tol\u001b[0m\n\u001b[1;37m                ^\u001b[0m\n\u001b[1;31mSyntaxError\u001b[0m\u001b[1;31m:\u001b[0m invalid syntax\n"
     ]
    }
   ],
   "source": [
    "class ScratchKMeans():\n",
    "    \"\"\"\n",
    "    K-meansのスクラッチ実装\n",
    "\n",
    "    Parameters\n",
    "    ----------\n",
    "    n_clusters : int\n",
    "      クラスタ数\n",
    "    n_init : int\n",
    "      中心点の初期値を何回変えて計算するか\n",
    "    max_iter : int\n",
    "      1回の計算で最大何イテレーションするか\n",
    "    tol : float\n",
    "      イテレーションを終了する基準となる中心点と重心の許容誤差\n",
    "    verbose : bool\n",
    "      学習過程を出力する場合はTrue\n",
    "    \"\"\"\n",
    "    def __init__(self, n_clusters, n_init, max_iter, tol, verbose=False):\n",
    "        # ハイパーパラメータを属性として記録\n",
    "        self.n_clusters = n_clusters\n",
    "        self.n_init = n_init\n",
    "        self.max_iter = max_iter\n",
    "        self.tol  tol\n",
    "        self.verbose = verbose\n",
    "    def fit(self, X):\n",
    "        \"\"\"\n",
    "        K-meansによるクラスタリングを計算\n",
    "        Parameters\n",
    "        ----------\n",
    "        X : 次の形のndarray, shape (n_samples, n_features)\n",
    "            訓練データの特徴量\n",
    "        \"\"\"\n",
    "        if self.verbose:\n",
    "            #verboseをTrueにした際は学習過程を出力\n",
    "            print()\n",
    "        pass\n",
    "    def predict(self, X):\n",
    "        \"\"\"\n",
    "        入力されたデータがどのクラスタに属するかを計算\n",
    "        \"\"\"\n",
    "        pass\n",
    "        return"
   ]
  },
  {
   "cell_type": "markdown",
   "metadata": {},
   "source": [
    "## クラスタリングのための人工データセット\n",
    "クラスタリングを実験するための人工データセットを作成するコードを用意しています。\n",
    "\n",
    "\n",
    "このmake_blobs関数は正解ラベルも出力してますが、今回は使用しません。使用しないことを明示するために、 _（アンダースコア） で受け取っています。\n",
    "\n",
    "\n",
    "《シンプルデータセット3》"
   ]
  },
  {
   "cell_type": "code",
   "execution_count": 12,
   "metadata": {},
   "outputs": [],
   "source": [
    "from sklearn.datasets import make_blobs\n",
    "X, _ = make_blobs(n_samples=100, n_features=2, centers=4, cluster_std=0.5, shuffle=True, random_state=0)"
   ]
  },
  {
   "cell_type": "code",
   "execution_count": 13,
   "metadata": {},
   "outputs": [
    {
     "data": {
      "text/plain": [
       "(100, 2)"
      ]
     },
     "execution_count": 13,
     "metadata": {},
     "output_type": "execute_result"
    }
   ],
   "source": [
    "X.shape"
   ]
  },
  {
   "cell_type": "markdown",
   "metadata": {},
   "source": [
    "## 学習\n",
    "K-meansの学習に必要な要素を順番に作成していきます。"
   ]
  },
  {
   "cell_type": "markdown",
   "metadata": {},
   "source": [
    "## 【問題1】中心点の初期値を決める\n",
    "入力されたデータからK個の中心点μ1からμKの初期値を決めるコードを作成してください。Kは指定したクラスタ数です。\n",
    "\n",
    "最もシンプルな初期値の決定方法は、データ点Xnの中からランダムに K個選ぶことです。今回はこれを実装してください。\n",
    "\n",
    "K-meansの学習結果は中心点μの初期値に影響を受けます。そのため、学習時には複数個の初期値で計算を行います。"
   ]
  },
  {
   "cell_type": "code",
   "execution_count": 2,
   "metadata": {},
   "outputs": [],
   "source": [
    "import numpy as np\n",
    "import pandas as pd\n",
    "import random\n",
    "import matplotlib.pyplot as plt\n",
    "%matplotlib inline"
   ]
  },
  {
   "cell_type": "code",
   "execution_count": 3,
   "metadata": {},
   "outputs": [],
   "source": [
    "def choose_initnum(self, X):\n",
    "    init_num = np.random.choice(X.shape[0], self.n_clusters, replace=False)\n",
    "\n",
    "    return X[init_num, :]"
   ]
  },
  {
   "cell_type": "markdown",
   "metadata": {},
   "source": [
    "## 【問題2】SSEを求める関数の作成\n",
    "クラスタ内誤差平方和（SSE, Sum of Squared Errors）を計算する関数を作成してください。\n",
    "\n",
    "K-meansはこのSSEを最小化するrnkとμkを求めることが目的となります。複数個の初期値で計算したクラスタリング結果から、どれを最終的に採用するかを決める際にこのSSEを求める関数を使用します。\n",
    "\n",
    "$$\n",
    "SSE = \\sum_{n=1}^N \\sum_{k=1}^K r_{nk} \\|X_n - \\mu_k\\|^2\n",
    "$$\n",
    "\n",
    "n: データ点のインデックス\n",
    "\n",
    "k: クラスタのインデックス\n",
    "\n",
    "Xn: n番目のデータ点\n",
    "\n",
    "μk: k番目の中心点\n",
    "\n",
    "rnk: データ点Xnがクラスタkに所属していたら1、そうでなければ0"
   ]
  },
  {
   "cell_type": "code",
   "execution_count": 4,
   "metadata": {},
   "outputs": [],
   "source": [
    "def calc_sse(self, X):\n",
    "    sse_sum = 0\n",
    "    for i in range(X.shape[0]):\n",
    "        cl_num = self.cluster[i]\n",
    "        cl_num = int(cl_num)\n",
    "        sse_sum += np.linalg.norm(X[i] - self.centroids[cl_num])\n",
    "    return sse_sum"
   ]
  },
  {
   "cell_type": "markdown",
   "metadata": {},
   "source": [
    "## クラスタの割り当てと中心点の移動を繰り返す\n",
    "K-meansの学習の基本は以下の2つのフェーズを繰り返すことです。\n",
    "\n",
    "- 中心点μkを固定した上でSSEを最小化する クラスタの割り当てrnkを選ぶ。\n",
    "- クラスタの割り当てrnkを固定した上で SSEを最小化する中心点μkを選ぶ。\n",
    "\n",
    "最初の中心点μkは問題1で作成した初期値です。\n",
    "\n",
    "順番に見ていきます。"
   ]
  },
  {
   "cell_type": "markdown",
   "metadata": {},
   "source": [
    "## 【問題3】クラスタへの割り当て\n",
    "全てのデータ点Xnを最も近い中心点μkに割り当てるコードを作成してください。\n",
    "\n",
    "K-menasにおける 近い とは点と点のユークリッド距離が小さくなることです。ユークリッド距離とはピタゴラスの定理（三平方の定理）で求められるものですが、ベクトル p,qに対しては以下の数式で表現できます。\n",
    "\n",
    "$$\n",
    "\\|q-p\\| = \\sqrt{(q-p)\\cdot(q-p)}\n",
    "$$\n",
    "\n",
    "NumPyにはこの関数がnp.linalg.normとして用意されているため使用してください。\n",
    "\n",
    "\n",
    "numpy.linalg.norm — NumPy v1.17 Manual\n",
    "\n",
    "\n",
    "中心点μkを固定した上でSSEを最小化していることになりますが、SSE自体を求める必要はありません。"
   ]
  },
  {
   "cell_type": "code",
   "execution_count": 5,
   "metadata": {},
   "outputs": [],
   "source": [
    "def nearest_cluster(self, X):\n",
    "    self.centroids = self.choose_initnum(X)\n",
    "    self.cluster = np.zeros(X.shape[0])\n",
    "    for i in range(X.shape[0]):\n",
    "        dist = np.zeros(self.n_clusters)\n",
    "        for j in range(self.n_clusters):  \n",
    "            dist[j] = np.linalg.norm(X[i] - self.centroids[j])\n",
    "\n",
    "        self.cluster[i] = np.argmin(dist)\n",
    "    return self"
   ]
  },
  {
   "cell_type": "markdown",
   "metadata": {},
   "source": [
    "## 【問題4】中心点の移動\n",
    "中心点μkをk番目のクラスタに割り当てられる全てのデータ点Xnの平均値（重心）に移動するコードを作成してください。\n",
    "\n",
    "\n",
    "クラスタの割り当てrnkを固定した上でSSEを最小化していることになりますが、SSE自体を求める必要はありません。"
   ]
  },
  {
   "cell_type": "code",
   "execution_count": 6,
   "metadata": {},
   "outputs": [],
   "source": [
    "def move_center(self, X):\n",
    "    self.gap = 0\n",
    "    for i in range(self.n_clusters):\n",
    "        self.gap += (self.centroids[i] - np.mean(X[self.cluster==i], axis=0)).sum()\n",
    "        self.centroids[i] = np.mean(X[self.cluster==i], axis=0)\n",
    "\n",
    "    return self"
   ]
  },
  {
   "cell_type": "markdown",
   "metadata": {},
   "source": [
    "## 【問題5】繰り返し\n",
    "クラスタへの割り当てと中心点の移動を繰り返すことで学習を行うコードを作成してください。\n",
    "\n",
    "\n",
    "次のどれかの条件を満たしたらこれを止めます。\n",
    "\n",
    "\n",
    "- 繰り返しが指定した回数に到達する。（雛形では引数max_iter）\n",
    "- 中心点μkと重心の差の合計が指定した許容値以下になる。（雛形では引数tol）"
   ]
  },
  {
   "cell_type": "code",
   "execution_count": 7,
   "metadata": {},
   "outputs": [],
   "source": [
    "def roop(self, X):\n",
    "    for i in range(self.max_iter):\n",
    "        self.nearest_cluster(X)\n",
    "        self.move_center(X)\n",
    "        if self.gap <= self.tol:\n",
    "            break\n",
    "    return self "
   ]
  },
  {
   "cell_type": "markdown",
   "metadata": {},
   "source": [
    "## 【問題6】異なる初期値で計算\n",
    "問題5の繰り返しを、指定した回数初期値を変更して計算するコードを作成してください。回数は雛形では引数n_initで指定します。\n",
    "\n",
    "\n",
    "複数計算した中でSSEが最小になったものが最終的な学習結果となるため、その時の中心点μkを保持しておきます。"
   ]
  },
  {
   "cell_type": "code",
   "execution_count": 8,
   "metadata": {},
   "outputs": [],
   "source": [
    "def fit(self, X):\n",
    "    \"\"\"\n",
    "    K-meansによるクラスタリングを計算\n",
    "    Parameters\n",
    "    ----------\n",
    "    X : 次の形のndarray, shape (n_samples, n_features)\n",
    "        訓練データの特徴量\n",
    "    \"\"\"\n",
    "    if self.verbose:\n",
    "        #verboseをTrueにした際は学習過程を出力\n",
    "        print()\n",
    "\n",
    "    sse = np.zeros(self.n_init)\n",
    "    centroids = []\n",
    "    for i in range(self.n_init):  \n",
    "        self.roop(X)\n",
    "        sse[i] = self.calc_sse(X)\n",
    "        centroids.append(self.centroids)\n",
    "\n",
    "    self.best_sse = np.min(sse)\n",
    "    self.best_centroids = centroids[np.argmin(sse)]\n",
    "\n",
    "    return self"
   ]
  },
  {
   "cell_type": "markdown",
   "metadata": {},
   "source": [
    "## 【問題7】推定\n",
    "新たなデータに対してどのクラスタに所属するかの推定の際は、学習時の1つ目のフェーズと同じことを行います。\n",
    "\n",
    "\n",
    "- データ点Xnと学習で決まった中心点μkに対し、SSEを最小化するrnkを選ぶ。\n",
    "\n",
    "具体的には次のことです。\n",
    "\n",
    "- データ点Xnを最も近いμkに割り当てる。"
   ]
  },
  {
   "cell_type": "code",
   "execution_count": 9,
   "metadata": {},
   "outputs": [],
   "source": [
    "def predict(self, X):\n",
    "    \"\"\"\n",
    "    入力されたデータがどのクラスタに属するかを計算\n",
    "    \"\"\"\n",
    "    centroids = self.choose_initnum(X)   \n",
    "    cluster = np.zeros(X.shape[0])\n",
    "    for i in range(X.shape[0]):\n",
    "        dist = np.zeros(self.n_clusters)\n",
    "        for j in range(self.n_clusters):  \n",
    "            dist[j] = np.linalg.norm(X[i] - centroids[j])\n",
    "        cluster[i] = np.argmin(dist)\n",
    "    return cluster"
   ]
  },
  {
   "cell_type": "code",
   "execution_count": 292,
   "metadata": {},
   "outputs": [],
   "source": [
    "def predict(self, X):\n",
    "    \"\"\"\n",
    "    入力されたデータがどのクラスタに属するかを計算\n",
    "    \"\"\"  \n",
    "    cluster = np.zeros(X.shape[0])\n",
    "    for i in range(X.shape[0]):\n",
    "        dist = np.zeros(self.n_clusters)\n",
    "        for j in range(self.n_clusters):  \n",
    "            dist[j] = np.linalg.norm(X[i] - self.centroids[j])\n",
    "        cluster[i] = np.argmin(dist)\n",
    "    return cluster"
   ]
  },
  {
   "cell_type": "code",
   "execution_count": 293,
   "metadata": {},
   "outputs": [],
   "source": [
    "class ScratchKMeans():\n",
    "    \"\"\"\n",
    "    K-meansのスクラッチ実装\n",
    "\n",
    "    Parameters\n",
    "    ----------\n",
    "    n_clusters : int\n",
    "      クラスタ数\n",
    "    n_init : int\n",
    "      中心点の初期値を何回変えて計算するか\n",
    "    max_iter : int\n",
    "      1回の計算で最大何イテレーションするか\n",
    "    tol : float\n",
    "      イテレーションを終了する基準となる中心点と重心の許容誤差\n",
    "    verbose : bool\n",
    "      学習過程を出力する場合はTrue\n",
    "    \"\"\"\n",
    "    def __init__(self, n_clusters, n_init, max_iter, tol, verbose=False):\n",
    "        # ハイパーパラメータを属性として記録\n",
    "        self.n_clusters = n_clusters\n",
    "        self.n_init = n_init\n",
    "        self.max_iter = max_iter\n",
    "        self.tol = tol\n",
    "        self.verbose = verbose\n",
    "        \n",
    "    def fit(self, X):\n",
    "        \"\"\"\n",
    "        K-meansによるクラスタリングを計算\n",
    "        Parameters\n",
    "        ----------\n",
    "        X : 次の形のndarray, shape (n_samples, n_features)\n",
    "            訓練データの特徴量\n",
    "        \"\"\"\n",
    "        if self.verbose:\n",
    "            #verboseをTrueにした際は学習過程を出力\n",
    "            print()\n",
    "\n",
    "        sse = np.zeros(self.n_init)\n",
    "        centroids = []\n",
    "        for i in range(self.n_init):  \n",
    "            self.roop(X)\n",
    "            sse[i] = self.calc_sse(X)\n",
    "            centroids.append(self.centroids)\n",
    "\n",
    "        self.best_sse = np.min(sse)\n",
    "        self.best_centroids = centroids[np.argmin(sse)]\n",
    "\n",
    "        return self\n",
    "    \n",
    "    def roop(self, X):\n",
    "        for i in range(self.max_iter):\n",
    "            self.nearest_cluster(X)\n",
    "            self.move_center(X)\n",
    "            if self.gap <= self.tol:\n",
    "                break\n",
    "        return self\n",
    "    \n",
    "    def move_center(self, X):\n",
    "        self.gap = 0\n",
    "        for i in range(self.n_clusters):\n",
    "            self.gap += (self.centroids[i] - np.mean(X[self.cluster==i], axis=0)).sum()\n",
    "            self.centroids[i] = np.mean(X[self.cluster==i], axis=0)\n",
    "\n",
    "        return self\n",
    "    \n",
    "    def nearest_cluster(self, X):\n",
    "        self.centroids = self.choose_initnum(X)\n",
    "        self.cluster = np.zeros(X.shape[0])\n",
    "        for i in range(X.shape[0]):\n",
    "            dist = np.zeros(self.n_clusters)\n",
    "            for j in range(self.n_clusters):  \n",
    "                dist[j] = np.linalg.norm(X[i] - self.centroids[j])\n",
    "            self.cluster[i] = np.argmin(dist)\n",
    "        return self\n",
    "    \n",
    "    def calc_sse(self, X):\n",
    "        sse_sum = 0\n",
    "        for i in range(X.shape[0]):\n",
    "            cl_num = self.cluster[i]\n",
    "            cl_num = int(cl_num)\n",
    "            sse_sum += np.linalg.norm(X[i] - self.centroids[cl_num])\n",
    "        return sse_sum\n",
    "        \n",
    "    def choose_initnum(self, X):\n",
    "        init_num = np.random.choice(X.shape[0], self.n_clusters, replace=False)\n",
    "        return X[init_num, :]\n",
    "\n",
    "    def predict(self, X):\n",
    "        \"\"\"\n",
    "        入力されたデータがどのクラスタに属するかを計算\n",
    "        \"\"\"  \n",
    "        cluster = np.zeros(X.shape[0])\n",
    "        for i in range(X.shape[0]):\n",
    "            dist = np.zeros(self.n_clusters)\n",
    "            for j in range(self.n_clusters):  \n",
    "                dist[j] = np.linalg.norm(X[i] - self.centroids[j])\n",
    "            cluster[i] = np.argmin(dist)\n",
    "        return cluster\n"
   ]
  },
  {
   "cell_type": "code",
   "execution_count": 299,
   "metadata": {},
   "outputs": [
    {
     "data": {
      "text/plain": [
       "<__main__.ScratchKMeans at 0x1df2cbc28c8>"
      ]
     },
     "execution_count": 299,
     "metadata": {},
     "output_type": "execute_result"
    }
   ],
   "source": [
    "km = ScratchKMeans(n_clusters=4,\n",
    "                   n_init=10, \n",
    "                   max_iter=300, \n",
    "                   tol=1e-4)\n",
    "km.fit(X)"
   ]
  },
  {
   "cell_type": "code",
   "execution_count": 300,
   "metadata": {},
   "outputs": [
    {
     "data": {
      "text/plain": [
       "array([2., 0., 2., 2., 2., 2., 3., 0., 2., 0., 0., 0., 0., 0., 0., 1., 1.,\n",
       "       3., 3., 1., 2., 0., 3., 1., 2., 3., 3., 2., 1., 1., 1., 0., 1., 1.,\n",
       "       3., 2., 0., 1., 0., 3., 2., 3., 0., 3., 3., 0., 1., 3., 2., 2., 2.,\n",
       "       1., 3., 3., 3., 0., 0., 1., 1., 0., 0., 1., 1., 2., 1., 0., 3., 3.,\n",
       "       1., 2., 0., 1., 2., 0., 2., 2., 3., 3., 1., 1., 1., 0., 3., 2., 1.,\n",
       "       3., 1., 1., 2., 2., 2., 3., 2., 3., 3., 0., 0., 3., 0., 2.])"
      ]
     },
     "execution_count": 300,
     "metadata": {},
     "output_type": "execute_result"
    }
   ],
   "source": [
    "y_km = km.predict(X)\n",
    "y_km"
   ]
  },
  {
   "cell_type": "code",
   "execution_count": 301,
   "metadata": {},
   "outputs": [
    {
     "name": "stdout",
     "output_type": "stream",
     "text": [
      "64.36694604349611\n",
      "[[-1.26811733  7.76378266]\n",
      " [-1.61318321  3.06863899]\n",
      " [ 1.99186903  0.96561071]\n",
      " [ 0.77324009  4.23350408]]\n"
     ]
    }
   ],
   "source": [
    "print(km.best_sse)\n",
    "print(km.best_centroids)"
   ]
  },
  {
   "cell_type": "code",
   "execution_count": 302,
   "metadata": {},
   "outputs": [
    {
     "data": {
      "text/plain": [
       "<matplotlib.collections.PathCollection at 0x1df2c9c4608>"
      ]
     },
     "execution_count": 302,
     "metadata": {},
     "output_type": "execute_result"
    },
    {
     "data": {
      "image/png": "[encoded data removed]",
      "text/plain": [
       "<Figure size 432x288 with 1 Axes>"
      ]
     },
     "metadata": {
      "needs_background": "light"
     },
     "output_type": "display_data"
    }
   ],
   "source": [
    "plt.scatter(X[:, 0], X[:, 1])"
   ]
  },
  {
   "cell_type": "code",
   "execution_count": 303,
   "metadata": {},
   "outputs": [
    {
     "data": {
      "image/png": "[encoded data removed]",
      "text/plain": [
       "<Figure size 432x288 with 1 Axes>"
      ]
     },
     "metadata": {
      "needs_background": "light"
     },
     "output_type": "display_data"
    }
   ],
   "source": [
    "plt.scatter(X[y_km==0, 0], X[y_km==0, 1], c='lightgreen', label='cluster1')\n",
    "plt.scatter(X[y_km==1, 0], X[y_km==1, 1], c='orange', label='cluster2')\n",
    "plt.scatter(X[y_km==2, 0], X[y_km==2, 1], c='lightblue', label='cluster3')\n",
    "plt.scatter(X[y_km==3, 0], X[y_km==3, 1], c='red', label='cluster4')\n",
    "\n",
    "plt.scatter(km.best_centroids[:, 0], km.best_centroids[:, 1], c='black', \n",
    "            marker='*', label='centroids')\n",
    "\n",
    "plt.legend()\n",
    "plt.show()"
   ]
  },
  {
   "cell_type": "markdown",
   "metadata": {},
   "source": [
    "## 【問題8】エルボー法の実装\n",
    "K-meansにおいて中心点の個数kは人為的に決める必要がありますが、その判断方法としてエルボー法があります。エルボー法により中心点の個数kを検討するためのコードを作成してください。\n",
    "\n",
    "\n",
    "SSEを縦軸、クラスタ数kを横軸にした折れ線グラフを表示します。このためにK-meansのインスタンスからはSSEを取得できるようにしてください。"
   ]
  },
  {
   "cell_type": "code",
   "execution_count": 304,
   "metadata": {},
   "outputs": [
    {
     "name": "stdout",
     "output_type": "stream",
     "text": [
      "264.23375429919724\n",
      "169.51988741812653\n",
      "103.9156949601737\n",
      "62.63796180120853\n",
      "58.91784980210224\n",
      "55.132335067578886\n",
      "51.98719100754231\n",
      "48.958045421104764\n",
      "47.20914238246891\n",
      "44.737887602948064\n"
     ]
    },
    {
     "data": {
      "image/png": "[encoded data removed]",
      "text/plain": [
       "<Figure size 432x288 with 1 Axes>"
      ]
     },
     "metadata": {
      "needs_background": "light"
     },
     "output_type": "display_data"
    }
   ],
   "source": [
    "distortions = []\n",
    "for i in range(1, 11):\n",
    "    km = ScratchKMeans(n_clusters=i,\n",
    "                   n_init=100, \n",
    "                   max_iter=400, \n",
    "                   tol=0.01)\n",
    "    km.fit(X)\n",
    "    km.predict(X)\n",
    "    print(km.best_sse)\n",
    "    distortions.append(km.best_sse)\n",
    "    \n",
    "plt.plot(range(1, 11), distortions)\n",
    "plt.xlabel('Number of clusters')\n",
    "plt.ylabel('SSE')\n",
    "plt.show()"
   ]
  },
  {
   "cell_type": "markdown",
   "metadata": {},
   "source": [
    "## 【問題9】（アドバンス課題）シルエット図\n",
    "kを決める助けになるものとしてシルエット図もあります。シルエット図を表示するコードを作成してください。\n",
    "\n",
    "Matplotlibを使い図を表示するコードは用意しました。以下を与えてください。\n",
    "\n",
    "\n",
    "- silhouette_vals : shape(n_samples,)のndarray、各データ点のシルエット係数\n",
    "\n",
    "\n",
    "- silhouette_avg : float、シルエット係数の平均値\n",
    "\n",
    "\n",
    "- y_km : shape(n_samples,)のndarray、各データ点のクラスタラベル名\n",
    "\n",
    "\n",
    "- cluster_labels : list、クラスタのラベル名のリスト\n",
    "\n",
    "\n",
    "- n_clusters : int、クラスタ数\n",
    "\n",
    "\n",
    "n番目のデータ点に対するシルエット係数snは以下の数式でを求められます。この数式を実装し、シルエット図を確認してください。\n",
    "\n",
    "$$\n",
    "s_n = \\frac{b_n-a_n}{max(b_n,a_n)}\n",
    "$$\n",
    "\n",
    "an: 凝集度。同じクラスタ内の他のデータ点との距離の平均値。\n",
    "\n",
    "bn: 乖離度。最も近い他のクラスタ内の全てのデータ点との距離の平均値。\n",
    "\n",
    "\n",
    "乖離度bが大きく、凝集度aが小さい時が理想的であり、シルエット係数sは1に近くなります。\n",
    "\n",
    "《シルエット図を表示するためのコード》"
   ]
  },
  {
   "cell_type": "code",
   "execution_count": 305,
   "metadata": {},
   "outputs": [
    {
     "data": {
      "image/png": "[encoded data removed]",
      "text/plain": [
       "<Figure size 432x288 with 1 Axes>"
      ]
     },
     "metadata": {
      "needs_background": "light"
     },
     "output_type": "display_data"
    }
   ],
   "source": [
    "from matplotlib import cm\n",
    "y_ax_lower, y_ax_upper = 0, 0\n",
    "yticks = []\n",
    "for i, c in enumerate(cluster_labels):\n",
    "    c_silhouette_vals = silhouette_vals[y_km == c]\n",
    "    c_silhouette_vals.sort()\n",
    "    y_ax_upper += len(c_silhouette_vals)\n",
    "    color = cm.jet(i / n_clusters)\n",
    "    plt.barh(range(y_ax_lower, y_ax_upper), c_silhouette_vals, height=1.0, edgecolor='none', color=color)\n",
    "    yticks.append((y_ax_lower + y_ax_upper) / 2)\n",
    "    y_ax_lower += len(c_silhouette_vals)\n",
    "plt.axvline(silhouette_avg, color=\"red\", linestyle=\"--\")\n",
    "plt.yticks(yticks, cluster_labels + 1)\n",
    "plt.ylabel('Cluster')\n",
    "plt.xlabel('Silhouette coefficient')\n",
    "plt.show()"
   ]
  },
  {
   "cell_type": "markdown",
   "metadata": {},
   "source": [
    "シルエット係数が負の値を示しているサンプルがある。つまり乖離度 < 凝集度となっているサンプルがある。"
   ]
  },
  {
   "cell_type": "code",
   "execution_count": 262,
   "metadata": {},
   "outputs": [
    {
     "ename": "SyntaxError",
     "evalue": "invalid syntax (<ipython-input-262-ab99169a240e>, line 6)",
     "output_type": "error",
     "traceback": [
      "\u001b[1;36m  File \u001b[1;32m\"<ipython-input-262-ab99169a240e>\"\u001b[1;36m, line \u001b[1;32m6\u001b[0m\n\u001b[1;33m    an = np.linalg.norm(X[n] - np.mean(X[self.cluster==cl_num, axis=0]))\u001b[0m\n\u001b[1;37m                                                                   ^\u001b[0m\n\u001b[1;31mSyntaxError\u001b[0m\u001b[1;31m:\u001b[0m invalid syntax\n"
     ]
    }
   ],
   "source": [
    "#データ点の平均値との距離に等しい\n",
    "\n",
    "def calc_silhouette_vals(X, y_km, model):\n",
    "    for n in range(X.shape[0]):\n",
    "        cl_num = self.cluster[n]\n",
    "        an = np.linalg.norm(X[n] - np.mean(X[self.cluster==cl_num, axis=0]))\n",
    "\n",
    "        dist = []\n",
    "        for centroid in self.centroids:\n",
    "            dist.append(np.linalg.norm(X[n] - centroid))\n",
    "        \n",
    "        "
   ]
  },
  {
   "cell_type": "code",
   "execution_count": 263,
   "metadata": {},
   "outputs": [
    {
     "data": {
      "image/png": "[encoded data removed]",
      "text/plain": [
       "<Figure size 432x288 with 1 Axes>"
      ]
     },
     "metadata": {
      "needs_background": "light"
     },
     "output_type": "display_data"
    }
   ],
   "source": [
    "from matplotlib import cm\n",
    "from sklearn.metrics import silhouette_samples\n",
    "\n",
    "silhouette_vals = silhouette_samples(X, y_km)\n",
    "\n",
    "silhouette_avg = np.mean(silhouette_vals)\n",
    "\n",
    "cluster_labels = np.unique(y_km)\n",
    "n_clusters = cluster_labels.shape[0]\n",
    "\n",
    "y_ax_lower, y_ax_upper = 0, 0\n",
    "yticks = []\n",
    "for i, c in enumerate(cluster_labels):\n",
    "    c_silhouette_vals = silhouette_vals[y_km == c]\n",
    "    c_silhouette_vals.sort()\n",
    "    y_ax_upper += len(c_silhouette_vals)\n",
    "    color = cm.jet(i / n_clusters)\n",
    "    plt.barh(range(y_ax_lower, y_ax_upper), c_silhouette_vals, height=1.0, edgecolor='none', color=color)\n",
    "    yticks.append((y_ax_lower + y_ax_upper) / 2)\n",
    "    y_ax_lower += len(c_silhouette_vals)\n",
    "plt.axvline(silhouette_avg, color=\"red\", linestyle=\"--\")\n",
    "plt.yticks(yticks, cluster_labels + 1)\n",
    "plt.ylabel('Cluster')\n",
    "plt.xlabel('Silhouette coefficient')\n",
    "plt.show()"
   ]
  },
  {
   "cell_type": "markdown",
   "metadata": {},
   "source": [
    "# クラスタ分析\n",
    "\n",
    "### 卸売業者のデータ分析\n",
    "クラスタリングを利用法を学ぶために、Wholesale customers Data Setを使用します。\n",
    "\n",
    "\n",
    "UCI Machine Learning Repository: Wholesale customers Data Set\n",
    "\n",
    "\n",
    "Data Folderの中からWholesale customers data.csvをダウンロードしてください。これはポルトガルのリスボンにある卸売業者（wholesale）が顧客から集めたデータです。中身は各顧客が年間でミルクや食料品を何ユーロ購入しているかというデータになっています。顧客は小売店やレストランです。RegionとChannelは取り覗き、金額のデータでK-meansを利用します。\n",
    "\n",
    "\n",
    "### 次元削減\n",
    "金額に関する特徴量は6個ありますが、可視化するために次元削減を行います。これに関してはscikit-learnによるPCAのサンプルコードを用意したので利用してください。\n",
    "\n",
    "\n",
    "#### 《PCAのサンプルコード》"
   ]
  },
  {
   "cell_type": "code",
   "execution_count": 264,
   "metadata": {},
   "outputs": [
    {
     "data": {
      "text/html": [
       "<div>\n",
       "<style scoped>\n",
       "    .dataframe tbody tr th:only-of-type {\n",
       "        vertical-align: middle;\n",
       "    }\n",
       "\n",
       "    .dataframe tbody tr th {\n",
       "        vertical-align: top;\n",
       "    }\n",
       "\n",
       "    .dataframe thead th {\n",
       "        text-align: right;\n",
       "    }\n",
       "</style>\n",
       "<table border=\"1\" class=\"dataframe\">\n",
       "  <thead>\n",
       "    <tr style=\"text-align: right;\">\n",
       "      <th></th>\n",
       "      <th>Channel</th>\n",
       "      <th>Region</th>\n",
       "      <th>Fresh</th>\n",
       "      <th>Milk</th>\n",
       "      <th>Grocery</th>\n",
       "      <th>Frozen</th>\n",
       "      <th>Detergents_Paper</th>\n",
       "      <th>Delicassen</th>\n",
       "    </tr>\n",
       "  </thead>\n",
       "  <tbody>\n",
       "    <tr>\n",
       "      <th>0</th>\n",
       "      <td>2</td>\n",
       "      <td>3</td>\n",
       "      <td>12669</td>\n",
       "      <td>9656</td>\n",
       "      <td>7561</td>\n",
       "      <td>214</td>\n",
       "      <td>2674</td>\n",
       "      <td>1338</td>\n",
       "    </tr>\n",
       "    <tr>\n",
       "      <th>1</th>\n",
       "      <td>2</td>\n",
       "      <td>3</td>\n",
       "      <td>7057</td>\n",
       "      <td>9810</td>\n",
       "      <td>9568</td>\n",
       "      <td>1762</td>\n",
       "      <td>3293</td>\n",
       "      <td>1776</td>\n",
       "    </tr>\n",
       "    <tr>\n",
       "      <th>2</th>\n",
       "      <td>2</td>\n",
       "      <td>3</td>\n",
       "      <td>6353</td>\n",
       "      <td>8808</td>\n",
       "      <td>7684</td>\n",
       "      <td>2405</td>\n",
       "      <td>3516</td>\n",
       "      <td>7844</td>\n",
       "    </tr>\n",
       "    <tr>\n",
       "      <th>3</th>\n",
       "      <td>1</td>\n",
       "      <td>3</td>\n",
       "      <td>13265</td>\n",
       "      <td>1196</td>\n",
       "      <td>4221</td>\n",
       "      <td>6404</td>\n",
       "      <td>507</td>\n",
       "      <td>1788</td>\n",
       "    </tr>\n",
       "    <tr>\n",
       "      <th>4</th>\n",
       "      <td>2</td>\n",
       "      <td>3</td>\n",
       "      <td>22615</td>\n",
       "      <td>5410</td>\n",
       "      <td>7198</td>\n",
       "      <td>3915</td>\n",
       "      <td>1777</td>\n",
       "      <td>5185</td>\n",
       "    </tr>\n",
       "    <tr>\n",
       "      <th>...</th>\n",
       "      <td>...</td>\n",
       "      <td>...</td>\n",
       "      <td>...</td>\n",
       "      <td>...</td>\n",
       "      <td>...</td>\n",
       "      <td>...</td>\n",
       "      <td>...</td>\n",
       "      <td>...</td>\n",
       "    </tr>\n",
       "    <tr>\n",
       "      <th>435</th>\n",
       "      <td>1</td>\n",
       "      <td>3</td>\n",
       "      <td>29703</td>\n",
       "      <td>12051</td>\n",
       "      <td>16027</td>\n",
       "      <td>13135</td>\n",
       "      <td>182</td>\n",
       "      <td>2204</td>\n",
       "    </tr>\n",
       "    <tr>\n",
       "      <th>436</th>\n",
       "      <td>1</td>\n",
       "      <td>3</td>\n",
       "      <td>39228</td>\n",
       "      <td>1431</td>\n",
       "      <td>764</td>\n",
       "      <td>4510</td>\n",
       "      <td>93</td>\n",
       "      <td>2346</td>\n",
       "    </tr>\n",
       "    <tr>\n",
       "      <th>437</th>\n",
       "      <td>2</td>\n",
       "      <td>3</td>\n",
       "      <td>14531</td>\n",
       "      <td>15488</td>\n",
       "      <td>30243</td>\n",
       "      <td>437</td>\n",
       "      <td>14841</td>\n",
       "      <td>1867</td>\n",
       "    </tr>\n",
       "    <tr>\n",
       "      <th>438</th>\n",
       "      <td>1</td>\n",
       "      <td>3</td>\n",
       "      <td>10290</td>\n",
       "      <td>1981</td>\n",
       "      <td>2232</td>\n",
       "      <td>1038</td>\n",
       "      <td>168</td>\n",
       "      <td>2125</td>\n",
       "    </tr>\n",
       "    <tr>\n",
       "      <th>439</th>\n",
       "      <td>1</td>\n",
       "      <td>3</td>\n",
       "      <td>2787</td>\n",
       "      <td>1698</td>\n",
       "      <td>2510</td>\n",
       "      <td>65</td>\n",
       "      <td>477</td>\n",
       "      <td>52</td>\n",
       "    </tr>\n",
       "  </tbody>\n",
       "</table>\n",
       "<p>440 rows × 8 columns</p>\n",
       "</div>"
      ],
      "text/plain": [
       "     Channel  Region  Fresh   Milk  Grocery  Frozen  Detergents_Paper  \\\n",
       "0          2       3  12669   9656     7561     214              2674   \n",
       "1          2       3   7057   9810     9568    1762              3293   \n",
       "2          2       3   6353   8808     7684    2405              3516   \n",
       "3          1       3  13265   1196     4221    6404               507   \n",
       "4          2       3  22615   5410     7198    3915              1777   \n",
       "..       ...     ...    ...    ...      ...     ...               ...   \n",
       "435        1       3  29703  12051    16027   13135               182   \n",
       "436        1       3  39228   1431      764    4510                93   \n",
       "437        2       3  14531  15488    30243     437             14841   \n",
       "438        1       3  10290   1981     2232    1038               168   \n",
       "439        1       3   2787   1698     2510      65               477   \n",
       "\n",
       "     Delicassen  \n",
       "0          1338  \n",
       "1          1776  \n",
       "2          7844  \n",
       "3          1788  \n",
       "4          5185  \n",
       "..          ...  \n",
       "435        2204  \n",
       "436        2346  \n",
       "437        1867  \n",
       "438        2125  \n",
       "439          52  \n",
       "\n",
       "[440 rows x 8 columns]"
      ]
     },
     "execution_count": 264,
     "metadata": {},
     "output_type": "execute_result"
    }
   ],
   "source": [
    "data = pd.read_csv('Wholesale customers data.csv')\n",
    "data"
   ]
  },
  {
   "cell_type": "code",
   "execution_count": 265,
   "metadata": {},
   "outputs": [
    {
     "data": {
      "text/html": [
       "<div>\n",
       "<style scoped>\n",
       "    .dataframe tbody tr th:only-of-type {\n",
       "        vertical-align: middle;\n",
       "    }\n",
       "\n",
       "    .dataframe tbody tr th {\n",
       "        vertical-align: top;\n",
       "    }\n",
       "\n",
       "    .dataframe thead th {\n",
       "        text-align: right;\n",
       "    }\n",
       "</style>\n",
       "<table border=\"1\" class=\"dataframe\">\n",
       "  <thead>\n",
       "    <tr style=\"text-align: right;\">\n",
       "      <th></th>\n",
       "      <th>Fresh</th>\n",
       "      <th>Milk</th>\n",
       "      <th>Grocery</th>\n",
       "      <th>Frozen</th>\n",
       "      <th>Detergents_Paper</th>\n",
       "      <th>Delicassen</th>\n",
       "    </tr>\n",
       "  </thead>\n",
       "  <tbody>\n",
       "    <tr>\n",
       "      <th>0</th>\n",
       "      <td>12669</td>\n",
       "      <td>9656</td>\n",
       "      <td>7561</td>\n",
       "      <td>214</td>\n",
       "      <td>2674</td>\n",
       "      <td>1338</td>\n",
       "    </tr>\n",
       "    <tr>\n",
       "      <th>1</th>\n",
       "      <td>7057</td>\n",
       "      <td>9810</td>\n",
       "      <td>9568</td>\n",
       "      <td>1762</td>\n",
       "      <td>3293</td>\n",
       "      <td>1776</td>\n",
       "    </tr>\n",
       "    <tr>\n",
       "      <th>2</th>\n",
       "      <td>6353</td>\n",
       "      <td>8808</td>\n",
       "      <td>7684</td>\n",
       "      <td>2405</td>\n",
       "      <td>3516</td>\n",
       "      <td>7844</td>\n",
       "    </tr>\n",
       "    <tr>\n",
       "      <th>3</th>\n",
       "      <td>13265</td>\n",
       "      <td>1196</td>\n",
       "      <td>4221</td>\n",
       "      <td>6404</td>\n",
       "      <td>507</td>\n",
       "      <td>1788</td>\n",
       "    </tr>\n",
       "    <tr>\n",
       "      <th>4</th>\n",
       "      <td>22615</td>\n",
       "      <td>5410</td>\n",
       "      <td>7198</td>\n",
       "      <td>3915</td>\n",
       "      <td>1777</td>\n",
       "      <td>5185</td>\n",
       "    </tr>\n",
       "    <tr>\n",
       "      <th>...</th>\n",
       "      <td>...</td>\n",
       "      <td>...</td>\n",
       "      <td>...</td>\n",
       "      <td>...</td>\n",
       "      <td>...</td>\n",
       "      <td>...</td>\n",
       "    </tr>\n",
       "    <tr>\n",
       "      <th>435</th>\n",
       "      <td>29703</td>\n",
       "      <td>12051</td>\n",
       "      <td>16027</td>\n",
       "      <td>13135</td>\n",
       "      <td>182</td>\n",
       "      <td>2204</td>\n",
       "    </tr>\n",
       "    <tr>\n",
       "      <th>436</th>\n",
       "      <td>39228</td>\n",
       "      <td>1431</td>\n",
       "      <td>764</td>\n",
       "      <td>4510</td>\n",
       "      <td>93</td>\n",
       "      <td>2346</td>\n",
       "    </tr>\n",
       "    <tr>\n",
       "      <th>437</th>\n",
       "      <td>14531</td>\n",
       "      <td>15488</td>\n",
       "      <td>30243</td>\n",
       "      <td>437</td>\n",
       "      <td>14841</td>\n",
       "      <td>1867</td>\n",
       "    </tr>\n",
       "    <tr>\n",
       "      <th>438</th>\n",
       "      <td>10290</td>\n",
       "      <td>1981</td>\n",
       "      <td>2232</td>\n",
       "      <td>1038</td>\n",
       "      <td>168</td>\n",
       "      <td>2125</td>\n",
       "    </tr>\n",
       "    <tr>\n",
       "      <th>439</th>\n",
       "      <td>2787</td>\n",
       "      <td>1698</td>\n",
       "      <td>2510</td>\n",
       "      <td>65</td>\n",
       "      <td>477</td>\n",
       "      <td>52</td>\n",
       "    </tr>\n",
       "  </tbody>\n",
       "</table>\n",
       "<p>440 rows × 6 columns</p>\n",
       "</div>"
      ],
      "text/plain": [
       "     Fresh   Milk  Grocery  Frozen  Detergents_Paper  Delicassen\n",
       "0    12669   9656     7561     214              2674        1338\n",
       "1     7057   9810     9568    1762              3293        1776\n",
       "2     6353   8808     7684    2405              3516        7844\n",
       "3    13265   1196     4221    6404               507        1788\n",
       "4    22615   5410     7198    3915              1777        5185\n",
       "..     ...    ...      ...     ...               ...         ...\n",
       "435  29703  12051    16027   13135               182        2204\n",
       "436  39228   1431      764    4510                93        2346\n",
       "437  14531  15488    30243     437             14841        1867\n",
       "438  10290   1981     2232    1038               168        2125\n",
       "439   2787   1698     2510      65               477          52\n",
       "\n",
       "[440 rows x 6 columns]"
      ]
     },
     "execution_count": 265,
     "metadata": {},
     "output_type": "execute_result"
    }
   ],
   "source": [
    "data = data.iloc[:, 2:]\n",
    "data"
   ]
  },
  {
   "cell_type": "code",
   "execution_count": 266,
   "metadata": {},
   "outputs": [],
   "source": [
    "from sklearn.decomposition import PCA\n",
    "pca = PCA(n_components = 2)\n",
    "pca = pca.fit(data)\n",
    "data_pca = pca.transform(data)"
   ]
  },
  {
   "cell_type": "markdown",
   "metadata": {},
   "source": [
    "#### 《PCAの分散説明率を表示するコードサンプル》"
   ]
  },
  {
   "cell_type": "code",
   "execution_count": 267,
   "metadata": {},
   "outputs": [
    {
     "name": "stdout",
     "output_type": "stream",
     "text": [
      "[0.45961362 0.86478588 0.93481597 0.97883941 0.99386152 1.        ]\n"
     ]
    },
    {
     "data": {
      "image/png": "[encoded data removed]",
      "text/plain": [
       "<Figure size 432x288 with 1 Axes>"
      ]
     },
     "metadata": {
      "needs_background": "light"
     },
     "output_type": "display_data"
    }
   ],
   "source": [
    "from sklearn.decomposition import PCA\n",
    "import matplotlib.pyplot as plt\n",
    "pca = PCA(n_components=None)\n",
    "pca = pca.fit(data)\n",
    "var_exp = pca.explained_variance_ratio_\n",
    "cum_var_exp = np.cumsum(var_exp)\n",
    "print(cum_var_exp)\n",
    "plt.bar(range(1,7), var_exp, alpha=0.5, align='center', label='individual explained variance')\n",
    "plt.step(range(1,7), cum_var_exp, where='mid', label='cumulative expalined variance')\n",
    "plt.ylabel('Explained variance ratio')\n",
    "plt.xlabel('Principal components')\n",
    "plt.hlines(0.7, 0, 6,  \"blue\", linestyles='dashed')\n",
    "plt.legend(loc='best')\n",
    "plt.grid()\n",
    "plt.show()"
   ]
  },
  {
   "cell_type": "markdown",
   "metadata": {},
   "source": [
    "## 【問題10】クラスタ数kの選択\n",
    "最適だと思われるクラスタ数 \n",
    "k\n",
    " を選択してください。エルボー法やシルエット図を活用する他、人間が後々どう利用したいのかも選択に関わってきます。選択した上で、なぜそれを選んだか説明してください。"
   ]
  },
  {
   "cell_type": "code",
   "execution_count": null,
   "metadata": {},
   "outputs": [],
   "source": []
  },
  {
   "cell_type": "markdown",
   "metadata": {},
   "source": [
    "## 【問題11】既知のグループとの比較\n",
    "RegionとChannelはK-meansに使用しなかったが、これれらは既知のグループです。クラスタとこれら既知のグループがどう違うかを確認し、説明してください。まずはそれぞれを可視化してください。"
   ]
  },
  {
   "cell_type": "code",
   "execution_count": null,
   "metadata": {},
   "outputs": [],
   "source": []
  }
 ],
 "metadata": {
  "kernelspec": {
   "display_name": "Python 3",
   "language": "python",
   "name": "python3"
  },
  "language_info": {
   "codemirror_mode": {
    "name": "ipython",
    "version": 3
   },
   "file_extension": ".py",
   "mimetype": "text/x-python",
   "name": "python",
   "nbconvert_exporter": "python",
   "pygments_lexer": "ipython3",
   "version": "3.7.6"
  }
 },
 "nbformat": 4,
 "nbformat_minor": 4
}
